{
 "cells": [
  {
   "cell_type": "markdown",
   "metadata": {
    "toc": true
   },
   "source": [
    "<h1>Содержание<span class=\"tocSkip\"></span></h1>\n",
    "<div class=\"toc\"><ul class=\"toc-item\"><li><span><a href=\"#Подготовка-данных\" data-toc-modified-id=\"Подготовка-данных-1\"><span class=\"toc-item-num\">1&nbsp;&nbsp;</span>Подготовка данных</a></span></li><li><span><a href=\"#Исследование-задачи\" data-toc-modified-id=\"Исследование-задачи-2\"><span class=\"toc-item-num\">2&nbsp;&nbsp;</span>Исследование задачи</a></span></li><li><span><a href=\"#Борьба-с-дисбалансом\" data-toc-modified-id=\"Борьба-с-дисбалансом-3\"><span class=\"toc-item-num\">3&nbsp;&nbsp;</span>Борьба с дисбалансом</a></span></li><li><span><a href=\"#Тестирование-модели\" data-toc-modified-id=\"Тестирование-модели-4\"><span class=\"toc-item-num\">4&nbsp;&nbsp;</span>Тестирование модели</a></span></li><li><span><a href=\"#Общий-вывод\" data-toc-modified-id=\"Общий-вывод-5\"><span class=\"toc-item-num\">5&nbsp;&nbsp;</span>Общий вывод</a></span></li></ul></div>"
   ]
  },
  {
   "cell_type": "markdown",
   "metadata": {},
   "source": [
    "# Отток клиентов"
   ]
  },
  {
   "cell_type": "markdown",
   "metadata": {},
   "source": [
    "Из «Бета-Банка» стали уходить клиенты. Каждый месяц. Немного, но заметно. Банковские маркетологи посчитали: сохранять текущих клиентов дешевле, чем привлекать новых.\n",
    "\n",
    "Нужно спрогнозировать, уйдёт клиент из банка в ближайшее время или нет. Вам предоставлены исторические данные о поведении клиентов и расторжении договоров с банком. \n",
    "\n",
    "Постройте модель с предельно большим значением *F1*-меры. Чтобы сдать проект успешно, нужно довести метрику до 0.59. Проверьте *F1*-меру на тестовой выборке самостоятельно.\n",
    "\n",
    "Дополнительно измеряйте *AUC-ROC*, сравнивайте её значение с *F1*-мерой.\n",
    "\n",
    "Источник данных: [https://www.kaggle.com/barelydedicated/bank-customer-churn-modeling](https://www.kaggle.com/barelydedicated/bank-customer-churn-modeling)"
   ]
  },
  {
   "cell_type": "markdown",
   "metadata": {},
   "source": [
    "## Подготовка данных"
   ]
  },
  {
   "cell_type": "code",
   "execution_count": 1,
   "metadata": {},
   "outputs": [],
   "source": [
    "import pandas as pd\n",
    "import numpy as np\n",
    "from matplotlib import pyplot as plt\n",
    "from sklearn.model_selection import train_test_split\n",
    "from sklearn.preprocessing import StandardScaler\n",
    "from sklearn.preprocessing import OneHotEncoder\n",
    "\n",
    "from sklearn.linear_model import LogisticRegression\n",
    "from sklearn.ensemble import RandomForestClassifier\n",
    "from sklearn.tree import DecisionTreeClassifier\n",
    "\n",
    "from sklearn.metrics import accuracy_score\n",
    "from sklearn.metrics import f1_score\n",
    "from sklearn.metrics import roc_curve, roc_auc_score, auc\n",
    "\n",
    "from sklearn.utils import shuffle"
   ]
  },
  {
   "cell_type": "code",
   "execution_count": 2,
   "metadata": {},
   "outputs": [],
   "source": [
    "data = pd.read_csv('/datasets/Churn.csv')"
   ]
  },
  {
   "cell_type": "code",
   "execution_count": 3,
   "metadata": {},
   "outputs": [
    {
     "data": {
      "text/html": [
       "<div>\n",
       "<style scoped>\n",
       "    .dataframe tbody tr th:only-of-type {\n",
       "        vertical-align: middle;\n",
       "    }\n",
       "\n",
       "    .dataframe tbody tr th {\n",
       "        vertical-align: top;\n",
       "    }\n",
       "\n",
       "    .dataframe thead th {\n",
       "        text-align: right;\n",
       "    }\n",
       "</style>\n",
       "<table border=\"1\" class=\"dataframe\">\n",
       "  <thead>\n",
       "    <tr style=\"text-align: right;\">\n",
       "      <th></th>\n",
       "      <th>RowNumber</th>\n",
       "      <th>CustomerId</th>\n",
       "      <th>Surname</th>\n",
       "      <th>CreditScore</th>\n",
       "      <th>Geography</th>\n",
       "      <th>Gender</th>\n",
       "      <th>Age</th>\n",
       "      <th>Tenure</th>\n",
       "      <th>Balance</th>\n",
       "      <th>NumOfProducts</th>\n",
       "      <th>HasCrCard</th>\n",
       "      <th>IsActiveMember</th>\n",
       "      <th>EstimatedSalary</th>\n",
       "      <th>Exited</th>\n",
       "    </tr>\n",
       "  </thead>\n",
       "  <tbody>\n",
       "    <tr>\n",
       "      <th>0</th>\n",
       "      <td>1</td>\n",
       "      <td>15634602</td>\n",
       "      <td>Hargrave</td>\n",
       "      <td>619</td>\n",
       "      <td>France</td>\n",
       "      <td>Female</td>\n",
       "      <td>42</td>\n",
       "      <td>2.0</td>\n",
       "      <td>0.00</td>\n",
       "      <td>1</td>\n",
       "      <td>1</td>\n",
       "      <td>1</td>\n",
       "      <td>101348.88</td>\n",
       "      <td>1</td>\n",
       "    </tr>\n",
       "    <tr>\n",
       "      <th>1</th>\n",
       "      <td>2</td>\n",
       "      <td>15647311</td>\n",
       "      <td>Hill</td>\n",
       "      <td>608</td>\n",
       "      <td>Spain</td>\n",
       "      <td>Female</td>\n",
       "      <td>41</td>\n",
       "      <td>1.0</td>\n",
       "      <td>83807.86</td>\n",
       "      <td>1</td>\n",
       "      <td>0</td>\n",
       "      <td>1</td>\n",
       "      <td>112542.58</td>\n",
       "      <td>0</td>\n",
       "    </tr>\n",
       "    <tr>\n",
       "      <th>2</th>\n",
       "      <td>3</td>\n",
       "      <td>15619304</td>\n",
       "      <td>Onio</td>\n",
       "      <td>502</td>\n",
       "      <td>France</td>\n",
       "      <td>Female</td>\n",
       "      <td>42</td>\n",
       "      <td>8.0</td>\n",
       "      <td>159660.80</td>\n",
       "      <td>3</td>\n",
       "      <td>1</td>\n",
       "      <td>0</td>\n",
       "      <td>113931.57</td>\n",
       "      <td>1</td>\n",
       "    </tr>\n",
       "    <tr>\n",
       "      <th>3</th>\n",
       "      <td>4</td>\n",
       "      <td>15701354</td>\n",
       "      <td>Boni</td>\n",
       "      <td>699</td>\n",
       "      <td>France</td>\n",
       "      <td>Female</td>\n",
       "      <td>39</td>\n",
       "      <td>1.0</td>\n",
       "      <td>0.00</td>\n",
       "      <td>2</td>\n",
       "      <td>0</td>\n",
       "      <td>0</td>\n",
       "      <td>93826.63</td>\n",
       "      <td>0</td>\n",
       "    </tr>\n",
       "    <tr>\n",
       "      <th>4</th>\n",
       "      <td>5</td>\n",
       "      <td>15737888</td>\n",
       "      <td>Mitchell</td>\n",
       "      <td>850</td>\n",
       "      <td>Spain</td>\n",
       "      <td>Female</td>\n",
       "      <td>43</td>\n",
       "      <td>2.0</td>\n",
       "      <td>125510.82</td>\n",
       "      <td>1</td>\n",
       "      <td>1</td>\n",
       "      <td>1</td>\n",
       "      <td>79084.10</td>\n",
       "      <td>0</td>\n",
       "    </tr>\n",
       "  </tbody>\n",
       "</table>\n",
       "</div>"
      ],
      "text/plain": [
       "   RowNumber  CustomerId   Surname  CreditScore Geography  Gender  Age  \\\n",
       "0          1    15634602  Hargrave          619    France  Female   42   \n",
       "1          2    15647311      Hill          608     Spain  Female   41   \n",
       "2          3    15619304      Onio          502    France  Female   42   \n",
       "3          4    15701354      Boni          699    France  Female   39   \n",
       "4          5    15737888  Mitchell          850     Spain  Female   43   \n",
       "\n",
       "   Tenure    Balance  NumOfProducts  HasCrCard  IsActiveMember  \\\n",
       "0     2.0       0.00              1          1               1   \n",
       "1     1.0   83807.86              1          0               1   \n",
       "2     8.0  159660.80              3          1               0   \n",
       "3     1.0       0.00              2          0               0   \n",
       "4     2.0  125510.82              1          1               1   \n",
       "\n",
       "   EstimatedSalary  Exited  \n",
       "0        101348.88       1  \n",
       "1        112542.58       0  \n",
       "2        113931.57       1  \n",
       "3         93826.63       0  \n",
       "4         79084.10       0  "
      ]
     },
     "execution_count": 3,
     "metadata": {},
     "output_type": "execute_result"
    }
   ],
   "source": [
    "data.head()"
   ]
  },
  {
   "cell_type": "code",
   "execution_count": 4,
   "metadata": {},
   "outputs": [
    {
     "name": "stdout",
     "output_type": "stream",
     "text": [
      "<class 'pandas.core.frame.DataFrame'>\n",
      "RangeIndex: 10000 entries, 0 to 9999\n",
      "Data columns (total 14 columns):\n",
      " #   Column           Non-Null Count  Dtype  \n",
      "---  ------           --------------  -----  \n",
      " 0   RowNumber        10000 non-null  int64  \n",
      " 1   CustomerId       10000 non-null  int64  \n",
      " 2   Surname          10000 non-null  object \n",
      " 3   CreditScore      10000 non-null  int64  \n",
      " 4   Geography        10000 non-null  object \n",
      " 5   Gender           10000 non-null  object \n",
      " 6   Age              10000 non-null  int64  \n",
      " 7   Tenure           9091 non-null   float64\n",
      " 8   Balance          10000 non-null  float64\n",
      " 9   NumOfProducts    10000 non-null  int64  \n",
      " 10  HasCrCard        10000 non-null  int64  \n",
      " 11  IsActiveMember   10000 non-null  int64  \n",
      " 12  EstimatedSalary  10000 non-null  float64\n",
      " 13  Exited           10000 non-null  int64  \n",
      "dtypes: float64(3), int64(8), object(3)\n",
      "memory usage: 1.1+ MB\n"
     ]
    }
   ],
   "source": [
    "data.info()"
   ]
  },
  {
   "cell_type": "code",
   "execution_count": 5,
   "metadata": {},
   "outputs": [],
   "source": [
    "# Tenure column has some absenct values, let's fill them with a median\n",
    "data.Tenure.fillna(data.Tenure.median(), inplace=True)"
   ]
  },
  {
   "cell_type": "code",
   "execution_count": 6,
   "metadata": {},
   "outputs": [
    {
     "data": {
      "text/plain": [
       "RowNumber          0\n",
       "CustomerId         0\n",
       "Surname            0\n",
       "CreditScore        0\n",
       "Geography          0\n",
       "Gender             0\n",
       "Age                0\n",
       "Tenure             0\n",
       "Balance            0\n",
       "NumOfProducts      0\n",
       "HasCrCard          0\n",
       "IsActiveMember     0\n",
       "EstimatedSalary    0\n",
       "Exited             0\n",
       "dtype: int64"
      ]
     },
     "execution_count": 6,
     "metadata": {},
     "output_type": "execute_result"
    }
   ],
   "source": [
    "data.isna().sum()"
   ]
  },
  {
   "cell_type": "code",
   "execution_count": 7,
   "metadata": {},
   "outputs": [
    {
     "name": "stdout",
     "output_type": "stream",
     "text": [
      "<class 'pandas.core.frame.DataFrame'>\n",
      "RangeIndex: 10000 entries, 0 to 9999\n",
      "Data columns (total 10 columns):\n",
      " #   Column           Non-Null Count  Dtype  \n",
      "---  ------           --------------  -----  \n",
      " 0   CreditScore      10000 non-null  int64  \n",
      " 1   Geography        10000 non-null  object \n",
      " 2   Gender           10000 non-null  object \n",
      " 3   Age              10000 non-null  int64  \n",
      " 4   Tenure           10000 non-null  float64\n",
      " 5   Balance          10000 non-null  float64\n",
      " 6   NumOfProducts    10000 non-null  int64  \n",
      " 7   HasCrCard        10000 non-null  int64  \n",
      " 8   IsActiveMember   10000 non-null  int64  \n",
      " 9   EstimatedSalary  10000 non-null  float64\n",
      "dtypes: float64(3), int64(5), object(2)\n",
      "memory usage: 781.4+ KB\n"
     ]
    }
   ],
   "source": [
    "# divide dataset into features and target\n",
    "# I assume that 'RowNumber', 'CustomerId', and 'Surname' columns are irrelevant for a model training\n",
    "features = data.iloc[:, 3:13]\n",
    "target = data.iloc[:, -1]\n",
    "features.info()"
   ]
  },
  {
   "cell_type": "code",
   "execution_count": 8,
   "metadata": {},
   "outputs": [],
   "source": [
    "# разделим данные на обучающую, валидационную и тестовую выборки с соотношении 60%-20%-20%)\n",
    "# выделяем 20% данных датасета для тестовой выборки\n",
    "x, features_test, y, target_test = train_test_split(\n",
    "                                        features, \n",
    "                                        target, \n",
    "                                        test_size=0.2, \n",
    "                                        random_state=12345,\n",
    "                                        stratify=target)\n",
    "\n",
    "# выделяем 25% для валидационной выборки от 80% с прошлого шага (20% от общего датасета)\n",
    "features_train, features_valid, target_train, target_valid = train_test_split(\n",
    "                                        x, \n",
    "                                        y, \n",
    "                                        test_size=0.25, \n",
    "                                        random_state=12345,\n",
    "                                        stratify=y)"
   ]
  },
  {
   "cell_type": "code",
   "execution_count": 9,
   "metadata": {},
   "outputs": [],
   "source": [
    "# sklearn version on the server doesn't support 'get_feature_names_out' and 'sparse_output',\n",
    "# so 'get_feature_names' and 'sparse' are used instead\n",
    "\n",
    "# categorical columns (not ordinal) to be encoded\n",
    "categorical_columns = ['Geography', 'Gender']\n",
    "\n",
    "# creating one-hot encoding object\n",
    "# drop='if_binary' because perfectly collinear features cause problems (from scikit docs)\n",
    "# sparse_output=False because mentor in Pachka said to do so\n",
    "ohe = OneHotEncoder(sparse=False, drop='first')\n",
    "\n",
    "# fit and transform categorical columns\n",
    "ohe_train_vals = ohe.fit_transform(features_train[categorical_columns].values)\n",
    "ohe_test_vals = ohe.transform(features_test[categorical_columns].values)\n",
    "ohe_valid_vals = ohe.transform(features_valid[categorical_columns].values)\n",
    "\n",
    "# transform them into Pandas df for convenience\n",
    "ohe_train = pd.DataFrame(ohe_train_vals, index=features_train.index, columns=ohe.get_feature_names())\n",
    "ohe_test = pd.DataFrame(ohe_test_vals, index=features_test.index, columns=ohe.get_feature_names())\n",
    "ohe_valid = pd.DataFrame(ohe_valid_vals, index=features_valid.index, columns=ohe.get_feature_names())\n",
    "\n",
    "# delete original categorical columns and add encoded ones\n",
    "features_train = features_train.drop(categorical_columns, axis=1)\n",
    "features_train = features_train.join(ohe_train) \n",
    "\n",
    "features_test = features_test.drop(categorical_columns, axis=1)\n",
    "features_test = features_test.join(ohe_test) \n",
    "\n",
    "features_valid = features_valid.drop(categorical_columns, axis=1)\n",
    "features_valid = features_valid.join(ohe_valid)"
   ]
  },
  {
   "cell_type": "code",
   "execution_count": 10,
   "metadata": {},
   "outputs": [],
   "source": [
    "pd.options.mode.chained_assignment = None\n",
    "\n",
    "# standardise numerical values\n",
    "numeric = ['CreditScore', 'Age', 'Tenure', 'Balance', 'NumOfProducts', 'IsActiveMember', 'EstimatedSalary']\n",
    "\n",
    "scaler = StandardScaler()\n",
    "scaler.fit(features_train[numeric])\n",
    "\n",
    "features_train[numeric] = scaler.transform(features_train[numeric])\n",
    "features_valid[numeric] = scaler.transform(features_valid[numeric])\n",
    "features_test[numeric]  = scaler.transform(features_test[numeric])"
   ]
  },
  {
   "cell_type": "code",
   "execution_count": 11,
   "metadata": {},
   "outputs": [
    {
     "data": {
      "text/html": [
       "<div>\n",
       "<style scoped>\n",
       "    .dataframe tbody tr th:only-of-type {\n",
       "        vertical-align: middle;\n",
       "    }\n",
       "\n",
       "    .dataframe tbody tr th {\n",
       "        vertical-align: top;\n",
       "    }\n",
       "\n",
       "    .dataframe thead th {\n",
       "        text-align: right;\n",
       "    }\n",
       "</style>\n",
       "<table border=\"1\" class=\"dataframe\">\n",
       "  <thead>\n",
       "    <tr style=\"text-align: right;\">\n",
       "      <th></th>\n",
       "      <th>CreditScore</th>\n",
       "      <th>Age</th>\n",
       "      <th>Tenure</th>\n",
       "      <th>Balance</th>\n",
       "      <th>NumOfProducts</th>\n",
       "      <th>HasCrCard</th>\n",
       "      <th>IsActiveMember</th>\n",
       "      <th>EstimatedSalary</th>\n",
       "      <th>x0_Germany</th>\n",
       "      <th>x0_Spain</th>\n",
       "      <th>x1_Male</th>\n",
       "    </tr>\n",
       "  </thead>\n",
       "  <tbody>\n",
       "    <tr>\n",
       "      <th>5536</th>\n",
       "      <td>-0.143332</td>\n",
       "      <td>0.577533</td>\n",
       "      <td>-0.001274</td>\n",
       "      <td>-1.220573</td>\n",
       "      <td>0.797767</td>\n",
       "      <td>1</td>\n",
       "      <td>0.967527</td>\n",
       "      <td>1.029613</td>\n",
       "      <td>0.0</td>\n",
       "      <td>1.0</td>\n",
       "      <td>1.0</td>\n",
       "    </tr>\n",
       "    <tr>\n",
       "      <th>8530</th>\n",
       "      <td>1.632702</td>\n",
       "      <td>-0.564119</td>\n",
       "      <td>-1.092954</td>\n",
       "      <td>0.435807</td>\n",
       "      <td>-0.916018</td>\n",
       "      <td>1</td>\n",
       "      <td>-1.033563</td>\n",
       "      <td>0.237986</td>\n",
       "      <td>0.0</td>\n",
       "      <td>0.0</td>\n",
       "      <td>0.0</td>\n",
       "    </tr>\n",
       "    <tr>\n",
       "      <th>1762</th>\n",
       "      <td>1.116413</td>\n",
       "      <td>-0.468981</td>\n",
       "      <td>-1.456847</td>\n",
       "      <td>1.245822</td>\n",
       "      <td>-0.916018</td>\n",
       "      <td>1</td>\n",
       "      <td>0.967527</td>\n",
       "      <td>-0.686104</td>\n",
       "      <td>0.0</td>\n",
       "      <td>0.0</td>\n",
       "      <td>0.0</td>\n",
       "    </tr>\n",
       "    <tr>\n",
       "      <th>9090</th>\n",
       "      <td>1.643028</td>\n",
       "      <td>0.006707</td>\n",
       "      <td>-0.001274</td>\n",
       "      <td>-1.220573</td>\n",
       "      <td>-0.916018</td>\n",
       "      <td>1</td>\n",
       "      <td>-1.033563</td>\n",
       "      <td>-0.391097</td>\n",
       "      <td>0.0</td>\n",
       "      <td>0.0</td>\n",
       "      <td>0.0</td>\n",
       "    </tr>\n",
       "    <tr>\n",
       "      <th>8777</th>\n",
       "      <td>-0.484083</td>\n",
       "      <td>-1.420358</td>\n",
       "      <td>-1.456847</td>\n",
       "      <td>1.421989</td>\n",
       "      <td>0.797767</td>\n",
       "      <td>1</td>\n",
       "      <td>-1.033563</td>\n",
       "      <td>-1.361559</td>\n",
       "      <td>0.0</td>\n",
       "      <td>1.0</td>\n",
       "      <td>1.0</td>\n",
       "    </tr>\n",
       "  </tbody>\n",
       "</table>\n",
       "</div>"
      ],
      "text/plain": [
       "      CreditScore       Age    Tenure   Balance  NumOfProducts  HasCrCard  \\\n",
       "5536    -0.143332  0.577533 -0.001274 -1.220573       0.797767          1   \n",
       "8530     1.632702 -0.564119 -1.092954  0.435807      -0.916018          1   \n",
       "1762     1.116413 -0.468981 -1.456847  1.245822      -0.916018          1   \n",
       "9090     1.643028  0.006707 -0.001274 -1.220573      -0.916018          1   \n",
       "8777    -0.484083 -1.420358 -1.456847  1.421989       0.797767          1   \n",
       "\n",
       "      IsActiveMember  EstimatedSalary  x0_Germany  x0_Spain  x1_Male  \n",
       "5536        0.967527         1.029613         0.0       1.0      1.0  \n",
       "8530       -1.033563         0.237986         0.0       0.0      0.0  \n",
       "1762        0.967527        -0.686104         0.0       0.0      0.0  \n",
       "9090       -1.033563        -0.391097         0.0       0.0      0.0  \n",
       "8777       -1.033563        -1.361559         0.0       1.0      1.0  "
      ]
     },
     "execution_count": 11,
     "metadata": {},
     "output_type": "execute_result"
    }
   ],
   "source": [
    "features_train.head()"
   ]
  },
  {
   "cell_type": "markdown",
   "metadata": {},
   "source": [
    "Мы загрузили датасет, проверили наличие отстутствущих значний. Пропуски с столбце Tenure заполнили медианой. Преобразовали категориальные данные с помощью one-hot encoding. Стандартизировли числовые значения с помощью StandardScaler."
   ]
  },
  {
   "cell_type": "markdown",
   "metadata": {},
   "source": [
    "## Исследование задачи"
   ]
  },
  {
   "cell_type": "markdown",
   "metadata": {},
   "source": [
    "**DecisionTreeClassifier**"
   ]
  },
  {
   "cell_type": "code",
   "execution_count": 12,
   "metadata": {},
   "outputs": [
    {
     "name": "stdout",
     "output_type": "stream",
     "text": [
      "f1_score наилучшей модели Desion Tree на валидационной выборке: 0.5816618911174785 best_depth = 8 best_criterion = gini\n"
     ]
    }
   ],
   "source": [
    "# let's test DecisionTreeClassifier with various hyperparameters\n",
    "best_model = None\n",
    "best_result = 0\n",
    "best_criterion = None\n",
    "criterions = [\"entropy\", \"gini\"] \n",
    "best_depth = 0\n",
    "# The log_loss option for the parameter criterion was added only in the latest scikit-learn version 1.1.2\n",
    "for criterion in criterions:\n",
    "    for depth in range(1, 16):\n",
    "        model = DecisionTreeClassifier(criterion=criterion, random_state=12345, max_depth=depth)\n",
    "        model.fit(features_train, target_train) \n",
    "        predicted_valid = model.predict(features_valid)\n",
    "        result = f1_score(target_valid, predicted_valid) \n",
    "        if result > best_result:\n",
    "            best_model = model \n",
    "            best_result = result\n",
    "            best_criterion = criterion\n",
    "            best_depth = depth\n",
    "        \n",
    "print(\"f1_score наилучшей модели Desion Tree на валидационной выборке:\", best_result, \n",
    "      'best_depth =', best_depth, 'best_criterion =', best_criterion)"
   ]
  },
  {
   "cell_type": "code",
   "execution_count": 13,
   "metadata": {},
   "outputs": [
    {
     "name": "stdout",
     "output_type": "stream",
     "text": [
      "AUC ROC: 0.7006482599702939\n"
     ]
    }
   ],
   "source": [
    "probabilities_valid = model.predict_proba(features_valid)\n",
    "probabilities_one_valid = probabilities_valid[:, 1]\n",
    "auc_roc = roc_auc_score(target_valid, probabilities_one_valid)\n",
    "print(\"AUC ROC:\", auc_roc)"
   ]
  },
  {
   "cell_type": "markdown",
   "metadata": {},
   "source": [
    "**Logistic Regression**"
   ]
  },
  {
   "cell_type": "code",
   "execution_count": 14,
   "metadata": {},
   "outputs": [
    {
     "name": "stdout",
     "output_type": "stream",
     "text": [
      "f1_score модели Logistic Regression на валидационной выборке: 0.3214953271028037 \n",
      "best_c_value = 100 \n",
      "best_max_iter = 100\n"
     ]
    }
   ],
   "source": [
    "c_values = [100, 10, 1.0, 0.1, 0.01]\n",
    "\n",
    "best_model = None\n",
    "best_result = 0\n",
    "best_c_value = 0\n",
    "best_max_iter = 0\n",
    "\n",
    "for c in c_values:\n",
    "    for max_iter in range(100, 11000, 1000):\n",
    "        model = LogisticRegression(C=c, random_state=12345, max_iter=max_iter)\n",
    "        model.fit(features_train, target_train) \n",
    "        predicted_valid = model.predict(features_valid)\n",
    "        result = f1_score(target_valid, predicted_valid)\n",
    "        if result > best_result:\n",
    "            best_model = model \n",
    "            best_result = result\n",
    "            best_c_value = c\n",
    "            best_max_iter = max_iter\n",
    "            \n",
    "print(\"f1_score модели Logistic Regression на валидационной выборке:\", best_result, \n",
    "      '\\nbest_c_value =', best_c_value, '\\nbest_max_iter =', best_max_iter)"
   ]
  },
  {
   "cell_type": "code",
   "execution_count": 15,
   "metadata": {},
   "outputs": [
    {
     "name": "stdout",
     "output_type": "stream",
     "text": [
      "AUC ROC: 0.7872710923558381\n"
     ]
    }
   ],
   "source": [
    "probabilities_valid = model.predict_proba(features_valid)\n",
    "probabilities_one_valid = probabilities_valid[:, 1]\n",
    "auc_roc = roc_auc_score(target_valid, probabilities_one_valid)\n",
    "print(\"AUC ROC:\", auc_roc)"
   ]
  },
  {
   "cell_type": "markdown",
   "metadata": {},
   "source": [
    "**Random Forest**"
   ]
  },
  {
   "cell_type": "code",
   "execution_count": 16,
   "metadata": {},
   "outputs": [
    {
     "name": "stdout",
     "output_type": "stream",
     "text": [
      "f1_score наилучшей модели Random Forest на валидационной выборке: 0.5778443113772456 \n",
      "best_est = 11 \n",
      "best_criterion = entropy \n",
      "best_depth = 14\n"
     ]
    }
   ],
   "source": [
    "# let's test RandomForestClassifier with various hyperparameters\n",
    "best_rf_model = None\n",
    "best_result = 0\n",
    "best_est = 0\n",
    "best_criterion = None\n",
    "criterions = [\"entropy\", \"gini\"] \n",
    "best_depth = 0\n",
    "\n",
    "for criterion in criterions:\n",
    "    for est in range(1, 200, 10):\n",
    "        for depth in range(1, 15):\n",
    "            model = RandomForestClassifier(criterion=criterion, random_state=12345, n_estimators=est, max_depth=depth) \n",
    "            model.fit(features_train, target_train) \n",
    "            predicted_valid = model.predict(features_valid)\n",
    "            result = f1_score(target_valid, predicted_valid)\n",
    "            if result > best_result:\n",
    "                best_rf_model = model \n",
    "                best_result = result\n",
    "                best_est = est\n",
    "                best_criterion = criterion\n",
    "                best_depth = depth\n",
    "\n",
    "print(\"f1_score наилучшей модели Random Forest на валидационной выборке:\", best_result, \n",
    "      '\\nbest_est =', best_est, '\\nbest_criterion =', best_criterion, '\\nbest_depth =', best_depth)"
   ]
  },
  {
   "cell_type": "code",
   "execution_count": 17,
   "metadata": {},
   "outputs": [
    {
     "name": "stdout",
     "output_type": "stream",
     "text": [
      "AUC ROC: 0.8604999452457079\n"
     ]
    }
   ],
   "source": [
    "probabilities_valid = model.predict_proba(features_valid)\n",
    "probabilities_one_valid = probabilities_valid[:, 1]\n",
    "auc_roc = roc_auc_score(target_valid, probabilities_one_valid)\n",
    "print(\"AUC ROC:\", auc_roc)"
   ]
  },
  {
   "cell_type": "code",
   "execution_count": 18,
   "metadata": {},
   "outputs": [
    {
     "name": "stdout",
     "output_type": "stream",
     "text": [
      "0    7963\n",
      "1    2037\n",
      "Name: Exited, dtype: int64\n"
     ]
    },
    {
     "data": {
      "image/png": "[encoded data removed]",
      "text/plain": [
       "<Figure size 432x288 with 1 Axes>"
      ]
     },
     "metadata": {
      "needs_background": "light"
     },
     "output_type": "display_data"
    }
   ],
   "source": [
    "# research on class imbalance\n",
    "class_freq = target.value_counts()\n",
    "print(class_freq)\n",
    "class_freq.plot(kind='bar');\n",
    "plt.title('Target class frequency');"
   ]
  },
  {
   "cell_type": "markdown",
   "metadata": {},
   "source": [
    "Наблюдается явный дисбаланс классов. Попробуем это исправить и посмотрим на результаты после. "
   ]
  },
  {
   "cell_type": "markdown",
   "metadata": {},
   "source": [
    "Вывод:\n",
    "Был реализовал перебор гиперпараметров у моделей Дерево решений, Логистическая регрессия и Случайный лес при дисбалансе классов. Лучшее значение f1-меры и AUC показала модель Случайного леса 0.57  и 0.85, соответственно, а худшие метрики оказались у модели Логистической регресии F1-мера: 0.30, AUC ROC: 0.77"
   ]
  },
  {
   "cell_type": "markdown",
   "metadata": {},
   "source": [
    "## Борьба с дисбалансом"
   ]
  },
  {
   "cell_type": "markdown",
   "metadata": {},
   "source": [
    "Попробуем протестировать параметр class_weight у модели Случайного леса, а также технику upsampling для редкого класса. "
   ]
  },
  {
   "cell_type": "markdown",
   "metadata": {},
   "source": [
    "**LogisticRegression (class_weight='balanced')**"
   ]
  },
  {
   "cell_type": "code",
   "execution_count": 19,
   "metadata": {},
   "outputs": [
    {
     "name": "stdout",
     "output_type": "stream",
     "text": [
      "F1-мера: 0.5108601216333623\n",
      "AUC ROC: 0.7917902494173681\n"
     ]
    }
   ],
   "source": [
    "model = LogisticRegression(C=100, random_state=12345, max_iter=100, solver='liblinear', class_weight='balanced')\n",
    "model.fit(features_train, target_train)\n",
    "predicted_valid = model.predict(features_valid)\n",
    "f1 = f1_score(target_valid, predicted_valid)\n",
    "print(\"F1-мера:\", f1)\n",
    "\n",
    "probabilities_valid = model.predict_proba(features_valid)\n",
    "probabilities_one_valid = probabilities_valid[:, 1]\n",
    "auc_roc = roc_auc_score(target_valid, probabilities_one_valid)\n",
    "print(\"AUC ROC:\", auc_roc)"
   ]
  },
  {
   "cell_type": "markdown",
   "metadata": {},
   "source": [
    "**DecisionTreeClassifier (class_weight='balanced')**"
   ]
  },
  {
   "cell_type": "code",
   "execution_count": 20,
   "metadata": {},
   "outputs": [
    {
     "name": "stdout",
     "output_type": "stream",
     "text": [
      "F1-мера: 0.5691056910569106\n",
      "AUC ROC: 0.8157140191038496\n"
     ]
    }
   ],
   "source": [
    "model = DecisionTreeClassifier(criterion=\"gini\", random_state=12345, max_depth=7, class_weight='balanced')\n",
    "model.fit(features_train, target_train)\n",
    "predicted_valid = model.predict(features_valid)\n",
    "f1 = f1_score(target_valid, predicted_valid)\n",
    "print(\"F1-мера:\", f1)\n",
    "\n",
    "probabilities_valid = model.predict_proba(features_valid)\n",
    "probabilities_one_valid = probabilities_valid[:, 1]\n",
    "auc_roc = roc_auc_score(target_valid, probabilities_one_valid)\n",
    "print(\"AUC ROC:\", auc_roc)"
   ]
  },
  {
   "cell_type": "markdown",
   "metadata": {},
   "source": [
    "**RandomForestClassifier (class_weight='balanced')**"
   ]
  },
  {
   "cell_type": "code",
   "execution_count": 21,
   "metadata": {},
   "outputs": [
    {
     "name": "stdout",
     "output_type": "stream",
     "text": [
      "0.5522620904836193\n",
      "AUC ROC: 0.8493747985273408\n"
     ]
    }
   ],
   "source": [
    "model = RandomForestClassifier(random_state=12345, class_weight='balanced')\n",
    "model.fit(features_train, target_train) \n",
    "predicted_valid = model.predict(features_valid)\n",
    "print(f1_score(target_valid, predicted_valid))\n",
    "\n",
    "probabilities_valid = model.predict_proba(features_valid)\n",
    "probabilities_one_valid = probabilities_valid[:, 1]\n",
    "auc_roc = roc_auc_score(target_valid, probabilities_one_valid)\n",
    "print(\"AUC ROC:\", auc_roc)"
   ]
  },
  {
   "cell_type": "markdown",
   "metadata": {},
   "source": [
    "Значение f1_score даже немного снизилось, как и значение AUC. Попробуем технику upsampling."
   ]
  },
  {
   "cell_type": "code",
   "execution_count": 22,
   "metadata": {},
   "outputs": [],
   "source": [
    "# увеличим класс 1 в 4 раза для паритета с классом 0\n",
    "def upsample(features, target, repeat):\n",
    "    features_zeros = features[target == 0]\n",
    "    features_ones = features[target == 1]\n",
    "    target_zeros = target[target == 0]\n",
    "    target_ones = target[target == 1]\n",
    "    \n",
    "    features_upsampled = pd.concat([features_zeros] + [features_ones] * repeat)\n",
    "    target_upsampled = pd.concat([target_zeros] + [target_ones] * repeat)\n",
    "    \n",
    "    features_upsampled, target_upsampled = shuffle(\n",
    "        features_upsampled, target_upsampled, random_state=12345)\n",
    "    \n",
    "    return features_upsampled, target_upsampled\n",
    "\n",
    "features_upsampled, target_upsampled = upsample(features_train, target_train, 4)"
   ]
  },
  {
   "cell_type": "code",
   "execution_count": 23,
   "metadata": {},
   "outputs": [
    {
     "name": "stdout",
     "output_type": "stream",
     "text": [
      "1    4892\n",
      "0    4777\n",
      "Name: Exited, dtype: int64\n"
     ]
    },
    {
     "data": {
      "image/png": "[encoded data removed]",
      "text/plain": [
       "<Figure size 432x288 with 1 Axes>"
      ]
     },
     "metadata": {
      "needs_background": "light"
     },
     "output_type": "display_data"
    }
   ],
   "source": [
    "# research on class imbalance after upsampling\n",
    "class_freq = target_upsampled.value_counts()\n",
    "print(class_freq)\n",
    "class_freq.plot(kind='bar');\n",
    "plt.title('Target class frequency');"
   ]
  },
  {
   "cell_type": "markdown",
   "metadata": {},
   "source": [
    "**RandomForestClassifier (Upsampled)**"
   ]
  },
  {
   "cell_type": "code",
   "execution_count": 24,
   "metadata": {},
   "outputs": [
    {
     "name": "stdout",
     "output_type": "stream",
     "text": [
      "0.5959183673469388\n",
      "AUC ROC: 0.851502504044877\n"
     ]
    }
   ],
   "source": [
    "model = RandomForestClassifier(random_state=12345)\n",
    "model.fit(features_upsampled, target_upsampled) \n",
    "predicted_valid = model.predict(features_valid)\n",
    "\n",
    "print(f1_score(target_valid, predicted_valid))\n",
    "probabilities_valid = model.predict_proba(features_valid)\n",
    "probabilities_one_valid = probabilities_valid[:, 1]\n",
    "auc_roc = roc_auc_score(target_valid, probabilities_one_valid)\n",
    "print(\"AUC ROC:\", auc_roc)"
   ]
  },
  {
   "cell_type": "markdown",
   "metadata": {},
   "source": [
    "Значение f1_score стало намного лучше. Теперь приступим к поиску лучшей модели, перебирая различные гиперпараметры. "
   ]
  },
  {
   "cell_type": "markdown",
   "metadata": {},
   "source": [
    "**DecisionTreeClassifier (upsampled)**"
   ]
  },
  {
   "cell_type": "code",
   "execution_count": 25,
   "metadata": {},
   "outputs": [
    {
     "name": "stdout",
     "output_type": "stream",
     "text": [
      "f1_score наилучшей модели Desion Tree на валидационной выборке: 0.5799256505576208 best_depth = 7 best_criterion = entropy\n"
     ]
    }
   ],
   "source": [
    "# let's test DecisionTreeClassifier with various hyperparameters\n",
    "best_model = None\n",
    "best_result = 0\n",
    "best_criterion = None\n",
    "criterions = [\"entropy\", \"gini\"] \n",
    "best_depth = 0\n",
    "# The log_loss option for the parameter criterion was added only in the latest scikit-learn version 1.1.2\n",
    "for criterion in criterions:\n",
    "    for depth in range(1, 16):\n",
    "        model = DecisionTreeClassifier(criterion=criterion, random_state=12345, max_depth=depth)\n",
    "        model.fit(features_upsampled, target_upsampled) \n",
    "        predicted_valid = model.predict(features_valid)\n",
    "        result = f1_score(target_valid, predicted_valid) \n",
    "        if result > best_result:\n",
    "            best_model = model \n",
    "            best_result = result\n",
    "            best_criterion = criterion\n",
    "            best_depth = depth\n",
    "        \n",
    "print(\"f1_score наилучшей модели Desion Tree на валидационной выборке:\", best_result, \n",
    "      'best_depth =', best_depth, 'best_criterion =', best_criterion)"
   ]
  },
  {
   "cell_type": "code",
   "execution_count": 26,
   "metadata": {},
   "outputs": [
    {
     "name": "stdout",
     "output_type": "stream",
     "text": [
      "F1-мера: 0.5618556701030928\n",
      "AUC ROC: 0.8412503412503413\n"
     ]
    }
   ],
   "source": [
    "model = DecisionTreeClassifier(criterion=\"gini\", random_state=12345, max_depth=5)\n",
    "model.fit(features_upsampled, target_upsampled) \n",
    "predicted_valid = model.predict(features_valid)\n",
    "\n",
    "f1 = f1_score(target_valid, predicted_valid)\n",
    "print(\"F1-мера:\", f1)\n",
    "\n",
    "probabilities_valid = model.predict_proba(features_valid)\n",
    "probabilities_one_valid = probabilities_valid[:, 1]\n",
    "auc_roc = roc_auc_score(target_valid, probabilities_one_valid)\n",
    "print(\"AUC ROC:\", auc_roc)"
   ]
  },
  {
   "cell_type": "markdown",
   "metadata": {},
   "source": [
    "**LogisticRegression (upsampled)**"
   ]
  },
  {
   "cell_type": "code",
   "execution_count": 27,
   "metadata": {},
   "outputs": [
    {
     "name": "stdout",
     "output_type": "stream",
     "text": [
      "f1_score модели Logistic Regression на валидационной выборке: 0.5085910652920962 \n",
      "best_c_value = 0.1 \n",
      "best_max_iter = 100\n"
     ]
    }
   ],
   "source": [
    "c_values = [100, 10, 1.0, 0.1, 0.01]\n",
    "\n",
    "best_model = None\n",
    "best_result = 0\n",
    "best_c_value = 0\n",
    "best_max_iter = 0\n",
    "\n",
    "for c in c_values:\n",
    "    for max_iter in range(100, 11000, 1000):\n",
    "        model = LogisticRegression(C=c, random_state=12345, solver='lbfgs', max_iter=max_iter)\n",
    "        model.fit(features_upsampled, target_upsampled) \n",
    "        predicted_valid = model.predict(features_valid)\n",
    "        result = f1_score(target_valid, predicted_valid)\n",
    "        if result > best_result:\n",
    "            best_model = model \n",
    "            best_result = result\n",
    "            best_c_value = c\n",
    "            best_max_iter = max_iter\n",
    "            \n",
    "print(\"f1_score модели Logistic Regression на валидационной выборке:\", best_result, \n",
    "      '\\nbest_c_value =', best_c_value, '\\nbest_max_iter =', best_max_iter)"
   ]
  },
  {
   "cell_type": "code",
   "execution_count": 28,
   "metadata": {},
   "outputs": [
    {
     "name": "stdout",
     "output_type": "stream",
     "text": [
      "F1-мера: 0.5068493150684932\n",
      "AUC ROC: 0.7918426901477749\n"
     ]
    }
   ],
   "source": [
    "model = LogisticRegression(C=1.0, random_state=12345, max_iter=100, solver='liblinear')\n",
    "model.fit(features_upsampled, target_upsampled)\n",
    "predicted_valid = model.predict(features_valid)\n",
    "f1 = f1_score(target_valid, predicted_valid)\n",
    "print(\"F1-мера:\", f1)\n",
    "\n",
    "probabilities_valid = model.predict_proba(features_valid)\n",
    "probabilities_one_valid = probabilities_valid[:, 1]\n",
    "auc_roc = roc_auc_score(target_valid, probabilities_one_valid)\n",
    "print(\"AUC ROC:\", auc_roc)"
   ]
  },
  {
   "cell_type": "markdown",
   "metadata": {},
   "source": [
    "**RandomForestClassifier**"
   ]
  },
  {
   "cell_type": "code",
   "execution_count": 29,
   "metadata": {},
   "outputs": [
    {
     "name": "stdout",
     "output_type": "stream",
     "text": [
      "f1_score наилучшей модели Random Forest на валидационной выборке: 0.640171858216971 \n",
      "best_est = 141 \n",
      "best_criterion = gini \n",
      "best_depth = 10\n"
     ]
    }
   ],
   "source": [
    "# let's test RandomForestClassifier with various hyperparameters\n",
    "best_rf_model = None\n",
    "best_result = 0\n",
    "best_est = 0\n",
    "best_criterion = None\n",
    "criterions = [\"entropy\", \"gini\"] \n",
    "best_depth = 0\n",
    "\n",
    "for criterion in criterions:\n",
    "    for est in range(1, 200, 10):\n",
    "        for depth in range(1, 15):\n",
    "            model = RandomForestClassifier(criterion=criterion, random_state=12345, n_estimators=est, max_depth=depth) \n",
    "            model.fit(features_upsampled, target_upsampled) \n",
    "            predicted_valid = model.predict(features_valid)\n",
    "            result = f1_score(target_valid, predicted_valid)\n",
    "            if result > best_result:\n",
    "                best_rf_model = model \n",
    "                best_result = result\n",
    "                best_est = est\n",
    "                best_criterion = criterion\n",
    "                best_depth = depth\n",
    "\n",
    "print(\"f1_score наилучшей модели Random Forest на валидационной выборке:\", best_result, \n",
    "      '\\nbest_est =', best_est, '\\nbest_criterion =', best_criterion, '\\nbest_depth =', best_depth)\n",
    "\n"
   ]
  },
  {
   "cell_type": "markdown",
   "metadata": {},
   "source": [
    "Рассчитаем AUC:"
   ]
  },
  {
   "cell_type": "code",
   "execution_count": 30,
   "metadata": {},
   "outputs": [
    {
     "name": "stdout",
     "output_type": "stream",
     "text": [
      "AUC ROC: 0.8577560611458916\n"
     ]
    },
    {
     "data": {
      "image/png": "[encoded data removed]",
      "text/plain": [
       "<Figure size 576x288 with 1 Axes>"
      ]
     },
     "metadata": {
      "needs_background": "light"
     },
     "output_type": "display_data"
    }
   ],
   "source": [
    "probabilities_valid = model.predict_proba(features_valid)\n",
    "probabilities_one_valid = probabilities_valid[:, 1]\n",
    "auc_roc = roc_auc_score(target_valid, probabilities_one_valid)\n",
    "print(\"AUC ROC:\", auc_roc)\n",
    "\n",
    "fpr, tpr, thresh = roc_curve(target_valid, probabilities_one_valid)\n",
    "\n",
    "# create the main graph\n",
    "fig, ax = plt.subplots(figsize=(8, 4))\n",
    "ax.plot(fpr, tpr)\n",
    "ax.set_title(\"ROC Curve\")\n",
    "ax.set_xlabel(\"FPR\")\n",
    "ax.set_ylabel(\"TPR\");"
   ]
  },
  {
   "cell_type": "markdown",
   "metadata": {},
   "source": [
    "Лучшая модель - Случайный лес. При этом в разным протестированных моделях значение f1-меры коррелирует со значением auc."
   ]
  },
  {
   "cell_type": "markdown",
   "metadata": {},
   "source": [
    "## Тестирование модели"
   ]
  },
  {
   "cell_type": "code",
   "execution_count": 31,
   "metadata": {},
   "outputs": [
    {
     "name": "stdout",
     "output_type": "stream",
     "text": [
      "F1-мера: 0.6070991432068544\n",
      "AUC ROC: 0.8563632970412632\n"
     ]
    },
    {
     "data": {
      "image/png": "[encoded data removed]",
      "text/plain": [
       "<Figure size 576x288 with 1 Axes>"
      ]
     },
     "metadata": {
      "needs_background": "light"
     },
     "output_type": "display_data"
    }
   ],
   "source": [
    "# RandomForestClassifier with the best parameters\n",
    "model = RandomForestClassifier(criterion='gini', n_estimators=71, max_depth=13, random_state=12345)\n",
    "model.fit(features_upsampled, target_upsampled) \n",
    "predicted_test = model.predict(features_test)\n",
    "\n",
    "f1 = f1_score(target_test, predicted_test)\n",
    "print(\"F1-мера:\", f1)\n",
    "\n",
    "probabilities_test = model.predict_proba(features_test)\n",
    "probabilities_one_test = probabilities_test[:, 1]\n",
    "auc_roc = roc_auc_score(target_test, probabilities_one_test)\n",
    "print(\"AUC ROC:\", auc_roc)\n",
    "\n",
    "fpr, tpr, thresh = roc_curve(target_test, probabilities_one_test)\n",
    "\n",
    "# create the main graph\n",
    "fig, ax = plt.subplots(figsize=(8, 4))\n",
    "ax.plot(fpr, tpr)\n",
    "ax.set_title(\"ROC Curve\")\n",
    "ax.set_xlabel(\"FPR\")\n",
    "ax.set_ylabel(\"TPR\");"
   ]
  },
  {
   "cell_type": "markdown",
   "metadata": {},
   "source": [
    "## Общий вывод\n",
    "\n",
    "При первичном анализе данных было выявлено, что есть отсутсвующие значения в столбце Tenure, было принято решение заменить их медианой т.к. она более устойчива к выбросам чем, к примеру, среднее. Кроме того, для задачи предсказания оттока клиентов данные столбцов RowNumber', 'CustomerId' и 'Surname' были признаны нерелевантными - RowNumber' и 'CustomerId' не имеют значения сами по себе, а служат для организации информации; столбец 'Surname' нужно удалить также и по этическим соображниям. \n",
    "\n",
    "Далее, мы разделели датасет на обучающую, валидационную и тестовую выборки в соотношении 60-20-20. Столбцы с категориальной информацией 'Geography' и 'Gender' были преобразованы с помощью техники One-hot encoding. Столбцы с числовыми данными 'CreditScore', 'Age', 'Tenure', 'Balance', 'NumOfProducts', 'IsActiveMember', 'EstimatedSalary' стандартизированы с помощью StandardScaler.\n",
    "\n",
    "На этапе исследования задачи был реализован перебор гиперпараметров у моделей дерево решений, логистическая регрессия и случайный лес. В каждой моделе были подсчитаны F1-мера и значение AUC. Самые высокие значения показала модель Случайный лес: f1_score на валидационной выборке 0.58, AUC 0.86. Также был выявлен дисбаланс целевого класса, соотношение клиентов с расторгнутым контрактом и с действующим различалось, примерно, в 4 раза - 2037 против 7963.\n",
    "\n",
    "Для борьбы с дисбаланосом были протестированы параметр class_weight со значением balanced у вышеупомянутых моделей, а также техника upsampling для редкого класса. Лучшие результы показала модель Случайный лес с техникой upsampling - значение F1-меры = 0.64, значением AUC ROC = 0.86 на валидационной выборке; и значениями F1-меры = 0.60, и AUC ROC = 0.86 на тествовой выборке. "
   ]
  }
 ],
 "metadata": {
  "ExecuteTimeLog": [
   {
    "duration": 374,
    "start_time": "2023-01-15T00:34:17.848Z"
   },
   {
    "duration": 78,
    "start_time": "2023-01-15T00:34:18.312Z"
   },
   {
    "duration": 19,
    "start_time": "2023-01-15T00:34:27.036Z"
   },
   {
    "duration": 4,
    "start_time": "2023-01-15T00:40:20.986Z"
   },
   {
    "duration": 6,
    "start_time": "2023-01-15T00:40:42.776Z"
   },
   {
    "duration": 62,
    "start_time": "2023-01-15T00:40:58.563Z"
   },
   {
    "duration": 10,
    "start_time": "2023-01-15T00:41:01.535Z"
   },
   {
    "duration": 4,
    "start_time": "2023-01-15T00:41:08.107Z"
   },
   {
    "duration": 5,
    "start_time": "2023-01-15T00:41:15.068Z"
   },
   {
    "duration": 9,
    "start_time": "2023-01-15T00:43:31.928Z"
   },
   {
    "duration": 8,
    "start_time": "2023-01-15T01:16:30.210Z"
   },
   {
    "duration": 6,
    "start_time": "2023-01-15T01:16:33.567Z"
   },
   {
    "duration": 4,
    "start_time": "2023-01-15T01:18:24.867Z"
   },
   {
    "duration": 11,
    "start_time": "2023-01-15T01:19:12.169Z"
   },
   {
    "duration": 12,
    "start_time": "2023-01-15T01:19:19.855Z"
   },
   {
    "duration": 15,
    "start_time": "2023-01-15T01:20:32.542Z"
   },
   {
    "duration": 6,
    "start_time": "2023-01-15T01:20:57.107Z"
   },
   {
    "duration": 13,
    "start_time": "2023-01-15T01:21:24.487Z"
   },
   {
    "duration": 20,
    "start_time": "2023-01-15T01:23:52.569Z"
   },
   {
    "duration": 7,
    "start_time": "2023-01-15T01:25:50.977Z"
   },
   {
    "duration": 709,
    "start_time": "2023-01-15T01:26:14.588Z"
   },
   {
    "duration": 8,
    "start_time": "2023-01-15T01:26:24.734Z"
   },
   {
    "duration": 40,
    "start_time": "2023-01-15T01:33:19.816Z"
   },
   {
    "duration": 3,
    "start_time": "2023-01-15T01:33:26.372Z"
   },
   {
    "duration": 13,
    "start_time": "2023-01-15T01:33:32.604Z"
   },
   {
    "duration": 5,
    "start_time": "2023-01-15T01:33:50.580Z"
   },
   {
    "duration": 15,
    "start_time": "2023-01-15T01:35:46.919Z"
   },
   {
    "duration": 3,
    "start_time": "2023-01-15T01:36:04.984Z"
   },
   {
    "duration": 38,
    "start_time": "2023-01-15T01:36:05.420Z"
   },
   {
    "duration": 13,
    "start_time": "2023-01-15T01:36:05.661Z"
   },
   {
    "duration": 4,
    "start_time": "2023-01-15T01:36:05.877Z"
   },
   {
    "duration": 6,
    "start_time": "2023-01-15T01:36:06.120Z"
   },
   {
    "duration": 6,
    "start_time": "2023-01-15T01:36:06.427Z"
   },
   {
    "duration": 11,
    "start_time": "2023-01-15T01:36:06.666Z"
   },
   {
    "duration": 18,
    "start_time": "2023-01-15T01:36:06.982Z"
   },
   {
    "duration": 6,
    "start_time": "2023-01-15T01:36:07.253Z"
   },
   {
    "duration": 10,
    "start_time": "2023-01-15T01:36:07.490Z"
   },
   {
    "duration": 16,
    "start_time": "2023-01-15T01:36:08.053Z"
   },
   {
    "duration": 9,
    "start_time": "2023-01-15T01:36:46.560Z"
   },
   {
    "duration": 21,
    "start_time": "2023-01-15T01:37:14.506Z"
   },
   {
    "duration": 21,
    "start_time": "2023-01-15T01:37:19.404Z"
   },
   {
    "duration": 4,
    "start_time": "2023-01-15T01:37:53.233Z"
   },
   {
    "duration": 37,
    "start_time": "2023-01-15T01:37:53.645Z"
   },
   {
    "duration": 12,
    "start_time": "2023-01-15T01:37:53.907Z"
   },
   {
    "duration": 4,
    "start_time": "2023-01-15T01:37:54.286Z"
   },
   {
    "duration": 6,
    "start_time": "2023-01-15T01:37:55.927Z"
   },
   {
    "duration": 11,
    "start_time": "2023-01-15T01:37:56.330Z"
   },
   {
    "duration": 15,
    "start_time": "2023-01-15T01:38:00.185Z"
   },
   {
    "duration": 18,
    "start_time": "2023-01-15T01:38:00.751Z"
   },
   {
    "duration": 3,
    "start_time": "2023-01-15T01:38:07.493Z"
   },
   {
    "duration": 39,
    "start_time": "2023-01-15T01:38:07.628Z"
   },
   {
    "duration": 14,
    "start_time": "2023-01-15T01:38:08.161Z"
   },
   {
    "duration": 4,
    "start_time": "2023-01-15T01:38:08.465Z"
   },
   {
    "duration": 7,
    "start_time": "2023-01-15T01:38:08.713Z"
   },
   {
    "duration": 6,
    "start_time": "2023-01-15T01:38:08.996Z"
   },
   {
    "duration": 17,
    "start_time": "2023-01-15T01:38:10.950Z"
   },
   {
    "duration": 8,
    "start_time": "2023-01-15T01:38:50.850Z"
   },
   {
    "duration": 7,
    "start_time": "2023-01-15T01:38:57.734Z"
   },
   {
    "duration": 8,
    "start_time": "2023-01-15T01:39:19.683Z"
   },
   {
    "duration": 5,
    "start_time": "2023-01-15T01:39:30.669Z"
   },
   {
    "duration": 5,
    "start_time": "2023-01-15T01:39:37.220Z"
   },
   {
    "duration": 14,
    "start_time": "2023-01-15T01:40:30.317Z"
   },
   {
    "duration": 16,
    "start_time": "2023-01-15T01:40:52.924Z"
   },
   {
    "duration": 14,
    "start_time": "2023-01-15T01:52:07.301Z"
   },
   {
    "duration": 3,
    "start_time": "2023-01-15T01:52:51.584Z"
   },
   {
    "duration": 44,
    "start_time": "2023-01-15T01:52:52.057Z"
   },
   {
    "duration": 17,
    "start_time": "2023-01-15T01:52:52.640Z"
   },
   {
    "duration": 4,
    "start_time": "2023-01-15T01:52:53.117Z"
   },
   {
    "duration": 18,
    "start_time": "2023-01-15T01:52:54.050Z"
   },
   {
    "duration": 36,
    "start_time": "2023-01-15T01:53:25.128Z"
   },
   {
    "duration": 3,
    "start_time": "2023-01-15T01:53:42.812Z"
   },
   {
    "duration": 40,
    "start_time": "2023-01-15T01:53:43.148Z"
   },
   {
    "duration": 13,
    "start_time": "2023-01-15T01:53:43.569Z"
   },
   {
    "duration": 5,
    "start_time": "2023-01-15T01:53:46.415Z"
   },
   {
    "duration": 23,
    "start_time": "2023-01-15T01:53:50.653Z"
   },
   {
    "duration": 19,
    "start_time": "2023-01-15T01:54:06.899Z"
   },
   {
    "duration": 17,
    "start_time": "2023-01-15T01:54:17.274Z"
   },
   {
    "duration": 20,
    "start_time": "2023-01-15T01:55:06.929Z"
   },
   {
    "duration": 24,
    "start_time": "2023-01-15T01:56:50.964Z"
   },
   {
    "duration": 19,
    "start_time": "2023-01-15T01:59:04.691Z"
   },
   {
    "duration": 5,
    "start_time": "2023-01-15T01:59:19.496Z"
   },
   {
    "duration": 15,
    "start_time": "2023-01-15T02:00:33.694Z"
   },
   {
    "duration": 1137,
    "start_time": "2023-01-15T02:01:20.661Z"
   },
   {
    "duration": 46,
    "start_time": "2023-01-15T02:01:21.800Z"
   },
   {
    "duration": 18,
    "start_time": "2023-01-15T02:01:21.847Z"
   },
   {
    "duration": 3,
    "start_time": "2023-01-15T02:01:21.867Z"
   },
   {
    "duration": 25,
    "start_time": "2023-01-15T02:01:21.873Z"
   },
   {
    "duration": 5,
    "start_time": "2023-01-15T02:01:21.899Z"
   },
   {
    "duration": 7,
    "start_time": "2023-01-15T02:01:21.915Z"
   },
   {
    "duration": 20,
    "start_time": "2023-01-15T02:01:21.924Z"
   },
   {
    "duration": 4,
    "start_time": "2023-01-15T02:01:21.946Z"
   },
   {
    "duration": 19,
    "start_time": "2023-01-15T02:01:21.952Z"
   },
   {
    "duration": 6,
    "start_time": "2023-01-15T02:01:21.972Z"
   },
   {
    "duration": 13,
    "start_time": "2023-01-15T02:01:21.979Z"
   },
   {
    "duration": 42,
    "start_time": "2023-01-15T02:01:22.016Z"
   },
   {
    "duration": 6,
    "start_time": "2023-01-15T04:47:05.373Z"
   },
   {
    "duration": 6,
    "start_time": "2023-01-15T04:47:57.427Z"
   },
   {
    "duration": 517,
    "start_time": "2023-01-15T04:48:13.607Z"
   },
   {
    "duration": 112,
    "start_time": "2023-01-15T04:48:24.632Z"
   },
   {
    "duration": 245,
    "start_time": "2023-01-15T04:49:01.951Z"
   },
   {
    "duration": 114,
    "start_time": "2023-01-15T04:51:52.328Z"
   },
   {
    "duration": 3,
    "start_time": "2023-01-15T04:52:08.161Z"
   },
   {
    "duration": 117,
    "start_time": "2023-01-15T04:52:13.240Z"
   },
   {
    "duration": 12,
    "start_time": "2023-01-15T05:13:48.833Z"
   },
   {
    "duration": 8,
    "start_time": "2023-01-15T05:14:29.904Z"
   },
   {
    "duration": 194,
    "start_time": "2023-01-15T05:15:49.421Z"
   },
   {
    "duration": 130,
    "start_time": "2023-01-15T05:16:17.722Z"
   },
   {
    "duration": 105,
    "start_time": "2023-01-15T05:16:22.948Z"
   },
   {
    "duration": 7,
    "start_time": "2023-01-15T05:17:21.046Z"
   },
   {
    "duration": 7,
    "start_time": "2023-01-15T05:18:20.414Z"
   },
   {
    "duration": 44,
    "start_time": "2023-01-15T05:56:47.223Z"
   },
   {
    "duration": 4,
    "start_time": "2023-01-15T05:57:03.682Z"
   },
   {
    "duration": 35,
    "start_time": "2023-01-15T05:57:08.880Z"
   },
   {
    "duration": 3,
    "start_time": "2023-01-15T05:58:29.877Z"
   },
   {
    "duration": 5,
    "start_time": "2023-01-15T05:58:51.296Z"
   },
   {
    "duration": 3,
    "start_time": "2023-01-15T05:59:48.832Z"
   },
   {
    "duration": 13,
    "start_time": "2023-01-15T06:00:15.219Z"
   },
   {
    "duration": 15,
    "start_time": "2023-01-15T06:00:32.496Z"
   },
   {
    "duration": 9,
    "start_time": "2023-01-15T06:00:57.364Z"
   },
   {
    "duration": 72,
    "start_time": "2023-01-15T06:03:06.250Z"
   },
   {
    "duration": 20,
    "start_time": "2023-01-15T06:03:59.520Z"
   },
   {
    "duration": 3,
    "start_time": "2023-01-15T06:04:45.395Z"
   },
   {
    "duration": 22,
    "start_time": "2023-01-15T06:05:15.222Z"
   },
   {
    "duration": 924,
    "start_time": "2023-01-15T06:35:34.682Z"
   },
   {
    "duration": 28,
    "start_time": "2023-01-15T06:35:44.032Z"
   },
   {
    "duration": 5,
    "start_time": "2023-01-15T06:36:08.584Z"
   },
   {
    "duration": 17,
    "start_time": "2023-01-15T06:37:19.252Z"
   },
   {
    "duration": 4,
    "start_time": "2023-01-15T06:38:56.503Z"
   },
   {
    "duration": 3,
    "start_time": "2023-01-15T06:39:09.007Z"
   },
   {
    "duration": 5,
    "start_time": "2023-01-15T06:39:58.426Z"
   },
   {
    "duration": 4,
    "start_time": "2023-01-15T06:40:44.227Z"
   },
   {
    "duration": 36,
    "start_time": "2023-01-15T06:40:50.358Z"
   },
   {
    "duration": 16,
    "start_time": "2023-01-15T06:41:59.899Z"
   },
   {
    "duration": 9,
    "start_time": "2023-01-15T07:02:58.401Z"
   },
   {
    "duration": 14,
    "start_time": "2023-01-15T07:03:50.734Z"
   },
   {
    "duration": 4,
    "start_time": "2023-01-15T07:04:12.808Z"
   },
   {
    "duration": 221,
    "start_time": "2023-01-15T07:04:21.039Z"
   },
   {
    "duration": 5,
    "start_time": "2023-01-15T07:05:47.616Z"
   },
   {
    "duration": 223,
    "start_time": "2023-01-15T07:06:02.100Z"
   },
   {
    "duration": 185,
    "start_time": "2023-01-15T07:06:33.453Z"
   },
   {
    "duration": 49,
    "start_time": "2023-01-15T07:14:46.353Z"
   },
   {
    "duration": 9,
    "start_time": "2023-01-15T07:15:07.632Z"
   },
   {
    "duration": 9,
    "start_time": "2023-01-15T07:15:29.820Z"
   },
   {
    "duration": 11,
    "start_time": "2023-01-15T07:15:41.148Z"
   },
   {
    "duration": 9,
    "start_time": "2023-01-15T07:15:51.321Z"
   },
   {
    "duration": 12,
    "start_time": "2023-01-15T07:16:06.296Z"
   },
   {
    "duration": 8,
    "start_time": "2023-01-15T07:16:14.935Z"
   },
   {
    "duration": 9,
    "start_time": "2023-01-15T07:16:23.592Z"
   },
   {
    "duration": 195,
    "start_time": "2023-01-15T07:17:49.522Z"
   },
   {
    "duration": 3,
    "start_time": "2023-01-15T07:17:55.643Z"
   },
   {
    "duration": 254,
    "start_time": "2023-01-15T07:18:01.368Z"
   },
   {
    "duration": 4,
    "start_time": "2023-01-15T07:18:35.774Z"
   },
   {
    "duration": 50,
    "start_time": "2023-01-15T07:19:13.967Z"
   },
   {
    "duration": 4,
    "start_time": "2023-01-15T07:19:42.626Z"
   },
   {
    "duration": 4,
    "start_time": "2023-01-15T07:20:01.449Z"
   },
   {
    "duration": 11,
    "start_time": "2023-01-15T07:20:08.123Z"
   },
   {
    "duration": 4,
    "start_time": "2023-01-16T10:00:32.780Z"
   },
   {
    "duration": 90,
    "start_time": "2023-01-16T10:00:33.188Z"
   },
   {
    "duration": 13,
    "start_time": "2023-01-16T10:00:33.664Z"
   },
   {
    "duration": 5,
    "start_time": "2023-01-16T10:00:37.150Z"
   },
   {
    "duration": 13,
    "start_time": "2023-01-16T10:01:02.159Z"
   },
   {
    "duration": 11,
    "start_time": "2023-01-16T10:01:14.055Z"
   },
   {
    "duration": 12,
    "start_time": "2023-01-16T10:01:47.325Z"
   },
   {
    "duration": 5,
    "start_time": "2023-01-16T10:01:58.870Z"
   },
   {
    "duration": 6,
    "start_time": "2023-01-16T10:03:16.843Z"
   },
   {
    "duration": 12,
    "start_time": "2023-01-16T10:03:30.642Z"
   },
   {
    "duration": 4,
    "start_time": "2023-01-16T10:03:52.356Z"
   },
   {
    "duration": 12,
    "start_time": "2023-01-16T10:03:54.117Z"
   },
   {
    "duration": 5,
    "start_time": "2023-01-16T10:04:10.017Z"
   },
   {
    "duration": 12,
    "start_time": "2023-01-16T10:04:55.317Z"
   },
   {
    "duration": 18,
    "start_time": "2023-01-16T10:05:22.974Z"
   },
   {
    "duration": 6,
    "start_time": "2023-01-16T10:05:27.751Z"
   },
   {
    "duration": 12,
    "start_time": "2023-01-16T10:05:32.131Z"
   },
   {
    "duration": 39,
    "start_time": "2023-01-16T10:05:45.430Z"
   },
   {
    "duration": 6,
    "start_time": "2023-01-16T10:05:51.656Z"
   },
   {
    "duration": 108,
    "start_time": "2023-01-16T10:05:53.197Z"
   },
   {
    "duration": 106,
    "start_time": "2023-01-16T10:05:54.578Z"
   },
   {
    "duration": 9,
    "start_time": "2023-01-16T10:05:57.821Z"
   },
   {
    "duration": 40,
    "start_time": "2023-01-16T10:06:18.544Z"
   },
   {
    "duration": 6,
    "start_time": "2023-01-16T10:06:20.729Z"
   },
   {
    "duration": 11,
    "start_time": "2023-01-16T10:06:26.935Z"
   },
   {
    "duration": 19,
    "start_time": "2023-01-16T10:06:44.445Z"
   },
   {
    "duration": 5,
    "start_time": "2023-01-16T10:06:52.330Z"
   },
   {
    "duration": 17,
    "start_time": "2023-01-16T10:07:17.903Z"
   },
   {
    "duration": 5,
    "start_time": "2023-01-16T10:10:44.838Z"
   },
   {
    "duration": 46,
    "start_time": "2023-01-16T10:10:45.346Z"
   },
   {
    "duration": 16,
    "start_time": "2023-01-16T10:10:45.425Z"
   },
   {
    "duration": 4,
    "start_time": "2023-01-16T10:10:45.499Z"
   },
   {
    "duration": 13,
    "start_time": "2023-01-16T10:10:45.584Z"
   },
   {
    "duration": 9,
    "start_time": "2023-01-16T10:10:45.667Z"
   },
   {
    "duration": 6,
    "start_time": "2023-01-16T10:10:45.750Z"
   },
   {
    "duration": 4,
    "start_time": "2023-01-16T10:10:45.833Z"
   },
   {
    "duration": 11,
    "start_time": "2023-01-16T10:10:45.918Z"
   },
   {
    "duration": 5,
    "start_time": "2023-01-16T10:10:46.476Z"
   },
   {
    "duration": 6,
    "start_time": "2023-01-16T10:10:46.796Z"
   },
   {
    "duration": 11,
    "start_time": "2023-01-16T10:10:47.088Z"
   },
   {
    "duration": 18,
    "start_time": "2023-01-16T10:10:47.357Z"
   },
   {
    "duration": 6,
    "start_time": "2023-01-16T10:10:47.595Z"
   },
   {
    "duration": 10,
    "start_time": "2023-01-16T10:10:49.449Z"
   },
   {
    "duration": 36,
    "start_time": "2023-01-16T10:10:52.485Z"
   },
   {
    "duration": 6,
    "start_time": "2023-01-16T10:10:55.951Z"
   },
   {
    "duration": 117,
    "start_time": "2023-01-16T10:10:56.388Z"
   },
   {
    "duration": 106,
    "start_time": "2023-01-16T10:10:56.787Z"
   },
   {
    "duration": 7,
    "start_time": "2023-01-16T10:10:57.127Z"
   },
   {
    "duration": 18,
    "start_time": "2023-01-16T10:10:57.410Z"
   },
   {
    "duration": 6,
    "start_time": "2023-01-16T10:12:08.947Z"
   },
   {
    "duration": 10,
    "start_time": "2023-01-16T10:13:39.273Z"
   },
   {
    "duration": 9,
    "start_time": "2023-01-16T10:14:04.158Z"
   },
   {
    "duration": 5,
    "start_time": "2023-01-16T10:14:30.062Z"
   },
   {
    "duration": 21,
    "start_time": "2023-01-16T10:14:35.316Z"
   },
   {
    "duration": 18,
    "start_time": "2023-01-16T10:14:49.121Z"
   },
   {
    "duration": 21,
    "start_time": "2023-01-16T10:26:07.572Z"
   },
   {
    "duration": 5,
    "start_time": "2023-01-16T10:27:45.196Z"
   },
   {
    "duration": 16,
    "start_time": "2023-01-16T10:27:49.742Z"
   },
   {
    "duration": 8,
    "start_time": "2023-01-16T10:28:42.739Z"
   },
   {
    "duration": 4,
    "start_time": "2023-01-16T10:29:06.671Z"
   },
   {
    "duration": 16,
    "start_time": "2023-01-16T10:29:07.353Z"
   },
   {
    "duration": 5,
    "start_time": "2023-01-16T10:30:08.302Z"
   },
   {
    "duration": 14,
    "start_time": "2023-01-16T10:30:08.760Z"
   },
   {
    "duration": 5,
    "start_time": "2023-01-16T10:30:49.481Z"
   },
   {
    "duration": 55,
    "start_time": "2023-01-16T10:30:49.980Z"
   },
   {
    "duration": 12,
    "start_time": "2023-01-16T10:30:50.494Z"
   },
   {
    "duration": 4,
    "start_time": "2023-01-16T10:30:50.548Z"
   },
   {
    "duration": 13,
    "start_time": "2023-01-16T10:30:50.631Z"
   },
   {
    "duration": 8,
    "start_time": "2023-01-16T10:30:50.714Z"
   },
   {
    "duration": 8,
    "start_time": "2023-01-16T10:30:50.797Z"
   },
   {
    "duration": 5,
    "start_time": "2023-01-16T10:30:50.890Z"
   },
   {
    "duration": 15,
    "start_time": "2023-01-16T10:30:51.223Z"
   },
   {
    "duration": 5,
    "start_time": "2023-01-16T10:30:51.526Z"
   },
   {
    "duration": 7,
    "start_time": "2023-01-16T10:30:51.788Z"
   },
   {
    "duration": 15,
    "start_time": "2023-01-16T10:30:51.979Z"
   },
   {
    "duration": 24,
    "start_time": "2023-01-16T10:30:52.245Z"
   },
   {
    "duration": 7,
    "start_time": "2023-01-16T10:30:52.856Z"
   },
   {
    "duration": 13,
    "start_time": "2023-01-16T10:30:53.231Z"
   },
   {
    "duration": 47,
    "start_time": "2023-01-16T10:30:54.364Z"
   },
   {
    "duration": 6,
    "start_time": "2023-01-16T10:30:54.748Z"
   },
   {
    "duration": 106,
    "start_time": "2023-01-16T10:30:55.370Z"
   },
   {
    "duration": 107,
    "start_time": "2023-01-16T10:30:55.645Z"
   },
   {
    "duration": 7,
    "start_time": "2023-01-16T10:30:55.979Z"
   },
   {
    "duration": 9,
    "start_time": "2023-01-16T10:30:56.371Z"
   },
   {
    "duration": 18,
    "start_time": "2023-01-16T10:30:56.850Z"
   },
   {
    "duration": 5,
    "start_time": "2023-01-16T10:30:57.190Z"
   },
   {
    "duration": 14,
    "start_time": "2023-01-16T10:30:58.513Z"
   },
   {
    "duration": 4,
    "start_time": "2023-01-16T10:31:15.307Z"
   },
   {
    "duration": 17,
    "start_time": "2023-01-16T10:31:15.676Z"
   },
   {
    "duration": 4,
    "start_time": "2023-01-16T10:31:47.397Z"
   },
   {
    "duration": 4,
    "start_time": "2023-01-16T10:37:25.405Z"
   },
   {
    "duration": 37,
    "start_time": "2023-01-16T10:37:25.825Z"
   },
   {
    "duration": 12,
    "start_time": "2023-01-16T10:37:26.850Z"
   },
   {
    "duration": 5,
    "start_time": "2023-01-16T10:37:27.229Z"
   },
   {
    "duration": 13,
    "start_time": "2023-01-16T10:37:27.554Z"
   },
   {
    "duration": 9,
    "start_time": "2023-01-16T10:37:27.853Z"
   },
   {
    "duration": 4,
    "start_time": "2023-01-16T10:37:28.031Z"
   },
   {
    "duration": 4,
    "start_time": "2023-01-16T10:37:28.539Z"
   },
   {
    "duration": 14,
    "start_time": "2023-01-16T10:37:28.613Z"
   },
   {
    "duration": 5,
    "start_time": "2023-01-16T10:37:28.696Z"
   },
   {
    "duration": 5,
    "start_time": "2023-01-16T10:37:28.780Z"
   },
   {
    "duration": 16,
    "start_time": "2023-01-16T10:37:29.555Z"
   },
   {
    "duration": 23,
    "start_time": "2023-01-16T10:37:29.996Z"
   },
   {
    "duration": 6,
    "start_time": "2023-01-16T10:37:31.188Z"
   },
   {
    "duration": 23,
    "start_time": "2023-01-16T10:37:32.894Z"
   },
   {
    "duration": 26,
    "start_time": "2023-01-16T10:37:56.694Z"
   },
   {
    "duration": 4,
    "start_time": "2023-01-16T10:38:14.850Z"
   },
   {
    "duration": 54,
    "start_time": "2023-01-16T10:38:20.888Z"
   },
   {
    "duration": 6,
    "start_time": "2023-01-16T10:38:22.302Z"
   },
   {
    "duration": 6,
    "start_time": "2023-01-16T10:38:28.985Z"
   },
   {
    "duration": 103,
    "start_time": "2023-01-16T10:38:29.486Z"
   },
   {
    "duration": 116,
    "start_time": "2023-01-16T10:38:29.983Z"
   },
   {
    "duration": 7,
    "start_time": "2023-01-16T10:38:30.273Z"
   },
   {
    "duration": 7,
    "start_time": "2023-01-16T10:38:30.594Z"
   },
   {
    "duration": 4,
    "start_time": "2023-01-16T10:38:35.639Z"
   },
   {
    "duration": 4,
    "start_time": "2023-01-16T10:38:44.920Z"
   },
   {
    "duration": 12,
    "start_time": "2023-01-16T10:38:49.801Z"
   },
   {
    "duration": 37,
    "start_time": "2023-01-16T10:38:55.844Z"
   },
   {
    "duration": 56,
    "start_time": "2023-01-16T10:39:33.790Z"
   },
   {
    "duration": 7,
    "start_time": "2023-01-16T10:39:34.594Z"
   },
   {
    "duration": 10,
    "start_time": "2023-01-16T10:39:43.157Z"
   },
   {
    "duration": 24,
    "start_time": "2023-01-16T10:39:47.336Z"
   },
   {
    "duration": 16,
    "start_time": "2023-01-16T10:45:57.700Z"
   },
   {
    "duration": 272,
    "start_time": "2023-01-16T10:48:03.351Z"
   },
   {
    "duration": 17,
    "start_time": "2023-01-16T10:48:27.383Z"
   },
   {
    "duration": 11,
    "start_time": "2023-01-16T10:49:09.820Z"
   },
   {
    "duration": 4,
    "start_time": "2023-01-16T10:50:27.026Z"
   },
   {
    "duration": 16,
    "start_time": "2023-01-16T10:50:34.640Z"
   },
   {
    "duration": 4,
    "start_time": "2023-01-16T10:51:31.652Z"
   },
   {
    "duration": 106,
    "start_time": "2023-01-16T10:51:31.988Z"
   },
   {
    "duration": 13,
    "start_time": "2023-01-16T10:51:32.509Z"
   },
   {
    "duration": 3,
    "start_time": "2023-01-16T10:51:32.558Z"
   },
   {
    "duration": 15,
    "start_time": "2023-01-16T10:51:32.647Z"
   },
   {
    "duration": 8,
    "start_time": "2023-01-16T10:51:32.939Z"
   },
   {
    "duration": 5,
    "start_time": "2023-01-16T10:51:33.152Z"
   },
   {
    "duration": 5,
    "start_time": "2023-01-16T10:51:33.379Z"
   },
   {
    "duration": 12,
    "start_time": "2023-01-16T10:51:33.560Z"
   },
   {
    "duration": 4,
    "start_time": "2023-01-16T10:51:33.741Z"
   },
   {
    "duration": 5,
    "start_time": "2023-01-16T10:51:33.912Z"
   },
   {
    "duration": 12,
    "start_time": "2023-01-16T10:51:34.087Z"
   },
   {
    "duration": 24,
    "start_time": "2023-01-16T10:51:34.589Z"
   },
   {
    "duration": 6,
    "start_time": "2023-01-16T10:51:34.664Z"
   },
   {
    "duration": 27,
    "start_time": "2023-01-16T10:51:34.750Z"
   },
   {
    "duration": 47,
    "start_time": "2023-01-16T10:51:34.916Z"
   },
   {
    "duration": 6,
    "start_time": "2023-01-16T10:51:35.000Z"
   },
   {
    "duration": 105,
    "start_time": "2023-01-16T10:51:35.083Z"
   },
   {
    "duration": 125,
    "start_time": "2023-01-16T10:51:35.190Z"
   },
   {
    "duration": 8,
    "start_time": "2023-01-16T10:51:35.640Z"
   },
   {
    "duration": 9,
    "start_time": "2023-01-16T10:51:35.983Z"
   },
   {
    "duration": 4,
    "start_time": "2023-01-16T10:51:36.476Z"
   },
   {
    "duration": 4,
    "start_time": "2023-01-16T10:51:36.558Z"
   },
   {
    "duration": 15,
    "start_time": "2023-01-16T10:51:36.641Z"
   },
   {
    "duration": 40,
    "start_time": "2023-01-16T10:51:37.184Z"
   },
   {
    "duration": 47,
    "start_time": "2023-01-16T10:51:37.768Z"
   },
   {
    "duration": 7,
    "start_time": "2023-01-16T10:51:38.019Z"
   },
   {
    "duration": 12,
    "start_time": "2023-01-16T10:51:38.268Z"
   },
   {
    "duration": 26,
    "start_time": "2023-01-16T10:51:38.445Z"
   },
   {
    "duration": 153,
    "start_time": "2023-01-16T10:51:38.625Z"
   },
   {
    "duration": 13,
    "start_time": "2023-01-16T10:53:09.506Z"
   },
   {
    "duration": 12,
    "start_time": "2023-01-16T10:56:39.226Z"
   },
   {
    "duration": 14,
    "start_time": "2023-01-16T10:57:05.236Z"
   },
   {
    "duration": 1903,
    "start_time": "2023-01-16T10:57:12.083Z"
   },
   {
    "duration": 91,
    "start_time": "2023-01-16T10:58:36.660Z"
   },
   {
    "duration": 1802,
    "start_time": "2023-01-16T11:04:57.709Z"
   },
   {
    "duration": 550,
    "start_time": "2023-01-16T11:06:04.677Z"
   },
   {
    "duration": 568,
    "start_time": "2023-01-16T11:06:41.438Z"
   },
   {
    "duration": 547,
    "start_time": "2023-01-16T11:08:02.482Z"
   },
   {
    "duration": 461,
    "start_time": "2023-01-16T11:08:14.248Z"
   },
   {
    "duration": 5,
    "start_time": "2023-01-16T11:15:31.977Z"
   },
   {
    "duration": 47,
    "start_time": "2023-01-16T11:15:33.312Z"
   },
   {
    "duration": 14,
    "start_time": "2023-01-16T11:15:34.684Z"
   },
   {
    "duration": 8,
    "start_time": "2023-01-16T11:16:14.812Z"
   },
   {
    "duration": 13,
    "start_time": "2023-01-16T11:16:15.388Z"
   },
   {
    "duration": 12,
    "start_time": "2023-01-16T11:17:16.989Z"
   },
   {
    "duration": 17,
    "start_time": "2023-01-16T11:17:27.058Z"
   },
   {
    "duration": 6,
    "start_time": "2023-01-16T11:17:29.196Z"
   },
   {
    "duration": 24,
    "start_time": "2023-01-16T11:17:32.596Z"
   },
   {
    "duration": 33,
    "start_time": "2023-01-16T11:17:51.294Z"
   },
   {
    "duration": 439,
    "start_time": "2023-01-16T11:17:58.852Z"
   },
   {
    "duration": 490,
    "start_time": "2023-01-16T11:18:08.048Z"
   },
   {
    "duration": 814,
    "start_time": "2023-01-16T11:18:16.758Z"
   },
   {
    "duration": 1281,
    "start_time": "2023-01-16T11:18:29.199Z"
   },
   {
    "duration": 853,
    "start_time": "2023-01-16T11:18:46.524Z"
   },
   {
    "duration": 1451,
    "start_time": "2023-01-16T11:18:55.082Z"
   },
   {
    "duration": 1323,
    "start_time": "2023-01-16T11:19:59.885Z"
   },
   {
    "duration": 38,
    "start_time": "2023-01-16T11:20:01.211Z"
   },
   {
    "duration": 16,
    "start_time": "2023-01-16T11:20:01.251Z"
   },
   {
    "duration": 18,
    "start_time": "2023-01-16T11:20:01.268Z"
   },
   {
    "duration": 42,
    "start_time": "2023-01-16T11:20:01.287Z"
   },
   {
    "duration": 39,
    "start_time": "2023-01-16T11:20:01.331Z"
   },
   {
    "duration": 14,
    "start_time": "2023-01-16T11:20:01.371Z"
   },
   {
    "duration": 27,
    "start_time": "2023-01-16T11:20:01.386Z"
   },
   {
    "duration": 35,
    "start_time": "2023-01-16T11:20:01.415Z"
   },
   {
    "duration": 146,
    "start_time": "2023-01-16T11:20:01.452Z"
   },
   {
    "duration": 0,
    "start_time": "2023-01-16T11:20:01.601Z"
   },
   {
    "duration": 0,
    "start_time": "2023-01-16T11:20:01.603Z"
   },
   {
    "duration": 0,
    "start_time": "2023-01-16T11:20:01.604Z"
   },
   {
    "duration": 0,
    "start_time": "2023-01-16T11:20:01.605Z"
   },
   {
    "duration": 0,
    "start_time": "2023-01-16T11:20:01.606Z"
   },
   {
    "duration": 0,
    "start_time": "2023-01-16T11:20:01.615Z"
   },
   {
    "duration": 0,
    "start_time": "2023-01-16T11:20:01.616Z"
   },
   {
    "duration": 0,
    "start_time": "2023-01-16T11:20:01.618Z"
   },
   {
    "duration": 0,
    "start_time": "2023-01-16T11:20:01.619Z"
   },
   {
    "duration": 0,
    "start_time": "2023-01-16T11:20:01.620Z"
   },
   {
    "duration": 0,
    "start_time": "2023-01-16T11:20:01.621Z"
   },
   {
    "duration": 0,
    "start_time": "2023-01-16T11:20:01.622Z"
   },
   {
    "duration": 0,
    "start_time": "2023-01-16T11:20:01.623Z"
   },
   {
    "duration": 0,
    "start_time": "2023-01-16T11:20:01.625Z"
   },
   {
    "duration": 0,
    "start_time": "2023-01-16T11:20:01.626Z"
   },
   {
    "duration": 0,
    "start_time": "2023-01-16T11:20:01.628Z"
   },
   {
    "duration": 0,
    "start_time": "2023-01-16T11:20:01.629Z"
   },
   {
    "duration": 0,
    "start_time": "2023-01-16T11:20:01.630Z"
   },
   {
    "duration": 0,
    "start_time": "2023-01-16T11:20:01.631Z"
   },
   {
    "duration": 0,
    "start_time": "2023-01-16T11:20:01.632Z"
   },
   {
    "duration": 0,
    "start_time": "2023-01-16T11:20:01.634Z"
   },
   {
    "duration": 0,
    "start_time": "2023-01-16T11:20:01.635Z"
   },
   {
    "duration": 0,
    "start_time": "2023-01-16T11:20:01.636Z"
   },
   {
    "duration": 0,
    "start_time": "2023-01-16T11:20:01.637Z"
   },
   {
    "duration": 1,
    "start_time": "2023-01-16T11:20:01.637Z"
   },
   {
    "duration": 0,
    "start_time": "2023-01-16T11:20:01.638Z"
   },
   {
    "duration": 11,
    "start_time": "2023-01-16T11:20:30.049Z"
   },
   {
    "duration": 4,
    "start_time": "2023-01-16T11:20:35.634Z"
   },
   {
    "duration": 38,
    "start_time": "2023-01-16T11:20:35.709Z"
   },
   {
    "duration": 12,
    "start_time": "2023-01-16T11:20:35.791Z"
   },
   {
    "duration": 3,
    "start_time": "2023-01-16T11:20:35.877Z"
   },
   {
    "duration": 14,
    "start_time": "2023-01-16T11:20:35.956Z"
   },
   {
    "duration": 8,
    "start_time": "2023-01-16T11:20:36.039Z"
   },
   {
    "duration": 5,
    "start_time": "2023-01-16T11:20:36.123Z"
   },
   {
    "duration": 6,
    "start_time": "2023-01-16T11:20:36.206Z"
   },
   {
    "duration": 15,
    "start_time": "2023-01-16T11:20:36.309Z"
   },
   {
    "duration": 11,
    "start_time": "2023-01-16T11:20:36.377Z"
   },
   {
    "duration": 7,
    "start_time": "2023-01-16T11:20:36.459Z"
   },
   {
    "duration": 12,
    "start_time": "2023-01-16T11:20:36.541Z"
   },
   {
    "duration": 19,
    "start_time": "2023-01-16T11:20:36.624Z"
   },
   {
    "duration": 7,
    "start_time": "2023-01-16T11:20:36.712Z"
   },
   {
    "duration": 20,
    "start_time": "2023-01-16T11:20:36.794Z"
   },
   {
    "duration": 39,
    "start_time": "2023-01-16T11:20:37.625Z"
   },
   {
    "duration": 7,
    "start_time": "2023-01-16T11:20:38.218Z"
   },
   {
    "duration": 124,
    "start_time": "2023-01-16T11:20:38.467Z"
   },
   {
    "duration": 109,
    "start_time": "2023-01-16T11:20:38.640Z"
   },
   {
    "duration": 6,
    "start_time": "2023-01-16T11:20:38.828Z"
   },
   {
    "duration": 9,
    "start_time": "2023-01-16T11:20:38.971Z"
   },
   {
    "duration": 4,
    "start_time": "2023-01-16T11:20:39.259Z"
   },
   {
    "duration": 4,
    "start_time": "2023-01-16T11:20:39.761Z"
   },
   {
    "duration": 12,
    "start_time": "2023-01-16T11:20:39.829Z"
   },
   {
    "duration": 34,
    "start_time": "2023-01-16T11:20:39.927Z"
   },
   {
    "duration": 43,
    "start_time": "2023-01-16T11:20:41.141Z"
   },
   {
    "duration": 7,
    "start_time": "2023-01-16T11:20:41.519Z"
   },
   {
    "duration": 10,
    "start_time": "2023-01-16T11:20:42.175Z"
   },
   {
    "duration": 33,
    "start_time": "2023-01-16T11:20:42.599Z"
   },
   {
    "duration": 122,
    "start_time": "2023-01-16T11:20:43.490Z"
   },
   {
    "duration": 10,
    "start_time": "2023-01-16T11:20:44.081Z"
   },
   {
    "duration": 10,
    "start_time": "2023-01-16T11:20:44.900Z"
   },
   {
    "duration": 269,
    "start_time": "2023-01-16T11:20:45.187Z"
   },
   {
    "duration": 12,
    "start_time": "2023-01-16T11:20:45.535Z"
   },
   {
    "duration": 1653,
    "start_time": "2023-01-16T11:20:47.212Z"
   },
   {
    "duration": 1493,
    "start_time": "2023-01-16T11:20:48.867Z"
   },
   {
    "duration": 507,
    "start_time": "2023-01-16T11:20:59.667Z"
   },
   {
    "duration": 243,
    "start_time": "2023-01-16T11:43:24.039Z"
   },
   {
    "duration": 3,
    "start_time": "2023-01-16T11:45:59.114Z"
   },
   {
    "duration": 730,
    "start_time": "2023-01-16T11:47:21.362Z"
   },
   {
    "duration": 36789,
    "start_time": "2023-01-16T11:47:45.292Z"
   },
   {
    "duration": 147945,
    "start_time": "2023-01-16T11:49:54.847Z"
   },
   {
    "duration": 32442,
    "start_time": "2023-01-16T11:54:42.195Z"
   },
   {
    "duration": 5,
    "start_time": "2023-01-16T11:56:12.836Z"
   },
   {
    "duration": 54,
    "start_time": "2023-01-16T11:56:13.416Z"
   },
   {
    "duration": 15,
    "start_time": "2023-01-16T11:56:13.829Z"
   },
   {
    "duration": 5,
    "start_time": "2023-01-16T11:56:14.296Z"
   },
   {
    "duration": 13,
    "start_time": "2023-01-16T11:56:16.171Z"
   },
   {
    "duration": 7,
    "start_time": "2023-01-16T11:56:39.613Z"
   },
   {
    "duration": 5,
    "start_time": "2023-01-16T11:56:47.797Z"
   },
   {
    "duration": 6,
    "start_time": "2023-01-16T11:56:53.994Z"
   },
   {
    "duration": 14,
    "start_time": "2023-01-16T11:56:54.549Z"
   },
   {
    "duration": 16,
    "start_time": "2023-01-16T11:56:54.995Z"
   },
   {
    "duration": 6,
    "start_time": "2023-01-16T11:56:55.752Z"
   },
   {
    "duration": 23,
    "start_time": "2023-01-16T11:56:56.539Z"
   },
   {
    "duration": 342,
    "start_time": "2023-01-16T11:59:04.871Z"
   },
   {
    "duration": 4,
    "start_time": "2023-01-16T11:59:31.551Z"
   },
   {
    "duration": 10,
    "start_time": "2023-01-16T11:59:37.164Z"
   },
   {
    "duration": 95,
    "start_time": "2023-01-16T11:59:38.438Z"
   },
   {
    "duration": 394,
    "start_time": "2023-01-16T11:59:46.406Z"
   },
   {
    "duration": 402,
    "start_time": "2023-01-16T11:59:57.562Z"
   },
   {
    "duration": 4,
    "start_time": "2023-01-16T12:00:26.996Z"
   },
   {
    "duration": 38,
    "start_time": "2023-01-16T12:00:27.332Z"
   },
   {
    "duration": 14,
    "start_time": "2023-01-16T12:00:27.926Z"
   },
   {
    "duration": 5,
    "start_time": "2023-01-16T12:00:28.530Z"
   },
   {
    "duration": 12,
    "start_time": "2023-01-16T12:00:37.333Z"
   },
   {
    "duration": 5,
    "start_time": "2023-01-16T12:00:44.066Z"
   },
   {
    "duration": 13,
    "start_time": "2023-01-16T12:00:46.760Z"
   },
   {
    "duration": 14,
    "start_time": "2023-01-16T12:00:55.908Z"
   },
   {
    "duration": 20,
    "start_time": "2023-01-16T12:01:03.614Z"
   },
   {
    "duration": 8,
    "start_time": "2023-01-16T12:01:07.123Z"
   },
   {
    "duration": 25,
    "start_time": "2023-01-16T12:01:14.207Z"
   },
   {
    "duration": 364,
    "start_time": "2023-01-16T12:01:25.705Z"
   },
   {
    "duration": 4,
    "start_time": "2023-01-16T12:01:41.766Z"
   },
   {
    "duration": 386,
    "start_time": "2023-01-16T12:02:05.916Z"
   },
   {
    "duration": 6,
    "start_time": "2023-01-16T12:02:33.067Z"
   },
   {
    "duration": 131,
    "start_time": "2023-01-16T12:02:42.195Z"
   },
   {
    "duration": 113,
    "start_time": "2023-01-16T12:02:47.475Z"
   },
   {
    "duration": 4,
    "start_time": "2023-01-16T12:03:01.940Z"
   },
   {
    "duration": 380,
    "start_time": "2023-01-16T12:03:06.054Z"
   },
   {
    "duration": 47,
    "start_time": "2023-01-16T12:04:19.397Z"
   },
   {
    "duration": 34,
    "start_time": "2023-01-16T12:04:37.359Z"
   },
   {
    "duration": 24,
    "start_time": "2023-01-16T12:07:46.832Z"
   },
   {
    "duration": 23,
    "start_time": "2023-01-16T12:07:50.728Z"
   },
   {
    "duration": 40,
    "start_time": "2023-01-16T12:07:54.862Z"
   },
   {
    "duration": 72,
    "start_time": "2023-01-16T12:08:10.644Z"
   },
   {
    "duration": 378,
    "start_time": "2023-01-16T12:08:16.176Z"
   },
   {
    "duration": 4,
    "start_time": "2023-01-16T12:09:01.671Z"
   },
   {
    "duration": 9,
    "start_time": "2023-01-16T12:09:01.961Z"
   },
   {
    "duration": 32,
    "start_time": "2023-01-16T12:09:02.293Z"
   },
   {
    "duration": 468,
    "start_time": "2023-01-16T12:09:20.352Z"
   },
   {
    "duration": 7,
    "start_time": "2023-01-16T13:17:41.526Z"
   },
   {
    "duration": 8,
    "start_time": "2023-01-16T13:17:51.386Z"
   },
   {
    "duration": 12,
    "start_time": "2023-01-16T13:31:04.536Z"
   },
   {
    "duration": 40,
    "start_time": "2023-01-16T13:44:09.230Z"
   },
   {
    "duration": 60,
    "start_time": "2023-01-16T13:52:48.981Z"
   },
   {
    "duration": 62,
    "start_time": "2023-01-16T13:52:52.364Z"
   },
   {
    "duration": 40,
    "start_time": "2023-01-16T13:52:56.497Z"
   },
   {
    "duration": 4,
    "start_time": "2023-01-16T13:53:05.867Z"
   },
   {
    "duration": 43,
    "start_time": "2023-01-16T13:53:06.059Z"
   },
   {
    "duration": 12,
    "start_time": "2023-01-16T13:53:06.216Z"
   },
   {
    "duration": 13,
    "start_time": "2023-01-16T13:53:06.412Z"
   },
   {
    "duration": 7,
    "start_time": "2023-01-16T13:53:06.585Z"
   },
   {
    "duration": 11,
    "start_time": "2023-01-16T13:53:06.967Z"
   },
   {
    "duration": 18,
    "start_time": "2023-01-16T13:53:07.130Z"
   },
   {
    "duration": 26,
    "start_time": "2023-01-16T13:53:07.485Z"
   },
   {
    "duration": 8,
    "start_time": "2023-01-16T13:53:07.716Z"
   },
   {
    "duration": 33,
    "start_time": "2023-01-16T13:53:07.929Z"
   },
   {
    "duration": 52,
    "start_time": "2023-01-16T13:53:08.685Z"
   },
   {
    "duration": 5,
    "start_time": "2023-01-16T13:53:09.089Z"
   },
   {
    "duration": 116,
    "start_time": "2023-01-16T13:53:10.608Z"
   },
   {
    "duration": 57,
    "start_time": "2023-01-16T13:53:10.832Z"
   },
   {
    "duration": 114,
    "start_time": "2023-01-16T13:54:46.057Z"
   },
   {
    "duration": 73,
    "start_time": "2023-01-16T13:55:03.114Z"
   },
   {
    "duration": 109,
    "start_time": "2023-01-16T13:55:03.398Z"
   },
   {
    "duration": 107,
    "start_time": "2023-01-16T13:55:45.165Z"
   },
   {
    "duration": 34,
    "start_time": "2023-01-16T13:56:24.211Z"
   },
   {
    "duration": 483,
    "start_time": "2023-01-16T13:57:10.094Z"
   },
   {
    "duration": 6,
    "start_time": "2023-01-16T13:59:33.049Z"
   },
   {
    "duration": 9,
    "start_time": "2023-01-16T14:00:12.751Z"
   },
   {
    "duration": 481,
    "start_time": "2023-01-16T14:00:35.059Z"
   },
   {
    "duration": 512,
    "start_time": "2023-01-16T14:03:27.108Z"
   },
   {
    "duration": 508,
    "start_time": "2023-01-16T14:04:14.531Z"
   },
   {
    "duration": 15,
    "start_time": "2023-01-16T14:05:10.146Z"
   },
   {
    "duration": 56,
    "start_time": "2023-01-16T14:05:10.643Z"
   },
   {
    "duration": 44,
    "start_time": "2023-01-16T14:05:38.279Z"
   },
   {
    "duration": 542,
    "start_time": "2023-01-16T14:05:46.294Z"
   },
   {
    "duration": 5,
    "start_time": "2023-01-16T14:53:00.287Z"
   },
   {
    "duration": 40,
    "start_time": "2023-01-16T14:53:00.846Z"
   },
   {
    "duration": 13,
    "start_time": "2023-01-16T14:53:01.394Z"
   },
   {
    "duration": 13,
    "start_time": "2023-01-16T14:53:02.154Z"
   },
   {
    "duration": 4,
    "start_time": "2023-01-16T14:53:02.684Z"
   },
   {
    "duration": 8,
    "start_time": "2023-01-16T14:53:03.174Z"
   },
   {
    "duration": 12,
    "start_time": "2023-01-16T14:53:03.677Z"
   },
   {
    "duration": 22,
    "start_time": "2023-01-16T14:53:04.976Z"
   },
   {
    "duration": 7,
    "start_time": "2023-01-16T14:53:05.560Z"
   },
   {
    "duration": 39,
    "start_time": "2023-01-16T14:53:06.128Z"
   },
   {
    "duration": 59,
    "start_time": "2023-01-16T14:53:08.280Z"
   },
   {
    "duration": 117,
    "start_time": "2023-01-16T14:53:09.261Z"
   },
   {
    "duration": 6,
    "start_time": "2023-01-16T14:53:10.556Z"
   },
   {
    "duration": 12,
    "start_time": "2023-01-16T14:53:15.898Z"
   },
   {
    "duration": 106,
    "start_time": "2023-01-16T14:53:17.041Z"
   },
   {
    "duration": 771,
    "start_time": "2023-01-16T14:53:20.902Z"
   },
   {
    "duration": 55,
    "start_time": "2023-01-16T14:54:18.894Z"
   },
   {
    "duration": 38,
    "start_time": "2023-01-16T14:54:57.848Z"
   },
   {
    "duration": 1034,
    "start_time": "2023-01-16T14:55:45.950Z"
   },
   {
    "duration": 38,
    "start_time": "2023-01-16T14:55:51.496Z"
   },
   {
    "duration": 34,
    "start_time": "2023-01-16T14:56:10.281Z"
   },
   {
    "duration": 21320,
    "start_time": "2023-01-16T14:56:45.496Z"
   },
   {
    "duration": 161,
    "start_time": "2023-01-16T15:00:59.560Z"
   },
   {
    "duration": 52,
    "start_time": "2023-01-16T15:08:15.700Z"
   },
   {
    "duration": 487,
    "start_time": "2023-01-16T15:10:30.646Z"
   },
   {
    "duration": 4,
    "start_time": "2023-01-16T15:10:44.510Z"
   },
   {
    "duration": 47,
    "start_time": "2023-01-16T15:10:44.711Z"
   },
   {
    "duration": 19,
    "start_time": "2023-01-16T15:10:44.940Z"
   },
   {
    "duration": 11,
    "start_time": "2023-01-16T15:10:45.157Z"
   },
   {
    "duration": 4,
    "start_time": "2023-01-16T15:10:45.448Z"
   },
   {
    "duration": 8,
    "start_time": "2023-01-16T15:10:45.761Z"
   },
   {
    "duration": 15,
    "start_time": "2023-01-16T15:10:46.034Z"
   },
   {
    "duration": 25,
    "start_time": "2023-01-16T15:10:46.280Z"
   },
   {
    "duration": 7,
    "start_time": "2023-01-16T15:10:46.462Z"
   },
   {
    "duration": 25,
    "start_time": "2023-01-16T15:10:46.689Z"
   },
   {
    "duration": 42,
    "start_time": "2023-01-16T15:10:47.482Z"
   },
   {
    "duration": 118,
    "start_time": "2023-01-16T15:10:47.756Z"
   },
   {
    "duration": 12,
    "start_time": "2023-01-16T15:10:48.909Z"
   },
   {
    "duration": 101,
    "start_time": "2023-01-16T15:10:49.224Z"
   },
   {
    "duration": 970,
    "start_time": "2023-01-16T15:10:50.139Z"
   },
   {
    "duration": 33,
    "start_time": "2023-01-16T15:10:51.111Z"
   },
   {
    "duration": 19062,
    "start_time": "2023-01-16T15:10:51.258Z"
   },
   {
    "duration": 199,
    "start_time": "2023-01-16T15:11:10.322Z"
   },
   {
    "duration": 33,
    "start_time": "2023-01-16T15:11:20.125Z"
   },
   {
    "duration": 35,
    "start_time": "2023-01-16T15:12:45.214Z"
   },
   {
    "duration": 27,
    "start_time": "2023-01-16T15:13:03.154Z"
   },
   {
    "duration": 220002,
    "start_time": "2023-01-16T15:13:52.153Z"
   },
   {
    "duration": 649,
    "start_time": "2023-01-16T15:20:16.516Z"
   },
   {
    "duration": 872,
    "start_time": "2023-01-16T15:26:15.504Z"
   },
   {
    "duration": 314,
    "start_time": "2023-01-16T15:26:17.412Z"
   },
   {
    "duration": 4,
    "start_time": "2023-01-16T15:26:26.013Z"
   },
   {
    "duration": 40,
    "start_time": "2023-01-16T15:26:26.295Z"
   },
   {
    "duration": 14,
    "start_time": "2023-01-16T15:26:26.794Z"
   },
   {
    "duration": 12,
    "start_time": "2023-01-16T15:26:26.997Z"
   },
   {
    "duration": 5,
    "start_time": "2023-01-16T15:26:27.235Z"
   },
   {
    "duration": 8,
    "start_time": "2023-01-16T15:26:27.476Z"
   },
   {
    "duration": 19,
    "start_time": "2023-01-16T15:26:27.709Z"
   },
   {
    "duration": 20,
    "start_time": "2023-01-16T15:26:27.965Z"
   },
   {
    "duration": 8,
    "start_time": "2023-01-16T15:26:28.184Z"
   },
   {
    "duration": 29,
    "start_time": "2023-01-16T15:26:28.400Z"
   },
   {
    "duration": 51,
    "start_time": "2023-01-16T15:26:29.117Z"
   },
   {
    "duration": 821,
    "start_time": "2023-01-16T15:26:29.370Z"
   },
   {
    "duration": 227,
    "start_time": "2023-01-16T15:26:30.193Z"
   },
   {
    "duration": 249,
    "start_time": "2023-01-16T15:26:30.422Z"
   },
   {
    "duration": 830,
    "start_time": "2023-01-16T15:32:22.276Z"
   },
   {
    "duration": 895,
    "start_time": "2023-01-16T15:33:54.670Z"
   },
   {
    "duration": 1001,
    "start_time": "2023-01-16T15:36:46.376Z"
   },
   {
    "duration": 1282,
    "start_time": "2023-01-16T15:37:11.043Z"
   },
   {
    "duration": 1206,
    "start_time": "2023-01-16T15:37:45.568Z"
   },
   {
    "duration": 6,
    "start_time": "2023-01-18T05:27:55.659Z"
   },
   {
    "duration": 1695,
    "start_time": "2023-01-19T09:37:18.609Z"
   },
   {
    "duration": 171,
    "start_time": "2023-01-19T09:37:20.306Z"
   },
   {
    "duration": 21,
    "start_time": "2023-01-19T09:37:20.479Z"
   },
   {
    "duration": 14,
    "start_time": "2023-01-19T09:37:21.622Z"
   },
   {
    "duration": 5,
    "start_time": "2023-01-19T09:37:22.532Z"
   },
   {
    "duration": 9,
    "start_time": "2023-01-19T09:37:23.439Z"
   },
   {
    "duration": 15,
    "start_time": "2023-01-19T09:37:23.907Z"
   },
   {
    "duration": 12,
    "start_time": "2023-01-19T09:37:26.467Z"
   },
   {
    "duration": 341,
    "start_time": "2023-01-19T09:37:28.811Z"
   },
   {
    "duration": 4,
    "start_time": "2023-01-19T09:38:02.938Z"
   },
   {
    "duration": 38,
    "start_time": "2023-01-19T09:38:03.480Z"
   },
   {
    "duration": 14,
    "start_time": "2023-01-19T09:38:03.702Z"
   },
   {
    "duration": 12,
    "start_time": "2023-01-19T09:38:04.123Z"
   },
   {
    "duration": 5,
    "start_time": "2023-01-19T09:38:04.570Z"
   },
   {
    "duration": 8,
    "start_time": "2023-01-19T09:38:04.962Z"
   },
   {
    "duration": 13,
    "start_time": "2023-01-19T09:38:05.179Z"
   },
   {
    "duration": 9,
    "start_time": "2023-01-19T09:38:06.821Z"
   },
   {
    "duration": 9,
    "start_time": "2023-01-19T09:38:38.962Z"
   },
   {
    "duration": 237,
    "start_time": "2023-01-19T09:40:17.521Z"
   },
   {
    "duration": 16,
    "start_time": "2023-01-19T09:40:33.095Z"
   },
   {
    "duration": 4,
    "start_time": "2023-01-19T09:40:40.741Z"
   },
   {
    "duration": 290,
    "start_time": "2023-01-19T09:41:53.775Z"
   },
   {
    "duration": 10,
    "start_time": "2023-01-19T09:42:15.510Z"
   },
   {
    "duration": 228,
    "start_time": "2023-01-19T09:42:25.491Z"
   },
   {
    "duration": 11,
    "start_time": "2023-01-19T09:45:27.534Z"
   },
   {
    "duration": 9,
    "start_time": "2023-01-19T09:45:33.340Z"
   },
   {
    "duration": 9,
    "start_time": "2023-01-19T09:45:36.771Z"
   },
   {
    "duration": 9,
    "start_time": "2023-01-19T09:45:39.709Z"
   },
   {
    "duration": 219,
    "start_time": "2023-01-19T09:45:45.280Z"
   },
   {
    "duration": 282,
    "start_time": "2023-01-19T09:46:26.091Z"
   },
   {
    "duration": 11,
    "start_time": "2023-01-19T10:05:35.111Z"
   },
   {
    "duration": 9,
    "start_time": "2023-01-19T10:05:41.730Z"
   },
   {
    "duration": 17,
    "start_time": "2023-01-19T10:05:42.173Z"
   },
   {
    "duration": 7,
    "start_time": "2023-01-19T10:05:51.694Z"
   },
   {
    "duration": 7,
    "start_time": "2023-01-19T10:05:52.369Z"
   },
   {
    "duration": 13,
    "start_time": "2023-01-19T10:08:02.627Z"
   },
   {
    "duration": 11,
    "start_time": "2023-01-19T10:08:06.265Z"
   },
   {
    "duration": 4,
    "start_time": "2023-01-19T10:25:30.339Z"
   },
   {
    "duration": 38,
    "start_time": "2023-01-19T10:25:31.334Z"
   },
   {
    "duration": 13,
    "start_time": "2023-01-19T10:25:31.616Z"
   },
   {
    "duration": 13,
    "start_time": "2023-01-19T10:25:31.988Z"
   },
   {
    "duration": 5,
    "start_time": "2023-01-19T10:25:33.003Z"
   },
   {
    "duration": 7,
    "start_time": "2023-01-19T10:25:33.776Z"
   },
   {
    "duration": 15,
    "start_time": "2023-01-19T10:25:34.146Z"
   },
   {
    "duration": 1595,
    "start_time": "2023-01-19T11:26:03.145Z"
   },
   {
    "duration": 81,
    "start_time": "2023-01-19T11:26:06.700Z"
   },
   {
    "duration": 20,
    "start_time": "2023-01-19T11:26:07.306Z"
   },
   {
    "duration": 14,
    "start_time": "2023-01-19T11:26:07.790Z"
   },
   {
    "duration": 5,
    "start_time": "2023-01-19T11:26:08.482Z"
   },
   {
    "duration": 8,
    "start_time": "2023-01-19T11:26:09.148Z"
   },
   {
    "duration": 13,
    "start_time": "2023-01-19T11:26:09.453Z"
   },
   {
    "duration": 11,
    "start_time": "2023-01-19T11:26:10.800Z"
   },
   {
    "duration": 130,
    "start_time": "2023-01-19T11:26:12.574Z"
   },
   {
    "duration": 7,
    "start_time": "2023-01-19T12:00:05.651Z"
   },
   {
    "duration": 7,
    "start_time": "2023-01-19T12:00:52.271Z"
   },
   {
    "duration": 4,
    "start_time": "2023-01-19T12:00:57.953Z"
   },
   {
    "duration": 7,
    "start_time": "2023-01-19T12:01:07.349Z"
   },
   {
    "duration": 5,
    "start_time": "2023-01-19T12:01:07.670Z"
   },
   {
    "duration": 4,
    "start_time": "2023-01-19T12:01:26.589Z"
   },
   {
    "duration": 8,
    "start_time": "2023-01-19T12:01:39.209Z"
   },
   {
    "duration": 21,
    "start_time": "2023-01-19T12:01:39.997Z"
   },
   {
    "duration": 7,
    "start_time": "2023-01-19T12:03:07.249Z"
   },
   {
    "duration": 8,
    "start_time": "2023-01-19T12:03:11.496Z"
   },
   {
    "duration": 12,
    "start_time": "2023-01-19T12:03:17.690Z"
   },
   {
    "duration": 11,
    "start_time": "2023-01-19T12:03:31.119Z"
   },
   {
    "duration": 287,
    "start_time": "2023-01-19T12:03:31.134Z"
   },
   {
    "duration": 11,
    "start_time": "2023-01-19T12:03:32.248Z"
   },
   {
    "duration": 6,
    "start_time": "2023-01-19T12:03:46.891Z"
   },
   {
    "duration": 8,
    "start_time": "2023-01-19T12:03:47.473Z"
   },
   {
    "duration": 13,
    "start_time": "2023-01-19T12:03:47.992Z"
   },
   {
    "duration": 22,
    "start_time": "2023-01-19T12:04:40.393Z"
   },
   {
    "duration": 12,
    "start_time": "2023-01-19T12:05:06.895Z"
   },
   {
    "duration": 7,
    "start_time": "2023-01-19T12:05:51.513Z"
   },
   {
    "duration": 14,
    "start_time": "2023-01-19T12:06:12.504Z"
   },
   {
    "duration": 13,
    "start_time": "2023-01-19T12:06:26.740Z"
   },
   {
    "duration": 3,
    "start_time": "2023-01-19T12:06:33.882Z"
   },
   {
    "duration": 44,
    "start_time": "2023-01-19T12:06:34.307Z"
   },
   {
    "duration": 14,
    "start_time": "2023-01-19T12:06:34.809Z"
   },
   {
    "duration": 12,
    "start_time": "2023-01-19T12:06:34.881Z"
   },
   {
    "duration": 8,
    "start_time": "2023-01-19T12:06:35.047Z"
   },
   {
    "duration": 7,
    "start_time": "2023-01-19T12:06:35.576Z"
   },
   {
    "duration": 12,
    "start_time": "2023-01-19T12:06:35.801Z"
   },
   {
    "duration": 10,
    "start_time": "2023-01-19T12:06:38.152Z"
   },
   {
    "duration": 7,
    "start_time": "2023-01-19T12:06:39.551Z"
   },
   {
    "duration": 10,
    "start_time": "2023-01-19T12:06:45.095Z"
   },
   {
    "duration": 40,
    "start_time": "2023-01-19T12:10:44.573Z"
   },
   {
    "duration": 16,
    "start_time": "2023-01-19T12:10:44.950Z"
   },
   {
    "duration": 27,
    "start_time": "2023-01-19T12:10:45.720Z"
   },
   {
    "duration": 5,
    "start_time": "2023-01-19T12:10:46.415Z"
   },
   {
    "duration": 9,
    "start_time": "2023-01-19T12:10:47.099Z"
   },
   {
    "duration": 19,
    "start_time": "2023-01-19T12:10:47.392Z"
   },
   {
    "duration": 12,
    "start_time": "2023-01-19T12:10:48.755Z"
   },
   {
    "duration": 24,
    "start_time": "2023-01-19T12:10:49.459Z"
   },
   {
    "duration": 11,
    "start_time": "2023-01-19T12:10:51.351Z"
   },
   {
    "duration": 24,
    "start_time": "2023-01-19T12:11:58.420Z"
   },
   {
    "duration": 35,
    "start_time": "2023-01-19T12:12:15.253Z"
   },
   {
    "duration": 5,
    "start_time": "2023-01-19T12:12:23.542Z"
   },
   {
    "duration": 12,
    "start_time": "2023-01-19T12:12:28.297Z"
   },
   {
    "duration": 8,
    "start_time": "2023-01-19T12:12:33.287Z"
   },
   {
    "duration": 45,
    "start_time": "2023-01-19T12:12:36.453Z"
   },
   {
    "duration": 4,
    "start_time": "2023-01-19T12:14:18.494Z"
   },
   {
    "duration": 35,
    "start_time": "2023-01-19T12:14:19.070Z"
   },
   {
    "duration": 13,
    "start_time": "2023-01-19T12:14:19.150Z"
   },
   {
    "duration": 13,
    "start_time": "2023-01-19T12:14:19.250Z"
   },
   {
    "duration": 5,
    "start_time": "2023-01-19T12:14:19.399Z"
   },
   {
    "duration": 8,
    "start_time": "2023-01-19T12:14:19.579Z"
   },
   {
    "duration": 17,
    "start_time": "2023-01-19T12:14:19.658Z"
   },
   {
    "duration": 13,
    "start_time": "2023-01-19T12:14:21.153Z"
   },
   {
    "duration": 21,
    "start_time": "2023-01-19T12:14:23.571Z"
   },
   {
    "duration": 17,
    "start_time": "2023-01-19T12:14:25.317Z"
   },
   {
    "duration": 6,
    "start_time": "2023-01-19T12:18:25.658Z"
   },
   {
    "duration": 42,
    "start_time": "2023-01-19T12:18:26.161Z"
   },
   {
    "duration": 15,
    "start_time": "2023-01-19T12:18:26.663Z"
   },
   {
    "duration": 13,
    "start_time": "2023-01-19T12:18:26.755Z"
   },
   {
    "duration": 5,
    "start_time": "2023-01-19T12:18:26.898Z"
   },
   {
    "duration": 9,
    "start_time": "2023-01-19T12:18:27.497Z"
   },
   {
    "duration": 15,
    "start_time": "2023-01-19T12:18:27.907Z"
   },
   {
    "duration": 10,
    "start_time": "2023-01-19T12:18:30.254Z"
   },
   {
    "duration": 7,
    "start_time": "2023-01-19T12:18:43.459Z"
   },
   {
    "duration": 39,
    "start_time": "2023-01-19T12:19:26.619Z"
   },
   {
    "duration": 29,
    "start_time": "2023-01-19T12:22:21.919Z"
   },
   {
    "duration": 12,
    "start_time": "2023-01-19T12:23:15.299Z"
   },
   {
    "duration": 4,
    "start_time": "2023-01-19T12:23:21.317Z"
   },
   {
    "duration": 4,
    "start_time": "2023-01-19T12:23:25.858Z"
   },
   {
    "duration": 12,
    "start_time": "2023-01-19T12:23:34.681Z"
   },
   {
    "duration": 27,
    "start_time": "2023-01-19T12:24:12.153Z"
   },
   {
    "duration": 11,
    "start_time": "2023-01-19T12:25:07.103Z"
   },
   {
    "duration": 22,
    "start_time": "2023-01-19T12:25:13.648Z"
   },
   {
    "duration": 23,
    "start_time": "2023-01-19T12:25:32.053Z"
   },
   {
    "duration": 14,
    "start_time": "2023-01-19T12:29:12.075Z"
   },
   {
    "duration": 4,
    "start_time": "2023-01-19T12:37:41.846Z"
   },
   {
    "duration": 8,
    "start_time": "2023-01-19T13:16:00.920Z"
   },
   {
    "duration": 23,
    "start_time": "2023-01-19T13:16:04.950Z"
   },
   {
    "duration": 17,
    "start_time": "2023-01-19T13:17:17.846Z"
   },
   {
    "duration": 12,
    "start_time": "2023-01-19T13:17:30.802Z"
   },
   {
    "duration": 13,
    "start_time": "2023-01-19T13:33:35.645Z"
   },
   {
    "duration": 4,
    "start_time": "2023-01-19T13:33:43.702Z"
   },
   {
    "duration": 36,
    "start_time": "2023-01-19T13:33:44.278Z"
   },
   {
    "duration": 13,
    "start_time": "2023-01-19T13:33:44.374Z"
   },
   {
    "duration": 13,
    "start_time": "2023-01-19T13:33:44.465Z"
   },
   {
    "duration": 4,
    "start_time": "2023-01-19T13:33:44.608Z"
   },
   {
    "duration": 7,
    "start_time": "2023-01-19T13:33:44.776Z"
   },
   {
    "duration": 12,
    "start_time": "2023-01-19T13:33:44.864Z"
   },
   {
    "duration": 9,
    "start_time": "2023-01-19T13:33:48.512Z"
   },
   {
    "duration": 3,
    "start_time": "2023-01-19T13:35:27.766Z"
   },
   {
    "duration": 14,
    "start_time": "2023-01-19T13:36:22.448Z"
   },
   {
    "duration": 17,
    "start_time": "2023-01-19T13:36:40.264Z"
   },
   {
    "duration": 14,
    "start_time": "2023-01-19T13:37:10.548Z"
   },
   {
    "duration": 3,
    "start_time": "2023-01-19T13:38:31.844Z"
   },
   {
    "duration": 13,
    "start_time": "2023-01-19T13:38:33.744Z"
   },
   {
    "duration": 14,
    "start_time": "2023-01-19T13:39:27.600Z"
   },
   {
    "duration": 31,
    "start_time": "2023-01-19T13:39:47.445Z"
   },
   {
    "duration": 4,
    "start_time": "2023-01-19T13:40:35.101Z"
   },
   {
    "duration": 33,
    "start_time": "2023-01-19T13:40:35.712Z"
   },
   {
    "duration": 3,
    "start_time": "2023-01-19T13:40:41.708Z"
   },
   {
    "duration": 38,
    "start_time": "2023-01-19T13:40:42.288Z"
   },
   {
    "duration": 12,
    "start_time": "2023-01-19T13:40:42.363Z"
   },
   {
    "duration": 12,
    "start_time": "2023-01-19T13:40:42.448Z"
   },
   {
    "duration": 4,
    "start_time": "2023-01-19T13:40:42.612Z"
   },
   {
    "duration": 7,
    "start_time": "2023-01-19T13:40:42.778Z"
   },
   {
    "duration": 13,
    "start_time": "2023-01-19T13:40:42.860Z"
   },
   {
    "duration": 8,
    "start_time": "2023-01-19T13:40:43.287Z"
   },
   {
    "duration": 3,
    "start_time": "2023-01-19T13:40:47.011Z"
   },
   {
    "duration": 31,
    "start_time": "2023-01-19T13:40:48.511Z"
   },
   {
    "duration": 87,
    "start_time": "2023-01-19T13:41:41.977Z"
   },
   {
    "duration": 37,
    "start_time": "2023-01-19T13:42:06.299Z"
   },
   {
    "duration": 4,
    "start_time": "2023-01-19T13:43:31.011Z"
   },
   {
    "duration": 36,
    "start_time": "2023-01-19T13:43:31.467Z"
   },
   {
    "duration": 13,
    "start_time": "2023-01-19T13:43:31.548Z"
   },
   {
    "duration": 13,
    "start_time": "2023-01-19T13:43:31.634Z"
   },
   {
    "duration": 4,
    "start_time": "2023-01-19T13:43:31.793Z"
   },
   {
    "duration": 8,
    "start_time": "2023-01-19T13:43:31.961Z"
   },
   {
    "duration": 15,
    "start_time": "2023-01-19T13:43:32.048Z"
   },
   {
    "duration": 9,
    "start_time": "2023-01-19T13:43:32.471Z"
   },
   {
    "duration": 1696,
    "start_time": "2023-01-19T15:46:08.946Z"
   },
   {
    "duration": 94,
    "start_time": "2023-01-19T15:46:10.644Z"
   },
   {
    "duration": 17,
    "start_time": "2023-01-19T15:46:10.739Z"
   },
   {
    "duration": 21,
    "start_time": "2023-01-19T15:46:10.759Z"
   },
   {
    "duration": 6,
    "start_time": "2023-01-19T15:46:10.782Z"
   },
   {
    "duration": 8,
    "start_time": "2023-01-19T15:46:12.432Z"
   },
   {
    "duration": 12,
    "start_time": "2023-01-19T15:46:12.823Z"
   },
   {
    "duration": 10,
    "start_time": "2023-01-19T15:46:17.761Z"
   },
   {
    "duration": 124,
    "start_time": "2023-01-19T15:46:34.287Z"
   },
   {
    "duration": 20,
    "start_time": "2023-01-19T15:46:59.878Z"
   },
   {
    "duration": 19,
    "start_time": "2023-01-19T15:49:39.143Z"
   },
   {
    "duration": 28,
    "start_time": "2023-01-19T15:53:37.941Z"
   },
   {
    "duration": 33,
    "start_time": "2023-01-19T15:56:39.784Z"
   },
   {
    "duration": 23,
    "start_time": "2023-01-19T15:57:05.814Z"
   },
   {
    "duration": 11,
    "start_time": "2023-01-19T16:17:28.247Z"
   },
   {
    "duration": 716,
    "start_time": "2023-01-19T16:18:06.944Z"
   },
   {
    "duration": 29,
    "start_time": "2023-01-19T16:19:07.852Z"
   },
   {
    "duration": 37,
    "start_time": "2023-01-19T16:20:18.769Z"
   },
   {
    "duration": 12392,
    "start_time": "2023-01-19T16:22:38.513Z"
   },
   {
    "duration": 6250,
    "start_time": "2023-01-19T16:23:44.655Z"
   },
   {
    "duration": 12,
    "start_time": "2023-01-19T16:25:44.581Z"
   },
   {
    "duration": 11292,
    "start_time": "2023-01-19T16:26:17.817Z"
   },
   {
    "duration": 30,
    "start_time": "2023-01-19T16:26:45.176Z"
   },
   {
    "duration": 128961,
    "start_time": "2023-01-19T16:27:55.285Z"
   },
   {
    "duration": 513,
    "start_time": "2023-01-19T16:30:33.757Z"
   },
   {
    "duration": 49,
    "start_time": "2023-01-19T17:27:46.368Z"
   },
   {
    "duration": 30,
    "start_time": "2023-01-19T17:28:30.246Z"
   },
   {
    "duration": 652,
    "start_time": "2023-01-19T17:30:28.982Z"
   },
   {
    "duration": 13,
    "start_time": "2023-01-19T17:32:57.137Z"
   },
   {
    "duration": 12,
    "start_time": "2023-01-19T17:33:11.248Z"
   },
   {
    "duration": 179,
    "start_time": "2023-01-19T17:33:12.573Z"
   },
   {
    "duration": 944,
    "start_time": "2023-01-19T17:33:14.062Z"
   },
   {
    "duration": 28391,
    "start_time": "2023-01-19T17:34:45.765Z"
   },
   {
    "duration": 175211,
    "start_time": "2023-01-19T17:35:19.411Z"
   },
   {
    "duration": 75,
    "start_time": "2023-01-19T17:38:38.685Z"
   },
   {
    "duration": 501,
    "start_time": "2023-01-19T17:38:45.561Z"
   },
   {
    "duration": 526,
    "start_time": "2023-01-19T17:41:14.013Z"
   },
   {
    "duration": 526,
    "start_time": "2023-01-19T17:42:15.641Z"
   },
   {
    "duration": 4,
    "start_time": "2023-01-19T17:43:58.454Z"
   },
   {
    "duration": 35,
    "start_time": "2023-01-19T17:43:59.392Z"
   },
   {
    "duration": 13,
    "start_time": "2023-01-19T17:43:59.776Z"
   },
   {
    "duration": 13,
    "start_time": "2023-01-19T17:44:00.095Z"
   },
   {
    "duration": 5,
    "start_time": "2023-01-19T17:44:00.841Z"
   },
   {
    "duration": 8,
    "start_time": "2023-01-19T17:44:01.526Z"
   },
   {
    "duration": 14,
    "start_time": "2023-01-19T17:44:01.938Z"
   },
   {
    "duration": 8,
    "start_time": "2023-01-19T17:44:06.751Z"
   },
   {
    "duration": 30,
    "start_time": "2023-01-19T17:44:14.832Z"
   },
   {
    "duration": 8,
    "start_time": "2023-01-19T17:45:12.498Z"
   },
   {
    "duration": 26,
    "start_time": "2023-01-19T17:45:14.079Z"
   },
   {
    "duration": 21,
    "start_time": "2023-01-19T17:45:25.690Z"
   },
   {
    "duration": 709,
    "start_time": "2023-01-19T17:45:42.249Z"
   },
   {
    "duration": 39,
    "start_time": "2023-01-19T17:45:42.960Z"
   },
   {
    "duration": 15193,
    "start_time": "2023-01-19T17:45:43.810Z"
   },
   {
    "duration": 202,
    "start_time": "2023-01-19T17:45:59.005Z"
   },
   {
    "duration": 79,
    "start_time": "2023-01-19T17:48:12.720Z"
   },
   {
    "duration": 10783,
    "start_time": "2023-01-19T17:48:15.917Z"
   },
   {
    "duration": 97,
    "start_time": "2023-01-19T17:48:26.703Z"
   },
   {
    "duration": 128780,
    "start_time": "2023-01-19T17:48:47.605Z"
   },
   {
    "duration": 54,
    "start_time": "2023-01-19T17:50:56.389Z"
   },
   {
    "duration": 577,
    "start_time": "2023-01-19T17:51:20.628Z"
   },
   {
    "duration": 452,
    "start_time": "2023-01-19T17:52:12.926Z"
   },
   {
    "duration": 178884,
    "start_time": "2023-01-19T17:52:53.040Z"
   },
   {
    "duration": 68,
    "start_time": "2023-01-19T17:57:06.515Z"
   },
   {
    "duration": 538,
    "start_time": "2023-01-19T17:57:17.760Z"
   },
   {
    "duration": 45,
    "start_time": "2023-01-19T17:57:21.519Z"
   },
   {
    "duration": 15,
    "start_time": "2023-01-19T17:57:52.558Z"
   },
   {
    "duration": 12,
    "start_time": "2023-01-19T17:57:59.666Z"
   },
   {
    "duration": 5,
    "start_time": "2023-01-19T17:58:25.837Z"
   },
   {
    "duration": 13,
    "start_time": "2023-01-19T17:58:38.684Z"
   },
   {
    "duration": 4,
    "start_time": "2023-01-19T18:00:15.465Z"
   },
   {
    "duration": 6,
    "start_time": "2023-01-19T18:00:51.500Z"
   },
   {
    "duration": 5,
    "start_time": "2023-01-19T18:01:04.037Z"
   },
   {
    "duration": 37,
    "start_time": "2023-01-19T18:01:08.512Z"
   },
   {
    "duration": 147,
    "start_time": "2023-01-19T18:01:16.237Z"
   },
   {
    "duration": 5,
    "start_time": "2023-01-19T18:04:34.050Z"
   },
   {
    "duration": 34,
    "start_time": "2023-01-19T18:04:36.757Z"
   },
   {
    "duration": 18,
    "start_time": "2023-01-19T18:04:37.047Z"
   },
   {
    "duration": 13,
    "start_time": "2023-01-19T18:04:37.417Z"
   },
   {
    "duration": 4,
    "start_time": "2023-01-19T18:04:38.062Z"
   },
   {
    "duration": 7,
    "start_time": "2023-01-19T18:04:38.785Z"
   },
   {
    "duration": 13,
    "start_time": "2023-01-19T18:04:39.044Z"
   },
   {
    "duration": 9,
    "start_time": "2023-01-19T18:04:40.257Z"
   },
   {
    "duration": 24,
    "start_time": "2023-01-19T18:04:41.446Z"
   },
   {
    "duration": 26,
    "start_time": "2023-01-19T18:04:43.429Z"
   },
   {
    "duration": 128043,
    "start_time": "2023-01-19T18:04:57.235Z"
   },
   {
    "duration": 60,
    "start_time": "2023-01-19T18:07:05.280Z"
   },
   {
    "duration": 707,
    "start_time": "2023-01-19T18:07:05.343Z"
   },
   {
    "duration": 161,
    "start_time": "2023-01-19T18:07:44.268Z"
   },
   {
    "duration": 42,
    "start_time": "2023-01-19T18:08:28.521Z"
   },
   {
    "duration": 35,
    "start_time": "2023-01-19T18:08:45.696Z"
   },
   {
    "duration": 39,
    "start_time": "2023-01-19T18:08:57.070Z"
   },
   {
    "duration": 34,
    "start_time": "2023-01-19T18:09:05.766Z"
   },
   {
    "duration": 4,
    "start_time": "2023-01-19T18:39:14.013Z"
   },
   {
    "duration": 35,
    "start_time": "2023-01-19T18:39:15.033Z"
   },
   {
    "duration": 12,
    "start_time": "2023-01-19T18:39:15.251Z"
   },
   {
    "duration": 13,
    "start_time": "2023-01-19T18:39:15.429Z"
   },
   {
    "duration": 5,
    "start_time": "2023-01-19T18:39:16.083Z"
   },
   {
    "duration": 7,
    "start_time": "2023-01-19T18:39:16.906Z"
   },
   {
    "duration": 14,
    "start_time": "2023-01-19T18:39:17.330Z"
   },
   {
    "duration": 13,
    "start_time": "2023-01-19T18:39:20.075Z"
   },
   {
    "duration": 13,
    "start_time": "2023-01-19T18:39:50.748Z"
   },
   {
    "duration": 6,
    "start_time": "2023-01-19T18:40:14.421Z"
   },
   {
    "duration": 13,
    "start_time": "2023-01-19T18:41:34.631Z"
   },
   {
    "duration": 26,
    "start_time": "2023-01-19T18:41:43.662Z"
   },
   {
    "duration": 23,
    "start_time": "2023-01-19T18:41:47.915Z"
   },
   {
    "duration": 30,
    "start_time": "2023-01-19T18:42:23.635Z"
   },
   {
    "duration": 31,
    "start_time": "2023-01-19T18:42:39.855Z"
   },
   {
    "duration": 19,
    "start_time": "2023-01-19T18:44:20.834Z"
   },
   {
    "duration": 3,
    "start_time": "2023-01-19T18:44:29.208Z"
   },
   {
    "duration": 35,
    "start_time": "2023-01-19T18:44:29.375Z"
   },
   {
    "duration": 11,
    "start_time": "2023-01-19T18:44:29.457Z"
   },
   {
    "duration": 12,
    "start_time": "2023-01-19T18:44:29.542Z"
   },
   {
    "duration": 3,
    "start_time": "2023-01-19T18:44:30.022Z"
   },
   {
    "duration": 8,
    "start_time": "2023-01-19T18:44:30.456Z"
   },
   {
    "duration": 12,
    "start_time": "2023-01-19T18:44:30.673Z"
   },
   {
    "duration": 14,
    "start_time": "2023-01-19T18:44:31.869Z"
   },
   {
    "duration": 19,
    "start_time": "2023-01-19T18:44:32.700Z"
   },
   {
    "duration": 24,
    "start_time": "2023-01-19T18:44:34.835Z"
   },
   {
    "duration": 27,
    "start_time": "2023-01-19T18:45:01.046Z"
   },
   {
    "duration": 685,
    "start_time": "2023-01-19T18:45:06.238Z"
   },
   {
    "duration": 36,
    "start_time": "2023-01-19T18:45:06.946Z"
   },
   {
    "duration": 11580,
    "start_time": "2023-01-19T18:45:08.026Z"
   },
   {
    "duration": 0,
    "start_time": "2023-01-19T18:45:19.608Z"
   },
   {
    "duration": 24,
    "start_time": "2023-01-19T18:45:33.294Z"
   },
   {
    "duration": 27,
    "start_time": "2023-01-19T18:45:34.915Z"
   },
   {
    "duration": 707,
    "start_time": "2023-01-19T18:45:36.583Z"
   },
   {
    "duration": 59,
    "start_time": "2023-01-19T18:46:05.674Z"
   },
   {
    "duration": 147,
    "start_time": "2023-01-19T18:46:11.346Z"
   },
   {
    "duration": 743,
    "start_time": "2023-01-19T18:47:08.612Z"
   },
   {
    "duration": 38,
    "start_time": "2023-01-19T18:47:15.723Z"
   },
   {
    "duration": 93,
    "start_time": "2023-01-19T18:47:45.425Z"
   },
   {
    "duration": 96,
    "start_time": "2023-01-19T18:49:13.068Z"
   },
   {
    "duration": 659,
    "start_time": "2023-01-19T18:49:19.461Z"
   },
   {
    "duration": 114,
    "start_time": "2023-01-19T18:49:21.541Z"
   },
   {
    "duration": 111,
    "start_time": "2023-01-19T18:49:58.971Z"
   },
   {
    "duration": 187,
    "start_time": "2023-01-19T18:50:02.083Z"
   },
   {
    "duration": 121,
    "start_time": "2023-01-19T18:50:20.430Z"
   },
   {
    "duration": 4,
    "start_time": "2023-01-19T18:50:36.908Z"
   },
   {
    "duration": 4,
    "start_time": "2023-01-19T18:51:26.076Z"
   },
   {
    "duration": 36,
    "start_time": "2023-01-19T18:51:26.409Z"
   },
   {
    "duration": 17,
    "start_time": "2023-01-19T18:51:26.591Z"
   },
   {
    "duration": 14,
    "start_time": "2023-01-19T18:51:26.763Z"
   },
   {
    "duration": 5,
    "start_time": "2023-01-19T18:51:27.090Z"
   },
   {
    "duration": 8,
    "start_time": "2023-01-19T18:51:27.469Z"
   },
   {
    "duration": 12,
    "start_time": "2023-01-19T18:51:27.742Z"
   },
   {
    "duration": 13,
    "start_time": "2023-01-19T18:51:29.114Z"
   },
   {
    "duration": 21,
    "start_time": "2023-01-19T18:51:30.288Z"
   },
   {
    "duration": 26,
    "start_time": "2023-01-19T18:51:35.531Z"
   },
   {
    "duration": 615,
    "start_time": "2023-01-19T18:51:44.634Z"
   },
   {
    "duration": 29,
    "start_time": "2023-01-19T18:51:46.636Z"
   },
   {
    "duration": 12232,
    "start_time": "2023-01-19T18:51:48.576Z"
   },
   {
    "duration": 11,
    "start_time": "2023-01-19T18:52:05.217Z"
   },
   {
    "duration": 712,
    "start_time": "2023-01-19T18:52:22.808Z"
   },
   {
    "duration": 238,
    "start_time": "2023-01-19T18:52:36.982Z"
   },
   {
    "duration": 13,
    "start_time": "2023-01-19T18:53:11.968Z"
   },
   {
    "duration": 91,
    "start_time": "2023-01-19T18:53:12.734Z"
   },
   {
    "duration": 936,
    "start_time": "2023-01-19T18:53:13.550Z"
   },
   {
    "duration": 36,
    "start_time": "2023-01-19T18:53:30.374Z"
   },
   {
    "duration": 25,
    "start_time": "2023-01-19T18:54:54.065Z"
   },
   {
    "duration": 24,
    "start_time": "2023-01-19T18:54:58.663Z"
   },
   {
    "duration": 21,
    "start_time": "2023-01-19T18:55:54.916Z"
   },
   {
    "duration": 21,
    "start_time": "2023-01-19T18:56:02.241Z"
   },
   {
    "duration": 26,
    "start_time": "2023-01-19T18:56:10.854Z"
   },
   {
    "duration": 21,
    "start_time": "2023-01-19T18:56:26.705Z"
   },
   {
    "duration": 28,
    "start_time": "2023-01-19T18:57:37.141Z"
   },
   {
    "duration": 21,
    "start_time": "2023-01-19T18:57:58.611Z"
   },
   {
    "duration": 5,
    "start_time": "2023-01-19T18:58:24.471Z"
   },
   {
    "duration": 36,
    "start_time": "2023-01-19T18:58:25.048Z"
   },
   {
    "duration": 12,
    "start_time": "2023-01-19T18:58:25.141Z"
   },
   {
    "duration": 13,
    "start_time": "2023-01-19T18:58:25.211Z"
   },
   {
    "duration": 4,
    "start_time": "2023-01-19T18:58:25.381Z"
   },
   {
    "duration": 9,
    "start_time": "2023-01-19T18:58:25.550Z"
   },
   {
    "duration": 13,
    "start_time": "2023-01-19T18:58:25.637Z"
   },
   {
    "duration": 10,
    "start_time": "2023-01-19T18:58:25.969Z"
   },
   {
    "duration": 21,
    "start_time": "2023-01-19T18:58:27.110Z"
   },
   {
    "duration": 22,
    "start_time": "2023-01-19T18:58:28.195Z"
   },
   {
    "duration": 707,
    "start_time": "2023-01-19T18:58:42.024Z"
   },
   {
    "duration": 7,
    "start_time": "2023-01-19T18:59:25.843Z"
   },
   {
    "duration": 128,
    "start_time": "2023-01-19T18:59:48.393Z"
   },
   {
    "duration": 4,
    "start_time": "2023-01-19T19:01:20.410Z"
   },
   {
    "duration": 35,
    "start_time": "2023-01-19T19:01:20.578Z"
   },
   {
    "duration": 12,
    "start_time": "2023-01-19T19:01:20.664Z"
   },
   {
    "duration": 13,
    "start_time": "2023-01-19T19:01:20.741Z"
   },
   {
    "duration": 4,
    "start_time": "2023-01-19T19:01:20.909Z"
   },
   {
    "duration": 7,
    "start_time": "2023-01-19T19:01:21.076Z"
   },
   {
    "duration": 13,
    "start_time": "2023-01-19T19:01:21.166Z"
   },
   {
    "duration": 8,
    "start_time": "2023-01-19T19:01:21.493Z"
   },
   {
    "duration": 19,
    "start_time": "2023-01-19T19:01:23.708Z"
   },
   {
    "duration": 24,
    "start_time": "2023-01-19T19:01:23.728Z"
   },
   {
    "duration": 729,
    "start_time": "2023-01-19T19:01:27.176Z"
   },
   {
    "duration": 8,
    "start_time": "2023-01-19T19:01:27.907Z"
   },
   {
    "duration": 11469,
    "start_time": "2023-01-19T19:01:28.331Z"
   },
   {
    "duration": 99,
    "start_time": "2023-01-19T19:01:39.803Z"
   },
   {
    "duration": 123497,
    "start_time": "2023-01-19T19:01:39.999Z"
   },
   {
    "duration": 65,
    "start_time": "2023-01-19T19:03:43.500Z"
   },
   {
    "duration": 182,
    "start_time": "2023-01-19T19:03:43.567Z"
   },
   {
    "duration": 35,
    "start_time": "2023-01-19T19:03:43.752Z"
   },
   {
    "duration": 15,
    "start_time": "2023-01-19T19:03:43.800Z"
   },
   {
    "duration": 0,
    "start_time": "2023-01-19T19:03:43.817Z"
   },
   {
    "duration": 0,
    "start_time": "2023-01-19T19:03:43.819Z"
   },
   {
    "duration": 0,
    "start_time": "2023-01-19T19:03:43.821Z"
   },
   {
    "duration": 0,
    "start_time": "2023-01-19T19:03:43.822Z"
   },
   {
    "duration": 0,
    "start_time": "2023-01-19T19:03:43.824Z"
   },
   {
    "duration": 4,
    "start_time": "2023-01-20T03:50:59.735Z"
   },
   {
    "duration": 4,
    "start_time": "2023-01-20T03:52:04.992Z"
   },
   {
    "duration": 35,
    "start_time": "2023-01-20T03:52:06.508Z"
   },
   {
    "duration": 14,
    "start_time": "2023-01-20T03:52:08.906Z"
   },
   {
    "duration": 12,
    "start_time": "2023-01-20T03:52:09.533Z"
   },
   {
    "duration": 4,
    "start_time": "2023-01-20T03:52:11.124Z"
   },
   {
    "duration": 7,
    "start_time": "2023-01-20T03:52:15.932Z"
   },
   {
    "duration": 12,
    "start_time": "2023-01-20T03:52:16.512Z"
   },
   {
    "duration": 12,
    "start_time": "2023-01-20T03:52:22.488Z"
   },
   {
    "duration": 18,
    "start_time": "2023-01-20T03:55:26.128Z"
   },
   {
    "duration": 18,
    "start_time": "2023-01-20T03:55:46.088Z"
   },
   {
    "duration": 21,
    "start_time": "2023-01-20T03:56:02.584Z"
   },
   {
    "duration": 154,
    "start_time": "2023-01-20T03:56:16.613Z"
   },
   {
    "duration": 149,
    "start_time": "2023-01-20T03:57:32.868Z"
   },
   {
    "duration": 161,
    "start_time": "2023-01-20T03:57:39.822Z"
   },
   {
    "duration": 9,
    "start_time": "2023-01-20T03:58:08.327Z"
   },
   {
    "duration": 4,
    "start_time": "2023-01-20T03:58:16.179Z"
   },
   {
    "duration": 3,
    "start_time": "2023-01-20T03:58:33.573Z"
   },
   {
    "duration": 5,
    "start_time": "2023-01-20T03:58:52.373Z"
   },
   {
    "duration": 5,
    "start_time": "2023-01-20T03:59:10.345Z"
   },
   {
    "duration": 3,
    "start_time": "2023-01-20T03:59:16.769Z"
   },
   {
    "duration": 4,
    "start_time": "2023-01-20T03:59:22.934Z"
   },
   {
    "duration": 5,
    "start_time": "2023-01-20T03:59:30.329Z"
   },
   {
    "duration": 4,
    "start_time": "2023-01-20T03:59:37.678Z"
   },
   {
    "duration": 4,
    "start_time": "2023-01-20T03:59:51.109Z"
   },
   {
    "duration": 3,
    "start_time": "2023-01-20T04:00:08.679Z"
   },
   {
    "duration": 4,
    "start_time": "2023-01-20T04:00:31.386Z"
   },
   {
    "duration": 4,
    "start_time": "2023-01-20T04:00:56.845Z"
   },
   {
    "duration": 35,
    "start_time": "2023-01-20T04:00:59.977Z"
   },
   {
    "duration": 13,
    "start_time": "2023-01-20T04:01:00.577Z"
   },
   {
    "duration": 5,
    "start_time": "2023-01-20T04:01:21.397Z"
   },
   {
    "duration": 4,
    "start_time": "2023-01-20T04:01:31.689Z"
   },
   {
    "duration": 7,
    "start_time": "2023-01-20T04:01:33.787Z"
   },
   {
    "duration": 14,
    "start_time": "2023-01-20T04:01:39.181Z"
   },
   {
    "duration": 5,
    "start_time": "2023-01-20T04:02:00.276Z"
   },
   {
    "duration": 4,
    "start_time": "2023-01-20T04:02:05.473Z"
   },
   {
    "duration": 11,
    "start_time": "2023-01-20T04:02:18.599Z"
   },
   {
    "duration": 4,
    "start_time": "2023-01-20T04:02:54.214Z"
   },
   {
    "duration": 4,
    "start_time": "2023-01-20T04:03:02.513Z"
   },
   {
    "duration": 4,
    "start_time": "2023-01-20T04:03:16.612Z"
   },
   {
    "duration": 4,
    "start_time": "2023-01-20T04:03:33.803Z"
   },
   {
    "duration": 3,
    "start_time": "2023-01-20T04:08:52.471Z"
   },
   {
    "duration": 37,
    "start_time": "2023-01-20T04:08:52.626Z"
   },
   {
    "duration": 12,
    "start_time": "2023-01-20T04:08:52.709Z"
   },
   {
    "duration": 11,
    "start_time": "2023-01-20T04:08:52.799Z"
   },
   {
    "duration": 4,
    "start_time": "2023-01-20T04:08:52.969Z"
   },
   {
    "duration": 7,
    "start_time": "2023-01-20T04:08:53.130Z"
   },
   {
    "duration": 12,
    "start_time": "2023-01-20T04:08:53.218Z"
   },
   {
    "duration": 12,
    "start_time": "2023-01-20T04:08:53.568Z"
   },
   {
    "duration": 21,
    "start_time": "2023-01-20T04:08:53.717Z"
   },
   {
    "duration": 27,
    "start_time": "2023-01-20T04:08:53.883Z"
   },
   {
    "duration": 171,
    "start_time": "2023-01-20T04:09:06.530Z"
   },
   {
    "duration": 134,
    "start_time": "2023-01-20T04:09:19.039Z"
   },
   {
    "duration": 117,
    "start_time": "2023-01-20T04:09:28.472Z"
   },
   {
    "duration": 100,
    "start_time": "2023-01-20T04:09:34.716Z"
   },
   {
    "duration": 94,
    "start_time": "2023-01-20T04:09:39.472Z"
   },
   {
    "duration": 99,
    "start_time": "2023-01-20T04:10:02.117Z"
   },
   {
    "duration": 110,
    "start_time": "2023-01-20T04:10:52.393Z"
   },
   {
    "duration": 115,
    "start_time": "2023-01-20T04:11:02.380Z"
   },
   {
    "duration": 176,
    "start_time": "2023-01-20T04:11:11.218Z"
   },
   {
    "duration": 29,
    "start_time": "2023-01-20T04:11:27.493Z"
   },
   {
    "duration": 168,
    "start_time": "2023-01-20T04:11:48.636Z"
   },
   {
    "duration": 216,
    "start_time": "2023-01-20T04:12:02.303Z"
   },
   {
    "duration": 1989,
    "start_time": "2023-01-20T04:16:59.181Z"
   },
   {
    "duration": 1365,
    "start_time": "2023-01-20T04:17:07.590Z"
   },
   {
    "duration": 1122,
    "start_time": "2023-01-20T04:17:26.581Z"
   },
   {
    "duration": 1265,
    "start_time": "2023-01-20T04:19:15.210Z"
   },
   {
    "duration": 36,
    "start_time": "2023-01-20T04:19:16.477Z"
   },
   {
    "duration": 15,
    "start_time": "2023-01-20T04:19:16.515Z"
   },
   {
    "duration": 12,
    "start_time": "2023-01-20T04:19:16.532Z"
   },
   {
    "duration": 11,
    "start_time": "2023-01-20T04:19:16.545Z"
   },
   {
    "duration": 18,
    "start_time": "2023-01-20T04:19:16.557Z"
   },
   {
    "duration": 24,
    "start_time": "2023-01-20T04:19:16.576Z"
   },
   {
    "duration": 17,
    "start_time": "2023-01-20T04:19:16.601Z"
   },
   {
    "duration": 26,
    "start_time": "2023-01-20T04:19:16.620Z"
   },
   {
    "duration": 30,
    "start_time": "2023-01-20T04:19:16.648Z"
   },
   {
    "duration": 602,
    "start_time": "2023-01-20T04:19:16.680Z"
   },
   {
    "duration": 17,
    "start_time": "2023-01-20T04:19:17.283Z"
   },
   {
    "duration": 12003,
    "start_time": "2023-01-20T04:19:17.302Z"
   },
   {
    "duration": 96,
    "start_time": "2023-01-20T04:19:29.307Z"
   },
   {
    "duration": 233168,
    "start_time": "2023-01-20T04:19:29.405Z"
   },
   {
    "duration": 93,
    "start_time": "2023-01-20T04:23:22.574Z"
   },
   {
    "duration": 168,
    "start_time": "2023-01-20T04:23:22.669Z"
   },
   {
    "duration": 120,
    "start_time": "2023-01-20T04:23:22.839Z"
   },
   {
    "duration": 48,
    "start_time": "2023-01-20T04:23:22.960Z"
   },
   {
    "duration": 116,
    "start_time": "2023-01-20T04:23:23.100Z"
   },
   {
    "duration": 118,
    "start_time": "2023-01-20T04:23:23.218Z"
   },
   {
    "duration": 0,
    "start_time": "2023-01-20T04:23:23.337Z"
   },
   {
    "duration": 0,
    "start_time": "2023-01-20T04:23:23.339Z"
   },
   {
    "duration": 0,
    "start_time": "2023-01-20T04:23:23.340Z"
   },
   {
    "duration": 0,
    "start_time": "2023-01-20T04:23:23.341Z"
   },
   {
    "duration": 0,
    "start_time": "2023-01-20T04:23:23.342Z"
   },
   {
    "duration": 0,
    "start_time": "2023-01-20T04:23:23.343Z"
   },
   {
    "duration": 0,
    "start_time": "2023-01-20T04:23:23.344Z"
   },
   {
    "duration": 0,
    "start_time": "2023-01-20T04:23:23.345Z"
   },
   {
    "duration": 0,
    "start_time": "2023-01-20T04:23:23.346Z"
   },
   {
    "duration": 0,
    "start_time": "2023-01-20T04:23:23.347Z"
   },
   {
    "duration": 0,
    "start_time": "2023-01-20T04:23:23.348Z"
   },
   {
    "duration": 0,
    "start_time": "2023-01-20T04:23:23.349Z"
   },
   {
    "duration": 0,
    "start_time": "2023-01-20T04:23:23.350Z"
   },
   {
    "duration": 0,
    "start_time": "2023-01-20T04:23:23.351Z"
   },
   {
    "duration": 0,
    "start_time": "2023-01-20T04:23:23.352Z"
   },
   {
    "duration": 13,
    "start_time": "2023-01-20T04:27:42.204Z"
   },
   {
    "duration": 1756,
    "start_time": "2023-01-20T04:30:52.939Z"
   },
   {
    "duration": 36,
    "start_time": "2023-01-20T04:30:54.697Z"
   },
   {
    "duration": 16,
    "start_time": "2023-01-20T04:30:54.734Z"
   },
   {
    "duration": 33,
    "start_time": "2023-01-20T04:30:54.752Z"
   },
   {
    "duration": 8,
    "start_time": "2023-01-20T04:30:54.787Z"
   },
   {
    "duration": 32,
    "start_time": "2023-01-20T04:30:54.796Z"
   },
   {
    "duration": 15,
    "start_time": "2023-01-20T04:30:54.830Z"
   },
   {
    "duration": 24,
    "start_time": "2023-01-20T04:30:54.847Z"
   },
   {
    "duration": 36,
    "start_time": "2023-01-20T04:30:54.873Z"
   },
   {
    "duration": 29,
    "start_time": "2023-01-20T04:30:54.911Z"
   },
   {
    "duration": 611,
    "start_time": "2023-01-20T04:30:54.941Z"
   },
   {
    "duration": 8,
    "start_time": "2023-01-20T04:30:55.554Z"
   },
   {
    "duration": 11740,
    "start_time": "2023-01-20T04:30:55.563Z"
   },
   {
    "duration": 98,
    "start_time": "2023-01-20T04:31:07.306Z"
   },
   {
    "duration": 232798,
    "start_time": "2023-01-20T04:31:07.499Z"
   },
   {
    "duration": 86,
    "start_time": "2023-01-20T04:35:00.299Z"
   },
   {
    "duration": 157,
    "start_time": "2023-01-20T04:35:00.387Z"
   },
   {
    "duration": 0,
    "start_time": "2023-01-20T04:35:00.546Z"
   },
   {
    "duration": 0,
    "start_time": "2023-01-20T04:35:00.547Z"
   },
   {
    "duration": 0,
    "start_time": "2023-01-20T04:35:00.548Z"
   },
   {
    "duration": 0,
    "start_time": "2023-01-20T04:35:00.549Z"
   },
   {
    "duration": 0,
    "start_time": "2023-01-20T04:35:00.550Z"
   },
   {
    "duration": 0,
    "start_time": "2023-01-20T04:35:00.551Z"
   },
   {
    "duration": 0,
    "start_time": "2023-01-20T04:35:00.552Z"
   },
   {
    "duration": 0,
    "start_time": "2023-01-20T04:35:00.553Z"
   },
   {
    "duration": 0,
    "start_time": "2023-01-20T04:35:00.554Z"
   },
   {
    "duration": 0,
    "start_time": "2023-01-20T04:35:00.555Z"
   },
   {
    "duration": 0,
    "start_time": "2023-01-20T04:35:00.555Z"
   },
   {
    "duration": 0,
    "start_time": "2023-01-20T04:35:00.556Z"
   },
   {
    "duration": 0,
    "start_time": "2023-01-20T04:35:00.557Z"
   },
   {
    "duration": 0,
    "start_time": "2023-01-20T04:35:00.558Z"
   },
   {
    "duration": 0,
    "start_time": "2023-01-20T04:35:00.559Z"
   },
   {
    "duration": 0,
    "start_time": "2023-01-20T04:35:00.560Z"
   },
   {
    "duration": 0,
    "start_time": "2023-01-20T04:35:00.561Z"
   },
   {
    "duration": 0,
    "start_time": "2023-01-20T04:35:00.562Z"
   },
   {
    "duration": 118,
    "start_time": "2023-01-20T04:40:07.815Z"
   },
   {
    "duration": 24,
    "start_time": "2023-01-20T04:40:13.155Z"
   },
   {
    "duration": 28,
    "start_time": "2023-01-20T04:40:14.669Z"
   },
   {
    "duration": 665,
    "start_time": "2023-01-20T04:40:15.920Z"
   },
   {
    "duration": 37,
    "start_time": "2023-01-20T04:40:16.639Z"
   },
   {
    "duration": 48,
    "start_time": "2023-01-20T04:40:29.864Z"
   },
   {
    "duration": 91,
    "start_time": "2023-01-20T04:40:30.914Z"
   },
   {
    "duration": 867,
    "start_time": "2023-01-20T04:40:32.987Z"
   },
   {
    "duration": 38,
    "start_time": "2023-01-20T04:40:35.605Z"
   },
   {
    "duration": 731,
    "start_time": "2023-01-20T04:40:49.156Z"
   },
   {
    "duration": 28,
    "start_time": "2023-01-20T04:40:51.182Z"
   },
   {
    "duration": 13164,
    "start_time": "2023-01-20T04:40:53.936Z"
   },
   {
    "duration": 113,
    "start_time": "2023-01-20T04:41:07.102Z"
   },
   {
    "duration": 310477,
    "start_time": "2023-01-20T04:42:54.271Z"
   },
   {
    "duration": 465,
    "start_time": "2023-01-20T04:48:04.750Z"
   },
   {
    "duration": 63,
    "start_time": "2023-01-20T04:48:05.216Z"
   },
   {
    "duration": 0,
    "start_time": "2023-01-20T04:48:05.281Z"
   },
   {
    "duration": 68,
    "start_time": "2023-01-20T04:52:54.334Z"
   },
   {
    "duration": 78,
    "start_time": "2023-01-20T04:53:27.125Z"
   },
   {
    "duration": 163,
    "start_time": "2023-01-20T04:53:58.289Z"
   },
   {
    "duration": 163,
    "start_time": "2023-01-20T04:56:02.047Z"
   },
   {
    "duration": 25,
    "start_time": "2023-01-20T04:56:43.041Z"
   },
   {
    "duration": 432,
    "start_time": "2023-01-20T04:56:46.003Z"
   },
   {
    "duration": 221,
    "start_time": "2023-01-20T04:58:21.191Z"
   },
   {
    "duration": 160,
    "start_time": "2023-01-20T04:59:23.888Z"
   },
   {
    "duration": 145,
    "start_time": "2023-01-20T04:59:31.700Z"
   },
   {
    "duration": 139,
    "start_time": "2023-01-20T04:59:40.604Z"
   },
   {
    "duration": 576,
    "start_time": "2023-01-20T05:01:05.945Z"
   },
   {
    "duration": 660,
    "start_time": "2023-01-20T05:01:47.960Z"
   },
   {
    "duration": 535,
    "start_time": "2023-01-20T05:04:51.105Z"
   },
   {
    "duration": 449,
    "start_time": "2023-01-20T05:06:13.852Z"
   },
   {
    "duration": 562,
    "start_time": "2023-01-20T05:07:16.960Z"
   },
   {
    "duration": 453,
    "start_time": "2023-01-20T05:07:34.495Z"
   },
   {
    "duration": 38,
    "start_time": "2023-01-20T05:08:54.787Z"
   },
   {
    "duration": 663,
    "start_time": "2023-01-20T05:10:07.914Z"
   },
   {
    "duration": 650,
    "start_time": "2023-01-20T05:11:50.707Z"
   },
   {
    "duration": 170,
    "start_time": "2023-01-20T05:13:02.616Z"
   },
   {
    "duration": 42,
    "start_time": "2023-01-20T05:16:32.240Z"
   },
   {
    "duration": 153,
    "start_time": "2023-01-20T05:17:11.344Z"
   },
   {
    "duration": 705,
    "start_time": "2023-01-20T05:17:20.507Z"
   },
   {
    "duration": 247,
    "start_time": "2023-01-20T05:18:02.422Z"
   },
   {
    "duration": 160,
    "start_time": "2023-01-20T05:18:08.288Z"
   },
   {
    "duration": 3,
    "start_time": "2023-01-20T05:23:17.718Z"
   },
   {
    "duration": 36,
    "start_time": "2023-01-20T05:23:20.486Z"
   },
   {
    "duration": 12,
    "start_time": "2023-01-20T05:23:21.138Z"
   },
   {
    "duration": 11,
    "start_time": "2023-01-20T05:23:22.594Z"
   },
   {
    "duration": 4,
    "start_time": "2023-01-20T05:23:24.159Z"
   },
   {
    "duration": 8,
    "start_time": "2023-01-20T05:23:25.509Z"
   },
   {
    "duration": 12,
    "start_time": "2023-01-20T05:23:26.674Z"
   },
   {
    "duration": 12,
    "start_time": "2023-01-20T05:30:31.074Z"
   },
   {
    "duration": 26,
    "start_time": "2023-01-20T05:30:33.895Z"
   },
   {
    "duration": 21,
    "start_time": "2023-01-20T05:30:35.674Z"
   },
   {
    "duration": 12,
    "start_time": "2023-01-20T05:30:57.880Z"
   },
   {
    "duration": 661,
    "start_time": "2023-01-20T05:31:16.154Z"
   },
   {
    "duration": 141,
    "start_time": "2023-01-20T05:31:26.571Z"
   },
   {
    "duration": 4,
    "start_time": "2023-01-20T05:34:43.023Z"
   },
   {
    "duration": 35,
    "start_time": "2023-01-20T05:34:44.462Z"
   },
   {
    "duration": 4,
    "start_time": "2023-01-20T05:34:51.039Z"
   },
   {
    "duration": 12,
    "start_time": "2023-01-20T05:35:08.356Z"
   },
   {
    "duration": 2692,
    "start_time": "2023-01-20T05:36:13.638Z"
   },
   {
    "duration": 22,
    "start_time": "2023-01-20T05:36:36.104Z"
   },
   {
    "duration": 23,
    "start_time": "2023-01-20T05:36:38.032Z"
   },
   {
    "duration": 33,
    "start_time": "2023-01-20T05:37:17.031Z"
   },
   {
    "duration": 5,
    "start_time": "2023-01-20T05:38:11.859Z"
   },
   {
    "duration": 36,
    "start_time": "2023-01-20T05:38:12.027Z"
   },
   {
    "duration": 14,
    "start_time": "2023-01-20T05:38:12.117Z"
   },
   {
    "duration": 12,
    "start_time": "2023-01-20T05:38:12.195Z"
   },
   {
    "duration": 4,
    "start_time": "2023-01-20T05:38:12.361Z"
   },
   {
    "duration": 8,
    "start_time": "2023-01-20T05:38:12.531Z"
   },
   {
    "duration": 13,
    "start_time": "2023-01-20T05:38:12.618Z"
   },
   {
    "duration": 14,
    "start_time": "2023-01-20T05:38:12.950Z"
   },
   {
    "duration": 23,
    "start_time": "2023-01-20T05:38:14.018Z"
   },
   {
    "duration": 22,
    "start_time": "2023-01-20T05:38:15.109Z"
   },
   {
    "duration": 515,
    "start_time": "2023-01-20T05:38:24.606Z"
   },
   {
    "duration": 671,
    "start_time": "2023-01-20T05:39:21.363Z"
   },
   {
    "duration": 142,
    "start_time": "2023-01-20T05:39:36.065Z"
   },
   {
    "duration": 82,
    "start_time": "2023-01-20T08:28:36.956Z"
   },
   {
    "duration": 1407,
    "start_time": "2023-01-20T08:33:54.532Z"
   },
   {
    "duration": 39,
    "start_time": "2023-01-20T08:33:55.941Z"
   },
   {
    "duration": 16,
    "start_time": "2023-01-20T08:33:55.982Z"
   },
   {
    "duration": 23,
    "start_time": "2023-01-20T08:33:56.000Z"
   },
   {
    "duration": 4,
    "start_time": "2023-01-20T08:33:56.025Z"
   },
   {
    "duration": 8,
    "start_time": "2023-01-20T08:33:56.031Z"
   },
   {
    "duration": 14,
    "start_time": "2023-01-20T08:33:56.040Z"
   },
   {
    "duration": 13,
    "start_time": "2023-01-20T08:33:56.055Z"
   },
   {
    "duration": 52,
    "start_time": "2023-01-20T08:33:56.070Z"
   },
   {
    "duration": 24,
    "start_time": "2023-01-20T08:33:56.125Z"
   },
   {
    "duration": 669,
    "start_time": "2023-01-20T08:33:56.151Z"
   },
   {
    "duration": 7,
    "start_time": "2023-01-20T08:33:56.822Z"
   },
   {
    "duration": 41081,
    "start_time": "2023-01-20T08:33:56.830Z"
   },
   {
    "duration": 89,
    "start_time": "2023-01-20T08:34:37.920Z"
   },
   {
    "duration": 257702,
    "start_time": "2023-01-20T08:34:38.013Z"
   },
   {
    "duration": 99,
    "start_time": "2023-01-20T08:38:55.717Z"
   },
   {
    "duration": 134,
    "start_time": "2023-01-20T08:38:55.818Z"
   },
   {
    "duration": 65,
    "start_time": "2023-01-20T08:38:55.954Z"
   },
   {
    "duration": 190,
    "start_time": "2023-01-20T08:38:56.023Z"
   },
   {
    "duration": 702,
    "start_time": "2023-01-20T08:38:56.215Z"
   },
   {
    "duration": 13,
    "start_time": "2023-01-20T08:38:56.918Z"
   },
   {
    "duration": 118,
    "start_time": "2023-01-20T08:38:56.932Z"
   },
   {
    "duration": 1012,
    "start_time": "2023-01-20T08:38:57.052Z"
   },
   {
    "duration": 820,
    "start_time": "2023-01-20T08:38:58.065Z"
   },
   {
    "duration": 38,
    "start_time": "2023-01-20T08:38:58.887Z"
   },
   {
    "duration": 30286,
    "start_time": "2023-01-20T08:38:58.927Z"
   },
   {
    "duration": 285,
    "start_time": "2023-01-20T08:39:29.217Z"
   },
   {
    "duration": 354717,
    "start_time": "2023-01-20T08:39:29.505Z"
   },
   {
    "duration": 244,
    "start_time": "2023-01-20T08:45:24.223Z"
   },
   {
    "duration": 805,
    "start_time": "2023-01-20T08:45:24.469Z"
   },
   {
    "duration": 3,
    "start_time": "2023-01-20T08:45:25.276Z"
   },
   {
    "duration": 11,
    "start_time": "2023-01-20T08:47:13.196Z"
   },
   {
    "duration": 4,
    "start_time": "2023-01-20T08:48:18.675Z"
   },
   {
    "duration": 46,
    "start_time": "2023-01-20T08:48:19.697Z"
   },
   {
    "duration": 14,
    "start_time": "2023-01-20T08:48:20.139Z"
   },
   {
    "duration": 17,
    "start_time": "2023-01-20T08:48:20.421Z"
   },
   {
    "duration": 5,
    "start_time": "2023-01-20T08:48:20.988Z"
   },
   {
    "duration": 7,
    "start_time": "2023-01-20T08:48:21.154Z"
   },
   {
    "duration": 13,
    "start_time": "2023-01-20T08:48:21.239Z"
   },
   {
    "duration": 13,
    "start_time": "2023-01-20T08:48:22.871Z"
   },
   {
    "duration": 22,
    "start_time": "2023-01-20T08:48:23.552Z"
   },
   {
    "duration": 23,
    "start_time": "2023-01-20T08:48:24.921Z"
   },
   {
    "duration": 89,
    "start_time": "2023-01-20T08:48:53.650Z"
   },
   {
    "duration": 869,
    "start_time": "2023-01-20T08:49:07.984Z"
   },
   {
    "duration": 1206,
    "start_time": "2023-01-20T08:49:26.682Z"
   },
   {
    "duration": 1557,
    "start_time": "2023-01-20T11:05:51.914Z"
   },
   {
    "duration": 78,
    "start_time": "2023-01-20T11:05:53.473Z"
   },
   {
    "duration": 16,
    "start_time": "2023-01-20T11:05:53.552Z"
   },
   {
    "duration": 13,
    "start_time": "2023-01-20T11:05:53.570Z"
   },
   {
    "duration": 3,
    "start_time": "2023-01-20T11:05:53.585Z"
   },
   {
    "duration": 8,
    "start_time": "2023-01-20T11:05:53.590Z"
   },
   {
    "duration": 13,
    "start_time": "2023-01-20T11:05:53.599Z"
   },
   {
    "duration": 15,
    "start_time": "2023-01-20T11:05:53.613Z"
   },
   {
    "duration": 23,
    "start_time": "2023-01-20T11:05:53.629Z"
   },
   {
    "duration": 45,
    "start_time": "2023-01-20T11:05:53.654Z"
   },
   {
    "duration": 14,
    "start_time": "2023-01-20T11:06:05.453Z"
   },
   {
    "duration": 1524,
    "start_time": "2023-01-20T11:43:16.244Z"
   },
   {
    "duration": 164,
    "start_time": "2023-01-20T11:43:17.770Z"
   },
   {
    "duration": 17,
    "start_time": "2023-01-20T11:43:17.936Z"
   },
   {
    "duration": 17,
    "start_time": "2023-01-20T11:43:17.955Z"
   },
   {
    "duration": 4,
    "start_time": "2023-01-20T11:43:17.974Z"
   },
   {
    "duration": 15,
    "start_time": "2023-01-20T11:43:17.979Z"
   },
   {
    "duration": 14,
    "start_time": "2023-01-20T11:43:17.995Z"
   },
   {
    "duration": 37,
    "start_time": "2023-01-20T11:43:18.011Z"
   },
   {
    "duration": 24,
    "start_time": "2023-01-20T11:43:18.050Z"
   },
   {
    "duration": 146,
    "start_time": "2023-01-20T11:43:18.076Z"
   },
   {
    "duration": 0,
    "start_time": "2023-01-20T11:43:18.224Z"
   },
   {
    "duration": 0,
    "start_time": "2023-01-20T11:43:18.225Z"
   },
   {
    "duration": 0,
    "start_time": "2023-01-20T11:43:18.237Z"
   },
   {
    "duration": 0,
    "start_time": "2023-01-20T11:43:18.238Z"
   },
   {
    "duration": 0,
    "start_time": "2023-01-20T11:43:18.239Z"
   },
   {
    "duration": 0,
    "start_time": "2023-01-20T11:43:18.240Z"
   },
   {
    "duration": 0,
    "start_time": "2023-01-20T11:43:18.242Z"
   },
   {
    "duration": 0,
    "start_time": "2023-01-20T11:43:18.243Z"
   },
   {
    "duration": 0,
    "start_time": "2023-01-20T11:43:18.244Z"
   },
   {
    "duration": 0,
    "start_time": "2023-01-20T11:43:18.245Z"
   },
   {
    "duration": 0,
    "start_time": "2023-01-20T11:43:18.246Z"
   },
   {
    "duration": 0,
    "start_time": "2023-01-20T11:43:18.248Z"
   },
   {
    "duration": 0,
    "start_time": "2023-01-20T11:43:18.249Z"
   },
   {
    "duration": 0,
    "start_time": "2023-01-20T11:43:18.250Z"
   },
   {
    "duration": 0,
    "start_time": "2023-01-20T11:43:18.251Z"
   },
   {
    "duration": 0,
    "start_time": "2023-01-20T11:43:18.252Z"
   },
   {
    "duration": 0,
    "start_time": "2023-01-20T11:43:18.253Z"
   },
   {
    "duration": 0,
    "start_time": "2023-01-20T11:43:18.254Z"
   },
   {
    "duration": 0,
    "start_time": "2023-01-20T11:43:18.255Z"
   },
   {
    "duration": 0,
    "start_time": "2023-01-20T11:43:18.257Z"
   },
   {
    "duration": 0,
    "start_time": "2023-01-20T11:43:18.258Z"
   },
   {
    "duration": 36,
    "start_time": "2023-01-20T12:03:53.418Z"
   },
   {
    "duration": 19,
    "start_time": "2023-01-20T12:03:57.236Z"
   },
   {
    "duration": 1423,
    "start_time": "2023-01-20T12:05:12.208Z"
   },
   {
    "duration": 45,
    "start_time": "2023-01-20T12:05:13.633Z"
   },
   {
    "duration": 32,
    "start_time": "2023-01-20T12:05:13.680Z"
   },
   {
    "duration": 48,
    "start_time": "2023-01-20T12:05:13.715Z"
   },
   {
    "duration": 38,
    "start_time": "2023-01-20T12:05:13.769Z"
   },
   {
    "duration": 28,
    "start_time": "2023-01-20T12:05:13.809Z"
   },
   {
    "duration": 17,
    "start_time": "2023-01-20T12:05:13.839Z"
   },
   {
    "duration": 19,
    "start_time": "2023-01-20T12:05:13.858Z"
   },
   {
    "duration": 30,
    "start_time": "2023-01-20T12:05:13.879Z"
   },
   {
    "duration": 63,
    "start_time": "2023-01-20T12:05:13.912Z"
   },
   {
    "duration": 39,
    "start_time": "2023-01-20T12:05:13.977Z"
   },
   {
    "duration": 749,
    "start_time": "2023-01-20T12:05:14.018Z"
   },
   {
    "duration": 10,
    "start_time": "2023-01-20T12:05:14.770Z"
   },
   {
    "duration": 23364,
    "start_time": "2023-01-20T12:05:14.781Z"
   },
   {
    "duration": 96,
    "start_time": "2023-01-20T12:05:38.147Z"
   },
   {
    "duration": 275489,
    "start_time": "2023-01-20T12:05:38.245Z"
   },
   {
    "duration": 100,
    "start_time": "2023-01-20T12:10:13.736Z"
   },
   {
    "duration": 130,
    "start_time": "2023-01-20T12:10:13.838Z"
   },
   {
    "duration": 73,
    "start_time": "2023-01-20T12:10:13.969Z"
   },
   {
    "duration": 119,
    "start_time": "2023-01-20T12:10:14.046Z"
   },
   {
    "duration": 829,
    "start_time": "2023-01-20T12:10:14.167Z"
   },
   {
    "duration": 13,
    "start_time": "2023-01-20T12:10:14.999Z"
   },
   {
    "duration": 146,
    "start_time": "2023-01-20T12:10:15.014Z"
   },
   {
    "duration": 1112,
    "start_time": "2023-01-20T12:10:15.163Z"
   },
   {
    "duration": 861,
    "start_time": "2023-01-20T12:10:16.277Z"
   },
   {
    "duration": 31,
    "start_time": "2023-01-20T12:10:17.139Z"
   },
   {
    "duration": 16370,
    "start_time": "2023-01-20T12:10:17.172Z"
   },
   {
    "duration": 189,
    "start_time": "2023-01-20T12:10:33.548Z"
   },
   {
    "duration": 368616,
    "start_time": "2023-01-20T12:10:33.740Z"
   },
   {
    "duration": 225,
    "start_time": "2023-01-20T12:16:42.357Z"
   },
   {
    "duration": 798,
    "start_time": "2023-01-20T12:16:42.584Z"
   }
  ],
  "kernelspec": {
   "display_name": "Python 3 (ipykernel)",
   "language": "python",
   "name": "python3"
  },
  "language_info": {
   "codemirror_mode": {
    "name": "ipython",
    "version": 3
   },
   "file_extension": ".py",
   "mimetype": "text/x-python",
   "name": "python",
   "nbconvert_exporter": "python",
   "pygments_lexer": "ipython3",
   "version": "3.9.13"
  },
  "toc": {
   "base_numbering": 1,
   "nav_menu": {},
   "number_sections": true,
   "sideBar": true,
   "skip_h1_title": true,
   "title_cell": "Содержание",
   "title_sidebar": "Contents",
   "toc_cell": true,
   "toc_position": {
    "height": "calc(100% - 180px)",
    "left": "10px",
    "top": "150px",
    "width": "165px"
   },
   "toc_section_display": false,
   "toc_window_display": false
  }
 },
 "nbformat": 4,
 "nbformat_minor": 4
}
