{
 "cells": [
  {
   "cell_type": "markdown",
   "metadata": {},
   "source": [
    "# Исследование объявлений о продаже квартир\n",
    "\n",
    "В вашем распоряжении данные сервиса Яндекс.Недвижимость — архив объявлений о продаже квартир в Санкт-Петербурге и соседних населённых пунктов за несколько лет. Нужно научиться определять рыночную стоимость объектов недвижимости. Ваша задача — установить параметры. Это позволит построить автоматизированную систему: она отследит аномалии и мошенническую деятельность. \n",
    "\n",
    "По каждой квартире на продажу доступны два вида данных. Первые вписаны пользователем, вторые — получены автоматически на основе картографических данных. Например, расстояние до центра, аэропорта, ближайшего парка и водоёма. "
   ]
  },
  {
   "cell_type": "markdown",
   "metadata": {},
   "source": [
    "### Общая информация"
   ]
  },
  {
   "cell_type": "code",
   "execution_count": 1,
   "metadata": {},
   "outputs": [],
   "source": [
    "import pandas as pd\n",
    "import numpy as np\n",
    "import matplotlib.pyplot as plt\n",
    "import seaborn as sns"
   ]
  },
  {
   "cell_type": "code",
   "execution_count": 2,
   "metadata": {},
   "outputs": [
    {
     "data": {
      "text/html": [
       "<div>\n",
       "<style scoped>\n",
       "    .dataframe tbody tr th:only-of-type {\n",
       "        vertical-align: middle;\n",
       "    }\n",
       "\n",
       "    .dataframe tbody tr th {\n",
       "        vertical-align: top;\n",
       "    }\n",
       "\n",
       "    .dataframe thead th {\n",
       "        text-align: right;\n",
       "    }\n",
       "</style>\n",
       "<table border=\"1\" class=\"dataframe\">\n",
       "  <thead>\n",
       "    <tr style=\"text-align: right;\">\n",
       "      <th></th>\n",
       "      <th>total_images</th>\n",
       "      <th>last_price</th>\n",
       "      <th>total_area</th>\n",
       "      <th>first_day_exposition</th>\n",
       "      <th>rooms</th>\n",
       "      <th>ceiling_height</th>\n",
       "      <th>floors_total</th>\n",
       "      <th>living_area</th>\n",
       "      <th>floor</th>\n",
       "      <th>is_apartment</th>\n",
       "      <th>studio</th>\n",
       "      <th>open_plan</th>\n",
       "      <th>kitchen_area</th>\n",
       "      <th>balcony</th>\n",
       "      <th>locality_name</th>\n",
       "      <th>airports_nearest</th>\n",
       "      <th>cityCenters_nearest</th>\n",
       "      <th>parks_around3000</th>\n",
       "      <th>parks_nearest</th>\n",
       "      <th>ponds_around3000</th>\n",
       "      <th>ponds_nearest</th>\n",
       "      <th>days_exposition</th>\n",
       "    </tr>\n",
       "  </thead>\n",
       "  <tbody>\n",
       "    <tr>\n",
       "      <th>0</th>\n",
       "      <td>20</td>\n",
       "      <td>13000000.0</td>\n",
       "      <td>108.00</td>\n",
       "      <td>2019-03-07T00:00:00</td>\n",
       "      <td>3</td>\n",
       "      <td>2.70</td>\n",
       "      <td>16.0</td>\n",
       "      <td>51.00</td>\n",
       "      <td>8</td>\n",
       "      <td>NaN</td>\n",
       "      <td>False</td>\n",
       "      <td>False</td>\n",
       "      <td>25.00</td>\n",
       "      <td>NaN</td>\n",
       "      <td>Санкт-Петербург</td>\n",
       "      <td>18863.0</td>\n",
       "      <td>16028.0</td>\n",
       "      <td>1.0</td>\n",
       "      <td>482.0</td>\n",
       "      <td>2.0</td>\n",
       "      <td>755.0</td>\n",
       "      <td>NaN</td>\n",
       "    </tr>\n",
       "    <tr>\n",
       "      <th>1</th>\n",
       "      <td>7</td>\n",
       "      <td>3350000.0</td>\n",
       "      <td>40.40</td>\n",
       "      <td>2018-12-04T00:00:00</td>\n",
       "      <td>1</td>\n",
       "      <td>NaN</td>\n",
       "      <td>11.0</td>\n",
       "      <td>18.60</td>\n",
       "      <td>1</td>\n",
       "      <td>NaN</td>\n",
       "      <td>False</td>\n",
       "      <td>False</td>\n",
       "      <td>11.00</td>\n",
       "      <td>2.0</td>\n",
       "      <td>посёлок Шушары</td>\n",
       "      <td>12817.0</td>\n",
       "      <td>18603.0</td>\n",
       "      <td>0.0</td>\n",
       "      <td>NaN</td>\n",
       "      <td>0.0</td>\n",
       "      <td>NaN</td>\n",
       "      <td>81.0</td>\n",
       "    </tr>\n",
       "    <tr>\n",
       "      <th>2</th>\n",
       "      <td>10</td>\n",
       "      <td>5196000.0</td>\n",
       "      <td>56.00</td>\n",
       "      <td>2015-08-20T00:00:00</td>\n",
       "      <td>2</td>\n",
       "      <td>NaN</td>\n",
       "      <td>5.0</td>\n",
       "      <td>34.30</td>\n",
       "      <td>4</td>\n",
       "      <td>NaN</td>\n",
       "      <td>False</td>\n",
       "      <td>False</td>\n",
       "      <td>8.30</td>\n",
       "      <td>0.0</td>\n",
       "      <td>Санкт-Петербург</td>\n",
       "      <td>21741.0</td>\n",
       "      <td>13933.0</td>\n",
       "      <td>1.0</td>\n",
       "      <td>90.0</td>\n",
       "      <td>2.0</td>\n",
       "      <td>574.0</td>\n",
       "      <td>558.0</td>\n",
       "    </tr>\n",
       "    <tr>\n",
       "      <th>3</th>\n",
       "      <td>0</td>\n",
       "      <td>64900000.0</td>\n",
       "      <td>159.00</td>\n",
       "      <td>2015-07-24T00:00:00</td>\n",
       "      <td>3</td>\n",
       "      <td>NaN</td>\n",
       "      <td>14.0</td>\n",
       "      <td>NaN</td>\n",
       "      <td>9</td>\n",
       "      <td>NaN</td>\n",
       "      <td>False</td>\n",
       "      <td>False</td>\n",
       "      <td>NaN</td>\n",
       "      <td>0.0</td>\n",
       "      <td>Санкт-Петербург</td>\n",
       "      <td>28098.0</td>\n",
       "      <td>6800.0</td>\n",
       "      <td>2.0</td>\n",
       "      <td>84.0</td>\n",
       "      <td>3.0</td>\n",
       "      <td>234.0</td>\n",
       "      <td>424.0</td>\n",
       "    </tr>\n",
       "    <tr>\n",
       "      <th>4</th>\n",
       "      <td>2</td>\n",
       "      <td>10000000.0</td>\n",
       "      <td>100.00</td>\n",
       "      <td>2018-06-19T00:00:00</td>\n",
       "      <td>2</td>\n",
       "      <td>3.03</td>\n",
       "      <td>14.0</td>\n",
       "      <td>32.00</td>\n",
       "      <td>13</td>\n",
       "      <td>NaN</td>\n",
       "      <td>False</td>\n",
       "      <td>False</td>\n",
       "      <td>41.00</td>\n",
       "      <td>NaN</td>\n",
       "      <td>Санкт-Петербург</td>\n",
       "      <td>31856.0</td>\n",
       "      <td>8098.0</td>\n",
       "      <td>2.0</td>\n",
       "      <td>112.0</td>\n",
       "      <td>1.0</td>\n",
       "      <td>48.0</td>\n",
       "      <td>121.0</td>\n",
       "    </tr>\n",
       "    <tr>\n",
       "      <th>5</th>\n",
       "      <td>10</td>\n",
       "      <td>2890000.0</td>\n",
       "      <td>30.40</td>\n",
       "      <td>2018-09-10T00:00:00</td>\n",
       "      <td>1</td>\n",
       "      <td>NaN</td>\n",
       "      <td>12.0</td>\n",
       "      <td>14.40</td>\n",
       "      <td>5</td>\n",
       "      <td>NaN</td>\n",
       "      <td>False</td>\n",
       "      <td>False</td>\n",
       "      <td>9.10</td>\n",
       "      <td>NaN</td>\n",
       "      <td>городской посёлок Янино-1</td>\n",
       "      <td>NaN</td>\n",
       "      <td>NaN</td>\n",
       "      <td>NaN</td>\n",
       "      <td>NaN</td>\n",
       "      <td>NaN</td>\n",
       "      <td>NaN</td>\n",
       "      <td>55.0</td>\n",
       "    </tr>\n",
       "    <tr>\n",
       "      <th>6</th>\n",
       "      <td>6</td>\n",
       "      <td>3700000.0</td>\n",
       "      <td>37.30</td>\n",
       "      <td>2017-11-02T00:00:00</td>\n",
       "      <td>1</td>\n",
       "      <td>NaN</td>\n",
       "      <td>26.0</td>\n",
       "      <td>10.60</td>\n",
       "      <td>6</td>\n",
       "      <td>NaN</td>\n",
       "      <td>False</td>\n",
       "      <td>False</td>\n",
       "      <td>14.40</td>\n",
       "      <td>1.0</td>\n",
       "      <td>посёлок Парголово</td>\n",
       "      <td>52996.0</td>\n",
       "      <td>19143.0</td>\n",
       "      <td>0.0</td>\n",
       "      <td>NaN</td>\n",
       "      <td>0.0</td>\n",
       "      <td>NaN</td>\n",
       "      <td>155.0</td>\n",
       "    </tr>\n",
       "    <tr>\n",
       "      <th>7</th>\n",
       "      <td>5</td>\n",
       "      <td>7915000.0</td>\n",
       "      <td>71.60</td>\n",
       "      <td>2019-04-18T00:00:00</td>\n",
       "      <td>2</td>\n",
       "      <td>NaN</td>\n",
       "      <td>24.0</td>\n",
       "      <td>NaN</td>\n",
       "      <td>22</td>\n",
       "      <td>NaN</td>\n",
       "      <td>False</td>\n",
       "      <td>False</td>\n",
       "      <td>18.90</td>\n",
       "      <td>2.0</td>\n",
       "      <td>Санкт-Петербург</td>\n",
       "      <td>23982.0</td>\n",
       "      <td>11634.0</td>\n",
       "      <td>0.0</td>\n",
       "      <td>NaN</td>\n",
       "      <td>0.0</td>\n",
       "      <td>NaN</td>\n",
       "      <td>NaN</td>\n",
       "    </tr>\n",
       "    <tr>\n",
       "      <th>8</th>\n",
       "      <td>20</td>\n",
       "      <td>2900000.0</td>\n",
       "      <td>33.16</td>\n",
       "      <td>2018-05-23T00:00:00</td>\n",
       "      <td>1</td>\n",
       "      <td>NaN</td>\n",
       "      <td>27.0</td>\n",
       "      <td>15.43</td>\n",
       "      <td>26</td>\n",
       "      <td>NaN</td>\n",
       "      <td>False</td>\n",
       "      <td>False</td>\n",
       "      <td>8.81</td>\n",
       "      <td>NaN</td>\n",
       "      <td>посёлок Мурино</td>\n",
       "      <td>NaN</td>\n",
       "      <td>NaN</td>\n",
       "      <td>NaN</td>\n",
       "      <td>NaN</td>\n",
       "      <td>NaN</td>\n",
       "      <td>NaN</td>\n",
       "      <td>189.0</td>\n",
       "    </tr>\n",
       "    <tr>\n",
       "      <th>9</th>\n",
       "      <td>18</td>\n",
       "      <td>5400000.0</td>\n",
       "      <td>61.00</td>\n",
       "      <td>2017-02-26T00:00:00</td>\n",
       "      <td>3</td>\n",
       "      <td>2.50</td>\n",
       "      <td>9.0</td>\n",
       "      <td>43.60</td>\n",
       "      <td>7</td>\n",
       "      <td>NaN</td>\n",
       "      <td>False</td>\n",
       "      <td>False</td>\n",
       "      <td>6.50</td>\n",
       "      <td>2.0</td>\n",
       "      <td>Санкт-Петербург</td>\n",
       "      <td>50898.0</td>\n",
       "      <td>15008.0</td>\n",
       "      <td>0.0</td>\n",
       "      <td>NaN</td>\n",
       "      <td>0.0</td>\n",
       "      <td>NaN</td>\n",
       "      <td>289.0</td>\n",
       "    </tr>\n",
       "  </tbody>\n",
       "</table>\n",
       "</div>"
      ],
      "text/plain": [
       "   total_images  last_price  total_area first_day_exposition  rooms  \\\n",
       "0            20  13000000.0      108.00  2019-03-07T00:00:00      3   \n",
       "1             7   3350000.0       40.40  2018-12-04T00:00:00      1   \n",
       "2            10   5196000.0       56.00  2015-08-20T00:00:00      2   \n",
       "3             0  64900000.0      159.00  2015-07-24T00:00:00      3   \n",
       "4             2  10000000.0      100.00  2018-06-19T00:00:00      2   \n",
       "5            10   2890000.0       30.40  2018-09-10T00:00:00      1   \n",
       "6             6   3700000.0       37.30  2017-11-02T00:00:00      1   \n",
       "7             5   7915000.0       71.60  2019-04-18T00:00:00      2   \n",
       "8            20   2900000.0       33.16  2018-05-23T00:00:00      1   \n",
       "9            18   5400000.0       61.00  2017-02-26T00:00:00      3   \n",
       "\n",
       "   ceiling_height  floors_total  living_area  floor is_apartment  studio  \\\n",
       "0            2.70          16.0        51.00      8          NaN   False   \n",
       "1             NaN          11.0        18.60      1          NaN   False   \n",
       "2             NaN           5.0        34.30      4          NaN   False   \n",
       "3             NaN          14.0          NaN      9          NaN   False   \n",
       "4            3.03          14.0        32.00     13          NaN   False   \n",
       "5             NaN          12.0        14.40      5          NaN   False   \n",
       "6             NaN          26.0        10.60      6          NaN   False   \n",
       "7             NaN          24.0          NaN     22          NaN   False   \n",
       "8             NaN          27.0        15.43     26          NaN   False   \n",
       "9            2.50           9.0        43.60      7          NaN   False   \n",
       "\n",
       "   open_plan  kitchen_area  balcony              locality_name  \\\n",
       "0      False         25.00      NaN            Санкт-Петербург   \n",
       "1      False         11.00      2.0             посёлок Шушары   \n",
       "2      False          8.30      0.0            Санкт-Петербург   \n",
       "3      False           NaN      0.0            Санкт-Петербург   \n",
       "4      False         41.00      NaN            Санкт-Петербург   \n",
       "5      False          9.10      NaN  городской посёлок Янино-1   \n",
       "6      False         14.40      1.0          посёлок Парголово   \n",
       "7      False         18.90      2.0            Санкт-Петербург   \n",
       "8      False          8.81      NaN             посёлок Мурино   \n",
       "9      False          6.50      2.0            Санкт-Петербург   \n",
       "\n",
       "   airports_nearest  cityCenters_nearest  parks_around3000  parks_nearest  \\\n",
       "0           18863.0              16028.0               1.0          482.0   \n",
       "1           12817.0              18603.0               0.0            NaN   \n",
       "2           21741.0              13933.0               1.0           90.0   \n",
       "3           28098.0               6800.0               2.0           84.0   \n",
       "4           31856.0               8098.0               2.0          112.0   \n",
       "5               NaN                  NaN               NaN            NaN   \n",
       "6           52996.0              19143.0               0.0            NaN   \n",
       "7           23982.0              11634.0               0.0            NaN   \n",
       "8               NaN                  NaN               NaN            NaN   \n",
       "9           50898.0              15008.0               0.0            NaN   \n",
       "\n",
       "   ponds_around3000  ponds_nearest  days_exposition  \n",
       "0               2.0          755.0              NaN  \n",
       "1               0.0            NaN             81.0  \n",
       "2               2.0          574.0            558.0  \n",
       "3               3.0          234.0            424.0  \n",
       "4               1.0           48.0            121.0  \n",
       "5               NaN            NaN             55.0  \n",
       "6               0.0            NaN            155.0  \n",
       "7               0.0            NaN              NaN  \n",
       "8               NaN            NaN            189.0  \n",
       "9               0.0            NaN            289.0  "
      ]
     },
     "execution_count": 2,
     "metadata": {},
     "output_type": "execute_result"
    }
   ],
   "source": [
    "pd.options.display.max_columns = None\n",
    "df = pd.read_csv('/datasets/real_estate_data.csv', sep='\\t')\n",
    "df.head(10)"
   ]
  },
  {
   "cell_type": "code",
   "execution_count": 3,
   "metadata": {},
   "outputs": [
    {
     "name": "stdout",
     "output_type": "stream",
     "text": [
      "<class 'pandas.core.frame.DataFrame'>\n",
      "RangeIndex: 23699 entries, 0 to 23698\n",
      "Data columns (total 22 columns):\n",
      " #   Column                Non-Null Count  Dtype  \n",
      "---  ------                --------------  -----  \n",
      " 0   total_images          23699 non-null  int64  \n",
      " 1   last_price            23699 non-null  float64\n",
      " 2   total_area            23699 non-null  float64\n",
      " 3   first_day_exposition  23699 non-null  object \n",
      " 4   rooms                 23699 non-null  int64  \n",
      " 5   ceiling_height        14504 non-null  float64\n",
      " 6   floors_total          23613 non-null  float64\n",
      " 7   living_area           21796 non-null  float64\n",
      " 8   floor                 23699 non-null  int64  \n",
      " 9   is_apartment          2775 non-null   object \n",
      " 10  studio                23699 non-null  bool   \n",
      " 11  open_plan             23699 non-null  bool   \n",
      " 12  kitchen_area          21421 non-null  float64\n",
      " 13  balcony               12180 non-null  float64\n",
      " 14  locality_name         23650 non-null  object \n",
      " 15  airports_nearest      18157 non-null  float64\n",
      " 16  cityCenters_nearest   18180 non-null  float64\n",
      " 17  parks_around3000      18181 non-null  float64\n",
      " 18  parks_nearest         8079 non-null   float64\n",
      " 19  ponds_around3000      18181 non-null  float64\n",
      " 20  ponds_nearest         9110 non-null   float64\n",
      " 21  days_exposition       20518 non-null  float64\n",
      "dtypes: bool(2), float64(14), int64(3), object(3)\n",
      "memory usage: 3.7+ MB\n"
     ]
    }
   ],
   "source": [
    "df.info()"
   ]
  },
  {
   "cell_type": "code",
   "execution_count": 4,
   "metadata": {},
   "outputs": [
    {
     "data": {
      "image/png": "[encoded data removed]",
      "text/plain": [
       "<Figure size 1080x1440 with 20 Axes>"
      ]
     },
     "metadata": {
      "needs_background": "light"
     },
     "output_type": "display_data"
    }
   ],
   "source": [
    "df.hist(figsize=(15, 20));"
   ]
  },
  {
   "cell_type": "markdown",
   "metadata": {},
   "source": [
    "По некоторым гистограммам выше довольно сложно судить о распределении из-за того, что некоторые значения сильно больше основной массы, но при этом их очень мало. Нужно выяснить аномальны ли они и/или выбрать диапазон, исключающий очень большие значения. "
   ]
  },
  {
   "cell_type": "markdown",
   "metadata": {},
   "source": [
    "### Предобработка данных"
   ]
  },
  {
   "cell_type": "markdown",
   "metadata": {},
   "source": [
    "2.1. Всего 23699 строк. Есть пропуски в следующих столбцах: "
   ]
  },
  {
   "cell_type": "code",
   "execution_count": 5,
   "metadata": {},
   "outputs": [
    {
     "data": {
      "text/plain": [
       "total_images                0\n",
       "last_price                  0\n",
       "total_area                  0\n",
       "first_day_exposition        0\n",
       "rooms                       0\n",
       "ceiling_height           9195\n",
       "floors_total               86\n",
       "living_area              1903\n",
       "floor                       0\n",
       "is_apartment            20924\n",
       "studio                      0\n",
       "open_plan                   0\n",
       "kitchen_area             2278\n",
       "balcony                 11519\n",
       "locality_name              49\n",
       "airports_nearest         5542\n",
       "cityCenters_nearest      5519\n",
       "parks_around3000         5518\n",
       "parks_nearest           15620\n",
       "ponds_around3000         5518\n",
       "ponds_nearest           14589\n",
       "days_exposition          3181\n",
       "dtype: int64"
      ]
     },
     "execution_count": 5,
     "metadata": {},
     "output_type": "execute_result"
    }
   ],
   "source": [
    "df.isna().sum()"
   ]
  },
  {
   "cell_type": "code",
   "execution_count": 6,
   "metadata": {},
   "outputs": [
    {
     "data": {
      "text/plain": [
       "0.002067597788936242"
      ]
     },
     "execution_count": 6,
     "metadata": {},
     "output_type": "execute_result"
    }
   ],
   "source": [
    "# Пропорция строк с отсутствующим locality_name к общему количеству строк\n",
    "49/23699"
   ]
  },
  {
   "cell_type": "code",
   "execution_count": 7,
   "metadata": {},
   "outputs": [
    {
     "data": {
      "text/plain": [
       "(23650, 22)"
      ]
     },
     "execution_count": 7,
     "metadata": {},
     "output_type": "execute_result"
    }
   ],
   "source": [
    "# Еще раз посмотрим много ли пропусков в столбце locality_name\n",
    "df = df[df['locality_name'].notna()]\n",
    "df.shape"
   ]
  },
  {
   "cell_type": "markdown",
   "metadata": {},
   "source": [
    "В самом столбце locality_name не много пропусков, но при этом есть населенные пункты, где полностью отсутствуют значения \"картографических столбцов\":"
   ]
  },
  {
   "cell_type": "code",
   "execution_count": 8,
   "metadata": {},
   "outputs": [
    {
     "name": "stdout",
     "output_type": "stream",
     "text": [
      "<class 'pandas.core.frame.DataFrame'>\n",
      "Int64Index: 522 entries, 8 to 23638\n",
      "Data columns (total 22 columns):\n",
      " #   Column                Non-Null Count  Dtype  \n",
      "---  ------                --------------  -----  \n",
      " 0   total_images          522 non-null    int64  \n",
      " 1   last_price            522 non-null    float64\n",
      " 2   total_area            522 non-null    float64\n",
      " 3   first_day_exposition  522 non-null    object \n",
      " 4   rooms                 522 non-null    int64  \n",
      " 5   ceiling_height        200 non-null    float64\n",
      " 6   floors_total          520 non-null    float64\n",
      " 7   living_area           461 non-null    float64\n",
      " 8   floor                 522 non-null    int64  \n",
      " 9   is_apartment          54 non-null     object \n",
      " 10  studio                522 non-null    bool   \n",
      " 11  open_plan             522 non-null    bool   \n",
      " 12  kitchen_area          422 non-null    float64\n",
      " 13  balcony               280 non-null    float64\n",
      " 14  locality_name         522 non-null    object \n",
      " 15  airports_nearest      0 non-null      float64\n",
      " 16  cityCenters_nearest   0 non-null      float64\n",
      " 17  parks_around3000      0 non-null      float64\n",
      " 18  parks_nearest         0 non-null      float64\n",
      " 19  ponds_around3000      0 non-null      float64\n",
      " 20  ponds_nearest         0 non-null      float64\n",
      " 21  days_exposition       517 non-null    float64\n",
      "dtypes: bool(2), float64(14), int64(3), object(3)\n",
      "memory usage: 86.7+ KB\n"
     ]
    }
   ],
   "source": [
    "# Примеры, где все картографические столбцы имеют значения None \n",
    "#df[df['locality_name'] == 'городской посёлок Янино-1'].info()\n",
    "df[df['locality_name'] == 'посёлок Мурино'].info()"
   ]
  },
  {
   "cell_type": "code",
   "execution_count": 9,
   "metadata": {},
   "outputs": [],
   "source": [
    "# Изменим None на 0\n",
    "df.loc[df['balcony'].isna(), 'balcony'] = 0.0\n",
    "# Изменим None на False\n",
    "df.loc[df['is_apartment'].isna(), 'is_apartment'] = False"
   ]
  },
  {
   "cell_type": "markdown",
   "metadata": {},
   "source": [
    "Пропуски в стоблах можно объяснить разными причинами, например, в столцах ceiling_height, living_area и других, связанных с размерами, человек мог не знать их значений, не знать как их посчитать или счел не важным их заполнять. Заполнить их довольно сложно. \n",
    "\n",
    "Но можно предположить, что если нет значений в столбце balony или is_apartment, то это значит, что балкон в жилье отсутствует или жилье не является апартаментами, соответственно. И вместо отсутсвующих значений можно поставить False. \n",
    "\n",
    "Есть определенная закономерность в столбцах с отсутствующими значениями с картографическими данными. Встречаются строки, где нет значений сразу в нескольких \"картогрфических\" столбцах - airports_nearest\tcityCenters_nearest\tparks_around3000\tparks_nearest\tponds_around3000\tponds_nearest. \n",
    "Это можно объяснить ошибками при создании этой таблицы, следует обратиться к людям, приславшим файл. \n",
    "\n",
    "Столбец locality_name довольно важен, возможно следует отфильтровать строки, где значение locality_name отсутсвует, тем более что их всего 0.002% от всех строк в таблице. \n",
    "\n",
    "В столцах parks_nearest и ponds_nearest самое большое количество отсутствующих значений, 15620 и 14589, соответсвенно. Возможно, это значит, что в пределах 3км от объекта нет ни парка, ни водоема."
   ]
  },
  {
   "cell_type": "code",
   "execution_count": 10,
   "metadata": {},
   "outputs": [
    {
     "data": {
      "text/plain": [
       "0"
      ]
     },
     "execution_count": 10,
     "metadata": {},
     "output_type": "execute_result"
    }
   ],
   "source": [
    "df['ceiling_height'] = df['ceiling_height'].fillna(df['ceiling_height'].median())\n",
    "df['ceiling_height'].isna().sum()"
   ]
  },
  {
   "cell_type": "code",
   "execution_count": 11,
   "metadata": {},
   "outputs": [],
   "source": [
    "# 2.2. Изменим тип столбца first_day_exposition на datetime\n",
    "df['first_day_exposition'] = pd.to_datetime(\n",
    "    df['first_day_exposition'], format='%Y-%m-%dT%H:%M:%S'\n",
    ")"
   ]
  },
  {
   "cell_type": "markdown",
   "metadata": {},
   "source": [
    "Используя специальный тип данных datetime можно применять арифметические операции. "
   ]
  },
  {
   "cell_type": "code",
   "execution_count": 12,
   "metadata": {},
   "outputs": [
    {
     "data": {
      "text/plain": [
       "364"
      ]
     },
     "execution_count": 12,
     "metadata": {},
     "output_type": "execute_result"
    }
   ],
   "source": [
    "# 2.3. Избавимся от неявных дубликатов\n",
    "df['locality_name'].nunique()"
   ]
  },
  {
   "cell_type": "code",
   "execution_count": 13,
   "metadata": {},
   "outputs": [
    {
     "data": {
      "text/plain": [
       "['Бокситогорск',\n",
       " 'Волосово',\n",
       " 'Волхов',\n",
       " 'Всеволожск',\n",
       " 'Выборг',\n",
       " 'Высоцк',\n",
       " 'Гатчина',\n",
       " 'Зеленогорск',\n",
       " 'Ивангород',\n",
       " 'Каменногорск',\n",
       " 'Кингисепп',\n",
       " 'Кириши',\n",
       " 'Кировск',\n",
       " 'Колпино',\n",
       " 'Коммунар',\n",
       " 'Красное Село',\n",
       " 'Кронштадт',\n",
       " 'Кудрово',\n",
       " 'Лодейное Поле',\n",
       " 'Ломоносов',\n",
       " 'Луга',\n",
       " 'Любань',\n",
       " 'Мурино',\n",
       " 'Никольское',\n",
       " 'Новая Ладога',\n",
       " 'Отрадное',\n",
       " 'Павловск',\n",
       " 'Петергоф',\n",
       " 'Пикалёво',\n",
       " 'Подпорожье',\n",
       " 'Приморск',\n",
       " 'Приозерск',\n",
       " 'Пушкин',\n",
       " 'Санкт-Петербург',\n",
       " 'Светогорск',\n",
       " 'Сертолово',\n",
       " 'Сестрорецк',\n",
       " 'Сланцы',\n",
       " 'Сосновый Бор',\n",
       " 'Сясьстрой',\n",
       " 'Тихвин',\n",
       " 'Тосно',\n",
       " 'Шлиссельбург',\n",
       " 'городской поселок Большая Ижора',\n",
       " 'городской поселок Янино-1',\n",
       " 'городской посёлок Будогощь',\n",
       " 'городской посёлок Виллози',\n",
       " 'городской посёлок Лесогорский',\n",
       " 'городской посёлок Мга',\n",
       " 'городской посёлок Назия',\n",
       " 'городской посёлок Новоселье',\n",
       " 'городской посёлок Павлово',\n",
       " 'городской посёлок Рощино',\n",
       " 'городской посёлок Свирьстрой',\n",
       " 'городской посёлок Советский',\n",
       " 'городской посёлок Фёдоровское',\n",
       " 'городской посёлок Янино-1',\n",
       " 'деревня Агалатово',\n",
       " 'деревня Аро',\n",
       " 'деревня Батово',\n",
       " 'деревня Бегуницы',\n",
       " 'деревня Белогорка',\n",
       " 'деревня Большая Вруда',\n",
       " 'деревня Большая Пустомержа',\n",
       " 'деревня Большие Колпаны',\n",
       " 'деревня Большое Рейзино',\n",
       " 'деревня Большой Сабск',\n",
       " 'деревня Бор',\n",
       " 'деревня Борисова Грива',\n",
       " 'деревня Ваганово',\n",
       " 'деревня Вартемяги',\n",
       " 'деревня Вахнова Кара',\n",
       " 'деревня Выскатка',\n",
       " 'деревня Гарболово',\n",
       " 'деревня Глинка',\n",
       " 'деревня Горбунки',\n",
       " 'деревня Гостилицы',\n",
       " 'деревня Заклинье',\n",
       " 'деревня Заневка',\n",
       " 'деревня Зимитицы',\n",
       " 'деревня Извара',\n",
       " 'деревня Иссад',\n",
       " 'деревня Калитино',\n",
       " 'деревня Кальтино',\n",
       " 'деревня Камышовка',\n",
       " 'деревня Каськово',\n",
       " 'деревня Келози',\n",
       " 'деревня Кипень',\n",
       " 'деревня Кисельня',\n",
       " 'деревня Колтуши',\n",
       " 'деревня Коркино',\n",
       " 'деревня Котлы',\n",
       " 'деревня Кривко',\n",
       " 'деревня Кудрово',\n",
       " 'деревня Кузьмолово',\n",
       " 'деревня Курковицы',\n",
       " 'деревня Куровицы',\n",
       " 'деревня Куттузи',\n",
       " 'деревня Лаврики',\n",
       " 'деревня Лаголово',\n",
       " 'деревня Лампово',\n",
       " 'деревня Лесколово',\n",
       " 'деревня Лопухинка',\n",
       " 'деревня Лупполово',\n",
       " 'деревня Малая Романовка',\n",
       " 'деревня Малое Верево',\n",
       " 'деревня Малое Карлино',\n",
       " 'деревня Малые Колпаны',\n",
       " 'деревня Мануйлово',\n",
       " 'деревня Меньково',\n",
       " 'деревня Мины',\n",
       " 'деревня Мистолово',\n",
       " 'деревня Ненимяки',\n",
       " 'деревня Нижние Осельки',\n",
       " 'деревня Нижняя',\n",
       " 'деревня Низино',\n",
       " 'деревня Новое Девяткино',\n",
       " 'деревня Новолисино',\n",
       " 'деревня Нурма',\n",
       " 'деревня Оржицы',\n",
       " 'деревня Парицы',\n",
       " 'деревня Пельгора',\n",
       " 'деревня Пеники',\n",
       " 'деревня Пижма',\n",
       " 'деревня Пикколово',\n",
       " 'деревня Пудомяги',\n",
       " 'деревня Пустынка',\n",
       " 'деревня Пчева',\n",
       " 'деревня Рабитицы',\n",
       " 'деревня Разбегаево',\n",
       " 'деревня Раздолье',\n",
       " 'деревня Разметелево',\n",
       " 'деревня Рапполово',\n",
       " 'деревня Реброво',\n",
       " 'деревня Русско',\n",
       " 'деревня Сижно',\n",
       " 'деревня Снегирёвка',\n",
       " 'деревня Старая',\n",
       " 'деревня Старая Пустошь',\n",
       " 'деревня Старое Хинколово',\n",
       " 'деревня Старополье',\n",
       " 'деревня Старосиверская',\n",
       " 'деревня Старые Бегуницы',\n",
       " 'деревня Суоранда',\n",
       " 'деревня Сяськелево',\n",
       " 'деревня Тарасово',\n",
       " 'деревня Терпилицы',\n",
       " 'деревня Тихковицы',\n",
       " 'деревня Тойворово',\n",
       " 'деревня Торосово',\n",
       " 'деревня Торошковичи',\n",
       " 'деревня Трубников Бор',\n",
       " 'деревня Фалилеево',\n",
       " 'деревня Фёдоровское',\n",
       " 'деревня Хапо-Ое',\n",
       " 'деревня Хязельки',\n",
       " 'деревня Чудской Бор',\n",
       " 'деревня Шпаньково',\n",
       " 'деревня Щеглово',\n",
       " 'деревня Юкки',\n",
       " 'деревня Ялгино',\n",
       " 'деревня Яльгелево',\n",
       " 'деревня Ям-Тесово',\n",
       " 'коттеджный поселок Кивеннапа Север',\n",
       " 'коттеджный поселок Счастье',\n",
       " 'коттеджный посёлок Лесное',\n",
       " 'поселок Аннино',\n",
       " 'поселок Барышево',\n",
       " 'поселок Бугры',\n",
       " 'поселок Возрождение',\n",
       " 'поселок Войсковицы',\n",
       " 'поселок Володарское',\n",
       " 'поселок Гаврилово',\n",
       " 'поселок Гарболово',\n",
       " 'поселок Гладкое',\n",
       " 'поселок Глажево',\n",
       " 'поселок Глебычево',\n",
       " 'поселок Гончарово',\n",
       " 'поселок Громово',\n",
       " 'поселок Дружноселье',\n",
       " 'поселок Елизаветино',\n",
       " 'поселок Жилгородок',\n",
       " 'поселок Жилпосёлок',\n",
       " 'поселок Житково',\n",
       " 'поселок Заводской',\n",
       " 'поселок Запорожское',\n",
       " 'поселок Зимитицы',\n",
       " 'поселок Ильичёво',\n",
       " 'поселок Калитино',\n",
       " 'поселок Каложицы',\n",
       " 'поселок Кингисеппский',\n",
       " 'поселок Кирпичное',\n",
       " 'поселок Кобралово',\n",
       " 'поселок Кобринское',\n",
       " 'поселок Коммунары',\n",
       " 'поселок Коробицыно',\n",
       " 'поселок Котельский',\n",
       " 'поселок Красная Долина',\n",
       " 'поселок Красносельское',\n",
       " 'поселок Лесное',\n",
       " 'поселок Лисий Нос',\n",
       " 'поселок Лукаши',\n",
       " 'поселок Любань',\n",
       " 'поселок Мельниково',\n",
       " 'поселок Мичуринское',\n",
       " 'поселок Молодцово',\n",
       " 'поселок Мурино',\n",
       " 'поселок Новый Свет',\n",
       " 'поселок Новый Учхоз',\n",
       " 'поселок Оредеж',\n",
       " 'поселок Пансионат Зелёный Бор',\n",
       " 'поселок Первомайское',\n",
       " 'поселок Перово',\n",
       " 'поселок Петровское',\n",
       " 'поселок Победа',\n",
       " 'поселок Поляны',\n",
       " 'поселок Почап',\n",
       " 'поселок Починок',\n",
       " 'поселок Пушное',\n",
       " 'поселок Пчевжа',\n",
       " 'поселок Рабитицы',\n",
       " 'поселок Романовка',\n",
       " 'поселок Ромашки',\n",
       " 'поселок Рябово',\n",
       " 'поселок Севастьяново',\n",
       " 'поселок Селезнёво',\n",
       " 'поселок Сельцо',\n",
       " 'поселок Семиозерье',\n",
       " 'поселок Семрино',\n",
       " 'поселок Серебрянский',\n",
       " 'поселок Совхозный',\n",
       " 'поселок Старая Малукса',\n",
       " 'поселок Стеклянный',\n",
       " 'поселок Сумино',\n",
       " 'поселок Суходолье',\n",
       " 'поселок Тельмана',\n",
       " 'поселок Терволово',\n",
       " 'поселок Торковичи',\n",
       " 'поселок Тёсово-4',\n",
       " 'поселок Углово',\n",
       " 'поселок Усть-Луга',\n",
       " 'поселок Ушаки',\n",
       " 'поселок Цвелодубово',\n",
       " 'поселок Цвылёво',\n",
       " 'поселок городского типа Большая Ижора',\n",
       " 'поселок городского типа Вырица',\n",
       " 'поселок городского типа Дружная Горка',\n",
       " 'поселок городского типа Дубровка',\n",
       " 'поселок городского типа Ефимовский',\n",
       " 'поселок городского типа Кондратьево',\n",
       " 'поселок городского типа Красный Бор',\n",
       " 'поселок городского типа Кузьмоловский',\n",
       " 'поселок городского типа Лебяжье',\n",
       " 'поселок городского типа Лесогорский',\n",
       " 'поселок городского типа Назия',\n",
       " 'поселок городского типа Никольский',\n",
       " 'поселок городского типа Приладожский',\n",
       " 'поселок городского типа Рахья',\n",
       " 'поселок городского типа Рощино',\n",
       " 'поселок городского типа Рябово',\n",
       " 'поселок городского типа Синявино',\n",
       " 'поселок городского типа Советский',\n",
       " 'поселок городского типа Токсово',\n",
       " 'поселок городского типа Форносово',\n",
       " 'поселок городского типа имени Свердлова',\n",
       " 'поселок станции Вещево',\n",
       " 'поселок станции Корнево',\n",
       " 'поселок станции Лужайка',\n",
       " 'поселок станции Приветнинское',\n",
       " 'посёлок Александровская',\n",
       " 'посёлок Алексеевка',\n",
       " 'посёлок Аннино',\n",
       " 'посёлок Белоостров',\n",
       " 'посёлок Бугры',\n",
       " 'посёлок Возрождение',\n",
       " 'посёлок Войскорово',\n",
       " 'посёлок Высокоключевой',\n",
       " 'посёлок Гаврилово',\n",
       " 'посёлок Дзержинского',\n",
       " 'посёлок Жилгородок',\n",
       " 'посёлок Ильичёво',\n",
       " 'посёлок Кикерино',\n",
       " 'посёлок Кобралово',\n",
       " 'посёлок Коробицыно',\n",
       " 'посёлок Левашово',\n",
       " 'посёлок Ленинское',\n",
       " 'посёлок Лисий Нос',\n",
       " 'посёлок Мельниково',\n",
       " 'посёлок Металлострой',\n",
       " 'посёлок Мичуринское',\n",
       " 'посёлок Молодёжное',\n",
       " 'посёлок Мурино',\n",
       " 'посёлок Мыза-Ивановка',\n",
       " 'посёлок Новогорелово',\n",
       " 'посёлок Новый Свет',\n",
       " 'посёлок Пансионат Зелёный Бор',\n",
       " 'посёлок Парголово',\n",
       " 'посёлок Перово',\n",
       " 'посёлок Песочный',\n",
       " 'посёлок Петро-Славянка',\n",
       " 'посёлок Петровское',\n",
       " 'посёлок Платформа 69-й километр',\n",
       " 'посёлок Плодовое',\n",
       " 'посёлок Плоское',\n",
       " 'посёлок Победа',\n",
       " 'посёлок Поляны',\n",
       " 'посёлок Понтонный',\n",
       " 'посёлок Пригородный',\n",
       " 'посёлок Пудость',\n",
       " 'посёлок Репино',\n",
       " 'посёлок Ропша',\n",
       " 'посёлок Сапёрное',\n",
       " 'посёлок Сапёрный',\n",
       " 'посёлок Сосново',\n",
       " 'посёлок Старая Малукса',\n",
       " 'посёлок Стеклянный',\n",
       " 'посёлок Стрельна',\n",
       " 'посёлок Суйда',\n",
       " 'посёлок Сумино',\n",
       " 'посёлок Тельмана',\n",
       " 'посёлок Терволово',\n",
       " 'посёлок Торфяное',\n",
       " 'посёлок Усть-Ижора',\n",
       " 'посёлок Усть-Луга',\n",
       " 'посёлок Форт Красная Горка',\n",
       " 'посёлок Шугозеро',\n",
       " 'посёлок Шушары',\n",
       " 'посёлок Щеглово',\n",
       " 'посёлок городского типа Важины',\n",
       " 'посёлок городского типа Вознесенье',\n",
       " 'посёлок городского типа Вырица',\n",
       " 'посёлок городского типа Красный Бор',\n",
       " 'посёлок городского типа Кузнечное',\n",
       " 'посёлок городского типа Кузьмоловский',\n",
       " 'посёлок городского типа Лебяжье',\n",
       " 'посёлок городского типа Мга',\n",
       " 'посёлок городского типа Павлово',\n",
       " 'посёлок городского типа Рощино',\n",
       " 'посёлок городского типа Рябово',\n",
       " 'посёлок городского типа Сиверский',\n",
       " 'посёлок городского типа Тайцы',\n",
       " 'посёлок городского типа Токсово',\n",
       " 'посёлок городского типа Ульяновка',\n",
       " 'посёлок городского типа Форносово',\n",
       " 'посёлок городского типа имени Морозова',\n",
       " 'посёлок городского типа имени Свердлова',\n",
       " 'посёлок при железнодорожной станции Вещево',\n",
       " 'посёлок при железнодорожной станции Приветнинское',\n",
       " 'посёлок станции Громово',\n",
       " 'посёлок станции Свирь',\n",
       " 'садоводческое некоммерческое товарищество Лесная Поляна',\n",
       " 'садовое товарищество Новая Ропша',\n",
       " 'садовое товарищество Приладожский',\n",
       " 'садовое товарищество Рахья',\n",
       " 'садовое товарищество Садко',\n",
       " 'село Копорье',\n",
       " 'село Никольское',\n",
       " 'село Павлово',\n",
       " 'село Паша',\n",
       " 'село Путилово',\n",
       " 'село Рождествено',\n",
       " 'село Русско-Высоцкое',\n",
       " 'село Старая Ладога',\n",
       " 'село Шум']"
      ]
     },
     "execution_count": 13,
     "metadata": {},
     "output_type": "execute_result"
    }
   ],
   "source": [
    "# Посмотрим на уникальные значения в locality_name\n",
    "locality_name = list(df['locality_name'].unique())\n",
    "locality_name.sort()\n",
    "locality_name"
   ]
  },
  {
   "cell_type": "markdown",
   "metadata": {},
   "source": [
    "Создадим новый столбец locality_name_shorten у добавим в него населенные пункты без обозначения типа населенного пункта так мы избавимся от 1) дубликатов по типу \"поселок\" и \"посёлок\" 2) дубликатов, где один и тот же населенный пункт обозначают, например, как поселок городского типа в одном случае и городской поселок в другом."
   ]
  },
  {
   "cell_type": "code",
   "execution_count": 14,
   "metadata": {},
   "outputs": [
    {
     "data": {
      "text/plain": [
       "305"
      ]
     },
     "execution_count": 14,
     "metadata": {},
     "output_type": "execute_result"
    }
   ],
   "source": [
    "df['locality_name_shorten'] = df['locality_name']\n",
    "df['locality_name_shorten'] = df['locality_name_shorten'].str.replace('поселок городского типа ','')\n",
    "df['locality_name_shorten'] = df['locality_name_shorten'].str.replace('поселок станции ','')\n",
    "df['locality_name_shorten'] = df['locality_name_shorten'].str.replace('посёлок городского типа ','')\n",
    "df['locality_name_shorten'] = df['locality_name_shorten'].str.replace('посёлок при железнодорожной станции ','')\n",
    "df['locality_name_shorten'] = df['locality_name_shorten'].str.replace('посёлок станции ','')\n",
    "df['locality_name_shorten'] = df['locality_name_shorten'].str.replace('городской поселок ','')\n",
    "df['locality_name_shorten'] = df['locality_name_shorten'].str.replace('городской посёлок ','')\n",
    "df['locality_name_shorten'] = df['locality_name_shorten'].str.replace('деревня ','')\n",
    "df['locality_name_shorten'] = df['locality_name_shorten'].str.replace('поселок ','')\n",
    "df['locality_name_shorten'] = df['locality_name_shorten'].str.replace('посёлок ','')\n",
    "df['locality_name_shorten'] = df['locality_name_shorten'].str.replace('садоводческое некоммерческое товарищество ','')\n",
    "df['locality_name_shorten'] = df['locality_name_shorten'].str.replace('садовое товарищество ','')\n",
    "df['locality_name_shorten'] = df['locality_name_shorten'].str.replace('село ','')\n",
    "df['locality_name_shorten'] = df['locality_name_shorten'].str.replace('имени ','')\n",
    "df['locality_name_shorten'] = df['locality_name_shorten'].str.replace('коттеджный ','')\n",
    "df['locality_name_shorten'].nunique()"
   ]
  },
  {
   "cell_type": "code",
   "execution_count": 15,
   "metadata": {},
   "outputs": [
    {
     "data": {
      "text/plain": [
       "['Агалатово',\n",
       " 'Александровская',\n",
       " 'Алексеевка',\n",
       " 'Аннино',\n",
       " 'Аро',\n",
       " 'Барышево',\n",
       " 'Батово',\n",
       " 'Бегуницы',\n",
       " 'Белогорка',\n",
       " 'Белоостров',\n",
       " 'Бокситогорск',\n",
       " 'Большая Вруда',\n",
       " 'Большая Ижора',\n",
       " 'Большая Пустомержа',\n",
       " 'Большие Колпаны',\n",
       " 'Большое Рейзино',\n",
       " 'Большой Сабск',\n",
       " 'Бор',\n",
       " 'Борисова Грива',\n",
       " 'Бугры',\n",
       " 'Будогощь',\n",
       " 'Ваганово',\n",
       " 'Важины',\n",
       " 'Вартемяги',\n",
       " 'Вахнова Кара',\n",
       " 'Вещево',\n",
       " 'Виллози',\n",
       " 'Вознесенье',\n",
       " 'Возрождение',\n",
       " 'Войсковицы',\n",
       " 'Войскорово',\n",
       " 'Володарское',\n",
       " 'Волосово',\n",
       " 'Волхов',\n",
       " 'Всеволожск',\n",
       " 'Выборг',\n",
       " 'Вырица',\n",
       " 'Выскатка',\n",
       " 'Высокоключевой',\n",
       " 'Высоцк',\n",
       " 'Гаврилово',\n",
       " 'Гарболово',\n",
       " 'Гатчина',\n",
       " 'Гладкое',\n",
       " 'Глажево',\n",
       " 'Глебычево',\n",
       " 'Глинка',\n",
       " 'Гончарово',\n",
       " 'Горбунки',\n",
       " 'Гостилицы',\n",
       " 'Громово',\n",
       " 'Дзержинского',\n",
       " 'Дружная Горка',\n",
       " 'Дружноселье',\n",
       " 'Дубровка',\n",
       " 'Елизаветино',\n",
       " 'Ефимовский',\n",
       " 'Жилгородок',\n",
       " 'Жилпосёлок',\n",
       " 'Житково',\n",
       " 'Заводской',\n",
       " 'Заклинье',\n",
       " 'Заневка',\n",
       " 'Запорожское',\n",
       " 'Зеленогорск',\n",
       " 'Зимитицы',\n",
       " 'Ивангород',\n",
       " 'Извара',\n",
       " 'Ильичёво',\n",
       " 'Иссад',\n",
       " 'Калитино',\n",
       " 'Каложицы',\n",
       " 'Кальтино',\n",
       " 'Каменногорск',\n",
       " 'Камышовка',\n",
       " 'Каськово',\n",
       " 'Келози',\n",
       " 'Кивеннапа Север',\n",
       " 'Кикерино',\n",
       " 'Кингисепп',\n",
       " 'Кингисеппский',\n",
       " 'Кипень',\n",
       " 'Кириши',\n",
       " 'Кировск',\n",
       " 'Кирпичное',\n",
       " 'Кисельня',\n",
       " 'Кобралово',\n",
       " 'Кобринское',\n",
       " 'Колпино',\n",
       " 'Колтуши',\n",
       " 'Коммунар',\n",
       " 'Коммунары',\n",
       " 'Кондратьево',\n",
       " 'Копорье',\n",
       " 'Коркино',\n",
       " 'Корнево',\n",
       " 'Коробицыно',\n",
       " 'Котельский',\n",
       " 'Котлы',\n",
       " 'Красная Долина',\n",
       " 'Красное Село',\n",
       " 'Красносельское',\n",
       " 'Красный Бор',\n",
       " 'Кривко',\n",
       " 'Кронштадт',\n",
       " 'Кудрово',\n",
       " 'Кузнечное',\n",
       " 'Кузьмолово',\n",
       " 'Кузьмоловский',\n",
       " 'Курковицы',\n",
       " 'Куровицы',\n",
       " 'Куттузи',\n",
       " 'Лаврики',\n",
       " 'Лаголово',\n",
       " 'Лампово',\n",
       " 'Лебяжье',\n",
       " 'Левашово',\n",
       " 'Ленинское',\n",
       " 'Лесколово',\n",
       " 'Лесная Поляна',\n",
       " 'Лесное',\n",
       " 'Лесогорский',\n",
       " 'Лисий Нос',\n",
       " 'Лодейное Поле',\n",
       " 'Ломоносов',\n",
       " 'Лопухинка',\n",
       " 'Луга',\n",
       " 'Лужайка',\n",
       " 'Лукаши',\n",
       " 'Лупполово',\n",
       " 'Любань',\n",
       " 'Малая Романовка',\n",
       " 'Малое Верево',\n",
       " 'Малое Карлино',\n",
       " 'Малые Колпаны',\n",
       " 'Мануйлово',\n",
       " 'Мга',\n",
       " 'Мельниково',\n",
       " 'Меньково',\n",
       " 'Металлострой',\n",
       " 'Мины',\n",
       " 'Мистолово',\n",
       " 'Мичуринское',\n",
       " 'Молодцово',\n",
       " 'Молодёжное',\n",
       " 'Морозова',\n",
       " 'Мурино',\n",
       " 'Мыза-Ивановка',\n",
       " 'Назия',\n",
       " 'Ненимяки',\n",
       " 'Нижние Осельки',\n",
       " 'Нижняя',\n",
       " 'Низино',\n",
       " 'Никольский',\n",
       " 'Никольское',\n",
       " 'Новая Ладога',\n",
       " 'Новая Ропша',\n",
       " 'Новогорелово',\n",
       " 'Новое Девяткино',\n",
       " 'Новолисино',\n",
       " 'Новоселье',\n",
       " 'Новый Свет',\n",
       " 'Новый Учхоз',\n",
       " 'Нурма',\n",
       " 'Оредеж',\n",
       " 'Оржицы',\n",
       " 'Отрадное',\n",
       " 'Павлово',\n",
       " 'Павловск',\n",
       " 'Пансионат Зелёный Бор',\n",
       " 'Парголово',\n",
       " 'Парицы',\n",
       " 'Паша',\n",
       " 'Пельгора',\n",
       " 'Пеники',\n",
       " 'Первомайское',\n",
       " 'Перово',\n",
       " 'Песочный',\n",
       " 'Петергоф',\n",
       " 'Петро-Славянка',\n",
       " 'Петровское',\n",
       " 'Пижма',\n",
       " 'Пикалёво',\n",
       " 'Пикколово',\n",
       " 'Платформа 69-й километр',\n",
       " 'Плодовое',\n",
       " 'Плоское',\n",
       " 'Победа',\n",
       " 'Подпорожье',\n",
       " 'Поляны',\n",
       " 'Понтонный',\n",
       " 'Почап',\n",
       " 'Починок',\n",
       " 'Приветнинское',\n",
       " 'Пригородный',\n",
       " 'Приладожский',\n",
       " 'Приморск',\n",
       " 'Приозерск',\n",
       " 'Пудомяги',\n",
       " 'Пудость',\n",
       " 'Пустынка',\n",
       " 'Путилово',\n",
       " 'Пушкин',\n",
       " 'Пушное',\n",
       " 'Пчева',\n",
       " 'Пчевжа',\n",
       " 'Рабитицы',\n",
       " 'Разбегаево',\n",
       " 'Раздолье',\n",
       " 'Разметелево',\n",
       " 'Рапполово',\n",
       " 'Рахья',\n",
       " 'Реброво',\n",
       " 'Репино',\n",
       " 'Рождествено',\n",
       " 'Романовка',\n",
       " 'Ромашки',\n",
       " 'Ропша',\n",
       " 'Рощино',\n",
       " 'Русско',\n",
       " 'Русско-Высоцкое',\n",
       " 'Рябово',\n",
       " 'Садко',\n",
       " 'Санкт-Петербург',\n",
       " 'Сапёрное',\n",
       " 'Сапёрный',\n",
       " 'Свердлова',\n",
       " 'Светогорск',\n",
       " 'Свирь',\n",
       " 'Свирьстрой',\n",
       " 'Севастьяново',\n",
       " 'Селезнёво',\n",
       " 'Сельцо',\n",
       " 'Семиозерье',\n",
       " 'Семрино',\n",
       " 'Серебрянский',\n",
       " 'Сертолово',\n",
       " 'Сестрорецк',\n",
       " 'Сиверский',\n",
       " 'Сижно',\n",
       " 'Синявино',\n",
       " 'Сланцы',\n",
       " 'Снегирёвка',\n",
       " 'Советский',\n",
       " 'Совхозный',\n",
       " 'Сосново',\n",
       " 'Сосновый Бор',\n",
       " 'Старая',\n",
       " 'Старая Ладога',\n",
       " 'Старая Малукса',\n",
       " 'Старая Пустошь',\n",
       " 'Старое Хинколово',\n",
       " 'Старополье',\n",
       " 'Старосиверская',\n",
       " 'Старые Бегуницы',\n",
       " 'Стеклянный',\n",
       " 'Стрельна',\n",
       " 'Суйда',\n",
       " 'Сумино',\n",
       " 'Суоранда',\n",
       " 'Суходолье',\n",
       " 'Счастье',\n",
       " 'Сяськелево',\n",
       " 'Сясьстрой',\n",
       " 'Тайцы',\n",
       " 'Тарасово',\n",
       " 'Тельмана',\n",
       " 'Терволово',\n",
       " 'Терпилицы',\n",
       " 'Тихвин',\n",
       " 'Тихковицы',\n",
       " 'Тойворово',\n",
       " 'Токсово',\n",
       " 'Торковичи',\n",
       " 'Торосово',\n",
       " 'Торошковичи',\n",
       " 'Торфяное',\n",
       " 'Тосно',\n",
       " 'Трубников Бор',\n",
       " 'Тёсово-4',\n",
       " 'Углово',\n",
       " 'Ульяновка',\n",
       " 'Усть-Ижора',\n",
       " 'Усть-Луга',\n",
       " 'Ушаки',\n",
       " 'Фалилеево',\n",
       " 'Форносово',\n",
       " 'Форт Красная Горка',\n",
       " 'Фёдоровское',\n",
       " 'Хапо-Ое',\n",
       " 'Хязельки',\n",
       " 'Цвелодубово',\n",
       " 'Цвылёво',\n",
       " 'Чудской Бор',\n",
       " 'Шлиссельбург',\n",
       " 'Шпаньково',\n",
       " 'Шугозеро',\n",
       " 'Шум',\n",
       " 'Шушары',\n",
       " 'Щеглово',\n",
       " 'Юкки',\n",
       " 'Ялгино',\n",
       " 'Яльгелево',\n",
       " 'Ям-Тесово',\n",
       " 'Янино-1']"
      ]
     },
     "execution_count": 15,
     "metadata": {},
     "output_type": "execute_result"
    }
   ],
   "source": [
    "locality_name_shorten = list(df['locality_name_shorten'].unique())\n",
    "locality_name_shorten.sort()\n",
    "locality_name_shorten"
   ]
  },
  {
   "cell_type": "code",
   "execution_count": 16,
   "metadata": {
    "scrolled": true
   },
   "outputs": [
    {
     "data": {
      "text/plain": [
       "1.1934426229508197"
      ]
     },
     "execution_count": 16,
     "metadata": {},
     "output_type": "execute_result"
    }
   ],
   "source": [
    "364/305"
   ]
  },
  {
   "cell_type": "markdown",
   "metadata": {},
   "source": [
    "Примерно на 20% уменьшилось количество неявных дубликтов. "
   ]
  },
  {
   "cell_type": "markdown",
   "metadata": {},
   "source": [
    "В сокращенной версии (после удаления типа населеного пункта) остались такие возможные дубликаты:\n",
    "- Жилпосёлок и Жилгородок\n",
    "- Кингисепп и Кингисеппский\n",
    "- Коммунар и Коммунары\n",
    "- Русско и Русско-Высоцкое\n",
    "\n",
    "Их разрешение потребует отдельного топонимического исследования, что выходит за рамки данного проекта. "
   ]
  },
  {
   "cell_type": "code",
   "execution_count": 17,
   "metadata": {},
   "outputs": [
    {
     "data": {
      "text/plain": [
       "(23650, 23)"
      ]
     },
     "execution_count": 17,
     "metadata": {},
     "output_type": "execute_result"
    }
   ],
   "source": [
    "df.shape"
   ]
  },
  {
   "cell_type": "code",
   "execution_count": 18,
   "metadata": {},
   "outputs": [
    {
     "data": {
      "image/png": "[encoded data removed]",
      "text/plain": [
       "<Figure size 1080x1440 with 20 Axes>"
      ]
     },
     "metadata": {
      "needs_background": "light"
     },
     "output_type": "display_data"
    }
   ],
   "source": [
    "# Редкие и выбивающиеся значения (аномалии)\n",
    "df.hist(figsize=(15, 20));"
   ]
  },
  {
   "cell_type": "code",
   "execution_count": 19,
   "metadata": {},
   "outputs": [
    {
     "data": {
      "text/html": [
       "<div>\n",
       "<style scoped>\n",
       "    .dataframe tbody tr th:only-of-type {\n",
       "        vertical-align: middle;\n",
       "    }\n",
       "\n",
       "    .dataframe tbody tr th {\n",
       "        vertical-align: top;\n",
       "    }\n",
       "\n",
       "    .dataframe thead th {\n",
       "        text-align: right;\n",
       "    }\n",
       "</style>\n",
       "<table border=\"1\" class=\"dataframe\">\n",
       "  <thead>\n",
       "    <tr style=\"text-align: right;\">\n",
       "      <th></th>\n",
       "      <th>total_images</th>\n",
       "      <th>last_price</th>\n",
       "      <th>total_area</th>\n",
       "      <th>rooms</th>\n",
       "      <th>ceiling_height</th>\n",
       "      <th>floors_total</th>\n",
       "      <th>living_area</th>\n",
       "      <th>floor</th>\n",
       "      <th>kitchen_area</th>\n",
       "      <th>balcony</th>\n",
       "      <th>airports_nearest</th>\n",
       "      <th>cityCenters_nearest</th>\n",
       "      <th>parks_around3000</th>\n",
       "      <th>parks_nearest</th>\n",
       "      <th>ponds_around3000</th>\n",
       "      <th>ponds_nearest</th>\n",
       "      <th>days_exposition</th>\n",
       "    </tr>\n",
       "  </thead>\n",
       "  <tbody>\n",
       "    <tr>\n",
       "      <th>count</th>\n",
       "      <td>23650.000000</td>\n",
       "      <td>2.365000e+04</td>\n",
       "      <td>23650.000000</td>\n",
       "      <td>23650.000000</td>\n",
       "      <td>23650.000000</td>\n",
       "      <td>23565.000000</td>\n",
       "      <td>21752.000000</td>\n",
       "      <td>23650.000000</td>\n",
       "      <td>21381.000000</td>\n",
       "      <td>23650.000000</td>\n",
       "      <td>18116.000000</td>\n",
       "      <td>18139.000000</td>\n",
       "      <td>18140.000000</td>\n",
       "      <td>8064.000000</td>\n",
       "      <td>18140.000000</td>\n",
       "      <td>9085.000000</td>\n",
       "      <td>20470.000000</td>\n",
       "    </tr>\n",
       "    <tr>\n",
       "      <th>mean</th>\n",
       "      <td>9.862326</td>\n",
       "      <td>6.541127e+06</td>\n",
       "      <td>60.329069</td>\n",
       "      <td>2.070106</td>\n",
       "      <td>2.724311</td>\n",
       "      <td>10.675875</td>\n",
       "      <td>34.448356</td>\n",
       "      <td>5.893277</td>\n",
       "      <td>10.566403</td>\n",
       "      <td>0.591712</td>\n",
       "      <td>28803.225878</td>\n",
       "      <td>14197.860742</td>\n",
       "      <td>0.611577</td>\n",
       "      <td>490.830729</td>\n",
       "      <td>0.769680</td>\n",
       "      <td>518.059879</td>\n",
       "      <td>180.753200</td>\n",
       "    </tr>\n",
       "    <tr>\n",
       "      <th>std</th>\n",
       "      <td>5.682278</td>\n",
       "      <td>1.089640e+07</td>\n",
       "      <td>35.661808</td>\n",
       "      <td>1.078620</td>\n",
       "      <td>0.989255</td>\n",
       "      <td>6.594823</td>\n",
       "      <td>22.037664</td>\n",
       "      <td>4.883317</td>\n",
       "      <td>5.901753</td>\n",
       "      <td>0.959662</td>\n",
       "      <td>12637.314144</td>\n",
       "      <td>8606.830295</td>\n",
       "      <td>0.802003</td>\n",
       "      <td>342.554386</td>\n",
       "      <td>0.937948</td>\n",
       "      <td>277.841733</td>\n",
       "      <td>219.777916</td>\n",
       "    </tr>\n",
       "    <tr>\n",
       "      <th>min</th>\n",
       "      <td>0.000000</td>\n",
       "      <td>1.219000e+04</td>\n",
       "      <td>12.000000</td>\n",
       "      <td>0.000000</td>\n",
       "      <td>1.000000</td>\n",
       "      <td>1.000000</td>\n",
       "      <td>2.000000</td>\n",
       "      <td>1.000000</td>\n",
       "      <td>1.300000</td>\n",
       "      <td>0.000000</td>\n",
       "      <td>0.000000</td>\n",
       "      <td>181.000000</td>\n",
       "      <td>0.000000</td>\n",
       "      <td>1.000000</td>\n",
       "      <td>0.000000</td>\n",
       "      <td>13.000000</td>\n",
       "      <td>1.000000</td>\n",
       "    </tr>\n",
       "    <tr>\n",
       "      <th>25%</th>\n",
       "      <td>6.000000</td>\n",
       "      <td>3.400000e+06</td>\n",
       "      <td>40.000000</td>\n",
       "      <td>1.000000</td>\n",
       "      <td>2.600000</td>\n",
       "      <td>5.000000</td>\n",
       "      <td>18.600000</td>\n",
       "      <td>2.000000</td>\n",
       "      <td>7.000000</td>\n",
       "      <td>0.000000</td>\n",
       "      <td>18575.750000</td>\n",
       "      <td>9241.000000</td>\n",
       "      <td>0.000000</td>\n",
       "      <td>288.000000</td>\n",
       "      <td>0.000000</td>\n",
       "      <td>293.000000</td>\n",
       "      <td>45.000000</td>\n",
       "    </tr>\n",
       "    <tr>\n",
       "      <th>50%</th>\n",
       "      <td>9.000000</td>\n",
       "      <td>4.650000e+06</td>\n",
       "      <td>52.000000</td>\n",
       "      <td>2.000000</td>\n",
       "      <td>2.650000</td>\n",
       "      <td>9.000000</td>\n",
       "      <td>30.000000</td>\n",
       "      <td>4.000000</td>\n",
       "      <td>9.100000</td>\n",
       "      <td>0.000000</td>\n",
       "      <td>26756.500000</td>\n",
       "      <td>13105.000000</td>\n",
       "      <td>0.000000</td>\n",
       "      <td>454.500000</td>\n",
       "      <td>1.000000</td>\n",
       "      <td>502.000000</td>\n",
       "      <td>95.000000</td>\n",
       "    </tr>\n",
       "    <tr>\n",
       "      <th>75%</th>\n",
       "      <td>14.000000</td>\n",
       "      <td>6.799000e+06</td>\n",
       "      <td>69.700000</td>\n",
       "      <td>3.000000</td>\n",
       "      <td>2.700000</td>\n",
       "      <td>16.000000</td>\n",
       "      <td>42.300000</td>\n",
       "      <td>8.000000</td>\n",
       "      <td>12.000000</td>\n",
       "      <td>1.000000</td>\n",
       "      <td>37294.000000</td>\n",
       "      <td>16293.000000</td>\n",
       "      <td>1.000000</td>\n",
       "      <td>612.000000</td>\n",
       "      <td>1.000000</td>\n",
       "      <td>730.000000</td>\n",
       "      <td>231.000000</td>\n",
       "    </tr>\n",
       "    <tr>\n",
       "      <th>max</th>\n",
       "      <td>50.000000</td>\n",
       "      <td>7.630000e+08</td>\n",
       "      <td>900.000000</td>\n",
       "      <td>19.000000</td>\n",
       "      <td>100.000000</td>\n",
       "      <td>60.000000</td>\n",
       "      <td>409.700000</td>\n",
       "      <td>33.000000</td>\n",
       "      <td>112.000000</td>\n",
       "      <td>5.000000</td>\n",
       "      <td>84869.000000</td>\n",
       "      <td>65968.000000</td>\n",
       "      <td>3.000000</td>\n",
       "      <td>3190.000000</td>\n",
       "      <td>3.000000</td>\n",
       "      <td>1344.000000</td>\n",
       "      <td>1580.000000</td>\n",
       "    </tr>\n",
       "  </tbody>\n",
       "</table>\n",
       "</div>"
      ],
      "text/plain": [
       "       total_images    last_price    total_area         rooms  ceiling_height  \\\n",
       "count  23650.000000  2.365000e+04  23650.000000  23650.000000    23650.000000   \n",
       "mean       9.862326  6.541127e+06     60.329069      2.070106        2.724311   \n",
       "std        5.682278  1.089640e+07     35.661808      1.078620        0.989255   \n",
       "min        0.000000  1.219000e+04     12.000000      0.000000        1.000000   \n",
       "25%        6.000000  3.400000e+06     40.000000      1.000000        2.600000   \n",
       "50%        9.000000  4.650000e+06     52.000000      2.000000        2.650000   \n",
       "75%       14.000000  6.799000e+06     69.700000      3.000000        2.700000   \n",
       "max       50.000000  7.630000e+08    900.000000     19.000000      100.000000   \n",
       "\n",
       "       floors_total   living_area         floor  kitchen_area       balcony  \\\n",
       "count  23565.000000  21752.000000  23650.000000  21381.000000  23650.000000   \n",
       "mean      10.675875     34.448356      5.893277     10.566403      0.591712   \n",
       "std        6.594823     22.037664      4.883317      5.901753      0.959662   \n",
       "min        1.000000      2.000000      1.000000      1.300000      0.000000   \n",
       "25%        5.000000     18.600000      2.000000      7.000000      0.000000   \n",
       "50%        9.000000     30.000000      4.000000      9.100000      0.000000   \n",
       "75%       16.000000     42.300000      8.000000     12.000000      1.000000   \n",
       "max       60.000000    409.700000     33.000000    112.000000      5.000000   \n",
       "\n",
       "       airports_nearest  cityCenters_nearest  parks_around3000  parks_nearest  \\\n",
       "count      18116.000000         18139.000000      18140.000000    8064.000000   \n",
       "mean       28803.225878         14197.860742          0.611577     490.830729   \n",
       "std        12637.314144          8606.830295          0.802003     342.554386   \n",
       "min            0.000000           181.000000          0.000000       1.000000   \n",
       "25%        18575.750000          9241.000000          0.000000     288.000000   \n",
       "50%        26756.500000         13105.000000          0.000000     454.500000   \n",
       "75%        37294.000000         16293.000000          1.000000     612.000000   \n",
       "max        84869.000000         65968.000000          3.000000    3190.000000   \n",
       "\n",
       "       ponds_around3000  ponds_nearest  days_exposition  \n",
       "count      18140.000000    9085.000000     20470.000000  \n",
       "mean           0.769680     518.059879       180.753200  \n",
       "std            0.937948     277.841733       219.777916  \n",
       "min            0.000000      13.000000         1.000000  \n",
       "25%            0.000000     293.000000        45.000000  \n",
       "50%            1.000000     502.000000        95.000000  \n",
       "75%            1.000000     730.000000       231.000000  \n",
       "max            3.000000    1344.000000      1580.000000  "
      ]
     },
     "execution_count": 19,
     "metadata": {},
     "output_type": "execute_result"
    }
   ],
   "source": [
    "df.describe()"
   ]
  },
  {
   "cell_type": "code",
   "execution_count": 20,
   "metadata": {},
   "outputs": [
    {
     "data": {
      "text/plain": [
       "array([  1.  ,   1.2 ,   1.75,   2.  ,   2.2 ,   2.25,   2.3 ,   2.34,\n",
       "         2.4 ,   2.45,   2.46,   2.47,   2.48,   2.49,   2.5 ,   2.51,\n",
       "         2.52,   2.53,   2.54,   2.55,   2.56,   2.57,   2.58,   2.59,\n",
       "         2.6 ,   2.61,   2.62,   2.63,   2.64,   2.65,   2.66,   2.67,\n",
       "         2.68,   2.69,   2.7 ,   2.71,   2.72,   2.73,   2.74,   2.75,\n",
       "         2.76,   2.77,   2.78,   2.79,   2.8 ,   2.81,   2.82,   2.83,\n",
       "         2.84,   2.85,   2.86,   2.87,   2.88,   2.89,   2.9 ,   2.91,\n",
       "         2.92,   2.93,   2.94,   2.95,   2.96,   2.97,   2.98,   2.99,\n",
       "         3.  ,   3.01,   3.02,   3.03,   3.04,   3.05,   3.06,   3.07,\n",
       "         3.08,   3.09,   3.1 ,   3.11,   3.12,   3.13,   3.14,   3.15,\n",
       "         3.16,   3.17,   3.18,   3.2 ,   3.21,   3.22,   3.23,   3.24,\n",
       "         3.25,   3.26,   3.27,   3.28,   3.29,   3.3 ,   3.31,   3.32,\n",
       "         3.33,   3.34,   3.35,   3.36,   3.37,   3.38,   3.39,   3.4 ,\n",
       "         3.42,   3.43,   3.44,   3.45,   3.46,   3.47,   3.48,   3.49,\n",
       "         3.5 ,   3.51,   3.52,   3.53,   3.54,   3.55,   3.56,   3.57,\n",
       "         3.58,   3.59,   3.6 ,   3.62,   3.63,   3.65,   3.66,   3.67,\n",
       "         3.68,   3.69,   3.7 ,   3.75,   3.76,   3.78,   3.8 ,   3.82,\n",
       "         3.83,   3.84,   3.85,   3.86,   3.87,   3.88,   3.9 ,   3.93,\n",
       "         3.95,   3.98,   4.  ,   4.06,   4.1 ,   4.14,   4.15,   4.19,\n",
       "         4.2 ,   4.25,   4.3 ,   4.37,   4.4 ,   4.45,   4.5 ,   4.65,\n",
       "         4.7 ,   4.8 ,   4.9 ,   5.  ,   5.2 ,   5.3 ,   5.5 ,   5.6 ,\n",
       "         5.8 ,   6.  ,   8.  ,   8.3 ,  10.3 ,  14.  ,  20.  ,  22.6 ,\n",
       "        24.  ,  25.  ,  26.  ,  27.  ,  27.5 ,  32.  , 100.  ])"
      ]
     },
     "execution_count": 20,
     "metadata": {},
     "output_type": "execute_result"
    }
   ],
   "source": [
    "# посмотрим какие значения есть в столбце ceiling_height\n",
    "arr = df['ceiling_height'].unique()\n",
    "arr.sort(axis=0)\n",
    "arr"
   ]
  },
  {
   "cell_type": "markdown",
   "metadata": {},
   "source": [
    "1) Вряд ли есть жилье с вытой потолка 1 метр - их можно удалить. \n",
    "2) Есть значения, к примеру, 25 м и 32 м. Логично предположить, что на самом деле это вещественные значения: 2.5 м и 3.2 м\n",
    "3) Есть значение 100м, его тоже удалим (отфильтруем)."
   ]
  },
  {
   "cell_type": "code",
   "execution_count": 21,
   "metadata": {},
   "outputs": [],
   "source": [
    "df = df[df['ceiling_height'] > 1.3] "
   ]
  },
  {
   "cell_type": "code",
   "execution_count": 22,
   "metadata": {},
   "outputs": [
    {
     "data": {
      "text/plain": [
       "(23648, 23)"
      ]
     },
     "execution_count": 22,
     "metadata": {},
     "output_type": "execute_result"
    }
   ],
   "source": [
    "df.shape"
   ]
  },
  {
   "cell_type": "code",
   "execution_count": 23,
   "metadata": {},
   "outputs": [],
   "source": [
    "# один объект с выстой потолка 100 метров, даже если предположить, что имели в виду 10м, \n",
    "# то выглядит странным, отфильтруем его\n",
    "df = df[df['ceiling_height'] != 100]"
   ]
  },
  {
   "cell_type": "code",
   "execution_count": 24,
   "metadata": {},
   "outputs": [
    {
     "data": {
      "text/plain": [
       "(23647, 23)"
      ]
     },
     "execution_count": 24,
     "metadata": {},
     "output_type": "execute_result"
    }
   ],
   "source": [
    "df.shape"
   ]
  },
  {
   "cell_type": "code",
   "execution_count": 25,
   "metadata": {},
   "outputs": [
    {
     "data": {
      "text/plain": [
       "27.0    8\n",
       "25.0    7\n",
       "8.0     3\n",
       "32.0    2\n",
       "14.0    1\n",
       "20.0    1\n",
       "24.0    1\n",
       "27.5    1\n",
       "5.8     1\n",
       "10.3    1\n",
       "8.3     1\n",
       "6.0     1\n",
       "22.6    1\n",
       "26.0    1\n",
       "Name: ceiling_height, dtype: int64"
      ]
     },
     "execution_count": 25,
     "metadata": {},
     "output_type": "execute_result"
    }
   ],
   "source": [
    "df[df['ceiling_height'] > 5.6]['ceiling_height'].value_counts()"
   ]
  },
  {
   "cell_type": "code",
   "execution_count": 26,
   "metadata": {},
   "outputs": [],
   "source": [
    "# Возможно есть жилье с высотой потолка 5.6 метра, но все, что выше - делим на 10 и смотрим,  \n",
    "# в разумных ли пределах (от 1.75 до 5 метров) полученное число, \n",
    "# если да - то оставляем его, если нет - заменяем на None\n",
    "def get_ceiling_height(height):\n",
    "    if height > 5.6:\n",
    "        if (height / 10) > 2:\n",
    "            return round((height / 10), 2)\n",
    "        else:\n",
    "            return np.nan\n",
    "    else: \n",
    "        return height\n",
    "        \n",
    "df.loc[:, 'ceiling_height'] = df.loc[:, 'ceiling_height'].apply(get_ceiling_height)"
   ]
  },
  {
   "cell_type": "code",
   "execution_count": 27,
   "metadata": {},
   "outputs": [
    {
     "data": {
      "text/html": [
       "<div>\n",
       "<style scoped>\n",
       "    .dataframe tbody tr th:only-of-type {\n",
       "        vertical-align: middle;\n",
       "    }\n",
       "\n",
       "    .dataframe tbody tr th {\n",
       "        vertical-align: top;\n",
       "    }\n",
       "\n",
       "    .dataframe thead th {\n",
       "        text-align: right;\n",
       "    }\n",
       "</style>\n",
       "<table border=\"1\" class=\"dataframe\">\n",
       "  <thead>\n",
       "    <tr style=\"text-align: right;\">\n",
       "      <th></th>\n",
       "      <th>total_images</th>\n",
       "      <th>last_price</th>\n",
       "      <th>total_area</th>\n",
       "      <th>first_day_exposition</th>\n",
       "      <th>rooms</th>\n",
       "      <th>ceiling_height</th>\n",
       "      <th>floors_total</th>\n",
       "      <th>living_area</th>\n",
       "      <th>floor</th>\n",
       "      <th>is_apartment</th>\n",
       "      <th>studio</th>\n",
       "      <th>open_plan</th>\n",
       "      <th>kitchen_area</th>\n",
       "      <th>balcony</th>\n",
       "      <th>locality_name</th>\n",
       "      <th>airports_nearest</th>\n",
       "      <th>cityCenters_nearest</th>\n",
       "      <th>parks_around3000</th>\n",
       "      <th>parks_nearest</th>\n",
       "      <th>ponds_around3000</th>\n",
       "      <th>ponds_nearest</th>\n",
       "      <th>days_exposition</th>\n",
       "      <th>locality_name_shorten</th>\n",
       "    </tr>\n",
       "  </thead>\n",
       "  <tbody>\n",
       "    <tr>\n",
       "      <th>0</th>\n",
       "      <td>20</td>\n",
       "      <td>13000000.0</td>\n",
       "      <td>108.00</td>\n",
       "      <td>2019-03-07</td>\n",
       "      <td>3</td>\n",
       "      <td>2.70</td>\n",
       "      <td>16.0</td>\n",
       "      <td>51.00</td>\n",
       "      <td>8</td>\n",
       "      <td>False</td>\n",
       "      <td>False</td>\n",
       "      <td>False</td>\n",
       "      <td>25.00</td>\n",
       "      <td>0.0</td>\n",
       "      <td>Санкт-Петербург</td>\n",
       "      <td>18863.0</td>\n",
       "      <td>16028.0</td>\n",
       "      <td>1.0</td>\n",
       "      <td>482.0</td>\n",
       "      <td>2.0</td>\n",
       "      <td>755.0</td>\n",
       "      <td>NaN</td>\n",
       "      <td>Санкт-Петербург</td>\n",
       "    </tr>\n",
       "    <tr>\n",
       "      <th>1</th>\n",
       "      <td>7</td>\n",
       "      <td>3350000.0</td>\n",
       "      <td>40.40</td>\n",
       "      <td>2018-12-04</td>\n",
       "      <td>1</td>\n",
       "      <td>2.65</td>\n",
       "      <td>11.0</td>\n",
       "      <td>18.60</td>\n",
       "      <td>1</td>\n",
       "      <td>False</td>\n",
       "      <td>False</td>\n",
       "      <td>False</td>\n",
       "      <td>11.00</td>\n",
       "      <td>2.0</td>\n",
       "      <td>посёлок Шушары</td>\n",
       "      <td>12817.0</td>\n",
       "      <td>18603.0</td>\n",
       "      <td>0.0</td>\n",
       "      <td>NaN</td>\n",
       "      <td>0.0</td>\n",
       "      <td>NaN</td>\n",
       "      <td>81.0</td>\n",
       "      <td>Шушары</td>\n",
       "    </tr>\n",
       "    <tr>\n",
       "      <th>2</th>\n",
       "      <td>10</td>\n",
       "      <td>5196000.0</td>\n",
       "      <td>56.00</td>\n",
       "      <td>2015-08-20</td>\n",
       "      <td>2</td>\n",
       "      <td>2.65</td>\n",
       "      <td>5.0</td>\n",
       "      <td>34.30</td>\n",
       "      <td>4</td>\n",
       "      <td>False</td>\n",
       "      <td>False</td>\n",
       "      <td>False</td>\n",
       "      <td>8.30</td>\n",
       "      <td>0.0</td>\n",
       "      <td>Санкт-Петербург</td>\n",
       "      <td>21741.0</td>\n",
       "      <td>13933.0</td>\n",
       "      <td>1.0</td>\n",
       "      <td>90.0</td>\n",
       "      <td>2.0</td>\n",
       "      <td>574.0</td>\n",
       "      <td>558.0</td>\n",
       "      <td>Санкт-Петербург</td>\n",
       "    </tr>\n",
       "    <tr>\n",
       "      <th>3</th>\n",
       "      <td>0</td>\n",
       "      <td>64900000.0</td>\n",
       "      <td>159.00</td>\n",
       "      <td>2015-07-24</td>\n",
       "      <td>3</td>\n",
       "      <td>2.65</td>\n",
       "      <td>14.0</td>\n",
       "      <td>NaN</td>\n",
       "      <td>9</td>\n",
       "      <td>False</td>\n",
       "      <td>False</td>\n",
       "      <td>False</td>\n",
       "      <td>NaN</td>\n",
       "      <td>0.0</td>\n",
       "      <td>Санкт-Петербург</td>\n",
       "      <td>28098.0</td>\n",
       "      <td>6800.0</td>\n",
       "      <td>2.0</td>\n",
       "      <td>84.0</td>\n",
       "      <td>3.0</td>\n",
       "      <td>234.0</td>\n",
       "      <td>424.0</td>\n",
       "      <td>Санкт-Петербург</td>\n",
       "    </tr>\n",
       "    <tr>\n",
       "      <th>4</th>\n",
       "      <td>2</td>\n",
       "      <td>10000000.0</td>\n",
       "      <td>100.00</td>\n",
       "      <td>2018-06-19</td>\n",
       "      <td>2</td>\n",
       "      <td>3.03</td>\n",
       "      <td>14.0</td>\n",
       "      <td>32.00</td>\n",
       "      <td>13</td>\n",
       "      <td>False</td>\n",
       "      <td>False</td>\n",
       "      <td>False</td>\n",
       "      <td>41.00</td>\n",
       "      <td>0.0</td>\n",
       "      <td>Санкт-Петербург</td>\n",
       "      <td>31856.0</td>\n",
       "      <td>8098.0</td>\n",
       "      <td>2.0</td>\n",
       "      <td>112.0</td>\n",
       "      <td>1.0</td>\n",
       "      <td>48.0</td>\n",
       "      <td>121.0</td>\n",
       "      <td>Санкт-Петербург</td>\n",
       "    </tr>\n",
       "    <tr>\n",
       "      <th>5</th>\n",
       "      <td>10</td>\n",
       "      <td>2890000.0</td>\n",
       "      <td>30.40</td>\n",
       "      <td>2018-09-10</td>\n",
       "      <td>1</td>\n",
       "      <td>2.65</td>\n",
       "      <td>12.0</td>\n",
       "      <td>14.40</td>\n",
       "      <td>5</td>\n",
       "      <td>False</td>\n",
       "      <td>False</td>\n",
       "      <td>False</td>\n",
       "      <td>9.10</td>\n",
       "      <td>0.0</td>\n",
       "      <td>городской посёлок Янино-1</td>\n",
       "      <td>NaN</td>\n",
       "      <td>NaN</td>\n",
       "      <td>NaN</td>\n",
       "      <td>NaN</td>\n",
       "      <td>NaN</td>\n",
       "      <td>NaN</td>\n",
       "      <td>55.0</td>\n",
       "      <td>Янино-1</td>\n",
       "    </tr>\n",
       "    <tr>\n",
       "      <th>6</th>\n",
       "      <td>6</td>\n",
       "      <td>3700000.0</td>\n",
       "      <td>37.30</td>\n",
       "      <td>2017-11-02</td>\n",
       "      <td>1</td>\n",
       "      <td>2.65</td>\n",
       "      <td>26.0</td>\n",
       "      <td>10.60</td>\n",
       "      <td>6</td>\n",
       "      <td>False</td>\n",
       "      <td>False</td>\n",
       "      <td>False</td>\n",
       "      <td>14.40</td>\n",
       "      <td>1.0</td>\n",
       "      <td>посёлок Парголово</td>\n",
       "      <td>52996.0</td>\n",
       "      <td>19143.0</td>\n",
       "      <td>0.0</td>\n",
       "      <td>NaN</td>\n",
       "      <td>0.0</td>\n",
       "      <td>NaN</td>\n",
       "      <td>155.0</td>\n",
       "      <td>Парголово</td>\n",
       "    </tr>\n",
       "    <tr>\n",
       "      <th>7</th>\n",
       "      <td>5</td>\n",
       "      <td>7915000.0</td>\n",
       "      <td>71.60</td>\n",
       "      <td>2019-04-18</td>\n",
       "      <td>2</td>\n",
       "      <td>2.65</td>\n",
       "      <td>24.0</td>\n",
       "      <td>NaN</td>\n",
       "      <td>22</td>\n",
       "      <td>False</td>\n",
       "      <td>False</td>\n",
       "      <td>False</td>\n",
       "      <td>18.90</td>\n",
       "      <td>2.0</td>\n",
       "      <td>Санкт-Петербург</td>\n",
       "      <td>23982.0</td>\n",
       "      <td>11634.0</td>\n",
       "      <td>0.0</td>\n",
       "      <td>NaN</td>\n",
       "      <td>0.0</td>\n",
       "      <td>NaN</td>\n",
       "      <td>NaN</td>\n",
       "      <td>Санкт-Петербург</td>\n",
       "    </tr>\n",
       "    <tr>\n",
       "      <th>8</th>\n",
       "      <td>20</td>\n",
       "      <td>2900000.0</td>\n",
       "      <td>33.16</td>\n",
       "      <td>2018-05-23</td>\n",
       "      <td>1</td>\n",
       "      <td>2.65</td>\n",
       "      <td>27.0</td>\n",
       "      <td>15.43</td>\n",
       "      <td>26</td>\n",
       "      <td>False</td>\n",
       "      <td>False</td>\n",
       "      <td>False</td>\n",
       "      <td>8.81</td>\n",
       "      <td>0.0</td>\n",
       "      <td>посёлок Мурино</td>\n",
       "      <td>NaN</td>\n",
       "      <td>NaN</td>\n",
       "      <td>NaN</td>\n",
       "      <td>NaN</td>\n",
       "      <td>NaN</td>\n",
       "      <td>NaN</td>\n",
       "      <td>189.0</td>\n",
       "      <td>Мурино</td>\n",
       "    </tr>\n",
       "    <tr>\n",
       "      <th>9</th>\n",
       "      <td>18</td>\n",
       "      <td>5400000.0</td>\n",
       "      <td>61.00</td>\n",
       "      <td>2017-02-26</td>\n",
       "      <td>3</td>\n",
       "      <td>2.50</td>\n",
       "      <td>9.0</td>\n",
       "      <td>43.60</td>\n",
       "      <td>7</td>\n",
       "      <td>False</td>\n",
       "      <td>False</td>\n",
       "      <td>False</td>\n",
       "      <td>6.50</td>\n",
       "      <td>2.0</td>\n",
       "      <td>Санкт-Петербург</td>\n",
       "      <td>50898.0</td>\n",
       "      <td>15008.0</td>\n",
       "      <td>0.0</td>\n",
       "      <td>NaN</td>\n",
       "      <td>0.0</td>\n",
       "      <td>NaN</td>\n",
       "      <td>289.0</td>\n",
       "      <td>Санкт-Петербург</td>\n",
       "    </tr>\n",
       "    <tr>\n",
       "      <th>10</th>\n",
       "      <td>5</td>\n",
       "      <td>5050000.0</td>\n",
       "      <td>39.60</td>\n",
       "      <td>2017-11-16</td>\n",
       "      <td>1</td>\n",
       "      <td>2.67</td>\n",
       "      <td>12.0</td>\n",
       "      <td>20.30</td>\n",
       "      <td>3</td>\n",
       "      <td>False</td>\n",
       "      <td>False</td>\n",
       "      <td>False</td>\n",
       "      <td>8.50</td>\n",
       "      <td>0.0</td>\n",
       "      <td>Санкт-Петербург</td>\n",
       "      <td>38357.0</td>\n",
       "      <td>13878.0</td>\n",
       "      <td>1.0</td>\n",
       "      <td>310.0</td>\n",
       "      <td>2.0</td>\n",
       "      <td>553.0</td>\n",
       "      <td>137.0</td>\n",
       "      <td>Санкт-Петербург</td>\n",
       "    </tr>\n",
       "    <tr>\n",
       "      <th>11</th>\n",
       "      <td>9</td>\n",
       "      <td>3300000.0</td>\n",
       "      <td>44.00</td>\n",
       "      <td>2018-08-27</td>\n",
       "      <td>2</td>\n",
       "      <td>2.65</td>\n",
       "      <td>5.0</td>\n",
       "      <td>31.00</td>\n",
       "      <td>4</td>\n",
       "      <td>False</td>\n",
       "      <td>False</td>\n",
       "      <td>False</td>\n",
       "      <td>6.00</td>\n",
       "      <td>1.0</td>\n",
       "      <td>Ломоносов</td>\n",
       "      <td>48252.0</td>\n",
       "      <td>51677.0</td>\n",
       "      <td>0.0</td>\n",
       "      <td>NaN</td>\n",
       "      <td>0.0</td>\n",
       "      <td>NaN</td>\n",
       "      <td>7.0</td>\n",
       "      <td>Ломоносов</td>\n",
       "    </tr>\n",
       "    <tr>\n",
       "      <th>12</th>\n",
       "      <td>10</td>\n",
       "      <td>3890000.0</td>\n",
       "      <td>54.00</td>\n",
       "      <td>2016-06-30</td>\n",
       "      <td>2</td>\n",
       "      <td>2.65</td>\n",
       "      <td>5.0</td>\n",
       "      <td>30.00</td>\n",
       "      <td>5</td>\n",
       "      <td>False</td>\n",
       "      <td>False</td>\n",
       "      <td>False</td>\n",
       "      <td>9.00</td>\n",
       "      <td>0.0</td>\n",
       "      <td>Сертолово</td>\n",
       "      <td>NaN</td>\n",
       "      <td>NaN</td>\n",
       "      <td>NaN</td>\n",
       "      <td>NaN</td>\n",
       "      <td>NaN</td>\n",
       "      <td>NaN</td>\n",
       "      <td>90.0</td>\n",
       "      <td>Сертолово</td>\n",
       "    </tr>\n",
       "    <tr>\n",
       "      <th>13</th>\n",
       "      <td>20</td>\n",
       "      <td>3550000.0</td>\n",
       "      <td>42.80</td>\n",
       "      <td>2017-07-01</td>\n",
       "      <td>2</td>\n",
       "      <td>2.56</td>\n",
       "      <td>5.0</td>\n",
       "      <td>27.00</td>\n",
       "      <td>5</td>\n",
       "      <td>False</td>\n",
       "      <td>False</td>\n",
       "      <td>False</td>\n",
       "      <td>5.20</td>\n",
       "      <td>1.0</td>\n",
       "      <td>Петергоф</td>\n",
       "      <td>37868.0</td>\n",
       "      <td>33058.0</td>\n",
       "      <td>1.0</td>\n",
       "      <td>294.0</td>\n",
       "      <td>3.0</td>\n",
       "      <td>298.0</td>\n",
       "      <td>366.0</td>\n",
       "      <td>Петергоф</td>\n",
       "    </tr>\n",
       "    <tr>\n",
       "      <th>14</th>\n",
       "      <td>1</td>\n",
       "      <td>4400000.0</td>\n",
       "      <td>36.00</td>\n",
       "      <td>2016-06-23</td>\n",
       "      <td>1</td>\n",
       "      <td>2.65</td>\n",
       "      <td>6.0</td>\n",
       "      <td>17.00</td>\n",
       "      <td>1</td>\n",
       "      <td>False</td>\n",
       "      <td>False</td>\n",
       "      <td>False</td>\n",
       "      <td>8.00</td>\n",
       "      <td>0.0</td>\n",
       "      <td>Пушкин</td>\n",
       "      <td>20782.0</td>\n",
       "      <td>30759.0</td>\n",
       "      <td>0.0</td>\n",
       "      <td>NaN</td>\n",
       "      <td>1.0</td>\n",
       "      <td>96.0</td>\n",
       "      <td>203.0</td>\n",
       "      <td>Пушкин</td>\n",
       "    </tr>\n",
       "    <tr>\n",
       "      <th>15</th>\n",
       "      <td>16</td>\n",
       "      <td>4650000.0</td>\n",
       "      <td>39.00</td>\n",
       "      <td>2017-11-18</td>\n",
       "      <td>1</td>\n",
       "      <td>2.65</td>\n",
       "      <td>14.0</td>\n",
       "      <td>20.50</td>\n",
       "      <td>5</td>\n",
       "      <td>False</td>\n",
       "      <td>False</td>\n",
       "      <td>False</td>\n",
       "      <td>7.60</td>\n",
       "      <td>1.0</td>\n",
       "      <td>Санкт-Петербург</td>\n",
       "      <td>12900.0</td>\n",
       "      <td>14259.0</td>\n",
       "      <td>1.0</td>\n",
       "      <td>590.0</td>\n",
       "      <td>1.0</td>\n",
       "      <td>296.0</td>\n",
       "      <td>19.0</td>\n",
       "      <td>Санкт-Петербург</td>\n",
       "    </tr>\n",
       "    <tr>\n",
       "      <th>16</th>\n",
       "      <td>11</td>\n",
       "      <td>6700000.0</td>\n",
       "      <td>82.00</td>\n",
       "      <td>2017-11-23</td>\n",
       "      <td>3</td>\n",
       "      <td>3.05</td>\n",
       "      <td>5.0</td>\n",
       "      <td>55.60</td>\n",
       "      <td>1</td>\n",
       "      <td>False</td>\n",
       "      <td>False</td>\n",
       "      <td>False</td>\n",
       "      <td>9.00</td>\n",
       "      <td>0.0</td>\n",
       "      <td>Санкт-Петербург</td>\n",
       "      <td>22108.0</td>\n",
       "      <td>10698.0</td>\n",
       "      <td>3.0</td>\n",
       "      <td>420.0</td>\n",
       "      <td>0.0</td>\n",
       "      <td>NaN</td>\n",
       "      <td>397.0</td>\n",
       "      <td>Санкт-Петербург</td>\n",
       "    </tr>\n",
       "    <tr>\n",
       "      <th>17</th>\n",
       "      <td>6</td>\n",
       "      <td>4180000.0</td>\n",
       "      <td>36.00</td>\n",
       "      <td>2016-09-09</td>\n",
       "      <td>1</td>\n",
       "      <td>2.65</td>\n",
       "      <td>17.0</td>\n",
       "      <td>16.50</td>\n",
       "      <td>7</td>\n",
       "      <td>False</td>\n",
       "      <td>False</td>\n",
       "      <td>False</td>\n",
       "      <td>11.00</td>\n",
       "      <td>1.0</td>\n",
       "      <td>Санкт-Петербург</td>\n",
       "      <td>33564.0</td>\n",
       "      <td>14616.0</td>\n",
       "      <td>0.0</td>\n",
       "      <td>NaN</td>\n",
       "      <td>1.0</td>\n",
       "      <td>859.0</td>\n",
       "      <td>571.0</td>\n",
       "      <td>Санкт-Петербург</td>\n",
       "    </tr>\n",
       "    <tr>\n",
       "      <th>18</th>\n",
       "      <td>8</td>\n",
       "      <td>3250000.0</td>\n",
       "      <td>31.00</td>\n",
       "      <td>2017-01-27</td>\n",
       "      <td>1</td>\n",
       "      <td>2.50</td>\n",
       "      <td>5.0</td>\n",
       "      <td>19.40</td>\n",
       "      <td>2</td>\n",
       "      <td>False</td>\n",
       "      <td>False</td>\n",
       "      <td>False</td>\n",
       "      <td>5.60</td>\n",
       "      <td>1.0</td>\n",
       "      <td>Санкт-Петербург</td>\n",
       "      <td>44060.0</td>\n",
       "      <td>10842.0</td>\n",
       "      <td>1.0</td>\n",
       "      <td>759.0</td>\n",
       "      <td>0.0</td>\n",
       "      <td>NaN</td>\n",
       "      <td>168.0</td>\n",
       "      <td>Санкт-Петербург</td>\n",
       "    </tr>\n",
       "    <tr>\n",
       "      <th>19</th>\n",
       "      <td>16</td>\n",
       "      <td>14200000.0</td>\n",
       "      <td>121.00</td>\n",
       "      <td>2019-01-09</td>\n",
       "      <td>3</td>\n",
       "      <td>2.75</td>\n",
       "      <td>16.0</td>\n",
       "      <td>76.00</td>\n",
       "      <td>8</td>\n",
       "      <td>False</td>\n",
       "      <td>False</td>\n",
       "      <td>False</td>\n",
       "      <td>12.00</td>\n",
       "      <td>0.0</td>\n",
       "      <td>Санкт-Петербург</td>\n",
       "      <td>38900.0</td>\n",
       "      <td>12843.0</td>\n",
       "      <td>0.0</td>\n",
       "      <td>NaN</td>\n",
       "      <td>0.0</td>\n",
       "      <td>NaN</td>\n",
       "      <td>97.0</td>\n",
       "      <td>Санкт-Петербург</td>\n",
       "    </tr>\n",
       "  </tbody>\n",
       "</table>\n",
       "</div>"
      ],
      "text/plain": [
       "    total_images  last_price  total_area first_day_exposition  rooms  \\\n",
       "0             20  13000000.0      108.00           2019-03-07      3   \n",
       "1              7   3350000.0       40.40           2018-12-04      1   \n",
       "2             10   5196000.0       56.00           2015-08-20      2   \n",
       "3              0  64900000.0      159.00           2015-07-24      3   \n",
       "4              2  10000000.0      100.00           2018-06-19      2   \n",
       "5             10   2890000.0       30.40           2018-09-10      1   \n",
       "6              6   3700000.0       37.30           2017-11-02      1   \n",
       "7              5   7915000.0       71.60           2019-04-18      2   \n",
       "8             20   2900000.0       33.16           2018-05-23      1   \n",
       "9             18   5400000.0       61.00           2017-02-26      3   \n",
       "10             5   5050000.0       39.60           2017-11-16      1   \n",
       "11             9   3300000.0       44.00           2018-08-27      2   \n",
       "12            10   3890000.0       54.00           2016-06-30      2   \n",
       "13            20   3550000.0       42.80           2017-07-01      2   \n",
       "14             1   4400000.0       36.00           2016-06-23      1   \n",
       "15            16   4650000.0       39.00           2017-11-18      1   \n",
       "16            11   6700000.0       82.00           2017-11-23      3   \n",
       "17             6   4180000.0       36.00           2016-09-09      1   \n",
       "18             8   3250000.0       31.00           2017-01-27      1   \n",
       "19            16  14200000.0      121.00           2019-01-09      3   \n",
       "\n",
       "    ceiling_height  floors_total  living_area  floor is_apartment  studio  \\\n",
       "0             2.70          16.0        51.00      8        False   False   \n",
       "1             2.65          11.0        18.60      1        False   False   \n",
       "2             2.65           5.0        34.30      4        False   False   \n",
       "3             2.65          14.0          NaN      9        False   False   \n",
       "4             3.03          14.0        32.00     13        False   False   \n",
       "5             2.65          12.0        14.40      5        False   False   \n",
       "6             2.65          26.0        10.60      6        False   False   \n",
       "7             2.65          24.0          NaN     22        False   False   \n",
       "8             2.65          27.0        15.43     26        False   False   \n",
       "9             2.50           9.0        43.60      7        False   False   \n",
       "10            2.67          12.0        20.30      3        False   False   \n",
       "11            2.65           5.0        31.00      4        False   False   \n",
       "12            2.65           5.0        30.00      5        False   False   \n",
       "13            2.56           5.0        27.00      5        False   False   \n",
       "14            2.65           6.0        17.00      1        False   False   \n",
       "15            2.65          14.0        20.50      5        False   False   \n",
       "16            3.05           5.0        55.60      1        False   False   \n",
       "17            2.65          17.0        16.50      7        False   False   \n",
       "18            2.50           5.0        19.40      2        False   False   \n",
       "19            2.75          16.0        76.00      8        False   False   \n",
       "\n",
       "    open_plan  kitchen_area  balcony              locality_name  \\\n",
       "0       False         25.00      0.0            Санкт-Петербург   \n",
       "1       False         11.00      2.0             посёлок Шушары   \n",
       "2       False          8.30      0.0            Санкт-Петербург   \n",
       "3       False           NaN      0.0            Санкт-Петербург   \n",
       "4       False         41.00      0.0            Санкт-Петербург   \n",
       "5       False          9.10      0.0  городской посёлок Янино-1   \n",
       "6       False         14.40      1.0          посёлок Парголово   \n",
       "7       False         18.90      2.0            Санкт-Петербург   \n",
       "8       False          8.81      0.0             посёлок Мурино   \n",
       "9       False          6.50      2.0            Санкт-Петербург   \n",
       "10      False          8.50      0.0            Санкт-Петербург   \n",
       "11      False          6.00      1.0                  Ломоносов   \n",
       "12      False          9.00      0.0                  Сертолово   \n",
       "13      False          5.20      1.0                   Петергоф   \n",
       "14      False          8.00      0.0                     Пушкин   \n",
       "15      False          7.60      1.0            Санкт-Петербург   \n",
       "16      False          9.00      0.0            Санкт-Петербург   \n",
       "17      False         11.00      1.0            Санкт-Петербург   \n",
       "18      False          5.60      1.0            Санкт-Петербург   \n",
       "19      False         12.00      0.0            Санкт-Петербург   \n",
       "\n",
       "    airports_nearest  cityCenters_nearest  parks_around3000  parks_nearest  \\\n",
       "0            18863.0              16028.0               1.0          482.0   \n",
       "1            12817.0              18603.0               0.0            NaN   \n",
       "2            21741.0              13933.0               1.0           90.0   \n",
       "3            28098.0               6800.0               2.0           84.0   \n",
       "4            31856.0               8098.0               2.0          112.0   \n",
       "5                NaN                  NaN               NaN            NaN   \n",
       "6            52996.0              19143.0               0.0            NaN   \n",
       "7            23982.0              11634.0               0.0            NaN   \n",
       "8                NaN                  NaN               NaN            NaN   \n",
       "9            50898.0              15008.0               0.0            NaN   \n",
       "10           38357.0              13878.0               1.0          310.0   \n",
       "11           48252.0              51677.0               0.0            NaN   \n",
       "12               NaN                  NaN               NaN            NaN   \n",
       "13           37868.0              33058.0               1.0          294.0   \n",
       "14           20782.0              30759.0               0.0            NaN   \n",
       "15           12900.0              14259.0               1.0          590.0   \n",
       "16           22108.0              10698.0               3.0          420.0   \n",
       "17           33564.0              14616.0               0.0            NaN   \n",
       "18           44060.0              10842.0               1.0          759.0   \n",
       "19           38900.0              12843.0               0.0            NaN   \n",
       "\n",
       "    ponds_around3000  ponds_nearest  days_exposition locality_name_shorten  \n",
       "0                2.0          755.0              NaN       Санкт-Петербург  \n",
       "1                0.0            NaN             81.0                Шушары  \n",
       "2                2.0          574.0            558.0       Санкт-Петербург  \n",
       "3                3.0          234.0            424.0       Санкт-Петербург  \n",
       "4                1.0           48.0            121.0       Санкт-Петербург  \n",
       "5                NaN            NaN             55.0               Янино-1  \n",
       "6                0.0            NaN            155.0             Парголово  \n",
       "7                0.0            NaN              NaN       Санкт-Петербург  \n",
       "8                NaN            NaN            189.0                Мурино  \n",
       "9                0.0            NaN            289.0       Санкт-Петербург  \n",
       "10               2.0          553.0            137.0       Санкт-Петербург  \n",
       "11               0.0            NaN              7.0             Ломоносов  \n",
       "12               NaN            NaN             90.0             Сертолово  \n",
       "13               3.0          298.0            366.0              Петергоф  \n",
       "14               1.0           96.0            203.0                Пушкин  \n",
       "15               1.0          296.0             19.0       Санкт-Петербург  \n",
       "16               0.0            NaN            397.0       Санкт-Петербург  \n",
       "17               1.0          859.0            571.0       Санкт-Петербург  \n",
       "18               0.0            NaN            168.0       Санкт-Петербург  \n",
       "19               0.0            NaN             97.0       Санкт-Петербург  "
      ]
     },
     "execution_count": 27,
     "metadata": {},
     "output_type": "execute_result"
    }
   ],
   "source": [
    "df.head(20)"
   ]
  },
  {
   "cell_type": "code",
   "execution_count": 28,
   "metadata": {},
   "outputs": [
    {
     "data": {
      "text/plain": [
       "Series([], Name: ceiling_height, dtype: int64)"
      ]
     },
     "execution_count": 28,
     "metadata": {},
     "output_type": "execute_result"
    }
   ],
   "source": [
    "df[df['ceiling_height'] > 5.6]['ceiling_height'].value_counts()"
   ]
  },
  {
   "cell_type": "code",
   "execution_count": 29,
   "metadata": {},
   "outputs": [
    {
     "data": {
      "text/plain": [
       "9"
      ]
     },
     "execution_count": 29,
     "metadata": {},
     "output_type": "execute_result"
    }
   ],
   "source": [
    "len(df[df['ceiling_height'].isna()])\n"
   ]
  },
  {
   "cell_type": "code",
   "execution_count": 30,
   "metadata": {},
   "outputs": [],
   "source": [
    "# если жилая площадь составляет меньше 20% от общей, \n",
    "# то будем считать это не нормальным и удилим такие объявления\n",
    "df['living_area'] = df['living_area'].where(\n",
    "    df['living_area'] / df['total_area'] > 0.2, np.nan\n",
    ")"
   ]
  },
  {
   "cell_type": "markdown",
   "metadata": {},
   "source": [
    "Довольно много отсутствующих значений в столбцах высоты потолка и площади. В таблице собраны объявления о продаже квартир т.е. жилых помещений, при этом в столбце living_area встречаются значения и 2 кв. метра, что весьма странно, поэтому, если жилая площадь составляет меньше 20% от общей, то заменим эти значения на np.nan"
   ]
  },
  {
   "cell_type": "markdown",
   "metadata": {},
   "source": [
    "Мы определили в каких столбцах есть отсутствующие значения и сколько их. Порассуждали над природой пропусков, это может быть и человеческий фактор и несовершеннство программ. Там где возможно, изменили значения на более подходящие, как например, в столбце ceiling_height. Также, мы на 20% сократили число неявнях дубликатов в столбце locality_name. "
   ]
  },
  {
   "cell_type": "code",
   "execution_count": 31,
   "metadata": {},
   "outputs": [
    {
     "data": {
      "text/html": [
       "<div>\n",
       "<style scoped>\n",
       "    .dataframe tbody tr th:only-of-type {\n",
       "        vertical-align: middle;\n",
       "    }\n",
       "\n",
       "    .dataframe tbody tr th {\n",
       "        vertical-align: top;\n",
       "    }\n",
       "\n",
       "    .dataframe thead th {\n",
       "        text-align: right;\n",
       "    }\n",
       "</style>\n",
       "<table border=\"1\" class=\"dataframe\">\n",
       "  <thead>\n",
       "    <tr style=\"text-align: right;\">\n",
       "      <th></th>\n",
       "      <th>total_images</th>\n",
       "      <th>last_price</th>\n",
       "      <th>total_area</th>\n",
       "      <th>rooms</th>\n",
       "      <th>ceiling_height</th>\n",
       "      <th>floors_total</th>\n",
       "      <th>living_area</th>\n",
       "      <th>floor</th>\n",
       "      <th>kitchen_area</th>\n",
       "      <th>balcony</th>\n",
       "      <th>airports_nearest</th>\n",
       "      <th>cityCenters_nearest</th>\n",
       "      <th>parks_around3000</th>\n",
       "      <th>parks_nearest</th>\n",
       "      <th>ponds_around3000</th>\n",
       "      <th>ponds_nearest</th>\n",
       "      <th>days_exposition</th>\n",
       "    </tr>\n",
       "  </thead>\n",
       "  <tbody>\n",
       "    <tr>\n",
       "      <th>count</th>\n",
       "      <td>23647.000000</td>\n",
       "      <td>2.364700e+04</td>\n",
       "      <td>23647.000000</td>\n",
       "      <td>23647.000000</td>\n",
       "      <td>23638.000000</td>\n",
       "      <td>23562.000000</td>\n",
       "      <td>21729.000000</td>\n",
       "      <td>23647.000000</td>\n",
       "      <td>21378.000000</td>\n",
       "      <td>23647.000000</td>\n",
       "      <td>18114.000000</td>\n",
       "      <td>18137.000000</td>\n",
       "      <td>18138.000000</td>\n",
       "      <td>8062.000000</td>\n",
       "      <td>18138.000000</td>\n",
       "      <td>9083.000000</td>\n",
       "      <td>20467.000000</td>\n",
       "    </tr>\n",
       "    <tr>\n",
       "      <th>mean</th>\n",
       "      <td>9.862689</td>\n",
       "      <td>6.541005e+06</td>\n",
       "      <td>60.331530</td>\n",
       "      <td>2.070157</td>\n",
       "      <td>2.696495</td>\n",
       "      <td>10.676428</td>\n",
       "      <td>34.470175</td>\n",
       "      <td>5.893475</td>\n",
       "      <td>10.566660</td>\n",
       "      <td>0.591576</td>\n",
       "      <td>28802.651209</td>\n",
       "      <td>14198.185808</td>\n",
       "      <td>0.611479</td>\n",
       "      <td>490.888489</td>\n",
       "      <td>0.769489</td>\n",
       "      <td>518.138831</td>\n",
       "      <td>180.766014</td>\n",
       "    </tr>\n",
       "    <tr>\n",
       "      <th>std</th>\n",
       "      <td>5.682049</td>\n",
       "      <td>1.089690e+07</td>\n",
       "      <td>35.663131</td>\n",
       "      <td>1.078666</td>\n",
       "      <td>0.219170</td>\n",
       "      <td>6.594892</td>\n",
       "      <td>22.033872</td>\n",
       "      <td>4.883514</td>\n",
       "      <td>5.902051</td>\n",
       "      <td>0.959279</td>\n",
       "      <td>12637.889479</td>\n",
       "      <td>8607.192785</td>\n",
       "      <td>0.801976</td>\n",
       "      <td>342.576800</td>\n",
       "      <td>0.937809</td>\n",
       "      <td>277.814717</td>\n",
       "      <td>219.787484</td>\n",
       "    </tr>\n",
       "    <tr>\n",
       "      <th>min</th>\n",
       "      <td>0.000000</td>\n",
       "      <td>1.219000e+04</td>\n",
       "      <td>12.000000</td>\n",
       "      <td>0.000000</td>\n",
       "      <td>1.750000</td>\n",
       "      <td>1.000000</td>\n",
       "      <td>5.000000</td>\n",
       "      <td>1.000000</td>\n",
       "      <td>1.300000</td>\n",
       "      <td>0.000000</td>\n",
       "      <td>0.000000</td>\n",
       "      <td>181.000000</td>\n",
       "      <td>0.000000</td>\n",
       "      <td>1.000000</td>\n",
       "      <td>0.000000</td>\n",
       "      <td>13.000000</td>\n",
       "      <td>1.000000</td>\n",
       "    </tr>\n",
       "    <tr>\n",
       "      <th>25%</th>\n",
       "      <td>6.000000</td>\n",
       "      <td>3.400000e+06</td>\n",
       "      <td>40.000000</td>\n",
       "      <td>1.000000</td>\n",
       "      <td>2.600000</td>\n",
       "      <td>5.000000</td>\n",
       "      <td>18.600000</td>\n",
       "      <td>2.000000</td>\n",
       "      <td>7.000000</td>\n",
       "      <td>0.000000</td>\n",
       "      <td>18575.250000</td>\n",
       "      <td>9241.000000</td>\n",
       "      <td>0.000000</td>\n",
       "      <td>288.000000</td>\n",
       "      <td>0.000000</td>\n",
       "      <td>294.000000</td>\n",
       "      <td>45.000000</td>\n",
       "    </tr>\n",
       "    <tr>\n",
       "      <th>50%</th>\n",
       "      <td>9.000000</td>\n",
       "      <td>4.650000e+06</td>\n",
       "      <td>52.000000</td>\n",
       "      <td>2.000000</td>\n",
       "      <td>2.650000</td>\n",
       "      <td>9.000000</td>\n",
       "      <td>30.000000</td>\n",
       "      <td>4.000000</td>\n",
       "      <td>9.100000</td>\n",
       "      <td>0.000000</td>\n",
       "      <td>26755.500000</td>\n",
       "      <td>13105.000000</td>\n",
       "      <td>0.000000</td>\n",
       "      <td>455.000000</td>\n",
       "      <td>1.000000</td>\n",
       "      <td>503.000000</td>\n",
       "      <td>95.000000</td>\n",
       "    </tr>\n",
       "    <tr>\n",
       "      <th>75%</th>\n",
       "      <td>14.000000</td>\n",
       "      <td>6.799000e+06</td>\n",
       "      <td>69.705000</td>\n",
       "      <td>3.000000</td>\n",
       "      <td>2.700000</td>\n",
       "      <td>16.000000</td>\n",
       "      <td>42.300000</td>\n",
       "      <td>8.000000</td>\n",
       "      <td>12.000000</td>\n",
       "      <td>1.000000</td>\n",
       "      <td>37294.000000</td>\n",
       "      <td>16293.000000</td>\n",
       "      <td>1.000000</td>\n",
       "      <td>612.000000</td>\n",
       "      <td>1.000000</td>\n",
       "      <td>730.000000</td>\n",
       "      <td>231.000000</td>\n",
       "    </tr>\n",
       "    <tr>\n",
       "      <th>max</th>\n",
       "      <td>50.000000</td>\n",
       "      <td>7.630000e+08</td>\n",
       "      <td>900.000000</td>\n",
       "      <td>19.000000</td>\n",
       "      <td>5.600000</td>\n",
       "      <td>60.000000</td>\n",
       "      <td>409.700000</td>\n",
       "      <td>33.000000</td>\n",
       "      <td>112.000000</td>\n",
       "      <td>5.000000</td>\n",
       "      <td>84869.000000</td>\n",
       "      <td>65968.000000</td>\n",
       "      <td>3.000000</td>\n",
       "      <td>3190.000000</td>\n",
       "      <td>3.000000</td>\n",
       "      <td>1344.000000</td>\n",
       "      <td>1580.000000</td>\n",
       "    </tr>\n",
       "  </tbody>\n",
       "</table>\n",
       "</div>"
      ],
      "text/plain": [
       "       total_images    last_price    total_area         rooms  ceiling_height  \\\n",
       "count  23647.000000  2.364700e+04  23647.000000  23647.000000    23638.000000   \n",
       "mean       9.862689  6.541005e+06     60.331530      2.070157        2.696495   \n",
       "std        5.682049  1.089690e+07     35.663131      1.078666        0.219170   \n",
       "min        0.000000  1.219000e+04     12.000000      0.000000        1.750000   \n",
       "25%        6.000000  3.400000e+06     40.000000      1.000000        2.600000   \n",
       "50%        9.000000  4.650000e+06     52.000000      2.000000        2.650000   \n",
       "75%       14.000000  6.799000e+06     69.705000      3.000000        2.700000   \n",
       "max       50.000000  7.630000e+08    900.000000     19.000000        5.600000   \n",
       "\n",
       "       floors_total   living_area         floor  kitchen_area       balcony  \\\n",
       "count  23562.000000  21729.000000  23647.000000  21378.000000  23647.000000   \n",
       "mean      10.676428     34.470175      5.893475     10.566660      0.591576   \n",
       "std        6.594892     22.033872      4.883514      5.902051      0.959279   \n",
       "min        1.000000      5.000000      1.000000      1.300000      0.000000   \n",
       "25%        5.000000     18.600000      2.000000      7.000000      0.000000   \n",
       "50%        9.000000     30.000000      4.000000      9.100000      0.000000   \n",
       "75%       16.000000     42.300000      8.000000     12.000000      1.000000   \n",
       "max       60.000000    409.700000     33.000000    112.000000      5.000000   \n",
       "\n",
       "       airports_nearest  cityCenters_nearest  parks_around3000  parks_nearest  \\\n",
       "count      18114.000000         18137.000000      18138.000000    8062.000000   \n",
       "mean       28802.651209         14198.185808          0.611479     490.888489   \n",
       "std        12637.889479          8607.192785          0.801976     342.576800   \n",
       "min            0.000000           181.000000          0.000000       1.000000   \n",
       "25%        18575.250000          9241.000000          0.000000     288.000000   \n",
       "50%        26755.500000         13105.000000          0.000000     455.000000   \n",
       "75%        37294.000000         16293.000000          1.000000     612.000000   \n",
       "max        84869.000000         65968.000000          3.000000    3190.000000   \n",
       "\n",
       "       ponds_around3000  ponds_nearest  days_exposition  \n",
       "count      18138.000000    9083.000000     20467.000000  \n",
       "mean           0.769489     518.138831       180.766014  \n",
       "std            0.937809     277.814717       219.787484  \n",
       "min            0.000000      13.000000         1.000000  \n",
       "25%            0.000000     294.000000        45.000000  \n",
       "50%            1.000000     503.000000        95.000000  \n",
       "75%            1.000000     730.000000       231.000000  \n",
       "max            3.000000    1344.000000      1580.000000  "
      ]
     },
     "execution_count": 31,
     "metadata": {},
     "output_type": "execute_result"
    }
   ],
   "source": [
    "df.describe()"
   ]
  },
  {
   "cell_type": "markdown",
   "metadata": {},
   "source": [
    "**Изучим аномальные значения в столбце last_price**\n",
    "\n",
    "Самое дорогое жилье стоит 763млн рублей (то, что с высотой потолка 100метров), при этом 75 перцентиль всего на уровне 6,7млн рублей "
   ]
  },
  {
   "cell_type": "code",
   "execution_count": 32,
   "metadata": {},
   "outputs": [
    {
     "data": {
      "image/png": "[encoded data removed]",
      "text/plain": [
       "<Figure size 432x288 with 1 Axes>"
      ]
     },
     "metadata": {
      "needs_background": "light"
     },
     "output_type": "display_data"
    }
   ],
   "source": [
    "# По такой гистограмме ничего не понятно\n",
    "df['last_price'].hist(bins=30);"
   ]
  },
  {
   "cell_type": "code",
   "execution_count": 33,
   "metadata": {},
   "outputs": [
    {
     "data": {
      "text/plain": [
       "316"
      ]
     },
     "execution_count": 33,
     "metadata": {},
     "output_type": "execute_result"
    },
    {
     "data": {
      "image/png": "[encoded data removed]",
      "text/plain": [
       "<Figure size 432x288 with 1 Axes>"
      ]
     },
     "metadata": {
      "needs_background": "light"
     },
     "output_type": "display_data"
    }
   ],
   "source": [
    "# Попробуем сделать меньше диапазон\n",
    "df['last_price'].hist(bins=30, range=(0, 30000000));\n",
    "(df['last_price'] > 30000000).sum()"
   ]
  },
  {
   "cell_type": "code",
   "execution_count": 34,
   "metadata": {},
   "outputs": [
    {
     "data": {
      "text/plain": [
       "0.013363217321436123"
      ]
     },
     "execution_count": 34,
     "metadata": {},
     "output_type": "execute_result"
    }
   ],
   "source": [
    "(df['last_price'] > 30000000).sum() / df.shape[0]"
   ]
  },
  {
   "cell_type": "markdown",
   "metadata": {},
   "source": [
    "Смело можем отбросить все значения где стоимость жилья больше 30млн рублей - это всего 316 строк или 1,33% от всех строк в датасете. Этого будет достаточно, чтобы аномальные значения не искажали так сильно картину и мы могли нарисовать адекватную гистограмму. "
   ]
  },
  {
   "cell_type": "code",
   "execution_count": 35,
   "metadata": {},
   "outputs": [
    {
     "data": {
      "text/plain": [
       "(23331, 23)"
      ]
     },
     "execution_count": 35,
     "metadata": {},
     "output_type": "execute_result"
    }
   ],
   "source": [
    "df = df[df['last_price'] <= 30000000]\n",
    "df.shape"
   ]
  },
  {
   "cell_type": "code",
   "execution_count": 36,
   "metadata": {},
   "outputs": [
    {
     "data": {
      "text/html": [
       "<div>\n",
       "<style scoped>\n",
       "    .dataframe tbody tr th:only-of-type {\n",
       "        vertical-align: middle;\n",
       "    }\n",
       "\n",
       "    .dataframe tbody tr th {\n",
       "        vertical-align: top;\n",
       "    }\n",
       "\n",
       "    .dataframe thead th {\n",
       "        text-align: right;\n",
       "    }\n",
       "</style>\n",
       "<table border=\"1\" class=\"dataframe\">\n",
       "  <thead>\n",
       "    <tr style=\"text-align: right;\">\n",
       "      <th></th>\n",
       "      <th>total_images</th>\n",
       "      <th>last_price</th>\n",
       "      <th>total_area</th>\n",
       "      <th>rooms</th>\n",
       "      <th>ceiling_height</th>\n",
       "      <th>floors_total</th>\n",
       "      <th>living_area</th>\n",
       "      <th>floor</th>\n",
       "      <th>kitchen_area</th>\n",
       "      <th>balcony</th>\n",
       "      <th>airports_nearest</th>\n",
       "      <th>cityCenters_nearest</th>\n",
       "      <th>parks_around3000</th>\n",
       "      <th>parks_nearest</th>\n",
       "      <th>ponds_around3000</th>\n",
       "      <th>ponds_nearest</th>\n",
       "      <th>days_exposition</th>\n",
       "    </tr>\n",
       "  </thead>\n",
       "  <tbody>\n",
       "    <tr>\n",
       "      <th>count</th>\n",
       "      <td>23331.000000</td>\n",
       "      <td>2.333100e+04</td>\n",
       "      <td>23331.000000</td>\n",
       "      <td>23331.000000</td>\n",
       "      <td>23323.000000</td>\n",
       "      <td>23247.000000</td>\n",
       "      <td>21452.000000</td>\n",
       "      <td>23331.000000</td>\n",
       "      <td>21096.000000</td>\n",
       "      <td>23331.000000</td>\n",
       "      <td>17810.000000</td>\n",
       "      <td>17830.000000</td>\n",
       "      <td>17831.000000</td>\n",
       "      <td>7832.000000</td>\n",
       "      <td>17831.000000</td>\n",
       "      <td>8838.000000</td>\n",
       "      <td>20229.000000</td>\n",
       "    </tr>\n",
       "    <tr>\n",
       "      <th>mean</th>\n",
       "      <td>9.822897</td>\n",
       "      <td>5.740787e+06</td>\n",
       "      <td>58.252534</td>\n",
       "      <td>2.039904</td>\n",
       "      <td>2.691042</td>\n",
       "      <td>10.715791</td>\n",
       "      <td>33.384208</td>\n",
       "      <td>5.902490</td>\n",
       "      <td>10.327511</td>\n",
       "      <td>0.591959</td>\n",
       "      <td>28837.196968</td>\n",
       "      <td>14349.913517</td>\n",
       "      <td>0.597050</td>\n",
       "      <td>493.753447</td>\n",
       "      <td>0.753351</td>\n",
       "      <td>521.797918</td>\n",
       "      <td>179.374710</td>\n",
       "    </tr>\n",
       "    <tr>\n",
       "      <th>std</th>\n",
       "      <td>5.657681</td>\n",
       "      <td>4.039686e+06</td>\n",
       "      <td>28.213936</td>\n",
       "      <td>1.029356</td>\n",
       "      <td>0.206855</td>\n",
       "      <td>6.615974</td>\n",
       "      <td>18.478328</td>\n",
       "      <td>4.900279</td>\n",
       "      <td>5.168476</td>\n",
       "      <td>0.957956</td>\n",
       "      <td>12724.997080</td>\n",
       "      <td>8588.398908</td>\n",
       "      <td>0.788369</td>\n",
       "      <td>342.588229</td>\n",
       "      <td>0.925407</td>\n",
       "      <td>278.010944</td>\n",
       "      <td>218.315904</td>\n",
       "    </tr>\n",
       "    <tr>\n",
       "      <th>min</th>\n",
       "      <td>0.000000</td>\n",
       "      <td>1.219000e+04</td>\n",
       "      <td>12.000000</td>\n",
       "      <td>0.000000</td>\n",
       "      <td>1.750000</td>\n",
       "      <td>1.000000</td>\n",
       "      <td>5.000000</td>\n",
       "      <td>1.000000</td>\n",
       "      <td>1.300000</td>\n",
       "      <td>0.000000</td>\n",
       "      <td>0.000000</td>\n",
       "      <td>208.000000</td>\n",
       "      <td>0.000000</td>\n",
       "      <td>1.000000</td>\n",
       "      <td>0.000000</td>\n",
       "      <td>13.000000</td>\n",
       "      <td>1.000000</td>\n",
       "    </tr>\n",
       "    <tr>\n",
       "      <th>25%</th>\n",
       "      <td>6.000000</td>\n",
       "      <td>3.400000e+06</td>\n",
       "      <td>40.000000</td>\n",
       "      <td>1.000000</td>\n",
       "      <td>2.600000</td>\n",
       "      <td>5.000000</td>\n",
       "      <td>18.600000</td>\n",
       "      <td>2.000000</td>\n",
       "      <td>7.000000</td>\n",
       "      <td>0.000000</td>\n",
       "      <td>18488.000000</td>\n",
       "      <td>9556.000000</td>\n",
       "      <td>0.000000</td>\n",
       "      <td>289.750000</td>\n",
       "      <td>0.000000</td>\n",
       "      <td>299.250000</td>\n",
       "      <td>45.000000</td>\n",
       "    </tr>\n",
       "    <tr>\n",
       "      <th>50%</th>\n",
       "      <td>9.000000</td>\n",
       "      <td>4.600000e+06</td>\n",
       "      <td>51.500000</td>\n",
       "      <td>2.000000</td>\n",
       "      <td>2.650000</td>\n",
       "      <td>9.000000</td>\n",
       "      <td>30.000000</td>\n",
       "      <td>4.000000</td>\n",
       "      <td>9.000000</td>\n",
       "      <td>0.000000</td>\n",
       "      <td>26788.500000</td>\n",
       "      <td>13209.500000</td>\n",
       "      <td>0.000000</td>\n",
       "      <td>456.000000</td>\n",
       "      <td>0.000000</td>\n",
       "      <td>505.000000</td>\n",
       "      <td>95.000000</td>\n",
       "    </tr>\n",
       "    <tr>\n",
       "      <th>75%</th>\n",
       "      <td>14.000000</td>\n",
       "      <td>6.650000e+06</td>\n",
       "      <td>68.300000</td>\n",
       "      <td>3.000000</td>\n",
       "      <td>2.700000</td>\n",
       "      <td>16.000000</td>\n",
       "      <td>42.000000</td>\n",
       "      <td>8.000000</td>\n",
       "      <td>11.900000</td>\n",
       "      <td>1.000000</td>\n",
       "      <td>37412.000000</td>\n",
       "      <td>16383.000000</td>\n",
       "      <td>1.000000</td>\n",
       "      <td>614.000000</td>\n",
       "      <td>1.000000</td>\n",
       "      <td>733.000000</td>\n",
       "      <td>229.000000</td>\n",
       "    </tr>\n",
       "    <tr>\n",
       "      <th>max</th>\n",
       "      <td>50.000000</td>\n",
       "      <td>3.000000e+07</td>\n",
       "      <td>460.800000</td>\n",
       "      <td>16.000000</td>\n",
       "      <td>5.300000</td>\n",
       "      <td>60.000000</td>\n",
       "      <td>279.600000</td>\n",
       "      <td>33.000000</td>\n",
       "      <td>100.700000</td>\n",
       "      <td>5.000000</td>\n",
       "      <td>84869.000000</td>\n",
       "      <td>65968.000000</td>\n",
       "      <td>3.000000</td>\n",
       "      <td>3190.000000</td>\n",
       "      <td>3.000000</td>\n",
       "      <td>1344.000000</td>\n",
       "      <td>1580.000000</td>\n",
       "    </tr>\n",
       "  </tbody>\n",
       "</table>\n",
       "</div>"
      ],
      "text/plain": [
       "       total_images    last_price    total_area         rooms  ceiling_height  \\\n",
       "count  23331.000000  2.333100e+04  23331.000000  23331.000000    23323.000000   \n",
       "mean       9.822897  5.740787e+06     58.252534      2.039904        2.691042   \n",
       "std        5.657681  4.039686e+06     28.213936      1.029356        0.206855   \n",
       "min        0.000000  1.219000e+04     12.000000      0.000000        1.750000   \n",
       "25%        6.000000  3.400000e+06     40.000000      1.000000        2.600000   \n",
       "50%        9.000000  4.600000e+06     51.500000      2.000000        2.650000   \n",
       "75%       14.000000  6.650000e+06     68.300000      3.000000        2.700000   \n",
       "max       50.000000  3.000000e+07    460.800000     16.000000        5.300000   \n",
       "\n",
       "       floors_total   living_area         floor  kitchen_area       balcony  \\\n",
       "count  23247.000000  21452.000000  23331.000000  21096.000000  23331.000000   \n",
       "mean      10.715791     33.384208      5.902490     10.327511      0.591959   \n",
       "std        6.615974     18.478328      4.900279      5.168476      0.957956   \n",
       "min        1.000000      5.000000      1.000000      1.300000      0.000000   \n",
       "25%        5.000000     18.600000      2.000000      7.000000      0.000000   \n",
       "50%        9.000000     30.000000      4.000000      9.000000      0.000000   \n",
       "75%       16.000000     42.000000      8.000000     11.900000      1.000000   \n",
       "max       60.000000    279.600000     33.000000    100.700000      5.000000   \n",
       "\n",
       "       airports_nearest  cityCenters_nearest  parks_around3000  parks_nearest  \\\n",
       "count      17810.000000         17830.000000      17831.000000    7832.000000   \n",
       "mean       28837.196968         14349.913517          0.597050     493.753447   \n",
       "std        12724.997080          8588.398908          0.788369     342.588229   \n",
       "min            0.000000           208.000000          0.000000       1.000000   \n",
       "25%        18488.000000          9556.000000          0.000000     289.750000   \n",
       "50%        26788.500000         13209.500000          0.000000     456.000000   \n",
       "75%        37412.000000         16383.000000          1.000000     614.000000   \n",
       "max        84869.000000         65968.000000          3.000000    3190.000000   \n",
       "\n",
       "       ponds_around3000  ponds_nearest  days_exposition  \n",
       "count      17831.000000    8838.000000     20229.000000  \n",
       "mean           0.753351     521.797918       179.374710  \n",
       "std            0.925407     278.010944       218.315904  \n",
       "min            0.000000      13.000000         1.000000  \n",
       "25%            0.000000     299.250000        45.000000  \n",
       "50%            0.000000     505.000000        95.000000  \n",
       "75%            1.000000     733.000000       229.000000  \n",
       "max            3.000000    1344.000000      1580.000000  "
      ]
     },
     "execution_count": 36,
     "metadata": {},
     "output_type": "execute_result"
    }
   ],
   "source": [
    "df.describe()"
   ]
  },
  {
   "cell_type": "markdown",
   "metadata": {},
   "source": [
    "**Изучим аномальные значения в столбце rooms**"
   ]
  },
  {
   "cell_type": "code",
   "execution_count": 37,
   "metadata": {},
   "outputs": [
    {
     "data": {
      "image/png": "[encoded data removed]",
      "text/plain": [
       "<Figure size 432x288 with 1 Axes>"
      ]
     },
     "metadata": {
      "needs_background": "light"
     },
     "output_type": "display_data"
    }
   ],
   "source": [
    "df['rooms'].hist(bins=30);"
   ]
  },
  {
   "cell_type": "code",
   "execution_count": 38,
   "metadata": {},
   "outputs": [
    {
     "data": {
      "text/plain": [
       "196"
      ]
     },
     "execution_count": 38,
     "metadata": {},
     "output_type": "execute_result"
    }
   ],
   "source": [
    "(df['rooms'] == 0).sum()"
   ]
  },
  {
   "cell_type": "markdown",
   "metadata": {},
   "source": [
    "Интересно, есть 196 объектов с числом комнат 0, возможно это студии. По идее, мы можем считать их однокомнатными."
   ]
  },
  {
   "cell_type": "code",
   "execution_count": 39,
   "metadata": {},
   "outputs": [],
   "source": [
    "df['rooms'] = df['rooms'].where(df['rooms'] != 0, 1)"
   ]
  },
  {
   "cell_type": "code",
   "execution_count": 40,
   "metadata": {},
   "outputs": [
    {
     "data": {
      "text/plain": [
       "0"
      ]
     },
     "execution_count": 40,
     "metadata": {},
     "output_type": "execute_result"
    }
   ],
   "source": [
    "(df['rooms'] == 0).sum()"
   ]
  },
  {
   "cell_type": "code",
   "execution_count": 41,
   "metadata": {},
   "outputs": [
    {
     "data": {
      "text/plain": [
       "19"
      ]
     },
     "execution_count": 41,
     "metadata": {},
     "output_type": "execute_result"
    },
    {
     "data": {
      "image/png": "[encoded data removed]",
      "text/plain": [
       "<Figure size 432x288 with 1 Axes>"
      ]
     },
     "metadata": {
      "needs_background": "light"
     },
     "output_type": "display_data"
    }
   ],
   "source": [
    "df['rooms'].hist(bins=30, range=(1, 6));\n",
    "(df['rooms'] > 7).sum()"
   ]
  },
  {
   "cell_type": "code",
   "execution_count": 42,
   "metadata": {},
   "outputs": [
    {
     "data": {
      "text/plain": [
       "0.0008143671510008144"
      ]
     },
     "execution_count": 42,
     "metadata": {},
     "output_type": "execute_result"
    }
   ],
   "source": [
    "# Имеем в виду, что мы уже избавились от части датасета анализируя аномально дорогое жилье, где, можно\n",
    "# предположить было аномально много комнат\n",
    "(df['rooms'] > 7).sum() / df.shape[0]"
   ]
  },
  {
   "cell_type": "code",
   "execution_count": 43,
   "metadata": {},
   "outputs": [
    {
     "data": {
      "text/plain": [
       "(23312, 23)"
      ]
     },
     "execution_count": 43,
     "metadata": {},
     "output_type": "execute_result"
    }
   ],
   "source": [
    "df = df[df['rooms'] <= 7]\n",
    "df.shape"
   ]
  },
  {
   "cell_type": "markdown",
   "metadata": {},
   "source": [
    "**Изучим аномальные значения в столбце total_area**"
   ]
  },
  {
   "cell_type": "code",
   "execution_count": 44,
   "metadata": {},
   "outputs": [
    {
     "data": {
      "image/png": "[encoded data removed]",
      "text/plain": [
       "<Figure size 432x288 with 1 Axes>"
      ]
     },
     "metadata": {
      "needs_background": "light"
     },
     "output_type": "display_data"
    }
   ],
   "source": [
    "df['total_area'].hist(bins=30);"
   ]
  },
  {
   "cell_type": "code",
   "execution_count": 45,
   "metadata": {},
   "outputs": [
    {
     "data": {
      "text/plain": [
       "37"
      ]
     },
     "execution_count": 45,
     "metadata": {},
     "output_type": "execute_result"
    },
    {
     "data": {
      "image/png": "[encoded data removed]",
      "text/plain": [
       "<Figure size 432x288 with 1 Axes>"
      ]
     },
     "metadata": {
      "needs_background": "light"
     },
     "output_type": "display_data"
    }
   ],
   "source": [
    "df['total_area'].hist(bins=30, range=(0, 230));\n",
    "(df['total_area'] > 230).sum()"
   ]
  },
  {
   "cell_type": "code",
   "execution_count": 46,
   "metadata": {},
   "outputs": [
    {
     "data": {
      "text/plain": [
       "0.00158716540837337"
      ]
     },
     "execution_count": 46,
     "metadata": {},
     "output_type": "execute_result"
    }
   ],
   "source": [
    "(df['total_area'] > 230).sum() / df.shape[0]"
   ]
  },
  {
   "cell_type": "code",
   "execution_count": 47,
   "metadata": {},
   "outputs": [
    {
     "data": {
      "text/plain": [
       "(23275, 23)"
      ]
     },
     "execution_count": 47,
     "metadata": {},
     "output_type": "execute_result"
    }
   ],
   "source": [
    "df = df[df['total_area'] <= 230]\n",
    "df.shape"
   ]
  },
  {
   "cell_type": "markdown",
   "metadata": {},
   "source": [
    "### Посчитайте и добавьте в таблицу новые столбцы"
   ]
  },
  {
   "cell_type": "code",
   "execution_count": 48,
   "metadata": {},
   "outputs": [],
   "source": [
    "def get_floor_type(row):\n",
    "    if row['floor'] == 1:\n",
    "        return 'первый'\n",
    "    elif row['floors_total'] > 1 and row['floor'] == row['floors_total']:\n",
    "        return 'последний'\n",
    "    else:\n",
    "        return 'другой'"
   ]
  },
  {
   "cell_type": "code",
   "execution_count": 49,
   "metadata": {},
   "outputs": [],
   "source": [
    "df['sq_meter_price'] = (df['last_price'] / df['total_area']).round(2)\n",
    "df['day_of_week'] = df['first_day_exposition'].dt.dayofweek\n",
    "df['month'] = df['first_day_exposition'].dt.month\n",
    "df['year'] = df['first_day_exposition'].dt.year\n",
    "df['floor_type'] = df.apply(get_floor_type, axis=1)\n",
    "df['city_center_km'] = (df['cityCenters_nearest'] / 1000).round()"
   ]
  },
  {
   "cell_type": "code",
   "execution_count": 50,
   "metadata": {},
   "outputs": [
    {
     "data": {
      "text/html": [
       "<div>\n",
       "<style scoped>\n",
       "    .dataframe tbody tr th:only-of-type {\n",
       "        vertical-align: middle;\n",
       "    }\n",
       "\n",
       "    .dataframe tbody tr th {\n",
       "        vertical-align: top;\n",
       "    }\n",
       "\n",
       "    .dataframe thead th {\n",
       "        text-align: right;\n",
       "    }\n",
       "</style>\n",
       "<table border=\"1\" class=\"dataframe\">\n",
       "  <thead>\n",
       "    <tr style=\"text-align: right;\">\n",
       "      <th></th>\n",
       "      <th>total_images</th>\n",
       "      <th>last_price</th>\n",
       "      <th>total_area</th>\n",
       "      <th>first_day_exposition</th>\n",
       "      <th>rooms</th>\n",
       "      <th>ceiling_height</th>\n",
       "      <th>floors_total</th>\n",
       "      <th>living_area</th>\n",
       "      <th>floor</th>\n",
       "      <th>is_apartment</th>\n",
       "      <th>studio</th>\n",
       "      <th>open_plan</th>\n",
       "      <th>kitchen_area</th>\n",
       "      <th>balcony</th>\n",
       "      <th>locality_name</th>\n",
       "      <th>airports_nearest</th>\n",
       "      <th>cityCenters_nearest</th>\n",
       "      <th>parks_around3000</th>\n",
       "      <th>parks_nearest</th>\n",
       "      <th>ponds_around3000</th>\n",
       "      <th>ponds_nearest</th>\n",
       "      <th>days_exposition</th>\n",
       "      <th>locality_name_shorten</th>\n",
       "      <th>sq_meter_price</th>\n",
       "      <th>day_of_week</th>\n",
       "      <th>month</th>\n",
       "      <th>year</th>\n",
       "      <th>floor_type</th>\n",
       "      <th>city_center_km</th>\n",
       "    </tr>\n",
       "  </thead>\n",
       "  <tbody>\n",
       "    <tr>\n",
       "      <th>0</th>\n",
       "      <td>20</td>\n",
       "      <td>13000000.0</td>\n",
       "      <td>108.0</td>\n",
       "      <td>2019-03-07</td>\n",
       "      <td>3</td>\n",
       "      <td>2.70</td>\n",
       "      <td>16.0</td>\n",
       "      <td>51.0</td>\n",
       "      <td>8</td>\n",
       "      <td>False</td>\n",
       "      <td>False</td>\n",
       "      <td>False</td>\n",
       "      <td>25.0</td>\n",
       "      <td>0.0</td>\n",
       "      <td>Санкт-Петербург</td>\n",
       "      <td>18863.0</td>\n",
       "      <td>16028.0</td>\n",
       "      <td>1.0</td>\n",
       "      <td>482.0</td>\n",
       "      <td>2.0</td>\n",
       "      <td>755.0</td>\n",
       "      <td>NaN</td>\n",
       "      <td>Санкт-Петербург</td>\n",
       "      <td>120370.37</td>\n",
       "      <td>3</td>\n",
       "      <td>3</td>\n",
       "      <td>2019</td>\n",
       "      <td>другой</td>\n",
       "      <td>16.0</td>\n",
       "    </tr>\n",
       "    <tr>\n",
       "      <th>1</th>\n",
       "      <td>7</td>\n",
       "      <td>3350000.0</td>\n",
       "      <td>40.4</td>\n",
       "      <td>2018-12-04</td>\n",
       "      <td>1</td>\n",
       "      <td>2.65</td>\n",
       "      <td>11.0</td>\n",
       "      <td>18.6</td>\n",
       "      <td>1</td>\n",
       "      <td>False</td>\n",
       "      <td>False</td>\n",
       "      <td>False</td>\n",
       "      <td>11.0</td>\n",
       "      <td>2.0</td>\n",
       "      <td>посёлок Шушары</td>\n",
       "      <td>12817.0</td>\n",
       "      <td>18603.0</td>\n",
       "      <td>0.0</td>\n",
       "      <td>NaN</td>\n",
       "      <td>0.0</td>\n",
       "      <td>NaN</td>\n",
       "      <td>81.0</td>\n",
       "      <td>Шушары</td>\n",
       "      <td>82920.79</td>\n",
       "      <td>1</td>\n",
       "      <td>12</td>\n",
       "      <td>2018</td>\n",
       "      <td>первый</td>\n",
       "      <td>19.0</td>\n",
       "    </tr>\n",
       "    <tr>\n",
       "      <th>2</th>\n",
       "      <td>10</td>\n",
       "      <td>5196000.0</td>\n",
       "      <td>56.0</td>\n",
       "      <td>2015-08-20</td>\n",
       "      <td>2</td>\n",
       "      <td>2.65</td>\n",
       "      <td>5.0</td>\n",
       "      <td>34.3</td>\n",
       "      <td>4</td>\n",
       "      <td>False</td>\n",
       "      <td>False</td>\n",
       "      <td>False</td>\n",
       "      <td>8.3</td>\n",
       "      <td>0.0</td>\n",
       "      <td>Санкт-Петербург</td>\n",
       "      <td>21741.0</td>\n",
       "      <td>13933.0</td>\n",
       "      <td>1.0</td>\n",
       "      <td>90.0</td>\n",
       "      <td>2.0</td>\n",
       "      <td>574.0</td>\n",
       "      <td>558.0</td>\n",
       "      <td>Санкт-Петербург</td>\n",
       "      <td>92785.71</td>\n",
       "      <td>3</td>\n",
       "      <td>8</td>\n",
       "      <td>2015</td>\n",
       "      <td>другой</td>\n",
       "      <td>14.0</td>\n",
       "    </tr>\n",
       "    <tr>\n",
       "      <th>4</th>\n",
       "      <td>2</td>\n",
       "      <td>10000000.0</td>\n",
       "      <td>100.0</td>\n",
       "      <td>2018-06-19</td>\n",
       "      <td>2</td>\n",
       "      <td>3.03</td>\n",
       "      <td>14.0</td>\n",
       "      <td>32.0</td>\n",
       "      <td>13</td>\n",
       "      <td>False</td>\n",
       "      <td>False</td>\n",
       "      <td>False</td>\n",
       "      <td>41.0</td>\n",
       "      <td>0.0</td>\n",
       "      <td>Санкт-Петербург</td>\n",
       "      <td>31856.0</td>\n",
       "      <td>8098.0</td>\n",
       "      <td>2.0</td>\n",
       "      <td>112.0</td>\n",
       "      <td>1.0</td>\n",
       "      <td>48.0</td>\n",
       "      <td>121.0</td>\n",
       "      <td>Санкт-Петербург</td>\n",
       "      <td>100000.00</td>\n",
       "      <td>1</td>\n",
       "      <td>6</td>\n",
       "      <td>2018</td>\n",
       "      <td>другой</td>\n",
       "      <td>8.0</td>\n",
       "    </tr>\n",
       "    <tr>\n",
       "      <th>5</th>\n",
       "      <td>10</td>\n",
       "      <td>2890000.0</td>\n",
       "      <td>30.4</td>\n",
       "      <td>2018-09-10</td>\n",
       "      <td>1</td>\n",
       "      <td>2.65</td>\n",
       "      <td>12.0</td>\n",
       "      <td>14.4</td>\n",
       "      <td>5</td>\n",
       "      <td>False</td>\n",
       "      <td>False</td>\n",
       "      <td>False</td>\n",
       "      <td>9.1</td>\n",
       "      <td>0.0</td>\n",
       "      <td>городской посёлок Янино-1</td>\n",
       "      <td>NaN</td>\n",
       "      <td>NaN</td>\n",
       "      <td>NaN</td>\n",
       "      <td>NaN</td>\n",
       "      <td>NaN</td>\n",
       "      <td>NaN</td>\n",
       "      <td>55.0</td>\n",
       "      <td>Янино-1</td>\n",
       "      <td>95065.79</td>\n",
       "      <td>0</td>\n",
       "      <td>9</td>\n",
       "      <td>2018</td>\n",
       "      <td>другой</td>\n",
       "      <td>NaN</td>\n",
       "    </tr>\n",
       "  </tbody>\n",
       "</table>\n",
       "</div>"
      ],
      "text/plain": [
       "   total_images  last_price  total_area first_day_exposition  rooms  \\\n",
       "0            20  13000000.0       108.0           2019-03-07      3   \n",
       "1             7   3350000.0        40.4           2018-12-04      1   \n",
       "2            10   5196000.0        56.0           2015-08-20      2   \n",
       "4             2  10000000.0       100.0           2018-06-19      2   \n",
       "5            10   2890000.0        30.4           2018-09-10      1   \n",
       "\n",
       "   ceiling_height  floors_total  living_area  floor is_apartment  studio  \\\n",
       "0            2.70          16.0         51.0      8        False   False   \n",
       "1            2.65          11.0         18.6      1        False   False   \n",
       "2            2.65           5.0         34.3      4        False   False   \n",
       "4            3.03          14.0         32.0     13        False   False   \n",
       "5            2.65          12.0         14.4      5        False   False   \n",
       "\n",
       "   open_plan  kitchen_area  balcony              locality_name  \\\n",
       "0      False          25.0      0.0            Санкт-Петербург   \n",
       "1      False          11.0      2.0             посёлок Шушары   \n",
       "2      False           8.3      0.0            Санкт-Петербург   \n",
       "4      False          41.0      0.0            Санкт-Петербург   \n",
       "5      False           9.1      0.0  городской посёлок Янино-1   \n",
       "\n",
       "   airports_nearest  cityCenters_nearest  parks_around3000  parks_nearest  \\\n",
       "0           18863.0              16028.0               1.0          482.0   \n",
       "1           12817.0              18603.0               0.0            NaN   \n",
       "2           21741.0              13933.0               1.0           90.0   \n",
       "4           31856.0               8098.0               2.0          112.0   \n",
       "5               NaN                  NaN               NaN            NaN   \n",
       "\n",
       "   ponds_around3000  ponds_nearest  days_exposition locality_name_shorten  \\\n",
       "0               2.0          755.0              NaN       Санкт-Петербург   \n",
       "1               0.0            NaN             81.0                Шушары   \n",
       "2               2.0          574.0            558.0       Санкт-Петербург   \n",
       "4               1.0           48.0            121.0       Санкт-Петербург   \n",
       "5               NaN            NaN             55.0               Янино-1   \n",
       "\n",
       "   sq_meter_price  day_of_week  month  year floor_type  city_center_km  \n",
       "0       120370.37            3      3  2019     другой            16.0  \n",
       "1        82920.79            1     12  2018     первый            19.0  \n",
       "2        92785.71            3      8  2015     другой            14.0  \n",
       "4       100000.00            1      6  2018     другой             8.0  \n",
       "5        95065.79            0      9  2018     другой             NaN  "
      ]
     },
     "execution_count": 50,
     "metadata": {},
     "output_type": "execute_result"
    }
   ],
   "source": [
    "df.head()"
   ]
  },
  {
   "cell_type": "markdown",
   "metadata": {},
   "source": [
    "Добавили в таблицу новые столбцы со следующими параметрами:\n",
    "- цена одного квадратного метра;\n",
    "- день недели публикации объявления (0 — понедельник, 1 — вторник и так далее);\n",
    "- месяц публикации объявления;\n",
    "- год публикации объявления;\n",
    "- тип этажа квартиры (значения — «первый», «последний», «другой»);\n",
    "- расстояние до центра города в километрах (переведите из м в км и округлите до целых значений)."
   ]
  },
  {
   "cell_type": "markdown",
   "metadata": {},
   "source": [
    "### Проведите исследовательский анализ данных"
   ]
  },
  {
   "cell_type": "code",
   "execution_count": 51,
   "metadata": {},
   "outputs": [
    {
     "data": {
      "text/html": [
       "<div>\n",
       "<style scoped>\n",
       "    .dataframe tbody tr th:only-of-type {\n",
       "        vertical-align: middle;\n",
       "    }\n",
       "\n",
       "    .dataframe tbody tr th {\n",
       "        vertical-align: top;\n",
       "    }\n",
       "\n",
       "    .dataframe thead th {\n",
       "        text-align: right;\n",
       "    }\n",
       "</style>\n",
       "<table border=\"1\" class=\"dataframe\">\n",
       "  <thead>\n",
       "    <tr style=\"text-align: right;\">\n",
       "      <th></th>\n",
       "      <th>total_images</th>\n",
       "      <th>last_price</th>\n",
       "      <th>total_area</th>\n",
       "      <th>rooms</th>\n",
       "      <th>ceiling_height</th>\n",
       "      <th>floors_total</th>\n",
       "      <th>living_area</th>\n",
       "      <th>floor</th>\n",
       "      <th>kitchen_area</th>\n",
       "      <th>balcony</th>\n",
       "      <th>airports_nearest</th>\n",
       "      <th>cityCenters_nearest</th>\n",
       "      <th>parks_around3000</th>\n",
       "      <th>parks_nearest</th>\n",
       "      <th>ponds_around3000</th>\n",
       "      <th>ponds_nearest</th>\n",
       "      <th>days_exposition</th>\n",
       "      <th>sq_meter_price</th>\n",
       "      <th>day_of_week</th>\n",
       "      <th>month</th>\n",
       "      <th>year</th>\n",
       "      <th>city_center_km</th>\n",
       "    </tr>\n",
       "  </thead>\n",
       "  <tbody>\n",
       "    <tr>\n",
       "      <th>count</th>\n",
       "      <td>23275.000000</td>\n",
       "      <td>2.327500e+04</td>\n",
       "      <td>23275.000000</td>\n",
       "      <td>23275.000000</td>\n",
       "      <td>23267.000000</td>\n",
       "      <td>23191.000000</td>\n",
       "      <td>21402.000000</td>\n",
       "      <td>23275.000000</td>\n",
       "      <td>21045.000000</td>\n",
       "      <td>23275.000000</td>\n",
       "      <td>17755.000000</td>\n",
       "      <td>17775.000000</td>\n",
       "      <td>17776.000000</td>\n",
       "      <td>7796.000000</td>\n",
       "      <td>17776.000000</td>\n",
       "      <td>8809.000000</td>\n",
       "      <td>20185.000000</td>\n",
       "      <td>23275.000000</td>\n",
       "      <td>23275.000000</td>\n",
       "      <td>23275.000000</td>\n",
       "      <td>23275.000000</td>\n",
       "      <td>17775.000000</td>\n",
       "    </tr>\n",
       "    <tr>\n",
       "      <th>mean</th>\n",
       "      <td>9.821998</td>\n",
       "      <td>5.700951e+06</td>\n",
       "      <td>57.744994</td>\n",
       "      <td>2.037078</td>\n",
       "      <td>2.690422</td>\n",
       "      <td>10.725842</td>\n",
       "      <td>33.090039</td>\n",
       "      <td>5.905564</td>\n",
       "      <td>10.291409</td>\n",
       "      <td>0.592868</td>\n",
       "      <td>28845.455477</td>\n",
       "      <td>14370.673305</td>\n",
       "      <td>0.595410</td>\n",
       "      <td>494.030528</td>\n",
       "      <td>0.752813</td>\n",
       "      <td>522.121921</td>\n",
       "      <td>179.076641</td>\n",
       "      <td>96393.928708</td>\n",
       "      <td>2.567132</td>\n",
       "      <td>6.401847</td>\n",
       "      <td>2017.375811</td>\n",
       "      <td>14.364163</td>\n",
       "    </tr>\n",
       "    <tr>\n",
       "      <th>std</th>\n",
       "      <td>5.655417</td>\n",
       "      <td>3.953556e+06</td>\n",
       "      <td>26.137717</td>\n",
       "      <td>0.982554</td>\n",
       "      <td>0.206072</td>\n",
       "      <td>6.617456</td>\n",
       "      <td>17.375329</td>\n",
       "      <td>4.902357</td>\n",
       "      <td>5.070117</td>\n",
       "      <td>0.958672</td>\n",
       "      <td>12732.191813</td>\n",
       "      <td>8587.075031</td>\n",
       "      <td>0.787032</td>\n",
       "      <td>343.069323</td>\n",
       "      <td>0.924852</td>\n",
       "      <td>277.988900</td>\n",
       "      <td>217.764113</td>\n",
       "      <td>35874.736091</td>\n",
       "      <td>1.788915</td>\n",
       "      <td>3.490559</td>\n",
       "      <td>1.033091</td>\n",
       "      <td>8.595016</td>\n",
       "    </tr>\n",
       "    <tr>\n",
       "      <th>min</th>\n",
       "      <td>0.000000</td>\n",
       "      <td>1.219000e+04</td>\n",
       "      <td>12.000000</td>\n",
       "      <td>1.000000</td>\n",
       "      <td>1.750000</td>\n",
       "      <td>1.000000</td>\n",
       "      <td>5.000000</td>\n",
       "      <td>1.000000</td>\n",
       "      <td>1.300000</td>\n",
       "      <td>0.000000</td>\n",
       "      <td>0.000000</td>\n",
       "      <td>208.000000</td>\n",
       "      <td>0.000000</td>\n",
       "      <td>1.000000</td>\n",
       "      <td>0.000000</td>\n",
       "      <td>13.000000</td>\n",
       "      <td>1.000000</td>\n",
       "      <td>111.830000</td>\n",
       "      <td>0.000000</td>\n",
       "      <td>1.000000</td>\n",
       "      <td>2014.000000</td>\n",
       "      <td>0.000000</td>\n",
       "    </tr>\n",
       "    <tr>\n",
       "      <th>25%</th>\n",
       "      <td>6.000000</td>\n",
       "      <td>3.400000e+06</td>\n",
       "      <td>40.000000</td>\n",
       "      <td>1.000000</td>\n",
       "      <td>2.600000</td>\n",
       "      <td>5.000000</td>\n",
       "      <td>18.500000</td>\n",
       "      <td>2.000000</td>\n",
       "      <td>7.000000</td>\n",
       "      <td>0.000000</td>\n",
       "      <td>18475.000000</td>\n",
       "      <td>9593.000000</td>\n",
       "      <td>0.000000</td>\n",
       "      <td>290.000000</td>\n",
       "      <td>0.000000</td>\n",
       "      <td>301.000000</td>\n",
       "      <td>45.000000</td>\n",
       "      <td>76256.160000</td>\n",
       "      <td>1.000000</td>\n",
       "      <td>3.000000</td>\n",
       "      <td>2017.000000</td>\n",
       "      <td>10.000000</td>\n",
       "    </tr>\n",
       "    <tr>\n",
       "      <th>50%</th>\n",
       "      <td>9.000000</td>\n",
       "      <td>4.600000e+06</td>\n",
       "      <td>51.400000</td>\n",
       "      <td>2.000000</td>\n",
       "      <td>2.650000</td>\n",
       "      <td>9.000000</td>\n",
       "      <td>30.000000</td>\n",
       "      <td>4.000000</td>\n",
       "      <td>9.000000</td>\n",
       "      <td>0.000000</td>\n",
       "      <td>26815.000000</td>\n",
       "      <td>13222.000000</td>\n",
       "      <td>0.000000</td>\n",
       "      <td>456.000000</td>\n",
       "      <td>0.000000</td>\n",
       "      <td>506.000000</td>\n",
       "      <td>95.000000</td>\n",
       "      <td>94594.590000</td>\n",
       "      <td>3.000000</td>\n",
       "      <td>6.000000</td>\n",
       "      <td>2017.000000</td>\n",
       "      <td>13.000000</td>\n",
       "    </tr>\n",
       "    <tr>\n",
       "      <th>75%</th>\n",
       "      <td>14.000000</td>\n",
       "      <td>6.600000e+06</td>\n",
       "      <td>68.000000</td>\n",
       "      <td>3.000000</td>\n",
       "      <td>2.700000</td>\n",
       "      <td>16.000000</td>\n",
       "      <td>42.000000</td>\n",
       "      <td>8.000000</td>\n",
       "      <td>11.800000</td>\n",
       "      <td>1.000000</td>\n",
       "      <td>37412.000000</td>\n",
       "      <td>16398.000000</td>\n",
       "      <td>1.000000</td>\n",
       "      <td>614.000000</td>\n",
       "      <td>1.000000</td>\n",
       "      <td>733.000000</td>\n",
       "      <td>229.000000</td>\n",
       "      <td>113271.355000</td>\n",
       "      <td>4.000000</td>\n",
       "      <td>10.000000</td>\n",
       "      <td>2018.000000</td>\n",
       "      <td>16.000000</td>\n",
       "    </tr>\n",
       "    <tr>\n",
       "      <th>max</th>\n",
       "      <td>50.000000</td>\n",
       "      <td>3.000000e+07</td>\n",
       "      <td>230.000000</td>\n",
       "      <td>7.000000</td>\n",
       "      <td>5.300000</td>\n",
       "      <td>60.000000</td>\n",
       "      <td>167.000000</td>\n",
       "      <td>33.000000</td>\n",
       "      <td>70.000000</td>\n",
       "      <td>5.000000</td>\n",
       "      <td>84869.000000</td>\n",
       "      <td>65968.000000</td>\n",
       "      <td>3.000000</td>\n",
       "      <td>3190.000000</td>\n",
       "      <td>3.000000</td>\n",
       "      <td>1344.000000</td>\n",
       "      <td>1580.000000</td>\n",
       "      <td>848484.850000</td>\n",
       "      <td>6.000000</td>\n",
       "      <td>12.000000</td>\n",
       "      <td>2019.000000</td>\n",
       "      <td>66.000000</td>\n",
       "    </tr>\n",
       "  </tbody>\n",
       "</table>\n",
       "</div>"
      ],
      "text/plain": [
       "       total_images    last_price    total_area         rooms  ceiling_height  \\\n",
       "count  23275.000000  2.327500e+04  23275.000000  23275.000000    23267.000000   \n",
       "mean       9.821998  5.700951e+06     57.744994      2.037078        2.690422   \n",
       "std        5.655417  3.953556e+06     26.137717      0.982554        0.206072   \n",
       "min        0.000000  1.219000e+04     12.000000      1.000000        1.750000   \n",
       "25%        6.000000  3.400000e+06     40.000000      1.000000        2.600000   \n",
       "50%        9.000000  4.600000e+06     51.400000      2.000000        2.650000   \n",
       "75%       14.000000  6.600000e+06     68.000000      3.000000        2.700000   \n",
       "max       50.000000  3.000000e+07    230.000000      7.000000        5.300000   \n",
       "\n",
       "       floors_total   living_area         floor  kitchen_area       balcony  \\\n",
       "count  23191.000000  21402.000000  23275.000000  21045.000000  23275.000000   \n",
       "mean      10.725842     33.090039      5.905564     10.291409      0.592868   \n",
       "std        6.617456     17.375329      4.902357      5.070117      0.958672   \n",
       "min        1.000000      5.000000      1.000000      1.300000      0.000000   \n",
       "25%        5.000000     18.500000      2.000000      7.000000      0.000000   \n",
       "50%        9.000000     30.000000      4.000000      9.000000      0.000000   \n",
       "75%       16.000000     42.000000      8.000000     11.800000      1.000000   \n",
       "max       60.000000    167.000000     33.000000     70.000000      5.000000   \n",
       "\n",
       "       airports_nearest  cityCenters_nearest  parks_around3000  parks_nearest  \\\n",
       "count      17755.000000         17775.000000      17776.000000    7796.000000   \n",
       "mean       28845.455477         14370.673305          0.595410     494.030528   \n",
       "std        12732.191813          8587.075031          0.787032     343.069323   \n",
       "min            0.000000           208.000000          0.000000       1.000000   \n",
       "25%        18475.000000          9593.000000          0.000000     290.000000   \n",
       "50%        26815.000000         13222.000000          0.000000     456.000000   \n",
       "75%        37412.000000         16398.000000          1.000000     614.000000   \n",
       "max        84869.000000         65968.000000          3.000000    3190.000000   \n",
       "\n",
       "       ponds_around3000  ponds_nearest  days_exposition  sq_meter_price  \\\n",
       "count      17776.000000    8809.000000     20185.000000    23275.000000   \n",
       "mean           0.752813     522.121921       179.076641    96393.928708   \n",
       "std            0.924852     277.988900       217.764113    35874.736091   \n",
       "min            0.000000      13.000000         1.000000      111.830000   \n",
       "25%            0.000000     301.000000        45.000000    76256.160000   \n",
       "50%            0.000000     506.000000        95.000000    94594.590000   \n",
       "75%            1.000000     733.000000       229.000000   113271.355000   \n",
       "max            3.000000    1344.000000      1580.000000   848484.850000   \n",
       "\n",
       "        day_of_week         month          year  city_center_km  \n",
       "count  23275.000000  23275.000000  23275.000000    17775.000000  \n",
       "mean       2.567132      6.401847   2017.375811       14.364163  \n",
       "std        1.788915      3.490559      1.033091        8.595016  \n",
       "min        0.000000      1.000000   2014.000000        0.000000  \n",
       "25%        1.000000      3.000000   2017.000000       10.000000  \n",
       "50%        3.000000      6.000000   2017.000000       13.000000  \n",
       "75%        4.000000     10.000000   2018.000000       16.000000  \n",
       "max        6.000000     12.000000   2019.000000       66.000000  "
      ]
     },
     "execution_count": 51,
     "metadata": {},
     "output_type": "execute_result"
    }
   ],
   "source": [
    "# 4.1\n",
    "df.describe()"
   ]
  },
  {
   "cell_type": "code",
   "execution_count": 52,
   "metadata": {},
   "outputs": [
    {
     "data": {
      "image/png": "[encoded data removed]",
      "text/plain": [
       "<Figure size 432x288 with 1 Axes>"
      ]
     },
     "metadata": {
      "needs_background": "light"
     },
     "output_type": "display_data"
    }
   ],
   "source": [
    "df['total_area'].hist(bins=30);"
   ]
  },
  {
   "cell_type": "markdown",
   "metadata": {},
   "source": [
    "Это похоже на нормальное распределение, скошенное вправо, что можно объяснить небольшим количеством жилья с общей площадью большей чем основная масса, где средняя площадь равна 50-60кв. метрам. "
   ]
  },
  {
   "cell_type": "code",
   "execution_count": 53,
   "metadata": {},
   "outputs": [
    {
     "data": {
      "image/png": "[encoded data removed]",
      "text/plain": [
       "<Figure size 432x288 with 1 Axes>"
      ]
     },
     "metadata": {
      "needs_background": "light"
     },
     "output_type": "display_data"
    }
   ],
   "source": [
    "df['living_area'].hist(bins=30);"
   ]
  },
  {
   "cell_type": "markdown",
   "metadata": {},
   "source": [
    "Это похоже на нормальное распределение, скошенное вправо и с двумя пиками. Это можно объяснить тем, что на рынке основная масса квартир это 1-комнатные или же студии (первый пик) или же 2-комнатные (второй пик) с наиболее распространенными метражами."
   ]
  },
  {
   "cell_type": "code",
   "execution_count": 54,
   "metadata": {},
   "outputs": [
    {
     "data": {
      "image/png": "[encoded data removed]",
      "text/plain": [
       "<Figure size 432x288 with 1 Axes>"
      ]
     },
     "metadata": {
      "needs_background": "light"
     },
     "output_type": "display_data"
    }
   ],
   "source": [
    "df['kitchen_area'].hist(bins=30);"
   ]
  },
  {
   "cell_type": "markdown",
   "metadata": {},
   "source": [
    "Это похоже на нормальное распределение, скошенное вправо. Мы видим один пик, что разнится с гистрогаммой по по столбцу living_area, это можно объяснить тем, что и в 1-комнатных и в 2-комнтаных квартирах 1 кухня."
   ]
  },
  {
   "cell_type": "code",
   "execution_count": 55,
   "metadata": {},
   "outputs": [
    {
     "data": {
      "image/png": "[encoded data removed]",
      "text/plain": [
       "<Figure size 432x288 with 1 Axes>"
      ]
     },
     "metadata": {
      "needs_background": "light"
     },
     "output_type": "display_data"
    }
   ],
   "source": [
    "(df['last_price']/1000000).hist(bins=30);"
   ]
  },
  {
   "cell_type": "markdown",
   "metadata": {},
   "source": [
    "Это похоже на нормальное распределение, скошенное вправо. Это можно объяснить тем, что на рынке основная масса квартир стоит до 10млн рублей, но есть и дороже и чем дороже, тем меньше подобных предложений. "
   ]
  },
  {
   "cell_type": "code",
   "execution_count": 56,
   "metadata": {},
   "outputs": [
    {
     "data": {
      "text/plain": [
       "array([3, 1, 2, 4, 5, 6, 7])"
      ]
     },
     "execution_count": 56,
     "metadata": {},
     "output_type": "execute_result"
    }
   ],
   "source": [
    "df['rooms'].unique()"
   ]
  },
  {
   "cell_type": "code",
   "execution_count": 57,
   "metadata": {},
   "outputs": [
    {
     "data": {
      "image/png": "[encoded data removed]",
      "text/plain": [
       "<Figure size 432x288 with 1 Axes>"
      ]
     },
     "metadata": {
      "needs_background": "light"
     },
     "output_type": "display_data"
    }
   ],
   "source": [
    "df['rooms'].hist(bins=7, grid=False);"
   ]
  },
  {
   "cell_type": "markdown",
   "metadata": {},
   "source": [
    "Из графика видим, что большинство объектов это квартиры с 1-ой ,2-я или 3-я комнатами. "
   ]
  },
  {
   "cell_type": "code",
   "execution_count": 58,
   "metadata": {},
   "outputs": [
    {
     "data": {
      "image/png": "[encoded data removed]",
      "text/plain": [
       "<Figure size 432x288 with 1 Axes>"
      ]
     },
     "metadata": {
      "needs_background": "light"
     },
     "output_type": "display_data"
    }
   ],
   "source": [
    "df['ceiling_height'].hist(bins=20);"
   ]
  },
  {
   "cell_type": "code",
   "execution_count": 59,
   "metadata": {},
   "outputs": [
    {
     "data": {
      "text/plain": [
       "220"
      ]
     },
     "execution_count": 59,
     "metadata": {},
     "output_type": "execute_result"
    }
   ],
   "source": [
    "df[(df['ceiling_height'] > 3.5) | (df['ceiling_height'] < 2)]['ceiling_height'].count()"
   ]
  },
  {
   "cell_type": "code",
   "execution_count": 60,
   "metadata": {},
   "outputs": [
    {
     "data": {
      "text/plain": [
       "219"
      ]
     },
     "execution_count": 60,
     "metadata": {},
     "output_type": "execute_result"
    }
   ],
   "source": [
    "(df['ceiling_height'] > 3.5).sum()"
   ]
  },
  {
   "cell_type": "code",
   "execution_count": 61,
   "metadata": {},
   "outputs": [
    {
     "data": {
      "text/plain": [
       "20"
      ]
     },
     "execution_count": 61,
     "metadata": {},
     "output_type": "execute_result"
    }
   ],
   "source": [
    "(df['ceiling_height'] < 2.4).sum()"
   ]
  },
  {
   "cell_type": "code",
   "execution_count": 62,
   "metadata": {},
   "outputs": [
    {
     "data": {
      "text/plain": [
       "0.00945220193340494"
      ]
     },
     "execution_count": 62,
     "metadata": {},
     "output_type": "execute_result"
    }
   ],
   "source": [
    "df[(df['ceiling_height'] > 3.5) | (df['ceiling_height'] < 2)]['ceiling_height'].count() / df.shape[0]"
   ]
  },
  {
   "cell_type": "code",
   "execution_count": 63,
   "metadata": {},
   "outputs": [
    {
     "data": {
      "text/plain": [
       "(23004, 29)"
      ]
     },
     "execution_count": 63,
     "metadata": {},
     "output_type": "execute_result"
    }
   ],
   "source": [
    "df = df[df['ceiling_height'] > 2.4]\n",
    "df = df[df['ceiling_height'] <= 3.5]\n",
    "df.shape"
   ]
  },
  {
   "cell_type": "code",
   "execution_count": 64,
   "metadata": {},
   "outputs": [
    {
     "data": {
      "text/plain": [
       "33"
      ]
     },
     "execution_count": 64,
     "metadata": {},
     "output_type": "execute_result"
    }
   ],
   "source": [
    "df['floor'].nunique()"
   ]
  },
  {
   "cell_type": "code",
   "execution_count": 65,
   "metadata": {},
   "outputs": [
    {
     "data": {
      "image/png": "[encoded data removed]",
      "text/plain": [
       "<Figure size 432x288 with 1 Axes>"
      ]
     },
     "metadata": {
      "needs_background": "light"
     },
     "output_type": "display_data"
    }
   ],
   "source": [
    "df['floor'].hist(bins=33);"
   ]
  },
  {
   "cell_type": "markdown",
   "metadata": {},
   "source": [
    "Больше всего объектов жилья на 1-5 этажах, возможно потому, что больше малоэтажных домов, чем многоэтажных в датасете, который включает в себя в том числе и ближний пригород Петербурга."
   ]
  },
  {
   "cell_type": "code",
   "execution_count": 66,
   "metadata": {},
   "outputs": [
    {
     "data": {
      "image/png": "[encoded data removed]",
      "text/plain": [
       "<Figure size 432x288 with 1 Axes>"
      ]
     },
     "metadata": {
      "needs_background": "light"
     },
     "output_type": "display_data"
    }
   ],
   "source": [
    "df['floor_type'].hist(bins=9);"
   ]
  },
  {
   "cell_type": "markdown",
   "metadata": {},
   "source": [
    "Сложно тут что-либо прокомментровать, все очевидно."
   ]
  },
  {
   "cell_type": "code",
   "execution_count": 67,
   "metadata": {},
   "outputs": [
    {
     "data": {
      "image/png": "[encoded data removed]",
      "text/plain": [
       "<Figure size 432x288 with 1 Axes>"
      ]
     },
     "metadata": {
      "needs_background": "light"
     },
     "output_type": "display_data"
    }
   ],
   "source": [
    "df['floors_total'].hist(bins=60);"
   ]
  },
  {
   "cell_type": "markdown",
   "metadata": {},
   "source": [
    "Довольно интересный график, можно проследить этажность домов в Санкт-Петербурге и его пригороде: много 5-этажных и 9-этажных зданий."
   ]
  },
  {
   "cell_type": "code",
   "execution_count": 68,
   "metadata": {},
   "outputs": [
    {
     "data": {
      "image/png": "[encoded data removed]",
      "text/plain": [
       "<Figure size 432x288 with 1 Axes>"
      ]
     },
     "metadata": {
      "needs_background": "light"
     },
     "output_type": "display_data"
    }
   ],
   "source": [
    "df['cityCenters_nearest'].hist();"
   ]
  },
  {
   "cell_type": "markdown",
   "metadata": {},
   "source": [
    "Большинство объектов в пределах 20км, большинство домов (66%) расположено в Петербурге, а он город не маленький. "
   ]
  },
  {
   "cell_type": "code",
   "execution_count": 69,
   "metadata": {},
   "outputs": [
    {
     "data": {
      "text/plain": [
       "0.6579290558163797"
      ]
     },
     "execution_count": 69,
     "metadata": {},
     "output_type": "execute_result"
    }
   ],
   "source": [
    "(df['locality_name'] == 'Санкт-Петербург').sum() / df.shape[0]"
   ]
  },
  {
   "cell_type": "code",
   "execution_count": 70,
   "metadata": {},
   "outputs": [
    {
     "data": {
      "image/png": "[encoded data removed]",
      "text/plain": [
       "<Figure size 432x288 with 1 Axes>"
      ]
     },
     "metadata": {
      "needs_background": "light"
     },
     "output_type": "display_data"
    }
   ],
   "source": [
    "df['airports_nearest'].hist(bins=30);"
   ]
  },
  {
   "cell_type": "code",
   "execution_count": 71,
   "metadata": {},
   "outputs": [
    {
     "data": {
      "image/png": "[encoded data removed]",
      "text/plain": [
       "<Figure size 432x288 with 1 Axes>"
      ]
     },
     "metadata": {
      "needs_background": "light"
     },
     "output_type": "display_data"
    }
   ],
   "source": [
    "df['parks_nearest'].hist(bins=30);"
   ]
  },
  {
   "cell_type": "markdown",
   "metadata": {},
   "source": [
    "Большая часть жилья расположено не дальше 1000 метров от парка."
   ]
  },
  {
   "cell_type": "code",
   "execution_count": 72,
   "metadata": {},
   "outputs": [
    {
     "data": {
      "image/png": "[encoded data removed]",
      "text/plain": [
       "<Figure size 432x288 with 1 Axes>"
      ]
     },
     "metadata": {
      "needs_background": "light"
     },
     "output_type": "display_data"
    }
   ],
   "source": [
    "df['day_of_week'].hist(bins=7);"
   ]
  },
  {
   "cell_type": "markdown",
   "metadata": {},
   "source": [
    "По выходным публикуется меньше объявлений."
   ]
  },
  {
   "cell_type": "code",
   "execution_count": 73,
   "metadata": {},
   "outputs": [
    {
     "data": {
      "image/png": "[encoded data removed]",
      "text/plain": [
       "<Figure size 432x288 with 1 Axes>"
      ]
     },
     "metadata": {
      "needs_background": "light"
     },
     "output_type": "display_data"
    }
   ],
   "source": [
    "df['month'].hist(bins=12);"
   ]
  },
  {
   "cell_type": "markdown",
   "metadata": {},
   "source": [
    "Самыми мало публикуемыми месяцами стали декабрь, январь и май, возможно, дело в праздниках.\n"
   ]
  },
  {
   "cell_type": "code",
   "execution_count": 74,
   "metadata": {},
   "outputs": [
    {
     "data": {
      "text/plain": [
       "count    19970.000000\n",
       "mean       178.581322\n",
       "std        217.445896\n",
       "min          1.000000\n",
       "25%         45.000000\n",
       "50%         94.000000\n",
       "75%        227.000000\n",
       "max       1580.000000\n",
       "Name: days_exposition, dtype: float64"
      ]
     },
     "execution_count": 74,
     "metadata": {},
     "output_type": "execute_result"
    },
    {
     "data": {
      "image/png": "[encoded data removed]",
      "text/plain": [
       "<Figure size 432x288 with 1 Axes>"
      ]
     },
     "metadata": {
      "needs_background": "light"
     },
     "output_type": "display_data"
    }
   ],
   "source": [
    "# 4.2\n",
    "df['days_exposition'].hist(bins=30)\n",
    "df['days_exposition'].describe()"
   ]
  },
  {
   "cell_type": "code",
   "execution_count": 75,
   "metadata": {},
   "outputs": [
    {
     "data": {
      "image/png": "[encoded data removed]",
      "text/plain": [
       "<Figure size 432x288 with 1 Axes>"
      ]
     },
     "metadata": {
      "needs_background": "light"
     },
     "output_type": "display_data"
    }
   ],
   "source": [
    "boxplot = df.boxplot(column=['days_exposition'])  "
   ]
  },
  {
   "cell_type": "markdown",
   "metadata": {},
   "source": [
    "Продажа квартиры в среднем занимает 95 дней (медианное среднее). Если продажа совершена в течение 45 дней с момента публицкации, то можно считать ее быстрой. Если объявление \"висит\" более 500 дней, то можно сказать, что это необычно долго."
   ]
  },
  {
   "cell_type": "code",
   "execution_count": 76,
   "metadata": {},
   "outputs": [
    {
     "data": {
      "image/png": "[encoded data removed]",
      "text/plain": [
       "<Figure size 432x288 with 1 Axes>"
      ]
     },
     "metadata": {
      "needs_background": "light"
     },
     "output_type": "display_data"
    }
   ],
   "source": [
    "boxplot = df.boxplot(column=['days_exposition'])  "
   ]
  },
  {
   "cell_type": "code",
   "execution_count": 77,
   "metadata": {},
   "outputs": [],
   "source": [
    "# 4.3 "
   ]
  },
  {
   "cell_type": "markdown",
   "metadata": {},
   "source": [
    "Для начала рассмотрим как количественные факторы влияют на цену квартиры. "
   ]
  },
  {
   "cell_type": "code",
   "execution_count": 78,
   "metadata": {},
   "outputs": [
    {
     "data": {
      "text/html": [
       "<div>\n",
       "<style scoped>\n",
       "    .dataframe tbody tr th:only-of-type {\n",
       "        vertical-align: middle;\n",
       "    }\n",
       "\n",
       "    .dataframe tbody tr th {\n",
       "        vertical-align: top;\n",
       "    }\n",
       "\n",
       "    .dataframe thead th {\n",
       "        text-align: right;\n",
       "    }\n",
       "</style>\n",
       "<table border=\"1\" class=\"dataframe\">\n",
       "  <thead>\n",
       "    <tr style=\"text-align: right;\">\n",
       "      <th></th>\n",
       "      <th>last_price</th>\n",
       "      <th>total_area</th>\n",
       "      <th>kitchen_area</th>\n",
       "      <th>rooms</th>\n",
       "      <th>day_of_week</th>\n",
       "      <th>month</th>\n",
       "      <th>year</th>\n",
       "    </tr>\n",
       "  </thead>\n",
       "  <tbody>\n",
       "    <tr>\n",
       "      <th>last_price</th>\n",
       "      <td>1.000000</td>\n",
       "      <td>0.788002</td>\n",
       "      <td>0.604806</td>\n",
       "      <td>0.503128</td>\n",
       "      <td>-0.018659</td>\n",
       "      <td>0.007306</td>\n",
       "      <td>-0.033817</td>\n",
       "    </tr>\n",
       "    <tr>\n",
       "      <th>total_area</th>\n",
       "      <td>0.788002</td>\n",
       "      <td>1.000000</td>\n",
       "      <td>0.558857</td>\n",
       "      <td>0.794766</td>\n",
       "      <td>-0.011361</td>\n",
       "      <td>0.011112</td>\n",
       "      <td>-0.079472</td>\n",
       "    </tr>\n",
       "    <tr>\n",
       "      <th>kitchen_area</th>\n",
       "      <td>0.604806</td>\n",
       "      <td>0.558857</td>\n",
       "      <td>1.000000</td>\n",
       "      <td>0.188550</td>\n",
       "      <td>-0.010846</td>\n",
       "      <td>0.008902</td>\n",
       "      <td>-0.051804</td>\n",
       "    </tr>\n",
       "    <tr>\n",
       "      <th>rooms</th>\n",
       "      <td>0.503128</td>\n",
       "      <td>0.794766</td>\n",
       "      <td>0.188550</td>\n",
       "      <td>1.000000</td>\n",
       "      <td>-0.002285</td>\n",
       "      <td>0.000780</td>\n",
       "      <td>-0.047243</td>\n",
       "    </tr>\n",
       "    <tr>\n",
       "      <th>day_of_week</th>\n",
       "      <td>-0.018659</td>\n",
       "      <td>-0.011361</td>\n",
       "      <td>-0.010846</td>\n",
       "      <td>-0.002285</td>\n",
       "      <td>1.000000</td>\n",
       "      <td>0.012096</td>\n",
       "      <td>-0.003609</td>\n",
       "    </tr>\n",
       "    <tr>\n",
       "      <th>month</th>\n",
       "      <td>0.007306</td>\n",
       "      <td>0.011112</td>\n",
       "      <td>0.008902</td>\n",
       "      <td>0.000780</td>\n",
       "      <td>0.012096</td>\n",
       "      <td>1.000000</td>\n",
       "      <td>-0.273544</td>\n",
       "    </tr>\n",
       "    <tr>\n",
       "      <th>year</th>\n",
       "      <td>-0.033817</td>\n",
       "      <td>-0.079472</td>\n",
       "      <td>-0.051804</td>\n",
       "      <td>-0.047243</td>\n",
       "      <td>-0.003609</td>\n",
       "      <td>-0.273544</td>\n",
       "      <td>1.000000</td>\n",
       "    </tr>\n",
       "  </tbody>\n",
       "</table>\n",
       "</div>"
      ],
      "text/plain": [
       "              last_price  total_area  kitchen_area     rooms  day_of_week  \\\n",
       "last_price      1.000000    0.788002      0.604806  0.503128    -0.018659   \n",
       "total_area      0.788002    1.000000      0.558857  0.794766    -0.011361   \n",
       "kitchen_area    0.604806    0.558857      1.000000  0.188550    -0.010846   \n",
       "rooms           0.503128    0.794766      0.188550  1.000000    -0.002285   \n",
       "day_of_week    -0.018659   -0.011361     -0.010846 -0.002285     1.000000   \n",
       "month           0.007306    0.011112      0.008902  0.000780     0.012096   \n",
       "year           -0.033817   -0.079472     -0.051804 -0.047243    -0.003609   \n",
       "\n",
       "                 month      year  \n",
       "last_price    0.007306 -0.033817  \n",
       "total_area    0.011112 -0.079472  \n",
       "kitchen_area  0.008902 -0.051804  \n",
       "rooms         0.000780 -0.047243  \n",
       "day_of_week   0.012096 -0.003609  \n",
       "month         1.000000 -0.273544  \n",
       "year         -0.273544  1.000000  "
      ]
     },
     "execution_count": 78,
     "metadata": {},
     "output_type": "execute_result"
    }
   ],
   "source": [
    "# построим матрицк корреляции\n",
    "corr_matrix = df.loc[:, ['last_price', 'total_area', 'kitchen_area', 'rooms', 'day_of_week', 'month', 'year']].corr()\n",
    "corr_matrix"
   ]
  },
  {
   "cell_type": "code",
   "execution_count": 79,
   "metadata": {},
   "outputs": [
    {
     "data": {
      "image/png": "[encoded data removed]",
      "text/plain": [
       "<Figure size 432x288 with 1 Axes>"
      ]
     },
     "metadata": {
      "needs_background": "light"
     },
     "output_type": "display_data"
    }
   ],
   "source": [
    "sns.barplot(x=df[\"rooms\"], y=df[\"last_price\"])\n",
    "plt.title(\"Зависимость кол-ва комнат и средние значения стоимости жилья\\n\");"
   ]
  },
  {
   "cell_type": "code",
   "execution_count": 80,
   "metadata": {},
   "outputs": [
    {
     "data": {
      "image/png": "[encoded data removed]",
      "text/plain": [
       "<Figure size 432x288 with 1 Axes>"
      ]
     },
     "metadata": {
      "needs_background": "light"
     },
     "output_type": "display_data"
    }
   ],
   "source": [
    "sns.barplot(x=df[\"day_of_week\"], y=df[\"last_price\"]);"
   ]
  },
  {
   "cell_type": "code",
   "execution_count": 81,
   "metadata": {},
   "outputs": [
    {
     "data": {
      "image/png": "[encoded data removed]",
      "text/plain": [
       "<Figure size 432x288 with 1 Axes>"
      ]
     },
     "metadata": {
      "needs_background": "light"
     },
     "output_type": "display_data"
    }
   ],
   "source": [
    "sns.barplot(x=df[\"month\"], y=df[\"last_price\"]);"
   ]
  },
  {
   "cell_type": "code",
   "execution_count": 82,
   "metadata": {},
   "outputs": [
    {
     "data": {
      "image/png": "[encoded data removed]",
      "text/plain": [
       "<Figure size 432x288 with 1 Axes>"
      ]
     },
     "metadata": {
      "needs_background": "light"
     },
     "output_type": "display_data"
    }
   ],
   "source": [
    "sns.barplot(x=df[\"year\"], y=df[\"last_price\"]);"
   ]
  },
  {
   "cell_type": "markdown",
   "metadata": {},
   "source": [
    "На графиках видно, что есть прямая зависимость между количетвом комнат и стоимостью жилья. Касательно, дня и месяца публикации нет никакой корреляции. На последнем графике мы видим, что в 2014 средняя стоимость жилья была самой высокой, далее было снижение цен до 2018 года, в 2019 был небольшой подъем. </br>\n",
    "\n",
    " "
   ]
  },
  {
   "cell_type": "code",
   "execution_count": 83,
   "metadata": {},
   "outputs": [
    {
     "data": {
      "image/png": "[encoded data removed]",
      "text/plain": [
       "<Figure size 1080x720 with 2 Axes>"
      ]
     },
     "metadata": {},
     "output_type": "display_data"
    }
   ],
   "source": [
    "# Изобразим это на графике\n",
    "\n",
    "sns.set(context=\"notebook\", font=\"monospace\")\n",
    "\n",
    "f, ax = plt.subplots(figsize=(15, 10))\n",
    "\n",
    "sns.heatmap(corr_matrix, vmax=.8, square=True, cmap='coolwarm')\n",
    "plt.show()"
   ]
  },
  {
   "cell_type": "markdown",
   "metadata": {},
   "source": [
    "Из таблицы и графика видно, что максимально положительной с ценой коррелируют площади и количество комнат, минимальная корреляция с днями недели и месяцем публикации объявления. Небольшая негативная коррелция с годом публикации. \n",
    "\n",
    "Рассмотрим поподробнее зависимость площадей и комнат на цену."
   ]
  },
  {
   "cell_type": "code",
   "execution_count": null,
   "metadata": {},
   "outputs": [
    {
     "ename": "NameError",
     "evalue": "name 'plt' is not defined",
     "output_type": "error",
     "traceback": [
      "\u001b[0;31m---------------------------------------------------------------------------\u001b[0m",
      "\u001b[0;31mNameError\u001b[0m                                 Traceback (most recent call last)",
      "Input \u001b[0;32mIn [1]\u001b[0m, in \u001b[0;36m<cell line: 1>\u001b[0;34m()\u001b[0m\n\u001b[0;32m----> 1\u001b[0m fig, axs \u001b[38;5;241m=\u001b[39m \u001b[43mplt\u001b[49m\u001b[38;5;241m.\u001b[39msubplots(ncols\u001b[38;5;241m=\u001b[39m\u001b[38;5;241m3\u001b[39m, figsize\u001b[38;5;241m=\u001b[39m(\u001b[38;5;241m16\u001b[39m,\u001b[38;5;241m5\u001b[39m))\n\u001b[1;32m      3\u001b[0m sns\u001b[38;5;241m.\u001b[39mregplot(x\u001b[38;5;241m=\u001b[39m\u001b[38;5;124m'\u001b[39m\u001b[38;5;124mtotal_area\u001b[39m\u001b[38;5;124m'\u001b[39m, y\u001b[38;5;241m=\u001b[39m\u001b[38;5;124m'\u001b[39m\u001b[38;5;124mlast_price\u001b[39m\u001b[38;5;124m'\u001b[39m, data\u001b[38;5;241m=\u001b[39mdf, ax\u001b[38;5;241m=\u001b[39maxs[\u001b[38;5;241m0\u001b[39m])\n\u001b[1;32m      4\u001b[0m sns\u001b[38;5;241m.\u001b[39mregplot(x\u001b[38;5;241m=\u001b[39m\u001b[38;5;124m'\u001b[39m\u001b[38;5;124mkitchen_area\u001b[39m\u001b[38;5;124m'\u001b[39m, y\u001b[38;5;241m=\u001b[39m\u001b[38;5;124m'\u001b[39m\u001b[38;5;124mlast_price\u001b[39m\u001b[38;5;124m'\u001b[39m, data\u001b[38;5;241m=\u001b[39mdf, ax\u001b[38;5;241m=\u001b[39maxs[\u001b[38;5;241m1\u001b[39m])\n",
      "\u001b[0;31mNameError\u001b[0m: name 'plt' is not defined"
     ]
    }
   ],
   "source": [
    "fig, axs = plt.subplots(ncols=3, figsize=(16,5))\n",
    "\n",
    "sns.regplot(x='total_area', y='last_price', data=df, ax=axs[0])\n",
    "sns.regplot(x='kitchen_area', y='last_price', data=df, ax=axs[1])\n",
    "sns.regplot(x='rooms',y='last_price', data=df, ax=axs[2])\n",
    "\n",
    "plt.show()"
   ]
  },
  {
   "cell_type": "markdown",
   "metadata": {},
   "source": [
    "Рассмотрим как влияет качественный показатель - тип этажа (первый, последний, другой) на цену."
   ]
  },
  {
   "cell_type": "code",
   "execution_count": 85,
   "metadata": {},
   "outputs": [
    {
     "data": {
      "image/png": "[encoded data removed]",
      "text/plain": [
       "<Figure size 432x288 with 1 Axes>"
      ]
     },
     "metadata": {},
     "output_type": "display_data"
    }
   ],
   "source": [
    "sns.stripplot(x=df[\"floor_type\"], y=df[\"last_price\"],jitter=True)\n",
    "plt.title(\"Зависимость цены и типа этажа\");"
   ]
  },
  {
   "cell_type": "markdown",
   "metadata": {},
   "source": [
    "В целом, как и можно было предположить на цену квартиры больше всего влияет ее общая площадь, размер кухни, и практически не влияют день недели и месяц. Слабо негативно проявляется зависимость между ценой и годом публикации. \n",
    "\n",
    "Есть некоторая закономерность между ценой и типом этажа квартиры - на первом этаже меньше всего разброс по цене в отличие от квартир на последенем. "
   ]
  },
  {
   "cell_type": "code",
   "execution_count": 86,
   "metadata": {},
   "outputs": [],
   "source": [
    "# 4.4"
   ]
  },
  {
   "cell_type": "code",
   "execution_count": 87,
   "metadata": {},
   "outputs": [],
   "source": [
    "# Топ 10 населенных пунктов по количеству объявлений и \n",
    "# средняя цена за кв метр в каждом таком населенном пункте\n",
    "top10 = df.groupby('locality_name')['sq_meter_price'].count().sort_values(ascending=False)[:10]"
   ]
  },
  {
   "cell_type": "code",
   "execution_count": 88,
   "metadata": {},
   "outputs": [
    {
     "data": {
      "text/plain": [
       "locality_name\n",
       "Всеволожск            68617.058810\n",
       "Выборг                58243.557826\n",
       "Гатчина               68799.627549\n",
       "Колпино               75352.475595\n",
       "Пушкин               102600.116816\n",
       "Санкт-Петербург      110343.428539\n",
       "деревня Кудрово       92473.547559\n",
       "посёлок Мурино        85752.189157\n",
       "посёлок Парголово     90175.913089\n",
       "посёлок Шушары        78655.103189\n",
       "Name: sq_meter_price, dtype: float64"
      ]
     },
     "execution_count": 88,
     "metadata": {},
     "output_type": "execute_result"
    }
   ],
   "source": [
    "df.query('locality_name in @top10.index').groupby('locality_name')['sq_meter_price'].agg('mean')"
   ]
  },
  {
   "cell_type": "code",
   "execution_count": 89,
   "metadata": {
    "scrolled": true
   },
   "outputs": [
    {
     "data": {
      "text/plain": [
       "locality_name\n",
       "деревня Старополье        11206.220000\n",
       "посёлок станции Свирь     11481.480000\n",
       "деревня Вахнова Кара      11688.310000\n",
       "деревня Выскатка          12335.480000\n",
       "поселок Совхозный         12629.130000\n",
       "                             ...      \n",
       "Пушкин                   102600.116816\n",
       "посёлок Репино           104238.612500\n",
       "Санкт-Петербург          110343.428539\n",
       "Зеленогорск              115122.799583\n",
       "посёлок Лисий Нос        121616.225000\n",
       "Name: sq_meter_price, Length: 364, dtype: float64"
      ]
     },
     "execution_count": 89,
     "metadata": {},
     "output_type": "execute_result"
    }
   ],
   "source": [
    "df.groupby('locality_name')['sq_meter_price'].agg('mean').sort_values()"
   ]
  },
  {
   "cell_type": "markdown",
   "metadata": {},
   "source": [
    " Населенным пунктом с самой низкой ценой за кв метр является деревня Старополье, а с самой высокой ценой - поселок Лисий Нос.\n",
    "    "
   ]
  },
  {
   "cell_type": "code",
   "execution_count": 90,
   "metadata": {},
   "outputs": [
    {
     "data": {
      "text/plain": [
       "locality_name\n",
       "Санкт-Петербург      15135\n",
       "посёлок Мурино         522\n",
       "посёлок Шушары         439\n",
       "Всеволожск             395\n",
       "Пушкин                 358\n",
       "Колпино                336\n",
       "посёлок Парголово      327\n",
       "Гатчина                306\n",
       "деревня Кудрово        299\n",
       "Выборг                 230\n",
       "Name: locality_name, dtype: int64"
      ]
     },
     "execution_count": 90,
     "metadata": {},
     "output_type": "execute_result"
    }
   ],
   "source": [
    "new_top10 = df.groupby('locality_name')['locality_name'].count().sort_values(ascending=False)[:10]\n",
    "new_top10"
   ]
  },
  {
   "cell_type": "code",
   "execution_count": 91,
   "metadata": {},
   "outputs": [
    {
     "data": {
      "text/plain": [
       "locality_name\n",
       "Санкт-Петербург      110343.428539\n",
       "Пушкин               102600.116816\n",
       "деревня Кудрово       92473.547559\n",
       "посёлок Парголово     90175.913089\n",
       "посёлок Мурино        85752.189157\n",
       "посёлок Шушары        78655.103189\n",
       "Колпино               75352.475595\n",
       "Гатчина               68799.627549\n",
       "Всеволожск            68617.058810\n",
       "Выборг                58243.557826\n",
       "Name: sq_meter_price, dtype: float64"
      ]
     },
     "execution_count": 91,
     "metadata": {},
     "output_type": "execute_result"
    }
   ],
   "source": [
    "df.query('locality_name in @new_top10.index').groupby('locality_name')['sq_meter_price'].agg('mean').sort_values(ascending=False)"
   ]
  },
  {
   "cell_type": "markdown",
   "metadata": {},
   "source": [
    "\n",
    "<br>Топ1 - Санкт-Петербург, топ10 - Выборг </br>\n",
    "\n",
    " "
   ]
  },
  {
   "cell_type": "code",
   "execution_count": 92,
   "metadata": {},
   "outputs": [],
   "source": [
    "#4.5"
   ]
  },
  {
   "cell_type": "code",
   "execution_count": 93,
   "metadata": {},
   "outputs": [],
   "source": [
    "price_distance_km = (df.query(\"locality_name == 'Санкт-Петербург'\")\n",
    "                    .groupby(['city_center_km'])['sq_meter_price']\n",
    "                    .mean())"
   ]
  },
  {
   "cell_type": "code",
   "execution_count": 94,
   "metadata": {},
   "outputs": [
    {
     "data": {
      "text/plain": [
       "<AxesSubplot:xlabel='city_center_km'>"
      ]
     },
     "execution_count": 94,
     "metadata": {},
     "output_type": "execute_result"
    },
    {
     "data": {
      "image/png": "[encoded data removed]",
      "text/plain": [
       "<Figure size 432x288 with 1 Axes>"
      ]
     },
     "metadata": {},
     "output_type": "display_data"
    }
   ],
   "source": [
    "price_distance_km.plot();"
   ]
  },
  {
   "cell_type": "markdown",
   "metadata": {},
   "source": [
    "На графике видно, что стоимость объектов негативно зависит от расстояния до центра города, чем близе к центру, тем выше цена квадратного метра жилья в г. Санкт-Петербурге. "
   ]
  },
  {
   "cell_type": "markdown",
   "metadata": {},
   "source": [
    "### Общий вывод"
   ]
  },
  {
   "cell_type": "markdown",
   "metadata": {},
   "source": [
    "В данном проекте мы изучили датасет - архив обявлений о продаже жилья. Была изучена общая информация о датасете: сколько всего строк и столбцов, какого типа данные в столбцах, как много пропусков в данных. Попытались поразмышлять о причине пропусков, так где это возможно заполнили их, например, в столбце ceiling_height мы изменили значения типа 27м и 32м на 2.7м и 3.2м, соответственно. Там же где невозможно установить разумные значения, например, 1м или 100м - такие строки убрали (отфильтровали) из датасета. \n",
    "Сокртили количество неявных дубликатов в locality_name на 20%. Изменили, тип данных в столбце first_day_exposition на datetime. \n",
    "\n",
    "Далее, были добавлены новые столбцы: \n",
    "- цена одного квадратного метра;\n",
    "- день недели публикации объявления (0 — понедельник, 1 — вторник и так далее);\n",
    "- месяц публикации объявления;\n",
    "- год публикации объявления;\n",
    "- тип этажа квартиры (значения — «первый», «последний», «другой»);\n",
    "- расстояние до центра города в километрах (переведите из м в км и округлите до целых значений).\n",
    "\n",
    "В шаге 4 мы построили гистограммы, что посмотреть распределение значений по многим параметрам. Практически по всем количественным параметрам нормальное распределение и это было ожидаемо. Также мы увидели, что на выходных публикуется меньше объявлений, а самым мало публикуемыми месяцами стали декабрь, январь и май, возможно дело в праздниках.\n",
    "\n",
    "Мы выяснили, что продажа квартиры в среднем занимает 95 дней (медианное среднее). Если продажа совершена в течение 45 дней с момента публицкации, то можно считать ее быстрой. Если объявление \"висит\" более 500 дней, то можно сказать, что это необычно долго.\n",
    "\n",
    "Наконец, мы проанализировали зависимость цены квартиры и количественных параметров (таких как общая площадь, площадь кухни, количества комнат), а также номинальных параметров - тип этажа, день, месяц и год публикации. Изобразили на графике, что максимально положительно с ценой коррелируют площади и количество комнат. Нет корреляции между средней стоимостью жилья и днем, месяцем публикации, но есть нисходящий тренд по годам и средней цене. Есть некоторая закономерность между ценой и типом этажа квартиры - на первом этаже меньше всего разброс по цене в отличие от квартир на последенем.\n",
    "\n",
    "В конце мы выяснили, что населенным пунктом с самой низкой ценой за кв метр из топ 10 по количеству объявлений является Выборг, а с самой высокой ценой - Санкт-Петербург.\n",
    " "
   ]
  }
 ],
 "metadata": {
  "ExecuteTimeLog": [
   {
    "duration": 481,
    "start_time": "2022-11-13T15:17:40.220Z"
   },
   {
    "duration": 319,
    "start_time": "2022-11-13T15:17:46.113Z"
   },
   {
    "duration": 44,
    "start_time": "2022-11-13T15:18:02.302Z"
   },
   {
    "duration": 89,
    "start_time": "2022-11-13T15:18:09.717Z"
   },
   {
    "duration": 123,
    "start_time": "2022-11-13T15:18:20.951Z"
   },
   {
    "duration": 16,
    "start_time": "2022-11-13T15:18:48.663Z"
   },
   {
    "duration": 74,
    "start_time": "2022-11-13T15:18:57.119Z"
   },
   {
    "duration": 114,
    "start_time": "2022-11-13T15:20:16.795Z"
   },
   {
    "duration": 2243,
    "start_time": "2022-11-13T15:22:44.310Z"
   },
   {
    "duration": 114,
    "start_time": "2022-11-13T15:25:57.661Z"
   },
   {
    "duration": 156,
    "start_time": "2022-11-13T15:27:02.478Z"
   },
   {
    "duration": 17,
    "start_time": "2022-11-13T15:38:15.300Z"
   },
   {
    "duration": 8,
    "start_time": "2022-11-13T15:38:22.055Z"
   },
   {
    "duration": 9,
    "start_time": "2022-11-13T15:38:28.684Z"
   },
   {
    "duration": 9,
    "start_time": "2022-11-13T15:38:53.557Z"
   },
   {
    "duration": 3,
    "start_time": "2022-11-13T15:40:06.290Z"
   },
   {
    "duration": 116,
    "start_time": "2022-11-13T15:41:47.302Z"
   },
   {
    "duration": 3,
    "start_time": "2022-11-13T15:55:23.092Z"
   },
   {
    "duration": 7,
    "start_time": "2022-11-13T15:56:17.537Z"
   },
   {
    "duration": 37,
    "start_time": "2022-11-13T15:56:24.796Z"
   },
   {
    "duration": 14,
    "start_time": "2022-11-13T15:56:47.265Z"
   },
   {
    "duration": 120,
    "start_time": "2022-11-13T16:02:07.636Z"
   },
   {
    "duration": 52,
    "start_time": "2022-11-13T16:02:14.421Z"
   },
   {
    "duration": 35,
    "start_time": "2022-11-13T16:02:50.425Z"
   },
   {
    "duration": 15,
    "start_time": "2022-11-13T16:03:04.922Z"
   },
   {
    "duration": 58,
    "start_time": "2022-11-13T16:03:14.912Z"
   },
   {
    "duration": 31,
    "start_time": "2022-11-13T16:23:26.224Z"
   },
   {
    "duration": 14,
    "start_time": "2022-11-13T16:24:01.619Z"
   },
   {
    "duration": 19,
    "start_time": "2022-11-13T17:57:32.124Z"
   },
   {
    "duration": 11,
    "start_time": "2022-11-13T17:58:42.307Z"
   },
   {
    "duration": 9,
    "start_time": "2022-11-13T18:02:13.997Z"
   },
   {
    "duration": 6,
    "start_time": "2022-11-13T18:03:25.594Z"
   },
   {
    "duration": 7,
    "start_time": "2022-11-13T18:03:36.241Z"
   },
   {
    "duration": 8,
    "start_time": "2022-11-13T18:03:43.951Z"
   },
   {
    "duration": 5,
    "start_time": "2022-11-13T18:03:48.424Z"
   },
   {
    "duration": 5,
    "start_time": "2022-11-13T18:04:20.093Z"
   },
   {
    "duration": 5,
    "start_time": "2022-11-13T18:04:33.421Z"
   },
   {
    "duration": 7,
    "start_time": "2022-11-13T18:04:44.053Z"
   },
   {
    "duration": 7,
    "start_time": "2022-11-13T18:04:59.513Z"
   },
   {
    "duration": 7,
    "start_time": "2022-11-13T18:05:03.491Z"
   },
   {
    "duration": 5,
    "start_time": "2022-11-13T18:05:21.888Z"
   },
   {
    "duration": 5,
    "start_time": "2022-11-13T18:08:49.293Z"
   },
   {
    "duration": 4,
    "start_time": "2022-11-13T18:10:12.318Z"
   },
   {
    "duration": 5,
    "start_time": "2022-11-13T18:10:40.093Z"
   },
   {
    "duration": 6,
    "start_time": "2022-11-13T18:10:50.505Z"
   },
   {
    "duration": 8,
    "start_time": "2022-11-13T18:11:39.122Z"
   },
   {
    "duration": 7,
    "start_time": "2022-11-13T18:11:50.056Z"
   },
   {
    "duration": 7,
    "start_time": "2022-11-13T18:12:39.045Z"
   },
   {
    "duration": 4,
    "start_time": "2022-11-13T18:12:46.213Z"
   },
   {
    "duration": 7,
    "start_time": "2022-11-13T18:13:06.309Z"
   },
   {
    "duration": 12,
    "start_time": "2022-11-13T18:13:15.481Z"
   },
   {
    "duration": 10,
    "start_time": "2022-11-13T18:13:27.059Z"
   },
   {
    "duration": 7,
    "start_time": "2022-11-13T18:13:57.052Z"
   },
   {
    "duration": 7,
    "start_time": "2022-11-13T18:14:14.681Z"
   },
   {
    "duration": 4,
    "start_time": "2022-11-13T18:15:09.943Z"
   },
   {
    "duration": 8,
    "start_time": "2022-11-13T18:15:56.446Z"
   },
   {
    "duration": 7,
    "start_time": "2022-11-13T18:16:25.694Z"
   },
   {
    "duration": 5,
    "start_time": "2022-11-13T18:17:02.151Z"
   },
   {
    "duration": 8,
    "start_time": "2022-11-13T18:17:33.421Z"
   },
   {
    "duration": 12,
    "start_time": "2022-11-13T18:20:39.426Z"
   },
   {
    "duration": 3,
    "start_time": "2022-11-13T18:21:34.576Z"
   },
   {
    "duration": 9,
    "start_time": "2022-11-13T18:21:38.110Z"
   },
   {
    "duration": 7,
    "start_time": "2022-11-13T19:25:23.586Z"
   },
   {
    "duration": 7,
    "start_time": "2022-11-13T19:25:54.020Z"
   },
   {
    "duration": 8,
    "start_time": "2022-11-13T19:26:14.554Z"
   },
   {
    "duration": 8,
    "start_time": "2022-11-13T19:28:48.720Z"
   },
   {
    "duration": 4,
    "start_time": "2022-11-13T19:34:24.687Z"
   },
   {
    "duration": 4,
    "start_time": "2022-11-13T19:34:47.454Z"
   },
   {
    "duration": 4,
    "start_time": "2022-11-13T19:34:56.698Z"
   },
   {
    "duration": 9,
    "start_time": "2022-11-13T20:37:04.736Z"
   },
   {
    "duration": 14,
    "start_time": "2022-11-13T20:38:15.560Z"
   },
   {
    "duration": 7,
    "start_time": "2022-11-13T20:44:33.132Z"
   },
   {
    "duration": 119,
    "start_time": "2022-11-13T20:44:38.154Z"
   },
   {
    "duration": 25,
    "start_time": "2022-11-13T20:44:43.787Z"
   },
   {
    "duration": 28,
    "start_time": "2022-11-13T20:44:59.915Z"
   },
   {
    "duration": 8,
    "start_time": "2022-11-13T20:46:34.557Z"
   },
   {
    "duration": 10,
    "start_time": "2022-11-13T20:46:38.539Z"
   },
   {
    "duration": 12,
    "start_time": "2022-11-13T21:18:11.802Z"
   },
   {
    "duration": 9,
    "start_time": "2022-11-13T21:18:22.604Z"
   },
   {
    "duration": 58,
    "start_time": "2022-11-13T21:18:51.544Z"
   },
   {
    "duration": 50,
    "start_time": "2022-11-13T21:19:00.055Z"
   },
   {
    "duration": 9,
    "start_time": "2022-11-13T21:19:46.672Z"
   },
   {
    "duration": 6,
    "start_time": "2022-11-13T21:20:18.273Z"
   },
   {
    "duration": 9,
    "start_time": "2022-11-13T21:23:03.621Z"
   },
   {
    "duration": 131,
    "start_time": "2022-11-13T21:23:30.806Z"
   },
   {
    "duration": 14,
    "start_time": "2022-11-13T21:24:46.732Z"
   },
   {
    "duration": 9,
    "start_time": "2022-11-13T21:24:54.009Z"
   },
   {
    "duration": 4,
    "start_time": "2022-11-13T21:25:25.628Z"
   },
   {
    "duration": 6,
    "start_time": "2022-11-13T21:25:31.186Z"
   },
   {
    "duration": 5,
    "start_time": "2022-11-13T21:25:43.121Z"
   },
   {
    "duration": 9,
    "start_time": "2022-11-13T21:26:29.476Z"
   },
   {
    "duration": 9,
    "start_time": "2022-11-13T21:26:37.788Z"
   },
   {
    "duration": 7,
    "start_time": "2022-11-13T21:27:33.659Z"
   },
   {
    "duration": 7,
    "start_time": "2022-11-13T21:28:00.425Z"
   },
   {
    "duration": 6,
    "start_time": "2022-11-13T21:28:31.607Z"
   },
   {
    "duration": 4,
    "start_time": "2022-11-13T21:28:40.726Z"
   },
   {
    "duration": 5,
    "start_time": "2022-11-13T21:28:56.442Z"
   },
   {
    "duration": 7,
    "start_time": "2022-11-13T21:29:03.751Z"
   },
   {
    "duration": 8,
    "start_time": "2022-11-13T21:29:12.229Z"
   },
   {
    "duration": 9,
    "start_time": "2022-11-13T21:30:24.089Z"
   },
   {
    "duration": 46,
    "start_time": "2022-11-14T21:10:36.910Z"
   },
   {
    "duration": 480,
    "start_time": "2022-11-14T21:10:42.786Z"
   },
   {
    "duration": 4,
    "start_time": "2022-11-14T21:10:48.655Z"
   },
   {
    "duration": 4,
    "start_time": "2022-11-14T21:11:08.030Z"
   },
   {
    "duration": 7,
    "start_time": "2022-11-14T21:11:22.098Z"
   },
   {
    "duration": 27,
    "start_time": "2022-11-14T21:11:22.228Z"
   },
   {
    "duration": 11,
    "start_time": "2022-11-14T21:11:33.825Z"
   },
   {
    "duration": 4,
    "start_time": "2022-11-14T21:12:03.566Z"
   },
   {
    "duration": 4,
    "start_time": "2022-11-14T21:12:20.092Z"
   },
   {
    "duration": 5,
    "start_time": "2022-11-14T21:13:04.155Z"
   },
   {
    "duration": 4,
    "start_time": "2022-11-14T21:13:41.555Z"
   },
   {
    "duration": 51,
    "start_time": "2022-11-14T21:14:44.256Z"
   },
   {
    "duration": 5,
    "start_time": "2022-11-14T21:15:14.407Z"
   },
   {
    "duration": 17,
    "start_time": "2022-11-14T21:15:47.616Z"
   },
   {
    "duration": 21,
    "start_time": "2022-11-14T21:17:36.721Z"
   },
   {
    "duration": 4,
    "start_time": "2022-11-14T21:21:26.830Z"
   },
   {
    "duration": 6,
    "start_time": "2022-11-14T21:22:29.662Z"
   },
   {
    "duration": 31,
    "start_time": "2022-11-14T21:23:12.670Z"
   },
   {
    "duration": 8,
    "start_time": "2022-11-14T21:26:49.933Z"
   },
   {
    "duration": 31,
    "start_time": "2022-11-14T21:27:11.812Z"
   },
   {
    "duration": 4,
    "start_time": "2022-11-14T21:28:24.874Z"
   },
   {
    "duration": 8,
    "start_time": "2022-11-14T21:28:34.165Z"
   },
   {
    "duration": 7,
    "start_time": "2022-11-14T21:28:45.561Z"
   },
   {
    "duration": 31,
    "start_time": "2022-11-14T21:29:37.604Z"
   },
   {
    "duration": 12,
    "start_time": "2022-11-14T21:31:12.091Z"
   },
   {
    "duration": 9,
    "start_time": "2022-11-14T21:31:32.115Z"
   },
   {
    "duration": 10,
    "start_time": "2022-11-14T21:32:06.527Z"
   },
   {
    "duration": 52,
    "start_time": "2022-11-16T08:08:49.043Z"
   },
   {
    "duration": 547,
    "start_time": "2022-11-16T08:08:54.743Z"
   },
   {
    "duration": 8,
    "start_time": "2022-11-16T08:09:01.757Z"
   },
   {
    "duration": 11,
    "start_time": "2022-11-16T08:09:04.168Z"
   },
   {
    "duration": 4,
    "start_time": "2022-11-16T08:11:07.129Z"
   },
   {
    "duration": 4,
    "start_time": "2022-11-16T08:11:14.522Z"
   },
   {
    "duration": 9,
    "start_time": "2022-11-16T08:11:22.561Z"
   },
   {
    "duration": 8,
    "start_time": "2022-11-16T11:54:09.383Z"
   },
   {
    "duration": 9,
    "start_time": "2022-11-16T11:54:35.657Z"
   },
   {
    "duration": 18,
    "start_time": "2022-11-16T12:10:33.038Z"
   },
   {
    "duration": 8,
    "start_time": "2022-11-16T15:23:06.184Z"
   },
   {
    "duration": 13,
    "start_time": "2022-11-16T15:24:43.309Z"
   },
   {
    "duration": 4,
    "start_time": "2022-11-16T15:25:02.343Z"
   },
   {
    "duration": 5,
    "start_time": "2022-11-16T15:25:18.920Z"
   },
   {
    "duration": 14,
    "start_time": "2022-11-16T15:25:46.611Z"
   },
   {
    "duration": 4,
    "start_time": "2022-11-16T15:25:57.248Z"
   },
   {
    "duration": 6,
    "start_time": "2022-11-16T15:33:10.632Z"
   },
   {
    "duration": 4,
    "start_time": "2022-11-16T15:34:38.076Z"
   },
   {
    "duration": 1350,
    "start_time": "2022-11-16T15:35:32.260Z"
   },
   {
    "duration": 14,
    "start_time": "2022-11-16T15:35:43.913Z"
   },
   {
    "duration": 5,
    "start_time": "2022-11-16T15:37:16.825Z"
   },
   {
    "duration": 4,
    "start_time": "2022-11-16T15:37:27.644Z"
   },
   {
    "duration": 26,
    "start_time": "2022-11-16T15:38:27.899Z"
   },
   {
    "duration": 1116,
    "start_time": "2022-11-16T15:38:49.144Z"
   },
   {
    "duration": 5,
    "start_time": "2022-11-16T15:39:37.970Z"
   },
   {
    "duration": 5,
    "start_time": "2022-11-16T15:39:49.741Z"
   },
   {
    "duration": 72,
    "start_time": "2022-11-16T15:40:29.696Z"
   },
   {
    "duration": 12,
    "start_time": "2022-11-16T15:40:35.064Z"
   },
   {
    "duration": 4,
    "start_time": "2022-11-16T16:10:22.148Z"
   },
   {
    "duration": 6,
    "start_time": "2022-11-16T16:10:39.032Z"
   },
   {
    "duration": 4,
    "start_time": "2022-11-16T16:11:07.733Z"
   },
   {
    "duration": 4,
    "start_time": "2022-11-16T16:11:24.397Z"
   },
   {
    "duration": 68,
    "start_time": "2022-11-16T16:11:37.486Z"
   },
   {
    "duration": 11,
    "start_time": "2022-11-16T16:11:49.279Z"
   },
   {
    "duration": 382,
    "start_time": "2022-11-16T16:12:11.980Z"
   },
   {
    "duration": 10,
    "start_time": "2022-11-16T16:12:14.444Z"
   },
   {
    "duration": 8,
    "start_time": "2022-11-16T16:13:00.502Z"
   },
   {
    "duration": 9,
    "start_time": "2022-11-16T16:13:25.383Z"
   },
   {
    "duration": 11,
    "start_time": "2022-11-16T16:13:31.948Z"
   },
   {
    "duration": 19,
    "start_time": "2022-11-16T16:16:10.984Z"
   },
   {
    "duration": 8,
    "start_time": "2022-11-16T16:16:32.298Z"
   },
   {
    "duration": 17,
    "start_time": "2022-11-16T16:16:46.640Z"
   },
   {
    "duration": 17,
    "start_time": "2022-11-16T16:17:15.135Z"
   },
   {
    "duration": 19,
    "start_time": "2022-11-16T16:17:31.484Z"
   },
   {
    "duration": 18,
    "start_time": "2022-11-16T16:17:55.542Z"
   },
   {
    "duration": 19,
    "start_time": "2022-11-16T16:18:10.500Z"
   },
   {
    "duration": 17,
    "start_time": "2022-11-16T16:18:24.379Z"
   },
   {
    "duration": 16,
    "start_time": "2022-11-16T16:19:00.307Z"
   },
   {
    "duration": 18,
    "start_time": "2022-11-16T16:19:15.832Z"
   },
   {
    "duration": 139,
    "start_time": "2022-11-16T16:19:37.984Z"
   },
   {
    "duration": 14,
    "start_time": "2022-11-16T16:19:39.083Z"
   },
   {
    "duration": 3,
    "start_time": "2022-11-16T16:19:39.309Z"
   },
   {
    "duration": 9,
    "start_time": "2022-11-16T16:19:40.523Z"
   },
   {
    "duration": 3,
    "start_time": "2022-11-16T16:19:41.928Z"
   },
   {
    "duration": 8,
    "start_time": "2022-11-16T16:19:42.139Z"
   },
   {
    "duration": 9,
    "start_time": "2022-11-16T16:19:42.347Z"
   },
   {
    "duration": 8,
    "start_time": "2022-11-16T16:19:52.136Z"
   },
   {
    "duration": 5,
    "start_time": "2022-11-16T16:19:54.003Z"
   },
   {
    "duration": 8,
    "start_time": "2022-11-16T16:19:54.632Z"
   },
   {
    "duration": 15,
    "start_time": "2022-11-16T16:20:00.414Z"
   },
   {
    "duration": 8,
    "start_time": "2022-11-16T16:20:01.777Z"
   },
   {
    "duration": 10,
    "start_time": "2022-11-16T16:20:17.579Z"
   },
   {
    "duration": 5,
    "start_time": "2022-11-16T16:20:28.904Z"
   },
   {
    "duration": 7,
    "start_time": "2022-11-16T16:20:31.698Z"
   },
   {
    "duration": 8,
    "start_time": "2022-11-16T16:20:47.383Z"
   },
   {
    "duration": 6,
    "start_time": "2022-11-16T16:20:52.621Z"
   },
   {
    "duration": 8,
    "start_time": "2022-11-16T16:21:01.991Z"
   },
   {
    "duration": 114,
    "start_time": "2022-11-16T16:28:37.087Z"
   },
   {
    "duration": 9,
    "start_time": "2022-11-16T16:30:15.688Z"
   },
   {
    "duration": 116,
    "start_time": "2022-11-16T16:31:48.025Z"
   },
   {
    "duration": 10,
    "start_time": "2022-11-16T16:32:00.217Z"
   },
   {
    "duration": 189,
    "start_time": "2022-11-16T16:38:31.255Z"
   },
   {
    "duration": 8,
    "start_time": "2022-11-16T16:38:32.236Z"
   },
   {
    "duration": 4,
    "start_time": "2022-11-16T16:49:17.482Z"
   },
   {
    "duration": 2690,
    "start_time": "2022-11-16T16:54:39.886Z"
   },
   {
    "duration": 4,
    "start_time": "2022-11-16T22:52:37.248Z"
   },
   {
    "duration": 15,
    "start_time": "2022-11-16T22:53:00.309Z"
   },
   {
    "duration": 5,
    "start_time": "2022-11-16T22:53:12.331Z"
   },
   {
    "duration": 7,
    "start_time": "2022-11-16T22:53:29.449Z"
   },
   {
    "duration": 176,
    "start_time": "2022-11-16T22:53:48.713Z"
   },
   {
    "duration": 4,
    "start_time": "2022-11-16T22:54:59.898Z"
   },
   {
    "duration": 4,
    "start_time": "2022-11-16T22:55:24.045Z"
   },
   {
    "duration": 5,
    "start_time": "2022-11-16T22:57:13.082Z"
   },
   {
    "duration": 4,
    "start_time": "2022-11-16T22:57:32.033Z"
   },
   {
    "duration": 6,
    "start_time": "2022-11-16T22:57:45.330Z"
   },
   {
    "duration": 7,
    "start_time": "2022-11-16T22:57:58.401Z"
   },
   {
    "duration": 4,
    "start_time": "2022-11-16T22:58:41.200Z"
   },
   {
    "duration": 5,
    "start_time": "2022-11-16T22:58:57.818Z"
   },
   {
    "duration": 8,
    "start_time": "2022-11-16T23:00:23.933Z"
   },
   {
    "duration": 4,
    "start_time": "2022-11-16T23:00:32.552Z"
   },
   {
    "duration": 6,
    "start_time": "2022-11-16T23:05:23.352Z"
   },
   {
    "duration": 8,
    "start_time": "2022-11-16T23:06:03.403Z"
   },
   {
    "duration": 6,
    "start_time": "2022-11-16T23:06:28.616Z"
   },
   {
    "duration": 7,
    "start_time": "2022-11-16T23:06:42.302Z"
   },
   {
    "duration": 9,
    "start_time": "2022-11-16T23:07:42.261Z"
   },
   {
    "duration": 136,
    "start_time": "2022-11-16T23:08:05.970Z"
   },
   {
    "duration": 132,
    "start_time": "2022-11-16T23:11:49.070Z"
   },
   {
    "duration": 108,
    "start_time": "2022-11-16T23:12:02.194Z"
   },
   {
    "duration": 148,
    "start_time": "2022-11-16T23:12:22.443Z"
   },
   {
    "duration": 169,
    "start_time": "2022-11-16T23:12:34.288Z"
   },
   {
    "duration": 149,
    "start_time": "2022-11-16T23:12:51.131Z"
   },
   {
    "duration": 19,
    "start_time": "2022-11-16T23:14:16.680Z"
   },
   {
    "duration": 34,
    "start_time": "2022-11-16T23:16:38.512Z"
   },
   {
    "duration": 33,
    "start_time": "2022-11-16T23:17:20.111Z"
   },
   {
    "duration": 34,
    "start_time": "2022-11-16T23:17:37.511Z"
   },
   {
    "duration": 32,
    "start_time": "2022-11-16T23:18:15.427Z"
   },
   {
    "duration": 41,
    "start_time": "2022-11-16T23:19:28.079Z"
   },
   {
    "duration": 6,
    "start_time": "2022-11-16T23:24:41.548Z"
   },
   {
    "duration": 39,
    "start_time": "2022-11-16T23:29:02.353Z"
   },
   {
    "duration": 5,
    "start_time": "2022-11-16T23:29:18.347Z"
   },
   {
    "duration": 11,
    "start_time": "2022-11-16T23:30:12.792Z"
   },
   {
    "duration": 42,
    "start_time": "2022-11-16T23:30:18.544Z"
   },
   {
    "duration": 5,
    "start_time": "2022-11-16T23:30:28.590Z"
   },
   {
    "duration": 5,
    "start_time": "2022-11-16T23:30:52.608Z"
   },
   {
    "duration": 6,
    "start_time": "2022-11-16T23:31:13.556Z"
   },
   {
    "duration": 5,
    "start_time": "2022-11-16T23:31:41.281Z"
   },
   {
    "duration": 43,
    "start_time": "2022-11-16T23:31:46.635Z"
   },
   {
    "duration": 6,
    "start_time": "2022-11-16T23:33:59.994Z"
   },
   {
    "duration": 6,
    "start_time": "2022-11-16T23:39:40.296Z"
   },
   {
    "duration": 6,
    "start_time": "2022-11-16T23:39:53.453Z"
   },
   {
    "duration": 40,
    "start_time": "2022-11-16T23:39:54.630Z"
   },
   {
    "duration": 21,
    "start_time": "2022-11-16T23:41:21.007Z"
   },
   {
    "duration": 21,
    "start_time": "2022-11-16T23:42:08.960Z"
   },
   {
    "duration": 44,
    "start_time": "2022-11-17T10:24:09.869Z"
   },
   {
    "duration": 10,
    "start_time": "2022-11-17T10:25:30.530Z"
   },
   {
    "duration": 10,
    "start_time": "2022-11-17T10:25:59.551Z"
   },
   {
    "duration": 53,
    "start_time": "2022-11-17T10:26:04.537Z"
   },
   {
    "duration": 11,
    "start_time": "2022-11-17T10:26:36.599Z"
   },
   {
    "duration": 15,
    "start_time": "2022-11-17T10:26:51.567Z"
   },
   {
    "duration": 12,
    "start_time": "2022-11-17T10:26:56.891Z"
   },
   {
    "duration": 140,
    "start_time": "2022-11-17T10:27:12.431Z"
   },
   {
    "duration": 16,
    "start_time": "2022-11-17T10:27:13.385Z"
   },
   {
    "duration": 2,
    "start_time": "2022-11-17T10:27:13.645Z"
   },
   {
    "duration": 9,
    "start_time": "2022-11-17T10:27:14.837Z"
   },
   {
    "duration": 109,
    "start_time": "2022-11-17T10:27:34.814Z"
   },
   {
    "duration": 15,
    "start_time": "2022-11-17T10:27:35.787Z"
   },
   {
    "duration": 3,
    "start_time": "2022-11-17T10:27:37.053Z"
   },
   {
    "duration": 10,
    "start_time": "2022-11-17T10:27:57.039Z"
   },
   {
    "duration": 3,
    "start_time": "2022-11-17T10:28:18.389Z"
   },
   {
    "duration": 7,
    "start_time": "2022-11-17T10:28:18.771Z"
   },
   {
    "duration": 10,
    "start_time": "2022-11-17T10:28:20.186Z"
   },
   {
    "duration": 6,
    "start_time": "2022-11-17T10:28:21.067Z"
   },
   {
    "duration": 9,
    "start_time": "2022-11-17T10:28:28.495Z"
   },
   {
    "duration": 10,
    "start_time": "2022-11-17T10:28:36.134Z"
   },
   {
    "duration": 9,
    "start_time": "2022-11-17T10:28:37.778Z"
   },
   {
    "duration": 168,
    "start_time": "2022-11-17T10:28:38.725Z"
   },
   {
    "duration": 4,
    "start_time": "2022-11-17T10:28:40.934Z"
   },
   {
    "duration": 11,
    "start_time": "2022-11-17T10:28:44.070Z"
   },
   {
    "duration": 4,
    "start_time": "2022-11-17T10:28:57.581Z"
   },
   {
    "duration": 6,
    "start_time": "2022-11-17T10:30:02.490Z"
   },
   {
    "duration": 14,
    "start_time": "2022-11-17T10:30:03.772Z"
   },
   {
    "duration": 11,
    "start_time": "2022-11-17T10:31:10.203Z"
   },
   {
    "duration": 9,
    "start_time": "2022-11-17T10:31:26.842Z"
   },
   {
    "duration": 10,
    "start_time": "2022-11-17T10:31:36.846Z"
   },
   {
    "duration": 9,
    "start_time": "2022-11-17T10:31:52.996Z"
   },
   {
    "duration": 4,
    "start_time": "2022-11-17T10:32:33.792Z"
   },
   {
    "duration": 11,
    "start_time": "2022-11-17T10:32:37.186Z"
   },
   {
    "duration": 7,
    "start_time": "2022-11-17T10:32:58.398Z"
   },
   {
    "duration": 10,
    "start_time": "2022-11-17T10:33:14.336Z"
   },
   {
    "duration": 10,
    "start_time": "2022-11-17T10:33:20.661Z"
   },
   {
    "duration": 8,
    "start_time": "2022-11-17T10:33:48.269Z"
   },
   {
    "duration": 10,
    "start_time": "2022-11-17T10:34:07.368Z"
   },
   {
    "duration": 10,
    "start_time": "2022-11-17T10:34:16.771Z"
   },
   {
    "duration": 9,
    "start_time": "2022-11-17T10:34:24.189Z"
   },
   {
    "duration": 9,
    "start_time": "2022-11-17T10:34:29.451Z"
   },
   {
    "duration": 28,
    "start_time": "2022-11-17T10:34:50.499Z"
   },
   {
    "duration": 8,
    "start_time": "2022-11-17T10:34:57.866Z"
   },
   {
    "duration": 5,
    "start_time": "2022-11-17T10:35:22.382Z"
   },
   {
    "duration": 4,
    "start_time": "2022-11-17T10:35:43.245Z"
   },
   {
    "duration": 6,
    "start_time": "2022-11-17T10:35:58.971Z"
   },
   {
    "duration": 7,
    "start_time": "2022-11-17T10:36:09.115Z"
   },
   {
    "duration": 7,
    "start_time": "2022-11-17T10:36:16.401Z"
   },
   {
    "duration": 5,
    "start_time": "2022-11-17T10:36:53.301Z"
   },
   {
    "duration": 5,
    "start_time": "2022-11-17T10:37:02.811Z"
   },
   {
    "duration": 71,
    "start_time": "2022-11-17T10:37:18.095Z"
   },
   {
    "duration": 7,
    "start_time": "2022-11-17T10:37:24.073Z"
   },
   {
    "duration": 154,
    "start_time": "2022-11-17T10:39:28.385Z"
   },
   {
    "duration": 155,
    "start_time": "2022-11-17T10:39:37.937Z"
   },
   {
    "duration": 254,
    "start_time": "2022-11-17T10:39:44.768Z"
   },
   {
    "duration": 10,
    "start_time": "2022-11-17T10:40:50.395Z"
   },
   {
    "duration": 7,
    "start_time": "2022-11-17T10:40:59.033Z"
   },
   {
    "duration": 4,
    "start_time": "2022-11-17T10:41:06.680Z"
   },
   {
    "duration": 6,
    "start_time": "2022-11-17T10:41:18.705Z"
   },
   {
    "duration": 4,
    "start_time": "2022-11-17T10:41:19.316Z"
   },
   {
    "duration": 4,
    "start_time": "2022-11-17T10:41:29.265Z"
   },
   {
    "duration": 99,
    "start_time": "2022-11-17T10:41:37.281Z"
   },
   {
    "duration": 15,
    "start_time": "2022-11-17T10:41:37.643Z"
   },
   {
    "duration": 3,
    "start_time": "2022-11-17T10:41:37.876Z"
   },
   {
    "duration": 10,
    "start_time": "2022-11-17T10:41:38.756Z"
   },
   {
    "duration": 3,
    "start_time": "2022-11-17T10:41:39.201Z"
   },
   {
    "duration": 7,
    "start_time": "2022-11-17T10:41:39.833Z"
   },
   {
    "duration": 9,
    "start_time": "2022-11-17T10:41:40.083Z"
   },
   {
    "duration": 6,
    "start_time": "2022-11-17T10:41:40.278Z"
   },
   {
    "duration": 6,
    "start_time": "2022-11-17T10:41:40.469Z"
   },
   {
    "duration": 7,
    "start_time": "2022-11-17T10:41:41.384Z"
   },
   {
    "duration": 8,
    "start_time": "2022-11-17T10:41:41.938Z"
   },
   {
    "duration": 154,
    "start_time": "2022-11-17T10:41:42.161Z"
   },
   {
    "duration": 3,
    "start_time": "2022-11-17T10:41:43.133Z"
   },
   {
    "duration": 11,
    "start_time": "2022-11-17T10:41:44.087Z"
   },
   {
    "duration": 4,
    "start_time": "2022-11-17T10:41:45.642Z"
   },
   {
    "duration": 4,
    "start_time": "2022-11-17T10:41:55.815Z"
   },
   {
    "duration": 7,
    "start_time": "2022-11-17T10:42:03.346Z"
   },
   {
    "duration": 242,
    "start_time": "2022-11-17T10:42:04.387Z"
   },
   {
    "duration": 4,
    "start_time": "2022-11-17T10:42:05.662Z"
   },
   {
    "duration": 4,
    "start_time": "2022-11-17T10:42:11.174Z"
   },
   {
    "duration": 6,
    "start_time": "2022-11-17T10:42:29.611Z"
   },
   {
    "duration": 8,
    "start_time": "2022-11-17T10:43:08.783Z"
   },
   {
    "duration": 9,
    "start_time": "2022-11-17T10:43:16.156Z"
   },
   {
    "duration": 6,
    "start_time": "2022-11-17T12:47:29.083Z"
   },
   {
    "duration": 6,
    "start_time": "2022-11-17T12:47:34.518Z"
   },
   {
    "duration": 8,
    "start_time": "2022-11-17T12:48:04.613Z"
   },
   {
    "duration": 48,
    "start_time": "2022-11-17T12:48:16.366Z"
   },
   {
    "duration": 47,
    "start_time": "2022-11-17T12:49:20.680Z"
   },
   {
    "duration": 58,
    "start_time": "2022-11-17T12:49:33.952Z"
   },
   {
    "duration": 5,
    "start_time": "2022-11-17T13:00:16.434Z"
   },
   {
    "duration": 7,
    "start_time": "2022-11-17T13:00:55.190Z"
   },
   {
    "duration": 9,
    "start_time": "2022-11-17T13:05:02.868Z"
   },
   {
    "duration": 6,
    "start_time": "2022-11-17T13:05:27.331Z"
   },
   {
    "duration": 4,
    "start_time": "2022-11-17T13:06:30.475Z"
   },
   {
    "duration": 7,
    "start_time": "2022-11-17T13:06:51.969Z"
   },
   {
    "duration": 8,
    "start_time": "2022-11-17T13:07:26.743Z"
   },
   {
    "duration": 11,
    "start_time": "2022-11-17T13:07:35.072Z"
   },
   {
    "duration": 5,
    "start_time": "2022-11-17T13:07:46.311Z"
   },
   {
    "duration": 8,
    "start_time": "2022-11-17T13:07:52.144Z"
   },
   {
    "duration": 6,
    "start_time": "2022-11-17T13:07:58.672Z"
   },
   {
    "duration": 25,
    "start_time": "2022-11-17T13:08:12.230Z"
   },
   {
    "duration": 41,
    "start_time": "2022-11-17T13:08:59.237Z"
   },
   {
    "duration": 7,
    "start_time": "2022-11-17T14:20:50.424Z"
   },
   {
    "duration": 7,
    "start_time": "2022-11-17T14:21:14.663Z"
   },
   {
    "duration": 5,
    "start_time": "2022-11-17T14:21:22.288Z"
   },
   {
    "duration": 5,
    "start_time": "2022-11-17T14:21:27.308Z"
   },
   {
    "duration": 73,
    "start_time": "2022-11-17T14:21:42.215Z"
   },
   {
    "duration": 6,
    "start_time": "2022-11-17T14:21:47.909Z"
   },
   {
    "duration": 32,
    "start_time": "2022-11-17T14:25:19.195Z"
   },
   {
    "duration": 37,
    "start_time": "2022-11-17T14:26:09.126Z"
   },
   {
    "duration": 7,
    "start_time": "2022-11-17T14:28:57.488Z"
   },
   {
    "duration": 8,
    "start_time": "2022-11-17T14:29:20.514Z"
   },
   {
    "duration": 8,
    "start_time": "2022-11-17T14:29:38.830Z"
   },
   {
    "duration": 9,
    "start_time": "2022-11-17T14:29:56.876Z"
   },
   {
    "duration": 9,
    "start_time": "2022-11-17T14:32:03.319Z"
   },
   {
    "duration": 11,
    "start_time": "2022-11-17T14:36:08.775Z"
   },
   {
    "duration": 12,
    "start_time": "2022-11-17T14:36:17.406Z"
   },
   {
    "duration": 1199,
    "start_time": "2022-11-17T14:36:28.267Z"
   },
   {
    "duration": 7,
    "start_time": "2022-11-17T14:41:19.070Z"
   },
   {
    "duration": 5,
    "start_time": "2022-11-17T14:41:36.060Z"
   },
   {
    "duration": 5,
    "start_time": "2022-11-17T14:41:54.793Z"
   },
   {
    "duration": 5,
    "start_time": "2022-11-17T14:42:06.843Z"
   },
   {
    "duration": 26,
    "start_time": "2022-11-17T14:42:50.905Z"
   },
   {
    "duration": 118,
    "start_time": "2022-11-17T14:45:47.610Z"
   },
   {
    "duration": 4,
    "start_time": "2022-11-17T16:06:54.349Z"
   },
   {
    "duration": 20,
    "start_time": "2022-11-17T16:09:23.633Z"
   },
   {
    "duration": 7,
    "start_time": "2022-11-17T16:10:37.110Z"
   },
   {
    "duration": 68,
    "start_time": "2022-11-17T16:11:17.365Z"
   },
   {
    "duration": 8,
    "start_time": "2022-11-17T16:11:23.395Z"
   },
   {
    "duration": 4,
    "start_time": "2022-11-17T16:11:37.972Z"
   },
   {
    "duration": 6,
    "start_time": "2022-11-17T16:13:18.692Z"
   },
   {
    "duration": 6,
    "start_time": "2022-11-17T16:13:22.763Z"
   },
   {
    "duration": 33,
    "start_time": "2022-11-17T16:17:05.124Z"
   },
   {
    "duration": 4,
    "start_time": "2022-11-17T16:17:18.637Z"
   },
   {
    "duration": 6,
    "start_time": "2022-11-17T16:25:20.427Z"
   },
   {
    "duration": 9,
    "start_time": "2022-11-17T16:25:28.192Z"
   },
   {
    "duration": 5,
    "start_time": "2022-11-17T16:26:24.293Z"
   },
   {
    "duration": 11,
    "start_time": "2022-11-17T16:26:32.801Z"
   },
   {
    "duration": 8,
    "start_time": "2022-11-17T16:26:40.012Z"
   },
   {
    "duration": 30,
    "start_time": "2022-11-17T16:26:50.696Z"
   },
   {
    "duration": 8,
    "start_time": "2022-11-17T16:28:55.467Z"
   },
   {
    "duration": 26,
    "start_time": "2022-11-17T16:28:57.932Z"
   },
   {
    "duration": 6,
    "start_time": "2022-11-17T16:31:41.639Z"
   },
   {
    "duration": 5,
    "start_time": "2022-11-17T16:31:50.203Z"
   },
   {
    "duration": 5,
    "start_time": "2022-11-17T16:31:56.292Z"
   },
   {
    "duration": 11,
    "start_time": "2022-11-17T16:32:27.044Z"
   },
   {
    "duration": 20,
    "start_time": "2022-11-17T17:26:13.770Z"
   },
   {
    "duration": 4,
    "start_time": "2022-11-17T17:26:17.783Z"
   },
   {
    "duration": 736,
    "start_time": "2022-11-17T17:26:18.084Z"
   },
   {
    "duration": 28,
    "start_time": "2022-11-17T17:26:20.578Z"
   },
   {
    "duration": 385,
    "start_time": "2022-11-17T17:28:51.241Z"
   },
   {
    "duration": 36,
    "start_time": "2022-11-17T17:28:54.017Z"
   },
   {
    "duration": 117,
    "start_time": "2022-11-17T17:35:50.990Z"
   },
   {
    "duration": 89,
    "start_time": "2022-11-17T17:36:21.747Z"
   },
   {
    "duration": 120,
    "start_time": "2022-11-17T17:39:21.012Z"
   },
   {
    "duration": 141,
    "start_time": "2022-11-17T17:39:36.318Z"
   },
   {
    "duration": 134,
    "start_time": "2022-11-17T17:39:58.977Z"
   },
   {
    "duration": 135,
    "start_time": "2022-11-17T17:40:04.499Z"
   },
   {
    "duration": 118,
    "start_time": "2022-11-17T17:40:09.515Z"
   },
   {
    "duration": 123,
    "start_time": "2022-11-17T17:40:13.588Z"
   },
   {
    "duration": 124,
    "start_time": "2022-11-17T18:07:17.117Z"
   },
   {
    "duration": 139,
    "start_time": "2022-11-17T18:07:26.142Z"
   },
   {
    "duration": 114,
    "start_time": "2022-11-17T18:07:32.156Z"
   },
   {
    "duration": 121,
    "start_time": "2022-11-17T18:07:42.480Z"
   },
   {
    "duration": 143,
    "start_time": "2022-11-17T18:07:46.681Z"
   },
   {
    "duration": 130,
    "start_time": "2022-11-17T18:07:55.071Z"
   },
   {
    "duration": 132,
    "start_time": "2022-11-17T18:08:10.451Z"
   },
   {
    "duration": 150,
    "start_time": "2022-11-17T18:08:32.863Z"
   },
   {
    "duration": 140,
    "start_time": "2022-11-17T18:08:42.259Z"
   },
   {
    "duration": 148,
    "start_time": "2022-11-17T18:08:48.854Z"
   },
   {
    "duration": 166,
    "start_time": "2022-11-17T18:09:06.344Z"
   },
   {
    "duration": 174,
    "start_time": "2022-11-17T18:09:17.336Z"
   },
   {
    "duration": 160,
    "start_time": "2022-11-17T18:09:24.165Z"
   },
   {
    "duration": 172,
    "start_time": "2022-11-17T18:10:27.502Z"
   },
   {
    "duration": 199,
    "start_time": "2022-11-17T18:10:44.449Z"
   },
   {
    "duration": 145,
    "start_time": "2022-11-17T18:10:59.447Z"
   },
   {
    "duration": 164,
    "start_time": "2022-11-17T18:11:18.089Z"
   },
   {
    "duration": 492,
    "start_time": "2022-11-17T18:11:28.525Z"
   },
   {
    "duration": 162,
    "start_time": "2022-11-17T18:12:12.935Z"
   },
   {
    "duration": 185,
    "start_time": "2022-11-17T18:12:55.549Z"
   },
   {
    "duration": 187,
    "start_time": "2022-11-17T18:13:05.197Z"
   },
   {
    "duration": 156,
    "start_time": "2022-11-17T18:13:08.303Z"
   },
   {
    "duration": 154,
    "start_time": "2022-11-17T18:14:19.642Z"
   },
   {
    "duration": 197,
    "start_time": "2022-11-17T18:14:54.032Z"
   },
   {
    "duration": 185,
    "start_time": "2022-11-17T18:15:10.890Z"
   },
   {
    "duration": 180,
    "start_time": "2022-11-17T18:15:23.499Z"
   },
   {
    "duration": 168,
    "start_time": "2022-11-17T18:15:30.715Z"
   },
   {
    "duration": 179,
    "start_time": "2022-11-17T18:15:34.439Z"
   },
   {
    "duration": 179,
    "start_time": "2022-11-17T18:15:48.118Z"
   },
   {
    "duration": 177,
    "start_time": "2022-11-17T18:15:58.476Z"
   },
   {
    "duration": 186,
    "start_time": "2022-11-17T18:16:04.211Z"
   },
   {
    "duration": 172,
    "start_time": "2022-11-17T18:16:07.653Z"
   },
   {
    "duration": 161,
    "start_time": "2022-11-17T18:16:13.116Z"
   },
   {
    "duration": 164,
    "start_time": "2022-11-17T18:16:25.984Z"
   },
   {
    "duration": 177,
    "start_time": "2022-11-17T18:16:40.391Z"
   },
   {
    "duration": 225,
    "start_time": "2022-11-17T18:16:45.072Z"
   },
   {
    "duration": 188,
    "start_time": "2022-11-17T18:17:16.153Z"
   },
   {
    "duration": 171,
    "start_time": "2022-11-17T18:17:24.334Z"
   },
   {
    "duration": 165,
    "start_time": "2022-11-17T18:17:27.717Z"
   },
   {
    "duration": 168,
    "start_time": "2022-11-17T18:17:34.606Z"
   },
   {
    "duration": 562,
    "start_time": "2022-11-17T18:17:44.862Z"
   },
   {
    "duration": 170,
    "start_time": "2022-11-17T18:18:23.276Z"
   },
   {
    "duration": 154,
    "start_time": "2022-11-17T18:18:36.643Z"
   },
   {
    "duration": 147,
    "start_time": "2022-11-17T18:19:02.151Z"
   },
   {
    "duration": 160,
    "start_time": "2022-11-17T18:19:10.461Z"
   },
   {
    "duration": 123,
    "start_time": "2022-11-17T18:21:53.809Z"
   },
   {
    "duration": 31,
    "start_time": "2022-11-17T18:21:54.837Z"
   },
   {
    "duration": 4,
    "start_time": "2022-11-17T18:21:55.115Z"
   },
   {
    "duration": 11,
    "start_time": "2022-11-17T18:21:55.743Z"
   },
   {
    "duration": 4,
    "start_time": "2022-11-17T18:21:56.097Z"
   },
   {
    "duration": 9,
    "start_time": "2022-11-17T18:21:56.240Z"
   },
   {
    "duration": 9,
    "start_time": "2022-11-17T18:21:56.398Z"
   },
   {
    "duration": 8,
    "start_time": "2022-11-17T18:21:57.511Z"
   },
   {
    "duration": 9,
    "start_time": "2022-11-17T18:21:57.715Z"
   },
   {
    "duration": 7,
    "start_time": "2022-11-17T18:21:59.083Z"
   },
   {
    "duration": 11,
    "start_time": "2022-11-17T18:21:59.318Z"
   },
   {
    "duration": 179,
    "start_time": "2022-11-17T18:21:59.562Z"
   },
   {
    "duration": 4,
    "start_time": "2022-11-17T18:21:59.813Z"
   },
   {
    "duration": 12,
    "start_time": "2022-11-17T18:22:00.285Z"
   },
   {
    "duration": 5,
    "start_time": "2022-11-17T18:22:01.627Z"
   },
   {
    "duration": 2265,
    "start_time": "2022-11-17T18:22:02.425Z"
   },
   {
    "duration": 6,
    "start_time": "2022-11-17T18:22:17.889Z"
   },
   {
    "duration": 8,
    "start_time": "2022-11-17T18:22:27.124Z"
   },
   {
    "duration": 261,
    "start_time": "2022-11-17T18:22:29.725Z"
   },
   {
    "duration": 239,
    "start_time": "2022-11-17T18:22:49.757Z"
   },
   {
    "duration": 546,
    "start_time": "2022-11-17T18:22:57.178Z"
   },
   {
    "duration": 233,
    "start_time": "2022-11-17T18:23:01.809Z"
   },
   {
    "duration": 6,
    "start_time": "2022-11-17T18:23:17.213Z"
   },
   {
    "duration": 109,
    "start_time": "2022-11-17T18:27:58.188Z"
   },
   {
    "duration": 11,
    "start_time": "2022-11-17T18:28:05.883Z"
   },
   {
    "duration": 9,
    "start_time": "2022-11-17T18:28:14.922Z"
   },
   {
    "duration": 8,
    "start_time": "2022-11-17T18:28:16.607Z"
   },
   {
    "duration": 1198,
    "start_time": "2022-11-17T18:28:33.344Z"
   },
   {
    "duration": 0,
    "start_time": "2022-11-17T18:28:34.544Z"
   },
   {
    "duration": 8,
    "start_time": "2022-11-17T18:28:47.136Z"
   },
   {
    "duration": 23,
    "start_time": "2022-11-17T18:29:17.296Z"
   },
   {
    "duration": 6,
    "start_time": "2022-11-17T18:31:46.949Z"
   },
   {
    "duration": 5,
    "start_time": "2022-11-17T18:31:58.393Z"
   },
   {
    "duration": 5,
    "start_time": "2022-11-17T18:32:38.151Z"
   },
   {
    "duration": 5,
    "start_time": "2022-11-17T18:32:50.590Z"
   },
   {
    "duration": 5,
    "start_time": "2022-11-17T18:32:54.588Z"
   },
   {
    "duration": 6,
    "start_time": "2022-11-17T18:32:59.498Z"
   },
   {
    "duration": 4,
    "start_time": "2022-11-17T18:33:03.470Z"
   },
   {
    "duration": 5,
    "start_time": "2022-11-17T18:33:07.809Z"
   },
   {
    "duration": 5,
    "start_time": "2022-11-17T18:33:11.388Z"
   },
   {
    "duration": 5,
    "start_time": "2022-11-17T18:33:27.814Z"
   },
   {
    "duration": 6,
    "start_time": "2022-11-17T18:36:46.491Z"
   },
   {
    "duration": 6,
    "start_time": "2022-11-17T18:37:04.699Z"
   },
   {
    "duration": 14,
    "start_time": "2022-11-17T18:37:11.805Z"
   },
   {
    "duration": 19,
    "start_time": "2022-11-17T18:37:35.867Z"
   },
   {
    "duration": 3,
    "start_time": "2022-11-17T18:38:42.579Z"
   },
   {
    "duration": 7,
    "start_time": "2022-11-17T18:38:53.592Z"
   },
   {
    "duration": 4,
    "start_time": "2022-11-17T18:38:58.385Z"
   },
   {
    "duration": 7,
    "start_time": "2022-11-17T18:42:27.590Z"
   },
   {
    "duration": 22,
    "start_time": "2022-11-17T18:43:46.826Z"
   },
   {
    "duration": 1220,
    "start_time": "2022-11-17T18:44:02.548Z"
   },
   {
    "duration": 8,
    "start_time": "2022-11-17T18:44:10.567Z"
   },
   {
    "duration": 301,
    "start_time": "2022-11-17T18:47:37.193Z"
   },
   {
    "duration": 95,
    "start_time": "2022-11-17T18:48:16.491Z"
   },
   {
    "duration": 253,
    "start_time": "2022-11-17T18:49:51.708Z"
   },
   {
    "duration": 1097,
    "start_time": "2022-11-17T18:50:09.447Z"
   },
   {
    "duration": 5,
    "start_time": "2022-11-17T18:50:53.570Z"
   },
   {
    "duration": 6,
    "start_time": "2022-11-17T18:51:06.510Z"
   },
   {
    "duration": 119,
    "start_time": "2022-11-17T18:52:23.749Z"
   },
   {
    "duration": 15,
    "start_time": "2022-11-17T18:52:24.233Z"
   },
   {
    "duration": 3,
    "start_time": "2022-11-17T18:52:24.304Z"
   },
   {
    "duration": 11,
    "start_time": "2022-11-17T18:52:24.554Z"
   },
   {
    "duration": 4,
    "start_time": "2022-11-17T18:52:24.720Z"
   },
   {
    "duration": 11,
    "start_time": "2022-11-17T18:52:24.803Z"
   },
   {
    "duration": 10,
    "start_time": "2022-11-17T18:52:25.539Z"
   },
   {
    "duration": 7,
    "start_time": "2022-11-17T18:52:25.807Z"
   },
   {
    "duration": 9,
    "start_time": "2022-11-17T18:52:26.036Z"
   },
   {
    "duration": 12,
    "start_time": "2022-11-17T18:52:26.991Z"
   },
   {
    "duration": 14,
    "start_time": "2022-11-17T18:52:27.584Z"
   },
   {
    "duration": 209,
    "start_time": "2022-11-17T18:52:28.236Z"
   },
   {
    "duration": 5,
    "start_time": "2022-11-17T18:52:29.121Z"
   },
   {
    "duration": 12,
    "start_time": "2022-11-17T18:52:29.715Z"
   },
   {
    "duration": 7,
    "start_time": "2022-11-17T18:52:41.670Z"
   },
   {
    "duration": 10,
    "start_time": "2022-11-17T18:52:47.463Z"
   },
   {
    "duration": 10,
    "start_time": "2022-11-17T18:52:55.787Z"
   },
   {
    "duration": 10,
    "start_time": "2022-11-17T18:53:08.437Z"
   },
   {
    "duration": 37,
    "start_time": "2022-11-17T18:53:09.873Z"
   },
   {
    "duration": 41,
    "start_time": "2022-11-17T18:53:20.993Z"
   },
   {
    "duration": 119,
    "start_time": "2022-11-17T18:54:14.307Z"
   },
   {
    "duration": 9,
    "start_time": "2022-11-17T18:54:19.906Z"
   },
   {
    "duration": 4,
    "start_time": "2022-11-17T18:54:23.639Z"
   },
   {
    "duration": 9,
    "start_time": "2022-11-17T18:54:29.773Z"
   },
   {
    "duration": 14,
    "start_time": "2022-11-17T18:54:30.590Z"
   },
   {
    "duration": 49,
    "start_time": "2022-11-17T18:54:31.512Z"
   },
   {
    "duration": 7,
    "start_time": "2022-11-17T18:55:36.350Z"
   },
   {
    "duration": 8,
    "start_time": "2022-11-17T18:56:41.087Z"
   },
   {
    "duration": 6,
    "start_time": "2022-11-17T18:57:00.237Z"
   },
   {
    "duration": 4,
    "start_time": "2022-11-17T18:57:02.150Z"
   },
   {
    "duration": 7,
    "start_time": "2022-11-17T18:57:08.425Z"
   },
   {
    "duration": 9,
    "start_time": "2022-11-17T18:57:12.083Z"
   },
   {
    "duration": 11,
    "start_time": "2022-11-17T18:57:14.305Z"
   },
   {
    "duration": 46,
    "start_time": "2022-11-17T18:57:15.185Z"
   },
   {
    "duration": 7,
    "start_time": "2022-11-17T18:57:18.331Z"
   },
   {
    "duration": 8,
    "start_time": "2022-11-17T18:57:27.419Z"
   },
   {
    "duration": 42,
    "start_time": "2022-11-17T18:57:37.773Z"
   },
   {
    "duration": 5,
    "start_time": "2022-11-17T18:57:59.391Z"
   },
   {
    "duration": 14,
    "start_time": "2022-11-17T18:57:59.653Z"
   },
   {
    "duration": 160,
    "start_time": "2022-11-17T18:58:14.068Z"
   },
   {
    "duration": 22,
    "start_time": "2022-11-17T18:58:14.803Z"
   },
   {
    "duration": 3,
    "start_time": "2022-11-17T18:58:14.963Z"
   },
   {
    "duration": 15,
    "start_time": "2022-11-17T18:58:15.513Z"
   },
   {
    "duration": 4,
    "start_time": "2022-11-17T18:58:15.854Z"
   },
   {
    "duration": 10,
    "start_time": "2022-11-17T18:58:16.005Z"
   },
   {
    "duration": 10,
    "start_time": "2022-11-17T18:58:16.157Z"
   },
   {
    "duration": 7,
    "start_time": "2022-11-17T18:58:16.335Z"
   },
   {
    "duration": 11,
    "start_time": "2022-11-17T18:58:16.509Z"
   },
   {
    "duration": 11,
    "start_time": "2022-11-17T18:58:16.912Z"
   },
   {
    "duration": 13,
    "start_time": "2022-11-17T18:58:17.074Z"
   },
   {
    "duration": 270,
    "start_time": "2022-11-17T18:58:17.260Z"
   },
   {
    "duration": 4,
    "start_time": "2022-11-17T18:58:17.532Z"
   },
   {
    "duration": 13,
    "start_time": "2022-11-17T18:58:17.797Z"
   },
   {
    "duration": 5,
    "start_time": "2022-11-17T18:58:18.216Z"
   },
   {
    "duration": 2625,
    "start_time": "2022-11-17T18:58:18.383Z"
   },
   {
    "duration": 89,
    "start_time": "2022-11-17T18:58:21.010Z"
   },
   {
    "duration": 8,
    "start_time": "2022-11-17T18:58:21.100Z"
   },
   {
    "duration": 10,
    "start_time": "2022-11-17T18:58:21.110Z"
   },
   {
    "duration": 11,
    "start_time": "2022-11-17T18:58:21.122Z"
   },
   {
    "duration": 4,
    "start_time": "2022-11-17T18:58:21.135Z"
   },
   {
    "duration": 38,
    "start_time": "2022-11-17T18:58:21.140Z"
   },
   {
    "duration": 14,
    "start_time": "2022-11-17T18:58:21.181Z"
   },
   {
    "duration": 14,
    "start_time": "2022-11-17T18:58:21.198Z"
   },
   {
    "duration": 40,
    "start_time": "2022-11-17T18:58:21.215Z"
   },
   {
    "duration": 13,
    "start_time": "2022-11-17T18:58:21.277Z"
   },
   {
    "duration": 9,
    "start_time": "2022-11-17T18:58:21.294Z"
   },
   {
    "duration": 8,
    "start_time": "2022-11-17T18:58:21.354Z"
   },
   {
    "duration": 5,
    "start_time": "2022-11-17T18:58:24.731Z"
   },
   {
    "duration": 471,
    "start_time": "2022-11-17T18:58:26.888Z"
   },
   {
    "duration": 40,
    "start_time": "2022-11-17T18:58:29.766Z"
   },
   {
    "duration": 185,
    "start_time": "2022-11-17T18:58:49.786Z"
   },
   {
    "duration": 175,
    "start_time": "2022-11-17T19:00:28.691Z"
   },
   {
    "duration": 197,
    "start_time": "2022-11-17T19:00:33.435Z"
   },
   {
    "duration": 220,
    "start_time": "2022-11-17T19:00:45.670Z"
   },
   {
    "duration": 678,
    "start_time": "2022-11-17T19:00:56.866Z"
   },
   {
    "duration": 165,
    "start_time": "2022-11-17T19:01:09.948Z"
   },
   {
    "duration": 235,
    "start_time": "2022-11-17T19:04:59.273Z"
   },
   {
    "duration": 177,
    "start_time": "2022-11-17T19:05:11.774Z"
   },
   {
    "duration": 4,
    "start_time": "2022-11-17T19:06:15.058Z"
   },
   {
    "duration": 406,
    "start_time": "2022-11-17T19:06:15.472Z"
   },
   {
    "duration": 28,
    "start_time": "2022-11-17T19:06:19.386Z"
   },
   {
    "duration": 164,
    "start_time": "2022-11-17T19:06:53.583Z"
   },
   {
    "duration": 172,
    "start_time": "2022-11-17T19:07:01.234Z"
   },
   {
    "duration": 179,
    "start_time": "2022-11-17T19:07:26.823Z"
   },
   {
    "duration": 167,
    "start_time": "2022-11-17T19:07:41.969Z"
   },
   {
    "duration": 1126,
    "start_time": "2022-11-17T19:08:09.577Z"
   },
   {
    "duration": 1182,
    "start_time": "2022-11-17T19:08:18.741Z"
   },
   {
    "duration": 242,
    "start_time": "2022-11-17T19:08:44.834Z"
   },
   {
    "duration": 92,
    "start_time": "2022-11-17T19:08:59.371Z"
   },
   {
    "duration": 204,
    "start_time": "2022-11-17T19:09:34.010Z"
   },
   {
    "duration": 203,
    "start_time": "2022-11-17T19:09:45.981Z"
   },
   {
    "duration": 184,
    "start_time": "2022-11-17T19:09:54.552Z"
   },
   {
    "duration": 176,
    "start_time": "2022-11-17T19:10:47.858Z"
   },
   {
    "duration": 178,
    "start_time": "2022-11-17T19:11:28.440Z"
   },
   {
    "duration": 146,
    "start_time": "2022-11-17T19:11:30.727Z"
   },
   {
    "duration": 183,
    "start_time": "2022-11-17T19:11:46.126Z"
   },
   {
    "duration": 189,
    "start_time": "2022-11-17T19:11:52.902Z"
   },
   {
    "duration": 170,
    "start_time": "2022-11-17T19:12:44.498Z"
   },
   {
    "duration": 158,
    "start_time": "2022-11-17T19:12:50.576Z"
   },
   {
    "duration": 179,
    "start_time": "2022-11-17T19:13:27.541Z"
   },
   {
    "duration": 253,
    "start_time": "2022-11-17T19:13:35.885Z"
   },
   {
    "duration": 207,
    "start_time": "2022-11-17T19:13:50.367Z"
   },
   {
    "duration": 168,
    "start_time": "2022-11-17T19:13:55.616Z"
   },
   {
    "duration": 152,
    "start_time": "2022-11-17T19:16:07.179Z"
   },
   {
    "duration": 4,
    "start_time": "2022-11-17T19:18:42.009Z"
   },
   {
    "duration": 193,
    "start_time": "2022-11-17T19:23:19.416Z"
   },
   {
    "duration": 163,
    "start_time": "2022-11-17T19:38:15.209Z"
   },
   {
    "duration": 150,
    "start_time": "2022-11-17T19:38:39.035Z"
   },
   {
    "duration": 188,
    "start_time": "2022-11-17T19:39:03.689Z"
   },
   {
    "duration": 10,
    "start_time": "2022-11-17T19:39:52.398Z"
   },
   {
    "duration": 120,
    "start_time": "2022-11-17T19:42:57.253Z"
   },
   {
    "duration": 21,
    "start_time": "2022-11-17T20:01:00.652Z"
   },
   {
    "duration": 6079,
    "start_time": "2022-11-17T20:02:22.702Z"
   },
   {
    "duration": 4,
    "start_time": "2022-11-17T20:16:01.152Z"
   },
   {
    "duration": 721,
    "start_time": "2022-11-17T20:21:34.237Z"
   },
   {
    "duration": 4,
    "start_time": "2022-11-17T20:21:39.493Z"
   },
   {
    "duration": 991,
    "start_time": "2022-11-17T20:21:40.736Z"
   },
   {
    "duration": 10,
    "start_time": "2022-11-17T20:22:39.946Z"
   },
   {
    "duration": 409,
    "start_time": "2022-11-17T20:22:40.929Z"
   },
   {
    "duration": 20,
    "start_time": "2022-11-17T20:36:34.565Z"
   },
   {
    "duration": 416,
    "start_time": "2022-11-17T20:37:30.614Z"
   },
   {
    "duration": 3722,
    "start_time": "2022-11-17T20:44:49.992Z"
   },
   {
    "duration": 45,
    "start_time": "2022-11-17T20:50:13.076Z"
   },
   {
    "duration": 143,
    "start_time": "2022-11-17T20:50:41.118Z"
   },
   {
    "duration": 10,
    "start_time": "2022-11-17T20:51:49.932Z"
   },
   {
    "duration": 165,
    "start_time": "2022-11-17T20:52:26.714Z"
   },
   {
    "duration": 298,
    "start_time": "2022-11-17T20:52:33.601Z"
   },
   {
    "duration": 264,
    "start_time": "2022-11-17T20:54:37.893Z"
   },
   {
    "duration": 413,
    "start_time": "2022-11-17T20:55:20.648Z"
   },
   {
    "duration": 414,
    "start_time": "2022-11-17T20:55:35.250Z"
   },
   {
    "duration": 150,
    "start_time": "2022-11-17T20:55:58.410Z"
   },
   {
    "duration": 375,
    "start_time": "2022-11-17T20:56:32.837Z"
   },
   {
    "duration": 283,
    "start_time": "2022-11-17T20:58:24.919Z"
   },
   {
    "duration": 12,
    "start_time": "2022-11-17T21:14:58.708Z"
   },
   {
    "duration": 16,
    "start_time": "2022-11-17T21:15:14.677Z"
   },
   {
    "duration": 10,
    "start_time": "2022-11-17T21:15:28.321Z"
   },
   {
    "duration": 4,
    "start_time": "2022-11-17T21:15:32.703Z"
   },
   {
    "duration": 3,
    "start_time": "2022-11-17T21:15:43.173Z"
   },
   {
    "duration": 12,
    "start_time": "2022-11-17T21:16:45.496Z"
   },
   {
    "duration": 9,
    "start_time": "2022-11-17T21:16:53.633Z"
   },
   {
    "duration": 9,
    "start_time": "2022-11-17T21:17:08.944Z"
   },
   {
    "duration": 7,
    "start_time": "2022-11-17T21:18:01.522Z"
   },
   {
    "duration": 9,
    "start_time": "2022-11-17T21:18:16.250Z"
   },
   {
    "duration": 98,
    "start_time": "2022-11-17T21:20:25.971Z"
   },
   {
    "duration": 118,
    "start_time": "2022-11-17T21:20:48.986Z"
   },
   {
    "duration": 14,
    "start_time": "2022-11-17T21:20:49.397Z"
   },
   {
    "duration": 3,
    "start_time": "2022-11-17T21:20:49.609Z"
   },
   {
    "duration": 9,
    "start_time": "2022-11-17T21:20:50.175Z"
   },
   {
    "duration": 4,
    "start_time": "2022-11-17T21:20:50.485Z"
   },
   {
    "duration": 8,
    "start_time": "2022-11-17T21:20:50.651Z"
   },
   {
    "duration": 9,
    "start_time": "2022-11-17T21:20:50.807Z"
   },
   {
    "duration": 6,
    "start_time": "2022-11-17T21:20:50.957Z"
   },
   {
    "duration": 8,
    "start_time": "2022-11-17T21:20:51.134Z"
   },
   {
    "duration": 8,
    "start_time": "2022-11-17T21:20:51.472Z"
   },
   {
    "duration": 9,
    "start_time": "2022-11-17T21:20:51.640Z"
   },
   {
    "duration": 162,
    "start_time": "2022-11-17T21:20:51.818Z"
   },
   {
    "duration": 4,
    "start_time": "2022-11-17T21:20:52.005Z"
   },
   {
    "duration": 9,
    "start_time": "2022-11-17T21:20:53.060Z"
   },
   {
    "duration": 14,
    "start_time": "2022-11-17T21:21:06.819Z"
   },
   {
    "duration": 9,
    "start_time": "2022-11-17T21:21:15.297Z"
   },
   {
    "duration": 4,
    "start_time": "2022-11-17T21:21:15.894Z"
   },
   {
    "duration": 2526,
    "start_time": "2022-11-17T21:21:16.192Z"
   },
   {
    "duration": 89,
    "start_time": "2022-11-17T21:21:18.720Z"
   },
   {
    "duration": 8,
    "start_time": "2022-11-17T21:21:18.811Z"
   },
   {
    "duration": 6,
    "start_time": "2022-11-17T21:21:18.822Z"
   },
   {
    "duration": 8,
    "start_time": "2022-11-17T21:21:18.830Z"
   },
   {
    "duration": 7,
    "start_time": "2022-11-17T21:21:18.840Z"
   },
   {
    "duration": 32,
    "start_time": "2022-11-17T21:21:18.848Z"
   },
   {
    "duration": 7,
    "start_time": "2022-11-17T21:21:18.882Z"
   },
   {
    "duration": 11,
    "start_time": "2022-11-17T21:21:18.892Z"
   },
   {
    "duration": 38,
    "start_time": "2022-11-17T21:21:18.906Z"
   },
   {
    "duration": 7,
    "start_time": "2022-11-17T21:21:19.630Z"
   },
   {
    "duration": 7,
    "start_time": "2022-11-17T21:21:20.613Z"
   },
   {
    "duration": 6,
    "start_time": "2022-11-17T21:21:20.982Z"
   },
   {
    "duration": 7,
    "start_time": "2022-11-17T21:21:38.097Z"
   },
   {
    "duration": 4,
    "start_time": "2022-11-17T21:21:39.244Z"
   },
   {
    "duration": 889,
    "start_time": "2022-11-17T21:21:39.998Z"
   },
   {
    "duration": 28,
    "start_time": "2022-11-17T21:21:40.889Z"
   },
   {
    "duration": 93,
    "start_time": "2022-11-17T21:21:46.225Z"
   },
   {
    "duration": 3,
    "start_time": "2022-11-17T21:21:54.448Z"
   },
   {
    "duration": 91,
    "start_time": "2022-11-17T21:21:55.409Z"
   },
   {
    "duration": 179,
    "start_time": "2022-11-17T21:21:56.373Z"
   },
   {
    "duration": 185,
    "start_time": "2022-11-17T21:22:00.127Z"
   },
   {
    "duration": 5,
    "start_time": "2022-11-17T21:22:03.665Z"
   },
   {
    "duration": 218,
    "start_time": "2022-11-17T21:22:05.424Z"
   },
   {
    "duration": 131,
    "start_time": "2022-11-17T21:23:35.012Z"
   },
   {
    "duration": 220,
    "start_time": "2022-11-17T21:23:43.370Z"
   },
   {
    "duration": 14,
    "start_time": "2022-11-17T21:23:55.755Z"
   },
   {
    "duration": 29,
    "start_time": "2022-11-17T21:26:10.565Z"
   },
   {
    "duration": 20,
    "start_time": "2022-11-17T21:26:39.166Z"
   },
   {
    "duration": 29,
    "start_time": "2022-11-17T21:26:52.143Z"
   },
   {
    "duration": 9,
    "start_time": "2022-11-17T21:27:40.553Z"
   },
   {
    "duration": 11,
    "start_time": "2022-11-17T21:27:47.716Z"
   },
   {
    "duration": 9,
    "start_time": "2022-11-17T21:27:59.532Z"
   },
   {
    "duration": 9,
    "start_time": "2022-11-17T21:28:28.399Z"
   },
   {
    "duration": 10,
    "start_time": "2022-11-17T21:28:36.476Z"
   },
   {
    "duration": 9,
    "start_time": "2022-11-17T21:29:20.653Z"
   },
   {
    "duration": 10,
    "start_time": "2022-11-17T21:30:42.479Z"
   },
   {
    "duration": 6,
    "start_time": "2022-11-17T21:30:46.242Z"
   },
   {
    "duration": 26,
    "start_time": "2022-11-17T21:30:46.869Z"
   },
   {
    "duration": 7,
    "start_time": "2022-11-17T21:31:06.408Z"
   },
   {
    "duration": 19,
    "start_time": "2022-11-17T21:31:06.750Z"
   },
   {
    "duration": 6,
    "start_time": "2022-11-17T21:31:21.493Z"
   },
   {
    "duration": 6,
    "start_time": "2022-11-17T21:31:34.207Z"
   },
   {
    "duration": 5,
    "start_time": "2022-11-17T21:31:34.739Z"
   },
   {
    "duration": 9,
    "start_time": "2022-11-17T21:32:00.101Z"
   },
   {
    "duration": 13,
    "start_time": "2022-11-17T21:32:00.502Z"
   },
   {
    "duration": 13,
    "start_time": "2022-11-17T21:32:15.413Z"
   },
   {
    "duration": 4,
    "start_time": "2022-11-17T21:33:46.954Z"
   },
   {
    "duration": 15,
    "start_time": "2022-11-17T21:36:36.095Z"
   },
   {
    "duration": 29,
    "start_time": "2022-11-17T21:36:49.953Z"
   },
   {
    "duration": 10,
    "start_time": "2022-11-17T21:37:05.684Z"
   },
   {
    "duration": 32,
    "start_time": "2022-11-17T21:37:06.095Z"
   },
   {
    "duration": 14,
    "start_time": "2022-11-17T21:37:12.040Z"
   },
   {
    "duration": 5,
    "start_time": "2022-11-17T21:43:19.317Z"
   },
   {
    "duration": 1143,
    "start_time": "2022-11-17T21:43:30.095Z"
   },
   {
    "duration": 5,
    "start_time": "2022-11-17T21:43:39.017Z"
   },
   {
    "duration": 4,
    "start_time": "2022-11-17T21:44:30.416Z"
   },
   {
    "duration": 47,
    "start_time": "2022-11-17T21:44:37.020Z"
   },
   {
    "duration": 10,
    "start_time": "2022-11-17T21:45:23.629Z"
   },
   {
    "duration": 41,
    "start_time": "2022-11-17T21:45:43.543Z"
   },
   {
    "duration": 19,
    "start_time": "2022-11-17T21:46:01.990Z"
   },
   {
    "duration": 10,
    "start_time": "2022-11-17T21:59:38.796Z"
   },
   {
    "duration": 11,
    "start_time": "2022-11-17T22:08:14.172Z"
   },
   {
    "duration": 10,
    "start_time": "2022-11-17T22:08:49.893Z"
   },
   {
    "duration": 14,
    "start_time": "2022-11-17T22:09:12.340Z"
   },
   {
    "duration": 9,
    "start_time": "2022-11-17T22:12:02.344Z"
   },
   {
    "duration": 11,
    "start_time": "2022-11-17T22:12:06.823Z"
   },
   {
    "duration": 196,
    "start_time": "2022-11-17T22:12:07.021Z"
   },
   {
    "duration": 10,
    "start_time": "2022-11-18T09:44:12.256Z"
   },
   {
    "duration": 10,
    "start_time": "2022-11-18T09:44:16.128Z"
   },
   {
    "duration": 12,
    "start_time": "2022-11-18T09:44:32.709Z"
   },
   {
    "duration": 107,
    "start_time": "2022-11-18T09:46:10.332Z"
   },
   {
    "duration": 17,
    "start_time": "2022-11-18T09:46:10.812Z"
   },
   {
    "duration": 2,
    "start_time": "2022-11-18T09:46:11.148Z"
   },
   {
    "duration": 11,
    "start_time": "2022-11-18T09:46:11.794Z"
   },
   {
    "duration": 4,
    "start_time": "2022-11-18T09:46:12.376Z"
   },
   {
    "duration": 9,
    "start_time": "2022-11-18T09:46:12.459Z"
   },
   {
    "duration": 10,
    "start_time": "2022-11-18T09:46:12.849Z"
   },
   {
    "duration": 7,
    "start_time": "2022-11-18T09:46:13.176Z"
   },
   {
    "duration": 8,
    "start_time": "2022-11-18T09:46:13.432Z"
   },
   {
    "duration": 7,
    "start_time": "2022-11-18T09:46:14.024Z"
   },
   {
    "duration": 9,
    "start_time": "2022-11-18T09:46:14.384Z"
   },
   {
    "duration": 172,
    "start_time": "2022-11-18T09:46:14.703Z"
   },
   {
    "duration": 4,
    "start_time": "2022-11-18T09:46:14.963Z"
   },
   {
    "duration": 8,
    "start_time": "2022-11-18T09:46:15.439Z"
   },
   {
    "duration": 4,
    "start_time": "2022-11-18T09:46:16.072Z"
   },
   {
    "duration": 2507,
    "start_time": "2022-11-18T09:46:16.607Z"
   },
   {
    "duration": 82,
    "start_time": "2022-11-18T09:46:19.116Z"
   },
   {
    "duration": 5,
    "start_time": "2022-11-18T09:46:19.200Z"
   },
   {
    "duration": 9,
    "start_time": "2022-11-18T09:46:19.207Z"
   },
   {
    "duration": 9,
    "start_time": "2022-11-18T09:46:19.217Z"
   },
   {
    "duration": 4,
    "start_time": "2022-11-18T09:46:19.228Z"
   },
   {
    "duration": 10,
    "start_time": "2022-11-18T09:46:19.233Z"
   },
   {
    "duration": 7,
    "start_time": "2022-11-18T09:46:19.298Z"
   },
   {
    "duration": 11,
    "start_time": "2022-11-18T09:46:19.608Z"
   },
   {
    "duration": 39,
    "start_time": "2022-11-18T09:46:20.297Z"
   },
   {
    "duration": 7,
    "start_time": "2022-11-18T09:46:22.040Z"
   },
   {
    "duration": 6,
    "start_time": "2022-11-18T09:46:23.444Z"
   },
   {
    "duration": 6,
    "start_time": "2022-11-18T09:46:24.484Z"
   },
   {
    "duration": 3,
    "start_time": "2022-11-18T09:46:32.578Z"
   },
   {
    "duration": 389,
    "start_time": "2022-11-18T09:46:33.156Z"
   },
   {
    "duration": 27,
    "start_time": "2022-11-18T09:47:42.618Z"
   },
   {
    "duration": 2,
    "start_time": "2022-11-18T09:47:43.688Z"
   },
   {
    "duration": 93,
    "start_time": "2022-11-18T09:47:43.988Z"
   },
   {
    "duration": 187,
    "start_time": "2022-11-18T09:47:44.256Z"
   },
   {
    "duration": 192,
    "start_time": "2022-11-18T09:47:44.719Z"
   },
   {
    "duration": 4,
    "start_time": "2022-11-18T09:47:45.087Z"
   },
   {
    "duration": 256,
    "start_time": "2022-11-18T09:47:45.662Z"
   },
   {
    "duration": 219,
    "start_time": "2022-11-18T09:47:45.920Z"
   },
   {
    "duration": 239,
    "start_time": "2022-11-18T09:47:46.142Z"
   },
   {
    "duration": 181,
    "start_time": "2022-11-18T09:47:46.465Z"
   },
   {
    "duration": 212,
    "start_time": "2022-11-18T09:47:46.648Z"
   },
   {
    "duration": 233,
    "start_time": "2022-11-18T09:47:46.862Z"
   },
   {
    "duration": 141,
    "start_time": "2022-11-18T09:47:47.312Z"
   },
   {
    "duration": 219,
    "start_time": "2022-11-18T09:47:47.454Z"
   },
   {
    "duration": 186,
    "start_time": "2022-11-18T09:47:47.677Z"
   },
   {
    "duration": 219,
    "start_time": "2022-11-18T09:47:47.865Z"
   },
   {
    "duration": 219,
    "start_time": "2022-11-18T09:47:48.086Z"
   },
   {
    "duration": 177,
    "start_time": "2022-11-18T09:47:48.307Z"
   },
   {
    "duration": 175,
    "start_time": "2022-11-18T09:47:48.665Z"
   },
   {
    "duration": 243,
    "start_time": "2022-11-18T09:47:48.842Z"
   },
   {
    "duration": 146,
    "start_time": "2022-11-18T09:47:49.088Z"
   },
   {
    "duration": 2,
    "start_time": "2022-11-18T09:47:49.236Z"
   },
   {
    "duration": 4,
    "start_time": "2022-11-18T09:47:49.244Z"
   },
   {
    "duration": 19,
    "start_time": "2022-11-18T09:47:49.329Z"
   },
   {
    "duration": 358,
    "start_time": "2022-11-18T09:47:49.413Z"
   },
   {
    "duration": 3743,
    "start_time": "2022-11-18T09:47:50.269Z"
   },
   {
    "duration": 254,
    "start_time": "2022-11-18T09:47:54.015Z"
   },
   {
    "duration": 138,
    "start_time": "2022-11-18T09:47:54.270Z"
   },
   {
    "duration": 3,
    "start_time": "2022-11-18T09:48:13.256Z"
   },
   {
    "duration": 7,
    "start_time": "2022-11-18T09:48:32.291Z"
   },
   {
    "duration": 17,
    "start_time": "2022-11-18T09:48:32.655Z"
   },
   {
    "duration": 9,
    "start_time": "2022-11-18T09:48:33.314Z"
   },
   {
    "duration": 3656,
    "start_time": "2022-11-18T09:50:15.778Z"
   },
   {
    "duration": 22,
    "start_time": "2022-11-18T09:59:16.610Z"
   },
   {
    "duration": 14,
    "start_time": "2022-11-18T09:59:29.969Z"
   },
   {
    "duration": 10,
    "start_time": "2022-11-18T09:59:52.992Z"
   },
   {
    "duration": 15,
    "start_time": "2022-11-18T10:00:15.876Z"
   },
   {
    "duration": 75,
    "start_time": "2022-11-18T10:40:53.909Z"
   },
   {
    "duration": 10,
    "start_time": "2022-11-18T10:41:01.865Z"
   },
   {
    "duration": 1197,
    "start_time": "2022-11-18T11:24:21.216Z"
   },
   {
    "duration": 16,
    "start_time": "2022-11-18T11:24:22.416Z"
   },
   {
    "duration": 1837,
    "start_time": "2022-11-18T11:24:22.433Z"
   },
   {
    "duration": 10,
    "start_time": "2022-11-18T11:24:24.272Z"
   },
   {
    "duration": 5,
    "start_time": "2022-11-18T11:24:24.283Z"
   },
   {
    "duration": 13,
    "start_time": "2022-11-18T11:24:24.289Z"
   },
   {
    "duration": 15,
    "start_time": "2022-11-18T11:24:24.303Z"
   },
   {
    "duration": 16,
    "start_time": "2022-11-18T11:24:24.319Z"
   },
   {
    "duration": 9,
    "start_time": "2022-11-18T11:24:24.337Z"
   },
   {
    "duration": 11,
    "start_time": "2022-11-18T11:24:24.348Z"
   },
   {
    "duration": 11,
    "start_time": "2022-11-18T11:24:24.360Z"
   },
   {
    "duration": 200,
    "start_time": "2022-11-18T11:24:24.372Z"
   },
   {
    "duration": 11,
    "start_time": "2022-11-18T11:24:24.574Z"
   },
   {
    "duration": 14,
    "start_time": "2022-11-18T11:24:24.586Z"
   },
   {
    "duration": 8,
    "start_time": "2022-11-18T11:24:24.602Z"
   },
   {
    "duration": 2022,
    "start_time": "2022-11-18T11:24:24.612Z"
   },
   {
    "duration": 173,
    "start_time": "2022-11-18T11:24:26.635Z"
   },
   {
    "duration": 6,
    "start_time": "2022-11-18T11:24:26.810Z"
   },
   {
    "duration": 48,
    "start_time": "2022-11-18T11:24:26.817Z"
   },
   {
    "duration": 51,
    "start_time": "2022-11-18T11:24:26.867Z"
   },
   {
    "duration": 23,
    "start_time": "2022-11-18T11:24:26.919Z"
   },
   {
    "duration": 30,
    "start_time": "2022-11-18T11:24:26.944Z"
   },
   {
    "duration": 40,
    "start_time": "2022-11-18T11:24:26.976Z"
   },
   {
    "duration": 43,
    "start_time": "2022-11-18T11:24:27.018Z"
   },
   {
    "duration": 79,
    "start_time": "2022-11-18T11:24:27.063Z"
   },
   {
    "duration": 24,
    "start_time": "2022-11-18T11:24:27.144Z"
   },
   {
    "duration": 31,
    "start_time": "2022-11-18T11:24:27.170Z"
   },
   {
    "duration": 24,
    "start_time": "2022-11-18T11:24:27.205Z"
   },
   {
    "duration": 34,
    "start_time": "2022-11-18T11:24:27.230Z"
   },
   {
    "duration": 388,
    "start_time": "2022-11-18T11:24:27.266Z"
   },
   {
    "duration": 27,
    "start_time": "2022-11-18T11:24:27.655Z"
   },
   {
    "duration": 14,
    "start_time": "2022-11-18T11:24:27.683Z"
   },
   {
    "duration": 118,
    "start_time": "2022-11-18T11:24:27.699Z"
   },
   {
    "duration": 153,
    "start_time": "2022-11-18T11:24:27.818Z"
   },
   {
    "duration": 166,
    "start_time": "2022-11-18T11:24:27.973Z"
   },
   {
    "duration": 4,
    "start_time": "2022-11-18T11:24:28.141Z"
   },
   {
    "duration": 212,
    "start_time": "2022-11-18T11:24:28.149Z"
   },
   {
    "duration": 172,
    "start_time": "2022-11-18T11:24:28.363Z"
   },
   {
    "duration": 181,
    "start_time": "2022-11-18T11:24:28.536Z"
   },
   {
    "duration": 143,
    "start_time": "2022-11-18T11:24:28.719Z"
   },
   {
    "duration": 170,
    "start_time": "2022-11-18T11:24:28.864Z"
   },
   {
    "duration": 164,
    "start_time": "2022-11-18T11:24:29.036Z"
   },
   {
    "duration": 243,
    "start_time": "2022-11-18T11:24:29.202Z"
   },
   {
    "duration": 158,
    "start_time": "2022-11-18T11:24:29.446Z"
   },
   {
    "duration": 134,
    "start_time": "2022-11-18T11:24:29.606Z"
   },
   {
    "duration": 158,
    "start_time": "2022-11-18T11:24:29.741Z"
   },
   {
    "duration": 176,
    "start_time": "2022-11-18T11:24:29.901Z"
   },
   {
    "duration": 148,
    "start_time": "2022-11-18T11:24:30.078Z"
   },
   {
    "duration": 131,
    "start_time": "2022-11-18T11:24:30.228Z"
   },
   {
    "duration": 168,
    "start_time": "2022-11-18T11:24:30.361Z"
   },
   {
    "duration": 121,
    "start_time": "2022-11-18T11:24:30.531Z"
   },
   {
    "duration": 2,
    "start_time": "2022-11-18T11:24:30.654Z"
   },
   {
    "duration": 70,
    "start_time": "2022-11-18T11:24:30.658Z"
   },
   {
    "duration": 378,
    "start_time": "2022-11-18T11:24:30.730Z"
   },
   {
    "duration": 3433,
    "start_time": "2022-11-18T11:24:31.110Z"
   },
   {
    "duration": 294,
    "start_time": "2022-11-18T11:24:34.544Z"
   },
   {
    "duration": 2,
    "start_time": "2022-11-18T11:24:34.839Z"
   },
   {
    "duration": 40,
    "start_time": "2022-11-18T11:24:34.843Z"
   },
   {
    "duration": 58,
    "start_time": "2022-11-18T11:24:34.885Z"
   },
   {
    "duration": 13,
    "start_time": "2022-11-18T11:24:34.945Z"
   },
   {
    "duration": 23,
    "start_time": "2022-11-18T11:24:34.960Z"
   },
   {
    "duration": 43,
    "start_time": "2022-11-18T11:24:34.984Z"
   },
   {
    "duration": 177,
    "start_time": "2022-11-18T11:24:35.029Z"
   },
   {
    "duration": 1963,
    "start_time": "2022-11-18T11:43:46.644Z"
   },
   {
    "duration": 13,
    "start_time": "2022-11-18T11:43:48.609Z"
   },
   {
    "duration": 3490,
    "start_time": "2022-11-18T11:43:48.623Z"
   },
   {
    "duration": 14,
    "start_time": "2022-11-18T11:43:52.116Z"
   },
   {
    "duration": 4,
    "start_time": "2022-11-18T11:43:52.132Z"
   },
   {
    "duration": 67,
    "start_time": "2022-11-18T11:43:52.138Z"
   },
   {
    "duration": 12,
    "start_time": "2022-11-18T11:43:52.207Z"
   },
   {
    "duration": 6,
    "start_time": "2022-11-18T11:43:52.221Z"
   },
   {
    "duration": 72,
    "start_time": "2022-11-18T11:43:52.228Z"
   },
   {
    "duration": 19,
    "start_time": "2022-11-18T11:43:52.303Z"
   },
   {
    "duration": 23,
    "start_time": "2022-11-18T11:43:52.324Z"
   },
   {
    "duration": 372,
    "start_time": "2022-11-18T11:43:52.348Z"
   },
   {
    "duration": 8,
    "start_time": "2022-11-18T11:43:52.722Z"
   },
   {
    "duration": 66,
    "start_time": "2022-11-18T11:43:52.732Z"
   },
   {
    "duration": 6,
    "start_time": "2022-11-18T11:43:52.800Z"
   },
   {
    "duration": 4202,
    "start_time": "2022-11-18T11:43:52.808Z"
   },
   {
    "duration": 404,
    "start_time": "2022-11-18T11:43:57.011Z"
   },
   {
    "duration": 6,
    "start_time": "2022-11-18T11:43:57.418Z"
   },
   {
    "duration": 7,
    "start_time": "2022-11-18T11:43:57.425Z"
   },
   {
    "duration": 67,
    "start_time": "2022-11-18T11:43:57.434Z"
   },
   {
    "duration": 4,
    "start_time": "2022-11-18T11:43:57.503Z"
   },
   {
    "duration": 10,
    "start_time": "2022-11-18T11:43:57.509Z"
   },
   {
    "duration": 7,
    "start_time": "2022-11-18T11:43:57.521Z"
   },
   {
    "duration": 74,
    "start_time": "2022-11-18T11:43:57.529Z"
   },
   {
    "duration": 34,
    "start_time": "2022-11-18T11:43:57.605Z"
   },
   {
    "duration": 61,
    "start_time": "2022-11-18T11:43:57.641Z"
   },
   {
    "duration": 7,
    "start_time": "2022-11-18T11:43:57.704Z"
   },
   {
    "duration": 4,
    "start_time": "2022-11-18T11:43:57.715Z"
   },
   {
    "duration": 6,
    "start_time": "2022-11-18T11:43:57.720Z"
   },
   {
    "duration": 794,
    "start_time": "2022-11-18T11:43:57.727Z"
   },
   {
    "duration": 76,
    "start_time": "2022-11-18T11:43:58.523Z"
   },
   {
    "duration": 5,
    "start_time": "2022-11-18T11:43:58.601Z"
   },
   {
    "duration": 197,
    "start_time": "2022-11-18T11:43:58.608Z"
   },
   {
    "duration": 293,
    "start_time": "2022-11-18T11:43:58.807Z"
   },
   {
    "duration": 241,
    "start_time": "2022-11-18T11:43:59.101Z"
   },
   {
    "duration": 55,
    "start_time": "2022-11-18T11:43:59.344Z"
   },
   {
    "duration": 314,
    "start_time": "2022-11-18T11:43:59.401Z"
   },
   {
    "duration": 303,
    "start_time": "2022-11-18T11:43:59.717Z"
   },
   {
    "duration": 386,
    "start_time": "2022-11-18T11:44:00.022Z"
   },
   {
    "duration": 229,
    "start_time": "2022-11-18T11:44:00.409Z"
   },
   {
    "duration": 297,
    "start_time": "2022-11-18T11:44:00.640Z"
   },
   {
    "duration": 372,
    "start_time": "2022-11-18T11:44:00.938Z"
   },
   {
    "duration": 426,
    "start_time": "2022-11-18T11:44:01.312Z"
   },
   {
    "duration": 304,
    "start_time": "2022-11-18T11:44:01.739Z"
   },
   {
    "duration": 234,
    "start_time": "2022-11-18T11:44:02.097Z"
   },
   {
    "duration": 312,
    "start_time": "2022-11-18T11:44:02.332Z"
   },
   {
    "duration": 302,
    "start_time": "2022-11-18T11:44:02.697Z"
   },
   {
    "duration": 216,
    "start_time": "2022-11-18T11:44:03.000Z"
   },
   {
    "duration": 287,
    "start_time": "2022-11-18T11:44:03.217Z"
   },
   {
    "duration": 318,
    "start_time": "2022-11-18T11:44:03.506Z"
   },
   {
    "duration": 215,
    "start_time": "2022-11-18T11:44:03.825Z"
   },
   {
    "duration": 55,
    "start_time": "2022-11-18T11:44:04.042Z"
   },
   {
    "duration": 27,
    "start_time": "2022-11-18T11:44:04.100Z"
   },
   {
    "duration": 604,
    "start_time": "2022-11-18T11:44:04.129Z"
   },
   {
    "duration": 7384,
    "start_time": "2022-11-18T11:44:04.734Z"
   },
   {
    "duration": 516,
    "start_time": "2022-11-18T11:44:12.120Z"
   },
   {
    "duration": 59,
    "start_time": "2022-11-18T11:44:12.639Z"
   },
   {
    "duration": 20,
    "start_time": "2022-11-18T11:44:12.701Z"
   },
   {
    "duration": 20,
    "start_time": "2022-11-18T11:44:12.722Z"
   },
   {
    "duration": 61,
    "start_time": "2022-11-18T11:44:12.743Z"
   },
   {
    "duration": 2,
    "start_time": "2022-11-18T11:44:12.806Z"
   },
   {
    "duration": 15,
    "start_time": "2022-11-18T11:44:12.810Z"
   },
   {
    "duration": 387,
    "start_time": "2022-11-18T11:44:12.826Z"
   },
   {
    "duration": 15,
    "start_time": "2022-11-18T12:15:00.749Z"
   },
   {
    "duration": 14,
    "start_time": "2022-11-18T12:16:21.378Z"
   },
   {
    "duration": 88,
    "start_time": "2022-11-18T12:16:25.643Z"
   },
   {
    "duration": 7,
    "start_time": "2022-11-18T12:16:45.981Z"
   },
   {
    "duration": 3084,
    "start_time": "2022-11-18T13:09:35.110Z"
   },
   {
    "duration": 3,
    "start_time": "2022-11-18T13:15:58.241Z"
   },
   {
    "duration": 126,
    "start_time": "2022-11-18T13:15:58.975Z"
   },
   {
    "duration": 9,
    "start_time": "2022-11-18T13:16:12.729Z"
   },
   {
    "duration": 1147,
    "start_time": "2022-11-18T13:16:34.777Z"
   },
   {
    "duration": 5,
    "start_time": "2022-11-18T13:16:41.419Z"
   },
   {
    "duration": 2258,
    "start_time": "2022-11-18T13:25:40.991Z"
   },
   {
    "duration": 78,
    "start_time": "2022-11-18T13:27:04.689Z"
   },
   {
    "duration": 1248,
    "start_time": "2022-11-18T13:27:30.045Z"
   },
   {
    "duration": 119,
    "start_time": "2022-11-18T13:27:31.295Z"
   },
   {
    "duration": 15,
    "start_time": "2022-11-18T13:27:31.416Z"
   },
   {
    "duration": 2002,
    "start_time": "2022-11-18T13:27:31.434Z"
   },
   {
    "duration": 9,
    "start_time": "2022-11-18T13:27:33.438Z"
   },
   {
    "duration": 4,
    "start_time": "2022-11-18T13:27:33.448Z"
   },
   {
    "duration": 10,
    "start_time": "2022-11-18T13:27:33.454Z"
   },
   {
    "duration": 22,
    "start_time": "2022-11-18T13:27:33.466Z"
   },
   {
    "duration": 6,
    "start_time": "2022-11-18T13:27:33.490Z"
   },
   {
    "duration": 114,
    "start_time": "2022-11-18T13:27:33.498Z"
   },
   {
    "duration": 0,
    "start_time": "2022-11-18T13:27:33.615Z"
   },
   {
    "duration": 0,
    "start_time": "2022-11-18T13:27:33.616Z"
   },
   {
    "duration": 0,
    "start_time": "2022-11-18T13:27:33.617Z"
   },
   {
    "duration": 0,
    "start_time": "2022-11-18T13:27:33.618Z"
   },
   {
    "duration": 0,
    "start_time": "2022-11-18T13:27:33.619Z"
   },
   {
    "duration": 0,
    "start_time": "2022-11-18T13:27:33.620Z"
   },
   {
    "duration": 0,
    "start_time": "2022-11-18T13:27:33.621Z"
   },
   {
    "duration": 0,
    "start_time": "2022-11-18T13:27:33.621Z"
   },
   {
    "duration": 0,
    "start_time": "2022-11-18T13:27:33.622Z"
   },
   {
    "duration": 0,
    "start_time": "2022-11-18T13:27:33.623Z"
   },
   {
    "duration": 0,
    "start_time": "2022-11-18T13:27:33.624Z"
   },
   {
    "duration": 0,
    "start_time": "2022-11-18T13:27:33.625Z"
   },
   {
    "duration": 0,
    "start_time": "2022-11-18T13:27:33.626Z"
   },
   {
    "duration": 0,
    "start_time": "2022-11-18T13:27:33.627Z"
   },
   {
    "duration": 0,
    "start_time": "2022-11-18T13:27:33.627Z"
   },
   {
    "duration": 0,
    "start_time": "2022-11-18T13:27:33.628Z"
   },
   {
    "duration": 0,
    "start_time": "2022-11-18T13:27:33.629Z"
   },
   {
    "duration": 0,
    "start_time": "2022-11-18T13:27:33.630Z"
   },
   {
    "duration": 0,
    "start_time": "2022-11-18T13:27:33.631Z"
   },
   {
    "duration": 0,
    "start_time": "2022-11-18T13:27:33.632Z"
   },
   {
    "duration": 0,
    "start_time": "2022-11-18T13:27:33.633Z"
   },
   {
    "duration": 0,
    "start_time": "2022-11-18T13:27:33.635Z"
   },
   {
    "duration": 0,
    "start_time": "2022-11-18T13:27:33.636Z"
   },
   {
    "duration": 0,
    "start_time": "2022-11-18T13:27:33.637Z"
   },
   {
    "duration": 0,
    "start_time": "2022-11-18T13:27:33.678Z"
   },
   {
    "duration": 0,
    "start_time": "2022-11-18T13:27:33.679Z"
   },
   {
    "duration": 0,
    "start_time": "2022-11-18T13:27:33.680Z"
   },
   {
    "duration": 0,
    "start_time": "2022-11-18T13:27:33.681Z"
   },
   {
    "duration": 0,
    "start_time": "2022-11-18T13:27:33.682Z"
   },
   {
    "duration": 0,
    "start_time": "2022-11-18T13:27:33.683Z"
   },
   {
    "duration": 0,
    "start_time": "2022-11-18T13:27:33.684Z"
   },
   {
    "duration": 0,
    "start_time": "2022-11-18T13:27:33.685Z"
   },
   {
    "duration": 0,
    "start_time": "2022-11-18T13:27:33.686Z"
   },
   {
    "duration": 0,
    "start_time": "2022-11-18T13:27:33.688Z"
   },
   {
    "duration": 0,
    "start_time": "2022-11-18T13:27:33.689Z"
   },
   {
    "duration": 0,
    "start_time": "2022-11-18T13:27:33.690Z"
   },
   {
    "duration": 0,
    "start_time": "2022-11-18T13:27:33.690Z"
   },
   {
    "duration": 0,
    "start_time": "2022-11-18T13:27:33.691Z"
   },
   {
    "duration": 0,
    "start_time": "2022-11-18T13:27:33.692Z"
   },
   {
    "duration": 0,
    "start_time": "2022-11-18T13:27:33.694Z"
   },
   {
    "duration": 0,
    "start_time": "2022-11-18T13:27:33.695Z"
   },
   {
    "duration": 0,
    "start_time": "2022-11-18T13:27:33.696Z"
   },
   {
    "duration": 0,
    "start_time": "2022-11-18T13:27:33.697Z"
   },
   {
    "duration": 0,
    "start_time": "2022-11-18T13:27:33.698Z"
   },
   {
    "duration": 0,
    "start_time": "2022-11-18T13:27:33.699Z"
   },
   {
    "duration": 0,
    "start_time": "2022-11-18T13:27:33.700Z"
   },
   {
    "duration": 0,
    "start_time": "2022-11-18T13:27:33.701Z"
   },
   {
    "duration": 0,
    "start_time": "2022-11-18T13:27:33.702Z"
   },
   {
    "duration": 0,
    "start_time": "2022-11-18T13:27:33.703Z"
   },
   {
    "duration": 0,
    "start_time": "2022-11-18T13:27:33.704Z"
   },
   {
    "duration": 0,
    "start_time": "2022-11-18T13:27:33.705Z"
   },
   {
    "duration": 0,
    "start_time": "2022-11-18T13:27:33.706Z"
   },
   {
    "duration": 0,
    "start_time": "2022-11-18T13:27:33.707Z"
   },
   {
    "duration": 0,
    "start_time": "2022-11-18T13:27:33.708Z"
   },
   {
    "duration": 0,
    "start_time": "2022-11-18T13:27:33.709Z"
   },
   {
    "duration": 0,
    "start_time": "2022-11-18T13:27:33.710Z"
   },
   {
    "duration": 76,
    "start_time": "2022-11-18T13:27:52.170Z"
   },
   {
    "duration": 76,
    "start_time": "2022-11-18T13:28:53.839Z"
   },
   {
    "duration": 6,
    "start_time": "2022-11-18T13:29:46.116Z"
   },
   {
    "duration": 6,
    "start_time": "2022-11-18T13:29:54.471Z"
   },
   {
    "duration": 6,
    "start_time": "2022-11-18T13:29:58.432Z"
   },
   {
    "duration": 148,
    "start_time": "2022-11-19T11:16:06.416Z"
   },
   {
    "duration": 44,
    "start_time": "2022-11-19T11:17:08.010Z"
   },
   {
    "duration": 7,
    "start_time": "2022-11-19T11:17:20.425Z"
   },
   {
    "duration": 7,
    "start_time": "2022-11-19T11:17:29.518Z"
   },
   {
    "duration": 6,
    "start_time": "2022-11-19T11:17:35.150Z"
   },
   {
    "duration": 7,
    "start_time": "2022-11-19T11:17:40.411Z"
   },
   {
    "duration": 7,
    "start_time": "2022-11-19T11:17:49.140Z"
   },
   {
    "duration": 6,
    "start_time": "2022-11-19T11:17:56.145Z"
   },
   {
    "duration": 173,
    "start_time": "2022-11-19T11:18:10.842Z"
   },
   {
    "duration": 37,
    "start_time": "2022-11-19T11:19:25.581Z"
   },
   {
    "duration": 40,
    "start_time": "2022-11-19T11:20:07.412Z"
   },
   {
    "duration": 18,
    "start_time": "2022-11-19T11:21:45.397Z"
   },
   {
    "duration": 22,
    "start_time": "2022-11-19T11:22:00.676Z"
   },
   {
    "duration": 50,
    "start_time": "2022-11-19T11:22:10.500Z"
   },
   {
    "duration": 29,
    "start_time": "2022-11-19T11:27:09.419Z"
   },
   {
    "duration": 9,
    "start_time": "2022-11-19T11:27:12.847Z"
   },
   {
    "duration": 8,
    "start_time": "2022-11-19T11:27:21.989Z"
   },
   {
    "duration": 9,
    "start_time": "2022-11-19T11:27:28.130Z"
   },
   {
    "duration": 164,
    "start_time": "2022-11-19T11:27:54.435Z"
   },
   {
    "duration": 160,
    "start_time": "2022-11-19T11:28:01.095Z"
   },
   {
    "duration": 174,
    "start_time": "2022-11-19T11:28:06.739Z"
   },
   {
    "duration": 158,
    "start_time": "2022-11-19T11:28:31.606Z"
   },
   {
    "duration": 182,
    "start_time": "2022-11-19T11:28:40.769Z"
   },
   {
    "duration": 181,
    "start_time": "2022-11-19T11:28:47.946Z"
   },
   {
    "duration": 170,
    "start_time": "2022-11-19T11:28:54.036Z"
   },
   {
    "duration": 333,
    "start_time": "2022-11-19T11:28:58.035Z"
   },
   {
    "duration": 159,
    "start_time": "2022-11-19T11:29:12.593Z"
   },
   {
    "duration": 156,
    "start_time": "2022-11-19T11:29:40.611Z"
   },
   {
    "duration": 167,
    "start_time": "2022-11-19T11:29:46.157Z"
   },
   {
    "duration": 165,
    "start_time": "2022-11-19T11:29:58.038Z"
   },
   {
    "duration": 182,
    "start_time": "2022-11-19T11:30:03.171Z"
   },
   {
    "duration": 183,
    "start_time": "2022-11-19T11:30:48.778Z"
   },
   {
    "duration": 157,
    "start_time": "2022-11-19T11:30:57.156Z"
   },
   {
    "duration": 177,
    "start_time": "2022-11-19T11:31:43.258Z"
   },
   {
    "duration": 165,
    "start_time": "2022-11-19T11:35:18.537Z"
   },
   {
    "duration": 170,
    "start_time": "2022-11-19T11:36:05.720Z"
   },
   {
    "duration": 280,
    "start_time": "2022-11-19T11:36:17.106Z"
   },
   {
    "duration": 157,
    "start_time": "2022-11-19T11:37:13.939Z"
   },
   {
    "duration": 154,
    "start_time": "2022-11-19T11:37:21.701Z"
   },
   {
    "duration": 166,
    "start_time": "2022-11-19T11:37:26.372Z"
   },
   {
    "duration": 164,
    "start_time": "2022-11-19T11:37:47.604Z"
   },
   {
    "duration": 147,
    "start_time": "2022-11-19T11:37:52.043Z"
   },
   {
    "duration": 158,
    "start_time": "2022-11-19T11:37:56.068Z"
   },
   {
    "duration": 158,
    "start_time": "2022-11-19T11:39:32.978Z"
   },
   {
    "duration": 2,
    "start_time": "2022-11-19T11:43:17.048Z"
   },
   {
    "duration": 167,
    "start_time": "2022-11-19T11:43:17.621Z"
   },
   {
    "duration": 147,
    "start_time": "2022-11-19T11:43:20.693Z"
   },
   {
    "duration": 155,
    "start_time": "2022-11-19T11:43:29.953Z"
   },
   {
    "duration": 267,
    "start_time": "2022-11-19T11:43:35.267Z"
   },
   {
    "duration": 5,
    "start_time": "2022-11-19T11:43:45.119Z"
   },
   {
    "duration": 7,
    "start_time": "2022-11-19T11:46:23.750Z"
   },
   {
    "duration": 9,
    "start_time": "2022-11-19T11:50:49.807Z"
   },
   {
    "duration": 70,
    "start_time": "2022-11-19T11:51:02.112Z"
   },
   {
    "duration": 164,
    "start_time": "2022-11-19T11:52:05.131Z"
   },
   {
    "duration": 167,
    "start_time": "2022-11-19T11:52:43.851Z"
   },
   {
    "duration": 158,
    "start_time": "2022-11-19T11:52:50.928Z"
   },
   {
    "duration": 150,
    "start_time": "2022-11-19T11:52:56.496Z"
   },
   {
    "duration": 158,
    "start_time": "2022-11-19T11:53:04.267Z"
   },
   {
    "duration": 177,
    "start_time": "2022-11-19T11:53:13.844Z"
   },
   {
    "duration": 157,
    "start_time": "2022-11-19T11:53:18.688Z"
   },
   {
    "duration": 163,
    "start_time": "2022-11-19T11:53:43.433Z"
   },
   {
    "duration": 166,
    "start_time": "2022-11-19T11:53:51.822Z"
   },
   {
    "duration": 179,
    "start_time": "2022-11-19T11:54:09.401Z"
   },
   {
    "duration": 279,
    "start_time": "2022-11-19T11:54:21.687Z"
   },
   {
    "duration": 5,
    "start_time": "2022-11-19T11:54:47.696Z"
   },
   {
    "duration": 1120,
    "start_time": "2022-11-19T11:56:07.218Z"
   },
   {
    "duration": 7,
    "start_time": "2022-11-19T11:56:20.607Z"
   },
   {
    "duration": 154,
    "start_time": "2022-11-19T12:02:46.394Z"
   },
   {
    "duration": 147,
    "start_time": "2022-11-19T12:03:28.144Z"
   },
   {
    "duration": 149,
    "start_time": "2022-11-19T12:03:39.637Z"
   },
   {
    "duration": 161,
    "start_time": "2022-11-19T12:04:09.351Z"
   },
   {
    "duration": 137,
    "start_time": "2022-11-19T12:04:13.329Z"
   },
   {
    "duration": 140,
    "start_time": "2022-11-19T12:04:42.122Z"
   },
   {
    "duration": 184,
    "start_time": "2022-11-19T12:04:48.287Z"
   },
   {
    "duration": 168,
    "start_time": "2022-11-19T12:05:13.287Z"
   },
   {
    "duration": 134,
    "start_time": "2022-11-19T12:05:19.615Z"
   },
   {
    "duration": 6,
    "start_time": "2022-11-19T12:05:47.314Z"
   },
   {
    "duration": 6,
    "start_time": "2022-11-19T12:05:59.748Z"
   },
   {
    "duration": 9,
    "start_time": "2022-11-19T12:06:18.428Z"
   },
   {
    "duration": 167,
    "start_time": "2022-11-19T12:07:01.932Z"
   },
   {
    "duration": 287,
    "start_time": "2022-11-19T12:07:29.780Z"
   },
   {
    "duration": 176,
    "start_time": "2022-11-19T12:07:50.315Z"
   },
   {
    "duration": 167,
    "start_time": "2022-11-19T12:08:00.279Z"
   },
   {
    "duration": 145,
    "start_time": "2022-11-19T12:08:04.215Z"
   },
   {
    "duration": 138,
    "start_time": "2022-11-19T12:09:21.493Z"
   },
   {
    "duration": 146,
    "start_time": "2022-11-19T12:09:29.525Z"
   },
   {
    "duration": 151,
    "start_time": "2022-11-19T12:09:57.429Z"
   },
   {
    "duration": 27,
    "start_time": "2022-11-19T12:10:40.925Z"
   },
   {
    "duration": 8,
    "start_time": "2022-11-19T12:11:06.921Z"
   },
   {
    "duration": 49,
    "start_time": "2022-11-19T12:11:35.540Z"
   },
   {
    "duration": 7,
    "start_time": "2022-11-19T12:12:13.405Z"
   },
   {
    "duration": 11,
    "start_time": "2022-11-19T12:12:17.351Z"
   },
   {
    "duration": 140,
    "start_time": "2022-11-19T12:20:59.529Z"
   },
   {
    "duration": 12,
    "start_time": "2022-11-19T12:21:48.813Z"
   },
   {
    "duration": 143,
    "start_time": "2022-11-19T12:22:27.327Z"
   },
   {
    "duration": 73,
    "start_time": "2022-11-19T12:25:12.488Z"
   },
   {
    "duration": 158,
    "start_time": "2022-11-19T12:27:17.238Z"
   },
   {
    "duration": 66,
    "start_time": "2022-11-19T12:27:33.894Z"
   },
   {
    "duration": 150,
    "start_time": "2022-11-19T12:27:42.603Z"
   },
   {
    "duration": 278,
    "start_time": "2022-11-19T12:27:51.326Z"
   },
   {
    "duration": 175,
    "start_time": "2022-11-19T12:30:13.798Z"
   },
   {
    "duration": 158,
    "start_time": "2022-11-19T12:30:28.885Z"
   },
   {
    "duration": 147,
    "start_time": "2022-11-19T12:30:34.786Z"
   },
   {
    "duration": 127,
    "start_time": "2022-11-19T12:35:32.320Z"
   },
   {
    "duration": 143,
    "start_time": "2022-11-19T12:35:38.419Z"
   },
   {
    "duration": 155,
    "start_time": "2022-11-19T12:35:47.995Z"
   },
   {
    "duration": 144,
    "start_time": "2022-11-19T12:35:55.439Z"
   },
   {
    "duration": 140,
    "start_time": "2022-11-19T12:35:59.583Z"
   },
   {
    "duration": 136,
    "start_time": "2022-11-19T12:40:23.207Z"
   },
   {
    "duration": 156,
    "start_time": "2022-11-19T13:32:50.076Z"
   },
   {
    "duration": 249,
    "start_time": "2022-11-19T13:32:55.693Z"
   },
   {
    "duration": 137,
    "start_time": "2022-11-19T13:33:01.367Z"
   },
   {
    "duration": 5,
    "start_time": "2022-11-19T13:33:36.101Z"
   },
   {
    "duration": 158,
    "start_time": "2022-11-19T13:33:48.474Z"
   },
   {
    "duration": 1077,
    "start_time": "2022-11-19T14:27:51.293Z"
   },
   {
    "duration": 114,
    "start_time": "2022-11-19T14:27:52.372Z"
   },
   {
    "duration": 15,
    "start_time": "2022-11-19T14:27:52.488Z"
   },
   {
    "duration": 2019,
    "start_time": "2022-11-19T14:27:52.505Z"
   },
   {
    "duration": 10,
    "start_time": "2022-11-19T14:27:54.526Z"
   },
   {
    "duration": 3,
    "start_time": "2022-11-19T14:27:54.538Z"
   },
   {
    "duration": 11,
    "start_time": "2022-11-19T14:27:54.543Z"
   },
   {
    "duration": 22,
    "start_time": "2022-11-19T14:27:54.556Z"
   },
   {
    "duration": 6,
    "start_time": "2022-11-19T14:27:54.580Z"
   },
   {
    "duration": 9,
    "start_time": "2022-11-19T14:27:54.588Z"
   },
   {
    "duration": 8,
    "start_time": "2022-11-19T14:27:54.598Z"
   },
   {
    "duration": 10,
    "start_time": "2022-11-19T14:27:54.608Z"
   },
   {
    "duration": 8,
    "start_time": "2022-11-19T14:27:54.620Z"
   },
   {
    "duration": 195,
    "start_time": "2022-11-19T14:27:54.630Z"
   },
   {
    "duration": 8,
    "start_time": "2022-11-19T14:27:54.827Z"
   },
   {
    "duration": 7,
    "start_time": "2022-11-19T14:27:54.837Z"
   },
   {
    "duration": 9,
    "start_time": "2022-11-19T14:27:54.845Z"
   },
   {
    "duration": 2093,
    "start_time": "2022-11-19T14:27:54.855Z"
   },
   {
    "duration": 246,
    "start_time": "2022-11-19T14:27:56.950Z"
   },
   {
    "duration": 6,
    "start_time": "2022-11-19T14:27:57.198Z"
   },
   {
    "duration": 10,
    "start_time": "2022-11-19T14:27:57.205Z"
   },
   {
    "duration": 12,
    "start_time": "2022-11-19T14:27:57.216Z"
   },
   {
    "duration": 3,
    "start_time": "2022-11-19T14:27:57.230Z"
   },
   {
    "duration": 6,
    "start_time": "2022-11-19T14:27:57.235Z"
   },
   {
    "duration": 10,
    "start_time": "2022-11-19T14:27:57.242Z"
   },
   {
    "duration": 11,
    "start_time": "2022-11-19T14:27:57.277Z"
   },
   {
    "duration": 41,
    "start_time": "2022-11-19T14:27:57.290Z"
   },
   {
    "duration": 11,
    "start_time": "2022-11-19T14:27:57.335Z"
   },
   {
    "duration": 6,
    "start_time": "2022-11-19T14:27:57.348Z"
   },
   {
    "duration": 24,
    "start_time": "2022-11-19T14:27:57.355Z"
   },
   {
    "duration": 71,
    "start_time": "2022-11-19T14:27:57.381Z"
   },
   {
    "duration": 153,
    "start_time": "2022-11-19T14:27:57.453Z"
   },
   {
    "duration": 158,
    "start_time": "2022-11-19T14:27:57.608Z"
   },
   {
    "duration": 13,
    "start_time": "2022-11-19T14:27:57.767Z"
   },
   {
    "duration": 13,
    "start_time": "2022-11-19T14:27:57.782Z"
   },
   {
    "duration": 74,
    "start_time": "2022-11-19T14:27:57.797Z"
   },
   {
    "duration": 174,
    "start_time": "2022-11-19T14:27:57.878Z"
   },
   {
    "duration": 178,
    "start_time": "2022-11-19T14:27:58.054Z"
   },
   {
    "duration": 5,
    "start_time": "2022-11-19T14:27:58.234Z"
   },
   {
    "duration": 9,
    "start_time": "2022-11-19T14:27:58.241Z"
   },
   {
    "duration": 162,
    "start_time": "2022-11-19T14:27:58.252Z"
   },
   {
    "duration": 152,
    "start_time": "2022-11-19T14:27:58.416Z"
   },
   {
    "duration": 11,
    "start_time": "2022-11-19T14:27:58.570Z"
   },
   {
    "duration": 9,
    "start_time": "2022-11-19T14:27:58.583Z"
   },
   {
    "duration": 3,
    "start_time": "2022-11-19T14:27:58.594Z"
   },
   {
    "duration": 395,
    "start_time": "2022-11-19T14:27:58.599Z"
   },
   {
    "duration": 27,
    "start_time": "2022-11-19T14:27:58.996Z"
   },
   {
    "duration": 98,
    "start_time": "2022-11-19T14:27:59.025Z"
   },
   {
    "duration": 153,
    "start_time": "2022-11-19T14:27:59.125Z"
   },
   {
    "duration": 156,
    "start_time": "2022-11-19T14:27:59.279Z"
   },
   {
    "duration": 245,
    "start_time": "2022-11-19T14:27:59.437Z"
   },
   {
    "duration": 175,
    "start_time": "2022-11-19T14:27:59.684Z"
   },
   {
    "duration": 143,
    "start_time": "2022-11-19T14:27:59.861Z"
   },
   {
    "duration": 5,
    "start_time": "2022-11-19T14:28:00.006Z"
   },
   {
    "duration": 174,
    "start_time": "2022-11-19T14:28:00.012Z"
   },
   {
    "duration": 160,
    "start_time": "2022-11-19T14:28:00.188Z"
   },
   {
    "duration": 128,
    "start_time": "2022-11-19T14:28:00.350Z"
   },
   {
    "duration": 158,
    "start_time": "2022-11-19T14:28:00.480Z"
   },
   {
    "duration": 138,
    "start_time": "2022-11-19T14:28:00.640Z"
   },
   {
    "duration": 169,
    "start_time": "2022-11-19T14:28:00.779Z"
   },
   {
    "duration": 174,
    "start_time": "2022-11-19T14:28:00.950Z"
   },
   {
    "duration": 141,
    "start_time": "2022-11-19T14:28:01.126Z"
   },
   {
    "duration": 231,
    "start_time": "2022-11-19T14:28:01.268Z"
   },
   {
    "duration": 174,
    "start_time": "2022-11-19T14:28:01.501Z"
   },
   {
    "duration": 129,
    "start_time": "2022-11-19T14:28:01.676Z"
   },
   {
    "duration": 2,
    "start_time": "2022-11-19T14:28:01.807Z"
   },
   {
    "duration": 24,
    "start_time": "2022-11-19T14:28:01.811Z"
   },
   {
    "duration": 388,
    "start_time": "2022-11-19T14:28:01.836Z"
   },
   {
    "duration": 3642,
    "start_time": "2022-11-19T14:28:02.225Z"
   },
   {
    "duration": 239,
    "start_time": "2022-11-19T14:28:05.869Z"
   },
   {
    "duration": 2,
    "start_time": "2022-11-19T14:28:06.110Z"
   },
   {
    "duration": 11,
    "start_time": "2022-11-19T14:28:06.114Z"
   },
   {
    "duration": 18,
    "start_time": "2022-11-19T14:28:06.127Z"
   },
   {
    "duration": 9,
    "start_time": "2022-11-19T14:28:06.146Z"
   },
   {
    "duration": 4,
    "start_time": "2022-11-19T14:28:06.157Z"
   },
   {
    "duration": 11,
    "start_time": "2022-11-19T14:28:06.178Z"
   },
   {
    "duration": 174,
    "start_time": "2022-11-19T14:28:06.191Z"
   },
   {
    "duration": 4,
    "start_time": "2022-11-19T14:30:40.833Z"
   },
   {
    "duration": 4,
    "start_time": "2022-11-19T14:30:41.744Z"
   },
   {
    "duration": 4,
    "start_time": "2022-11-19T14:30:49.909Z"
   },
   {
    "duration": 4,
    "start_time": "2022-11-19T14:30:50.373Z"
   },
   {
    "duration": 4,
    "start_time": "2022-11-19T14:31:05.836Z"
   },
   {
    "duration": 3,
    "start_time": "2022-11-19T14:31:06.253Z"
   },
   {
    "duration": 1098,
    "start_time": "2022-11-19T14:31:19.027Z"
   },
   {
    "duration": 122,
    "start_time": "2022-11-19T14:31:20.127Z"
   },
   {
    "duration": 14,
    "start_time": "2022-11-19T14:31:20.251Z"
   },
   {
    "duration": 2102,
    "start_time": "2022-11-19T14:31:20.278Z"
   },
   {
    "duration": 9,
    "start_time": "2022-11-19T14:31:22.382Z"
   },
   {
    "duration": 10,
    "start_time": "2022-11-19T14:31:22.392Z"
   },
   {
    "duration": 25,
    "start_time": "2022-11-19T14:31:22.403Z"
   },
   {
    "duration": 29,
    "start_time": "2022-11-19T14:31:22.429Z"
   },
   {
    "duration": 12,
    "start_time": "2022-11-19T14:31:22.459Z"
   },
   {
    "duration": 32,
    "start_time": "2022-11-19T14:31:22.474Z"
   },
   {
    "duration": 16,
    "start_time": "2022-11-19T14:31:22.507Z"
   },
   {
    "duration": 9,
    "start_time": "2022-11-19T14:31:22.525Z"
   },
   {
    "duration": 26,
    "start_time": "2022-11-19T14:31:22.535Z"
   },
   {
    "duration": 188,
    "start_time": "2022-11-19T14:31:22.563Z"
   },
   {
    "duration": 8,
    "start_time": "2022-11-19T14:31:22.753Z"
   },
   {
    "duration": 17,
    "start_time": "2022-11-19T14:31:22.762Z"
   },
   {
    "duration": 14,
    "start_time": "2022-11-19T14:31:22.780Z"
   },
   {
    "duration": 2078,
    "start_time": "2022-11-19T14:31:22.796Z"
   },
   {
    "duration": 250,
    "start_time": "2022-11-19T14:31:24.878Z"
   },
   {
    "duration": 6,
    "start_time": "2022-11-19T14:31:25.130Z"
   },
   {
    "duration": 9,
    "start_time": "2022-11-19T14:31:25.138Z"
   },
   {
    "duration": 4,
    "start_time": "2022-11-19T14:31:25.149Z"
   },
   {
    "duration": 26,
    "start_time": "2022-11-19T14:31:25.154Z"
   },
   {
    "duration": 4,
    "start_time": "2022-11-19T14:31:25.182Z"
   },
   {
    "duration": 10,
    "start_time": "2022-11-19T14:31:25.188Z"
   },
   {
    "duration": 10,
    "start_time": "2022-11-19T14:31:25.200Z"
   },
   {
    "duration": 14,
    "start_time": "2022-11-19T14:31:25.211Z"
   },
   {
    "duration": 62,
    "start_time": "2022-11-19T14:31:25.230Z"
   },
   {
    "duration": 8,
    "start_time": "2022-11-19T14:31:25.294Z"
   },
   {
    "duration": 11,
    "start_time": "2022-11-19T14:31:25.303Z"
   },
   {
    "duration": 10,
    "start_time": "2022-11-19T14:31:25.315Z"
   },
   {
    "duration": 99,
    "start_time": "2022-11-19T14:31:25.327Z"
   },
   {
    "duration": 174,
    "start_time": "2022-11-19T14:31:25.427Z"
   },
   {
    "duration": 181,
    "start_time": "2022-11-19T14:31:25.603Z"
   },
   {
    "duration": 5,
    "start_time": "2022-11-19T14:31:25.785Z"
   },
   {
    "duration": 9,
    "start_time": "2022-11-19T14:31:25.792Z"
   },
   {
    "duration": 103,
    "start_time": "2022-11-19T14:31:25.803Z"
   },
   {
    "duration": 240,
    "start_time": "2022-11-19T14:31:25.908Z"
   },
   {
    "duration": 182,
    "start_time": "2022-11-19T14:31:26.150Z"
   },
   {
    "duration": 5,
    "start_time": "2022-11-19T14:31:26.333Z"
   },
   {
    "duration": 13,
    "start_time": "2022-11-19T14:31:26.339Z"
   },
   {
    "duration": 165,
    "start_time": "2022-11-19T14:31:26.353Z"
   },
   {
    "duration": 145,
    "start_time": "2022-11-19T14:31:26.520Z"
   },
   {
    "duration": 12,
    "start_time": "2022-11-19T14:31:26.666Z"
   },
   {
    "duration": 9,
    "start_time": "2022-11-19T14:31:26.679Z"
   },
   {
    "duration": 4,
    "start_time": "2022-11-19T14:31:26.689Z"
   },
   {
    "duration": 380,
    "start_time": "2022-11-19T14:31:26.694Z"
   },
   {
    "duration": 24,
    "start_time": "2022-11-19T14:31:27.077Z"
   },
   {
    "duration": 97,
    "start_time": "2022-11-19T14:31:27.102Z"
   },
   {
    "duration": 149,
    "start_time": "2022-11-19T14:31:27.201Z"
   },
   {
    "duration": 155,
    "start_time": "2022-11-19T14:31:27.352Z"
   },
   {
    "duration": 245,
    "start_time": "2022-11-19T14:31:27.508Z"
   },
   {
    "duration": 160,
    "start_time": "2022-11-19T14:31:27.755Z"
   },
   {
    "duration": 150,
    "start_time": "2022-11-19T14:31:27.917Z"
   },
   {
    "duration": 12,
    "start_time": "2022-11-19T14:31:28.069Z"
   },
   {
    "duration": 182,
    "start_time": "2022-11-19T14:31:28.082Z"
   },
   {
    "duration": 169,
    "start_time": "2022-11-19T14:31:28.266Z"
   },
   {
    "duration": 120,
    "start_time": "2022-11-19T14:31:28.437Z"
   },
   {
    "duration": 157,
    "start_time": "2022-11-19T14:31:28.559Z"
   },
   {
    "duration": 143,
    "start_time": "2022-11-19T14:31:28.718Z"
   },
   {
    "duration": 165,
    "start_time": "2022-11-19T14:31:28.863Z"
   },
   {
    "duration": 174,
    "start_time": "2022-11-19T14:31:29.030Z"
   },
   {
    "duration": 149,
    "start_time": "2022-11-19T14:31:29.205Z"
   },
   {
    "duration": 216,
    "start_time": "2022-11-19T14:31:29.356Z"
   },
   {
    "duration": 178,
    "start_time": "2022-11-19T14:31:29.577Z"
   },
   {
    "duration": 127,
    "start_time": "2022-11-19T14:31:29.757Z"
   },
   {
    "duration": 2,
    "start_time": "2022-11-19T14:31:29.886Z"
   },
   {
    "duration": 20,
    "start_time": "2022-11-19T14:31:29.890Z"
   },
   {
    "duration": 341,
    "start_time": "2022-11-19T14:31:29.912Z"
   },
   {
    "duration": 3647,
    "start_time": "2022-11-19T14:31:30.255Z"
   },
   {
    "duration": 252,
    "start_time": "2022-11-19T14:31:33.904Z"
   },
   {
    "duration": 2,
    "start_time": "2022-11-19T14:31:34.158Z"
   },
   {
    "duration": 19,
    "start_time": "2022-11-19T14:31:34.162Z"
   },
   {
    "duration": 15,
    "start_time": "2022-11-19T14:31:34.183Z"
   },
   {
    "duration": 10,
    "start_time": "2022-11-19T14:31:34.200Z"
   },
   {
    "duration": 8,
    "start_time": "2022-11-19T14:31:34.211Z"
   },
   {
    "duration": 15,
    "start_time": "2022-11-19T14:31:34.221Z"
   },
   {
    "duration": 187,
    "start_time": "2022-11-19T14:31:34.238Z"
   },
   {
    "duration": 7,
    "start_time": "2022-11-19T14:40:53.152Z"
   },
   {
    "duration": 6,
    "start_time": "2022-11-19T14:41:08.419Z"
   },
   {
    "duration": 4,
    "start_time": "2022-11-19T14:41:29.272Z"
   },
   {
    "duration": 4,
    "start_time": "2022-11-19T14:41:31.174Z"
   },
   {
    "duration": 195,
    "start_time": "2022-11-19T14:41:39.533Z"
   },
   {
    "duration": 192,
    "start_time": "2022-11-19T14:42:12.844Z"
   },
   {
    "duration": 188,
    "start_time": "2022-11-19T14:42:28.334Z"
   },
   {
    "duration": 305,
    "start_time": "2022-11-19T14:42:39.169Z"
   },
   {
    "duration": 5,
    "start_time": "2022-11-19T14:42:48.497Z"
   },
   {
    "duration": 5,
    "start_time": "2022-11-19T14:42:54.588Z"
   },
   {
    "duration": 9,
    "start_time": "2022-11-19T14:42:58.513Z"
   },
   {
    "duration": 162,
    "start_time": "2022-11-19T14:43:31.971Z"
   },
   {
    "duration": 152,
    "start_time": "2022-11-19T14:43:36.499Z"
   },
   {
    "duration": 166,
    "start_time": "2022-11-19T14:44:42.031Z"
   },
   {
    "duration": 172,
    "start_time": "2022-11-19T14:45:03.320Z"
   },
   {
    "duration": 181,
    "start_time": "2022-11-19T14:45:10.036Z"
   },
   {
    "duration": 162,
    "start_time": "2022-11-19T14:45:15.383Z"
   },
   {
    "duration": 158,
    "start_time": "2022-11-19T14:46:12.988Z"
   },
   {
    "duration": 157,
    "start_time": "2022-11-19T14:46:30.987Z"
   },
   {
    "duration": 167,
    "start_time": "2022-11-19T14:46:51.435Z"
   },
   {
    "duration": 75,
    "start_time": "2022-11-19T14:47:23.075Z"
   },
   {
    "duration": 163,
    "start_time": "2022-11-19T14:47:33.886Z"
   },
   {
    "duration": 5,
    "start_time": "2022-11-19T14:47:45.994Z"
   },
   {
    "duration": 156,
    "start_time": "2022-11-19T14:47:51.345Z"
   },
   {
    "duration": 269,
    "start_time": "2022-11-19T14:48:03.892Z"
   },
   {
    "duration": 4,
    "start_time": "2022-11-19T14:48:34.105Z"
   },
   {
    "duration": 264,
    "start_time": "2022-11-19T14:50:44.240Z"
   },
   {
    "duration": 3,
    "start_time": "2022-11-19T14:50:52.488Z"
   },
   {
    "duration": 170,
    "start_time": "2022-11-19T14:50:58.653Z"
   },
   {
    "duration": 181,
    "start_time": "2022-11-19T14:51:12.711Z"
   },
   {
    "duration": 171,
    "start_time": "2022-11-19T14:51:22.286Z"
   },
   {
    "duration": 183,
    "start_time": "2022-11-19T14:51:34.378Z"
   },
   {
    "duration": 86,
    "start_time": "2022-11-19T14:52:17.172Z"
   },
   {
    "duration": 10,
    "start_time": "2022-11-19T14:55:59.378Z"
   },
   {
    "duration": 5,
    "start_time": "2022-11-19T14:56:10.973Z"
   },
   {
    "duration": 11,
    "start_time": "2022-11-19T14:56:21.517Z"
   },
   {
    "duration": 18,
    "start_time": "2022-11-19T14:56:27.239Z"
   },
   {
    "duration": 5,
    "start_time": "2022-11-19T14:56:38.489Z"
   },
   {
    "duration": 5,
    "start_time": "2022-11-19T14:56:51.622Z"
   },
   {
    "duration": 5,
    "start_time": "2022-11-19T14:57:00.508Z"
   },
   {
    "duration": 11,
    "start_time": "2022-11-19T14:57:11.071Z"
   },
   {
    "duration": 11,
    "start_time": "2022-11-19T14:57:48.392Z"
   },
   {
    "duration": 10,
    "start_time": "2022-11-19T14:58:02.104Z"
   },
   {
    "duration": 44,
    "start_time": "2022-11-19T14:58:13.817Z"
   },
   {
    "duration": 8,
    "start_time": "2022-11-19T14:58:26.996Z"
   },
   {
    "duration": 6,
    "start_time": "2022-11-19T14:58:37.768Z"
   },
   {
    "duration": 4,
    "start_time": "2022-11-19T14:59:05.276Z"
   },
   {
    "duration": 4,
    "start_time": "2022-11-19T14:59:11.157Z"
   },
   {
    "duration": 5,
    "start_time": "2022-11-19T14:59:16.150Z"
   },
   {
    "duration": 5,
    "start_time": "2022-11-19T15:00:09.474Z"
   },
   {
    "duration": 5,
    "start_time": "2022-11-19T15:00:17.635Z"
   },
   {
    "duration": 6,
    "start_time": "2022-11-19T15:00:54.087Z"
   },
   {
    "duration": 11,
    "start_time": "2022-11-19T15:02:12.980Z"
   },
   {
    "duration": 12,
    "start_time": "2022-11-19T15:02:19.082Z"
   },
   {
    "duration": 79,
    "start_time": "2022-11-19T15:02:36.086Z"
   },
   {
    "duration": 7,
    "start_time": "2022-11-19T15:02:50.820Z"
   },
   {
    "duration": 5,
    "start_time": "2022-11-19T15:02:51.098Z"
   },
   {
    "duration": 6,
    "start_time": "2022-11-19T15:02:51.346Z"
   },
   {
    "duration": 11,
    "start_time": "2022-11-19T15:02:51.556Z"
   },
   {
    "duration": 199,
    "start_time": "2022-11-19T15:02:55.744Z"
   },
   {
    "duration": 173,
    "start_time": "2022-11-19T15:02:59.833Z"
   },
   {
    "duration": 5,
    "start_time": "2022-11-19T15:03:27.961Z"
   },
   {
    "duration": 5,
    "start_time": "2022-11-19T15:03:41.791Z"
   },
   {
    "duration": 6,
    "start_time": "2022-11-19T15:03:57.497Z"
   },
   {
    "duration": 4,
    "start_time": "2022-11-19T15:03:57.893Z"
   },
   {
    "duration": 5,
    "start_time": "2022-11-19T15:03:58.570Z"
   },
   {
    "duration": 12,
    "start_time": "2022-11-19T15:04:09.633Z"
   },
   {
    "duration": 190,
    "start_time": "2022-11-19T15:04:15.936Z"
   },
   {
    "duration": 153,
    "start_time": "2022-11-19T15:04:31.708Z"
   },
   {
    "duration": 154,
    "start_time": "2022-11-19T15:05:02.651Z"
   },
   {
    "duration": 5,
    "start_time": "2022-11-19T15:05:08.045Z"
   },
   {
    "duration": 285,
    "start_time": "2022-11-19T15:05:11.905Z"
   },
   {
    "duration": 186,
    "start_time": "2022-11-19T15:05:16.420Z"
   },
   {
    "duration": 188,
    "start_time": "2022-11-19T15:05:20.173Z"
   },
   {
    "duration": 180,
    "start_time": "2022-11-19T15:05:27.178Z"
   },
   {
    "duration": 5,
    "start_time": "2022-11-19T15:05:35.635Z"
   },
   {
    "duration": 196,
    "start_time": "2022-11-19T15:05:48.696Z"
   },
   {
    "duration": 184,
    "start_time": "2022-11-19T15:06:00.027Z"
   },
   {
    "duration": 5,
    "start_time": "2022-11-19T15:08:18.051Z"
   },
   {
    "duration": 203,
    "start_time": "2022-11-19T15:08:21.317Z"
   },
   {
    "duration": 120,
    "start_time": "2022-11-19T15:13:13.204Z"
   },
   {
    "duration": 181,
    "start_time": "2022-11-19T15:13:13.543Z"
   },
   {
    "duration": 152,
    "start_time": "2022-11-19T15:13:19.237Z"
   },
   {
    "duration": 115,
    "start_time": "2022-11-19T15:15:22.196Z"
   },
   {
    "duration": 180,
    "start_time": "2022-11-19T15:15:43.321Z"
   },
   {
    "duration": 290,
    "start_time": "2022-11-19T15:16:21.067Z"
   },
   {
    "duration": 228,
    "start_time": "2022-11-19T15:16:45.662Z"
   },
   {
    "duration": 153,
    "start_time": "2022-11-19T15:21:55.763Z"
   },
   {
    "duration": 7,
    "start_time": "2022-11-19T15:23:55.769Z"
   },
   {
    "duration": 6,
    "start_time": "2022-11-19T15:24:21.520Z"
   },
   {
    "duration": 69,
    "start_time": "2022-11-19T15:25:07.280Z"
   },
   {
    "duration": 176,
    "start_time": "2022-11-19T15:25:32.979Z"
   },
   {
    "duration": 165,
    "start_time": "2022-11-19T15:26:07.700Z"
   },
   {
    "duration": 7,
    "start_time": "2022-11-19T15:26:08.834Z"
   },
   {
    "duration": 197,
    "start_time": "2022-11-19T15:26:09.527Z"
   },
   {
    "duration": 180,
    "start_time": "2022-11-19T15:26:10.779Z"
   },
   {
    "duration": 205,
    "start_time": "2022-11-19T15:26:25.689Z"
   },
   {
    "duration": 154,
    "start_time": "2022-11-19T15:26:30.176Z"
   },
   {
    "duration": 175,
    "start_time": "2022-11-19T15:28:40.346Z"
   },
   {
    "duration": 299,
    "start_time": "2022-11-19T15:28:45.556Z"
   },
   {
    "duration": 79,
    "start_time": "2022-11-19T15:30:13.937Z"
   },
   {
    "duration": 128,
    "start_time": "2022-11-19T15:42:54.982Z"
   },
   {
    "duration": 1152,
    "start_time": "2022-11-19T15:55:55.553Z"
   },
   {
    "duration": 117,
    "start_time": "2022-11-19T15:56:09.761Z"
   },
   {
    "duration": 1194,
    "start_time": "2022-11-19T15:59:52.578Z"
   },
   {
    "duration": 120,
    "start_time": "2022-11-19T15:59:53.773Z"
   },
   {
    "duration": 18,
    "start_time": "2022-11-19T15:59:53.895Z"
   },
   {
    "duration": 1944,
    "start_time": "2022-11-19T15:59:53.916Z"
   },
   {
    "duration": 10,
    "start_time": "2022-11-19T15:59:55.863Z"
   },
   {
    "duration": 4,
    "start_time": "2022-11-19T15:59:55.875Z"
   },
   {
    "duration": 11,
    "start_time": "2022-11-19T15:59:55.881Z"
   },
   {
    "duration": 14,
    "start_time": "2022-11-19T15:59:55.894Z"
   },
   {
    "duration": 7,
    "start_time": "2022-11-19T15:59:55.910Z"
   },
   {
    "duration": 7,
    "start_time": "2022-11-19T15:59:55.921Z"
   },
   {
    "duration": 8,
    "start_time": "2022-11-19T15:59:55.930Z"
   },
   {
    "duration": 45,
    "start_time": "2022-11-19T15:59:55.940Z"
   },
   {
    "duration": 11,
    "start_time": "2022-11-19T15:59:55.987Z"
   },
   {
    "duration": 190,
    "start_time": "2022-11-19T15:59:56.000Z"
   },
   {
    "duration": 9,
    "start_time": "2022-11-19T15:59:56.192Z"
   },
   {
    "duration": 4,
    "start_time": "2022-11-19T15:59:56.203Z"
   },
   {
    "duration": 5,
    "start_time": "2022-11-19T15:59:56.209Z"
   },
   {
    "duration": 2034,
    "start_time": "2022-11-19T15:59:56.216Z"
   },
   {
    "duration": 249,
    "start_time": "2022-11-19T15:59:58.251Z"
   },
   {
    "duration": 6,
    "start_time": "2022-11-19T15:59:58.501Z"
   },
   {
    "duration": 13,
    "start_time": "2022-11-19T15:59:58.508Z"
   },
   {
    "duration": 4,
    "start_time": "2022-11-19T15:59:58.523Z"
   },
   {
    "duration": 7,
    "start_time": "2022-11-19T15:59:58.529Z"
   },
   {
    "duration": 4,
    "start_time": "2022-11-19T15:59:58.538Z"
   },
   {
    "duration": 38,
    "start_time": "2022-11-19T15:59:58.544Z"
   },
   {
    "duration": 11,
    "start_time": "2022-11-19T15:59:58.584Z"
   },
   {
    "duration": 37,
    "start_time": "2022-11-19T15:59:58.596Z"
   },
   {
    "duration": 6,
    "start_time": "2022-11-19T15:59:58.637Z"
   },
   {
    "duration": 7,
    "start_time": "2022-11-19T15:59:58.644Z"
   },
   {
    "duration": 5,
    "start_time": "2022-11-19T15:59:58.679Z"
   },
   {
    "duration": 74,
    "start_time": "2022-11-19T15:59:58.685Z"
   },
   {
    "duration": 171,
    "start_time": "2022-11-19T15:59:58.761Z"
   },
   {
    "duration": 168,
    "start_time": "2022-11-19T15:59:58.933Z"
   },
   {
    "duration": 5,
    "start_time": "2022-11-19T15:59:59.103Z"
   },
   {
    "duration": 10,
    "start_time": "2022-11-19T15:59:59.109Z"
   },
   {
    "duration": 89,
    "start_time": "2022-11-19T15:59:59.120Z"
   },
   {
    "duration": 171,
    "start_time": "2022-11-19T15:59:59.210Z"
   },
   {
    "duration": 4,
    "start_time": "2022-11-19T15:59:59.383Z"
   },
   {
    "duration": 8,
    "start_time": "2022-11-19T15:59:59.389Z"
   },
   {
    "duration": 6,
    "start_time": "2022-11-19T15:59:59.398Z"
   },
   {
    "duration": 177,
    "start_time": "2022-11-19T15:59:59.406Z"
   },
   {
    "duration": 5,
    "start_time": "2022-11-19T15:59:59.585Z"
   },
   {
    "duration": 10,
    "start_time": "2022-11-19T15:59:59.592Z"
   },
   {
    "duration": 168,
    "start_time": "2022-11-19T15:59:59.604Z"
   },
   {
    "duration": 162,
    "start_time": "2022-11-19T15:59:59.777Z"
   },
   {
    "duration": 5,
    "start_time": "2022-11-19T15:59:59.941Z"
   },
   {
    "duration": 10,
    "start_time": "2022-11-19T15:59:59.947Z"
   },
   {
    "duration": 3,
    "start_time": "2022-11-19T15:59:59.958Z"
   },
   {
    "duration": 379,
    "start_time": "2022-11-19T15:59:59.978Z"
   },
   {
    "duration": 29,
    "start_time": "2022-11-19T16:00:00.358Z"
   },
   {
    "duration": 100,
    "start_time": "2022-11-19T16:00:00.389Z"
   },
   {
    "duration": 168,
    "start_time": "2022-11-19T16:00:00.491Z"
   },
   {
    "duration": 173,
    "start_time": "2022-11-19T16:00:00.661Z"
   },
   {
    "duration": 250,
    "start_time": "2022-11-19T16:00:00.836Z"
   },
   {
    "duration": 158,
    "start_time": "2022-11-19T16:00:01.088Z"
   },
   {
    "duration": 4,
    "start_time": "2022-11-19T16:00:01.248Z"
   },
   {
    "duration": 150,
    "start_time": "2022-11-19T16:00:01.254Z"
   },
   {
    "duration": 154,
    "start_time": "2022-11-19T16:00:01.406Z"
   },
   {
    "duration": 7,
    "start_time": "2022-11-19T16:00:01.561Z"
   },
   {
    "duration": 19,
    "start_time": "2022-11-19T16:00:01.570Z"
   },
   {
    "duration": 22,
    "start_time": "2022-11-19T16:00:01.591Z"
   },
   {
    "duration": 16,
    "start_time": "2022-11-19T16:00:01.615Z"
   },
   {
    "duration": 24,
    "start_time": "2022-11-19T16:00:01.633Z"
   },
   {
    "duration": 15,
    "start_time": "2022-11-19T16:00:01.659Z"
   },
   {
    "duration": 151,
    "start_time": "2022-11-19T16:00:01.676Z"
   },
   {
    "duration": 123,
    "start_time": "2022-11-19T16:00:01.829Z"
   },
   {
    "duration": 181,
    "start_time": "2022-11-19T16:00:01.953Z"
   },
   {
    "duration": 131,
    "start_time": "2022-11-19T16:00:02.135Z"
   },
   {
    "duration": 6,
    "start_time": "2022-11-19T16:00:02.267Z"
   },
   {
    "duration": 167,
    "start_time": "2022-11-19T16:00:02.278Z"
   },
   {
    "duration": 150,
    "start_time": "2022-11-19T16:00:02.447Z"
   },
   {
    "duration": 240,
    "start_time": "2022-11-19T16:00:02.599Z"
   },
   {
    "duration": 128,
    "start_time": "2022-11-19T16:00:02.840Z"
   },
   {
    "duration": 182,
    "start_time": "2022-11-19T16:00:02.970Z"
   },
   {
    "duration": 126,
    "start_time": "2022-11-19T16:00:03.154Z"
   },
   {
    "duration": 121,
    "start_time": "2022-11-19T16:00:03.281Z"
   },
   {
    "duration": 3,
    "start_time": "2022-11-19T16:00:03.403Z"
   },
   {
    "duration": 23,
    "start_time": "2022-11-19T16:00:03.407Z"
   },
   {
    "duration": 6,
    "start_time": "2022-11-19T16:00:03.431Z"
   },
   {
    "duration": 381,
    "start_time": "2022-11-19T16:00:03.439Z"
   },
   {
    "duration": 3635,
    "start_time": "2022-11-19T16:00:03.821Z"
   },
   {
    "duration": 255,
    "start_time": "2022-11-19T16:00:07.462Z"
   },
   {
    "duration": 3,
    "start_time": "2022-11-19T16:00:07.719Z"
   },
   {
    "duration": 13,
    "start_time": "2022-11-19T16:00:07.723Z"
   },
   {
    "duration": 17,
    "start_time": "2022-11-19T16:00:07.738Z"
   },
   {
    "duration": 28,
    "start_time": "2022-11-19T16:00:07.757Z"
   },
   {
    "duration": 3,
    "start_time": "2022-11-19T16:00:07.786Z"
   },
   {
    "duration": 14,
    "start_time": "2022-11-19T16:00:07.790Z"
   },
   {
    "duration": 186,
    "start_time": "2022-11-19T16:00:07.805Z"
   },
   {
    "duration": 8,
    "start_time": "2022-11-19T16:00:17.312Z"
   },
   {
    "duration": 121,
    "start_time": "2022-11-19T16:00:47.495Z"
   },
   {
    "duration": 8,
    "start_time": "2022-11-19T16:03:08.603Z"
   },
   {
    "duration": 6,
    "start_time": "2022-11-19T16:03:41.406Z"
   },
   {
    "duration": 6,
    "start_time": "2022-11-19T16:04:09.326Z"
   },
   {
    "duration": 24,
    "start_time": "2022-11-19T16:04:16.583Z"
   },
   {
    "duration": 330566,
    "start_time": "2022-11-19T16:04:49.571Z"
   },
   {
    "duration": 0,
    "start_time": "2022-11-19T16:10:21.983Z"
   },
   {
    "duration": 0,
    "start_time": "2022-11-19T16:10:21.984Z"
   },
   {
    "duration": 0,
    "start_time": "2022-11-19T16:10:21.985Z"
   },
   {
    "duration": 4,
    "start_time": "2022-11-19T16:10:25.198Z"
   },
   {
    "duration": 252,
    "start_time": "2022-11-19T16:10:42.339Z"
   },
   {
    "duration": 384,
    "start_time": "2022-11-19T16:11:04.363Z"
   },
   {
    "duration": 393,
    "start_time": "2022-11-19T16:11:16.816Z"
   },
   {
    "duration": 362,
    "start_time": "2022-11-19T17:06:11.192Z"
   },
   {
    "duration": 183,
    "start_time": "2022-11-19T17:06:40.404Z"
   },
   {
    "duration": 176,
    "start_time": "2022-11-19T17:06:46.560Z"
   },
   {
    "duration": 485,
    "start_time": "2022-11-19T17:08:46.089Z"
   },
   {
    "duration": 522,
    "start_time": "2022-11-19T17:09:00.000Z"
   },
   {
    "duration": 352,
    "start_time": "2022-11-19T17:09:16.367Z"
   },
   {
    "duration": 371,
    "start_time": "2022-11-19T17:09:57.200Z"
   },
   {
    "duration": 492,
    "start_time": "2022-11-19T17:10:02.522Z"
   },
   {
    "duration": 377,
    "start_time": "2022-11-19T17:12:17.266Z"
   },
   {
    "duration": 382,
    "start_time": "2022-11-19T17:12:37.359Z"
   },
   {
    "duration": 9,
    "start_time": "2022-11-19T17:19:26.289Z"
   },
   {
    "duration": 35,
    "start_time": "2022-11-19T17:21:05.651Z"
   },
   {
    "duration": 12,
    "start_time": "2022-11-19T17:22:34.124Z"
   },
   {
    "duration": 12,
    "start_time": "2022-11-19T17:22:41.961Z"
   },
   {
    "duration": 5,
    "start_time": "2022-11-19T17:22:51.004Z"
   },
   {
    "duration": 32,
    "start_time": "2022-11-19T17:23:01.244Z"
   },
   {
    "duration": 10,
    "start_time": "2022-11-19T17:23:35.486Z"
   },
   {
    "duration": 10,
    "start_time": "2022-11-19T17:23:53.186Z"
   },
   {
    "duration": 9,
    "start_time": "2022-11-19T17:24:06.208Z"
   },
   {
    "duration": 7,
    "start_time": "2022-11-19T17:24:27.481Z"
   },
   {
    "duration": 9,
    "start_time": "2022-11-19T17:25:12.012Z"
   },
   {
    "duration": 8,
    "start_time": "2022-11-19T17:25:23.001Z"
   },
   {
    "duration": 15,
    "start_time": "2022-11-19T17:26:33.994Z"
   },
   {
    "duration": 15,
    "start_time": "2022-11-19T17:26:51.153Z"
   },
   {
    "duration": 15,
    "start_time": "2022-11-19T17:27:03.327Z"
   },
   {
    "duration": 1163,
    "start_time": "2022-11-20T06:27:53.946Z"
   },
   {
    "duration": 106,
    "start_time": "2022-11-20T06:27:55.111Z"
   },
   {
    "duration": 13,
    "start_time": "2022-11-20T06:27:55.219Z"
   },
   {
    "duration": 1849,
    "start_time": "2022-11-20T06:27:55.234Z"
   },
   {
    "duration": 9,
    "start_time": "2022-11-20T06:27:57.084Z"
   },
   {
    "duration": 5,
    "start_time": "2022-11-20T06:27:57.094Z"
   },
   {
    "duration": 25,
    "start_time": "2022-11-20T06:27:57.101Z"
   },
   {
    "duration": 14,
    "start_time": "2022-11-20T06:27:57.127Z"
   },
   {
    "duration": 6,
    "start_time": "2022-11-20T06:27:57.143Z"
   },
   {
    "duration": 7,
    "start_time": "2022-11-20T06:27:57.151Z"
   },
   {
    "duration": 8,
    "start_time": "2022-11-20T06:27:57.160Z"
   },
   {
    "duration": 10,
    "start_time": "2022-11-20T06:27:57.169Z"
   },
   {
    "duration": 43,
    "start_time": "2022-11-20T06:27:57.180Z"
   },
   {
    "duration": 180,
    "start_time": "2022-11-20T06:27:57.224Z"
   },
   {
    "duration": 18,
    "start_time": "2022-11-20T06:27:57.405Z"
   },
   {
    "duration": 6,
    "start_time": "2022-11-20T06:27:57.425Z"
   },
   {
    "duration": 8,
    "start_time": "2022-11-20T06:27:57.432Z"
   },
   {
    "duration": 2013,
    "start_time": "2022-11-20T06:27:57.442Z"
   },
   {
    "duration": 231,
    "start_time": "2022-11-20T06:27:59.457Z"
   },
   {
    "duration": 6,
    "start_time": "2022-11-20T06:27:59.690Z"
   },
   {
    "duration": 24,
    "start_time": "2022-11-20T06:27:59.698Z"
   },
   {
    "duration": 4,
    "start_time": "2022-11-20T06:27:59.724Z"
   },
   {
    "duration": 11,
    "start_time": "2022-11-20T06:27:59.729Z"
   },
   {
    "duration": 9,
    "start_time": "2022-11-20T06:27:59.742Z"
   },
   {
    "duration": 10,
    "start_time": "2022-11-20T06:27:59.752Z"
   },
   {
    "duration": 13,
    "start_time": "2022-11-20T06:27:59.763Z"
   },
   {
    "duration": 47,
    "start_time": "2022-11-20T06:27:59.777Z"
   },
   {
    "duration": 7,
    "start_time": "2022-11-20T06:27:59.828Z"
   },
   {
    "duration": 10,
    "start_time": "2022-11-20T06:27:59.836Z"
   },
   {
    "duration": 7,
    "start_time": "2022-11-20T06:27:59.847Z"
   },
   {
    "duration": 83,
    "start_time": "2022-11-20T06:27:59.856Z"
   },
   {
    "duration": 154,
    "start_time": "2022-11-20T06:27:59.940Z"
   },
   {
    "duration": 157,
    "start_time": "2022-11-20T06:28:00.096Z"
   },
   {
    "duration": 5,
    "start_time": "2022-11-20T06:28:00.254Z"
   },
   {
    "duration": 33,
    "start_time": "2022-11-20T06:28:00.260Z"
   },
   {
    "duration": 110,
    "start_time": "2022-11-20T06:28:00.294Z"
   },
   {
    "duration": 164,
    "start_time": "2022-11-20T06:28:00.405Z"
   },
   {
    "duration": 5,
    "start_time": "2022-11-20T06:28:00.571Z"
   },
   {
    "duration": 28,
    "start_time": "2022-11-20T06:28:00.577Z"
   },
   {
    "duration": 53,
    "start_time": "2022-11-20T06:28:00.606Z"
   },
   {
    "duration": 173,
    "start_time": "2022-11-20T06:28:00.660Z"
   },
   {
    "duration": 5,
    "start_time": "2022-11-20T06:28:00.835Z"
   },
   {
    "duration": 28,
    "start_time": "2022-11-20T06:28:00.841Z"
   },
   {
    "duration": 157,
    "start_time": "2022-11-20T06:28:00.871Z"
   },
   {
    "duration": 141,
    "start_time": "2022-11-20T06:28:01.029Z"
   },
   {
    "duration": 4,
    "start_time": "2022-11-20T06:28:01.172Z"
   },
   {
    "duration": 37,
    "start_time": "2022-11-20T06:28:01.178Z"
   },
   {
    "duration": 26,
    "start_time": "2022-11-20T06:28:01.217Z"
   },
   {
    "duration": 416,
    "start_time": "2022-11-20T06:28:01.244Z"
   },
   {
    "duration": 26,
    "start_time": "2022-11-20T06:28:01.661Z"
   },
   {
    "duration": 104,
    "start_time": "2022-11-20T06:28:01.689Z"
   },
   {
    "duration": 151,
    "start_time": "2022-11-20T06:28:01.794Z"
   },
   {
    "duration": 151,
    "start_time": "2022-11-20T06:28:01.947Z"
   },
   {
    "duration": 245,
    "start_time": "2022-11-20T06:28:02.100Z"
   },
   {
    "duration": 149,
    "start_time": "2022-11-20T06:28:02.346Z"
   },
   {
    "duration": 4,
    "start_time": "2022-11-20T06:28:02.496Z"
   },
   {
    "duration": 133,
    "start_time": "2022-11-20T06:28:02.501Z"
   },
   {
    "duration": 147,
    "start_time": "2022-11-20T06:28:02.635Z"
   },
   {
    "duration": 6,
    "start_time": "2022-11-20T06:28:02.783Z"
   },
   {
    "duration": 27,
    "start_time": "2022-11-20T06:28:02.790Z"
   },
   {
    "duration": 17,
    "start_time": "2022-11-20T06:28:02.818Z"
   },
   {
    "duration": 19,
    "start_time": "2022-11-20T06:28:02.837Z"
   },
   {
    "duration": 14,
    "start_time": "2022-11-20T06:28:02.857Z"
   },
   {
    "duration": 4,
    "start_time": "2022-11-20T06:28:02.873Z"
   },
   {
    "duration": 149,
    "start_time": "2022-11-20T06:28:02.878Z"
   },
   {
    "duration": 123,
    "start_time": "2022-11-20T06:28:03.028Z"
   },
   {
    "duration": 178,
    "start_time": "2022-11-20T06:28:03.152Z"
   },
   {
    "duration": 127,
    "start_time": "2022-11-20T06:28:03.332Z"
   },
   {
    "duration": 6,
    "start_time": "2022-11-20T06:28:03.460Z"
   },
   {
    "duration": 152,
    "start_time": "2022-11-20T06:28:03.467Z"
   },
   {
    "duration": 146,
    "start_time": "2022-11-20T06:28:03.622Z"
   },
   {
    "duration": 232,
    "start_time": "2022-11-20T06:28:03.770Z"
   },
   {
    "duration": 158,
    "start_time": "2022-11-20T06:28:04.004Z"
   },
   {
    "duration": 192,
    "start_time": "2022-11-20T06:28:04.164Z"
   },
   {
    "duration": 117,
    "start_time": "2022-11-20T06:28:04.357Z"
   },
   {
    "duration": 120,
    "start_time": "2022-11-20T06:28:04.476Z"
   },
   {
    "duration": 2,
    "start_time": "2022-11-20T06:28:04.598Z"
   },
   {
    "duration": 33,
    "start_time": "2022-11-20T06:28:04.602Z"
   },
   {
    "duration": 356,
    "start_time": "2022-11-20T06:28:04.637Z"
   },
   {
    "duration": 348,
    "start_time": "2022-11-20T06:28:04.994Z"
   },
   {
    "duration": 476,
    "start_time": "2022-11-20T06:28:05.343Z"
   },
   {
    "duration": 339,
    "start_time": "2022-11-20T06:28:05.826Z"
   },
   {
    "duration": 351,
    "start_time": "2022-11-20T06:28:06.166Z"
   },
   {
    "duration": 3652,
    "start_time": "2022-11-20T06:28:06.519Z"
   },
   {
    "duration": 260,
    "start_time": "2022-11-20T06:28:10.173Z"
   },
   {
    "duration": 2,
    "start_time": "2022-11-20T06:28:10.435Z"
   },
   {
    "duration": 17,
    "start_time": "2022-11-20T06:28:10.439Z"
   },
   {
    "duration": 21,
    "start_time": "2022-11-20T06:28:10.457Z"
   },
   {
    "duration": 13,
    "start_time": "2022-11-20T06:28:10.480Z"
   },
   {
    "duration": 29,
    "start_time": "2022-11-20T06:28:10.495Z"
   },
   {
    "duration": 21,
    "start_time": "2022-11-20T06:28:10.526Z"
   },
   {
    "duration": 17,
    "start_time": "2022-11-20T06:28:10.549Z"
   },
   {
    "duration": 20,
    "start_time": "2022-11-20T06:28:10.567Z"
   },
   {
    "duration": 174,
    "start_time": "2022-11-20T06:28:10.589Z"
   },
   {
    "duration": 1147,
    "start_time": "2022-11-20T06:28:26.682Z"
   },
   {
    "duration": 124,
    "start_time": "2022-11-20T06:28:27.832Z"
   },
   {
    "duration": 15,
    "start_time": "2022-11-20T06:28:27.958Z"
   },
   {
    "duration": 1818,
    "start_time": "2022-11-20T06:28:27.975Z"
   },
   {
    "duration": 8,
    "start_time": "2022-11-20T06:28:29.795Z"
   },
   {
    "duration": 96,
    "start_time": "2022-11-20T06:28:29.804Z"
   },
   {
    "duration": 16,
    "start_time": "2022-11-20T06:28:29.902Z"
   },
   {
    "duration": 14,
    "start_time": "2022-11-20T06:28:29.920Z"
   },
   {
    "duration": 6,
    "start_time": "2022-11-20T06:28:29.935Z"
   },
   {
    "duration": 14,
    "start_time": "2022-11-20T06:28:29.943Z"
   },
   {
    "duration": 8,
    "start_time": "2022-11-20T06:28:29.958Z"
   },
   {
    "duration": 9,
    "start_time": "2022-11-20T06:28:29.968Z"
   },
   {
    "duration": 9,
    "start_time": "2022-11-20T06:28:29.978Z"
   },
   {
    "duration": 181,
    "start_time": "2022-11-20T06:28:29.988Z"
   },
   {
    "duration": 8,
    "start_time": "2022-11-20T06:28:30.171Z"
   },
   {
    "duration": 29,
    "start_time": "2022-11-20T06:28:30.180Z"
   },
   {
    "duration": 23,
    "start_time": "2022-11-20T06:28:30.210Z"
   },
   {
    "duration": 2011,
    "start_time": "2022-11-20T06:28:30.234Z"
   },
   {
    "duration": 217,
    "start_time": "2022-11-20T06:28:32.246Z"
   },
   {
    "duration": 6,
    "start_time": "2022-11-20T06:28:32.465Z"
   },
   {
    "duration": 13,
    "start_time": "2022-11-20T06:28:32.472Z"
   },
   {
    "duration": 4,
    "start_time": "2022-11-20T06:28:32.486Z"
   },
   {
    "duration": 11,
    "start_time": "2022-11-20T06:28:32.491Z"
   },
   {
    "duration": 19,
    "start_time": "2022-11-20T06:28:32.504Z"
   },
   {
    "duration": 12,
    "start_time": "2022-11-20T06:28:32.525Z"
   },
   {
    "duration": 13,
    "start_time": "2022-11-20T06:28:32.539Z"
   },
   {
    "duration": 38,
    "start_time": "2022-11-20T06:28:32.553Z"
   },
   {
    "duration": 8,
    "start_time": "2022-11-20T06:28:32.595Z"
   },
   {
    "duration": 18,
    "start_time": "2022-11-20T06:28:32.605Z"
   },
   {
    "duration": 15,
    "start_time": "2022-11-20T06:28:32.625Z"
   },
   {
    "duration": 89,
    "start_time": "2022-11-20T06:28:32.641Z"
   },
   {
    "duration": 148,
    "start_time": "2022-11-20T06:28:32.732Z"
   },
   {
    "duration": 156,
    "start_time": "2022-11-20T06:28:32.881Z"
   },
   {
    "duration": 4,
    "start_time": "2022-11-20T06:28:33.039Z"
   },
   {
    "duration": 10,
    "start_time": "2022-11-20T06:28:33.044Z"
   },
   {
    "duration": 85,
    "start_time": "2022-11-20T06:28:33.056Z"
   },
   {
    "duration": 159,
    "start_time": "2022-11-20T06:28:33.143Z"
   },
   {
    "duration": 4,
    "start_time": "2022-11-20T06:28:33.304Z"
   },
   {
    "duration": 13,
    "start_time": "2022-11-20T06:28:33.310Z"
   },
   {
    "duration": 4,
    "start_time": "2022-11-20T06:28:33.324Z"
   },
   {
    "duration": 167,
    "start_time": "2022-11-20T06:28:33.329Z"
   },
   {
    "duration": 4,
    "start_time": "2022-11-20T06:28:33.498Z"
   },
   {
    "duration": 19,
    "start_time": "2022-11-20T06:28:33.504Z"
   },
   {
    "duration": 145,
    "start_time": "2022-11-20T06:28:33.524Z"
   },
   {
    "duration": 133,
    "start_time": "2022-11-20T06:28:33.671Z"
   },
   {
    "duration": 4,
    "start_time": "2022-11-20T06:28:33.806Z"
   },
   {
    "duration": 16,
    "start_time": "2022-11-20T06:28:33.822Z"
   },
   {
    "duration": 4,
    "start_time": "2022-11-20T06:28:33.840Z"
   },
   {
    "duration": 416,
    "start_time": "2022-11-20T06:28:33.845Z"
   },
   {
    "duration": 34,
    "start_time": "2022-11-20T06:28:34.263Z"
   },
   {
    "duration": 95,
    "start_time": "2022-11-20T06:28:34.298Z"
   },
   {
    "duration": 153,
    "start_time": "2022-11-20T06:28:34.394Z"
   },
   {
    "duration": 147,
    "start_time": "2022-11-20T06:28:34.548Z"
   },
   {
    "duration": 243,
    "start_time": "2022-11-20T06:28:34.697Z"
   },
   {
    "duration": 145,
    "start_time": "2022-11-20T06:28:34.942Z"
   },
   {
    "duration": 4,
    "start_time": "2022-11-20T06:28:35.088Z"
   },
   {
    "duration": 124,
    "start_time": "2022-11-20T06:28:35.093Z"
   },
   {
    "duration": 140,
    "start_time": "2022-11-20T06:28:35.221Z"
   },
   {
    "duration": 5,
    "start_time": "2022-11-20T06:28:35.363Z"
   },
   {
    "duration": 9,
    "start_time": "2022-11-20T06:28:35.369Z"
   },
   {
    "duration": 7,
    "start_time": "2022-11-20T06:28:35.379Z"
   },
   {
    "duration": 15,
    "start_time": "2022-11-20T06:28:35.387Z"
   },
   {
    "duration": 29,
    "start_time": "2022-11-20T06:28:35.403Z"
   },
   {
    "duration": 5,
    "start_time": "2022-11-20T06:28:35.433Z"
   },
   {
    "duration": 145,
    "start_time": "2022-11-20T06:28:35.439Z"
   },
   {
    "duration": 119,
    "start_time": "2022-11-20T06:28:35.585Z"
   },
   {
    "duration": 193,
    "start_time": "2022-11-20T06:28:35.706Z"
   },
   {
    "duration": 131,
    "start_time": "2022-11-20T06:28:35.900Z"
   },
   {
    "duration": 6,
    "start_time": "2022-11-20T06:28:36.033Z"
   },
   {
    "duration": 157,
    "start_time": "2022-11-20T06:28:36.041Z"
   },
   {
    "duration": 157,
    "start_time": "2022-11-20T06:28:36.199Z"
   },
   {
    "duration": 227,
    "start_time": "2022-11-20T06:28:36.358Z"
   },
   {
    "duration": 138,
    "start_time": "2022-11-20T06:28:36.587Z"
   },
   {
    "duration": 181,
    "start_time": "2022-11-20T06:28:36.727Z"
   },
   {
    "duration": 121,
    "start_time": "2022-11-20T06:28:36.910Z"
   },
   {
    "duration": 138,
    "start_time": "2022-11-20T06:28:37.032Z"
   },
   {
    "duration": 2,
    "start_time": "2022-11-20T06:28:37.172Z"
   },
   {
    "duration": 20,
    "start_time": "2022-11-20T06:28:37.176Z"
   },
   {
    "duration": 336,
    "start_time": "2022-11-20T06:28:37.197Z"
   },
   {
    "duration": 346,
    "start_time": "2022-11-20T06:28:37.535Z"
   },
   {
    "duration": 451,
    "start_time": "2022-11-20T06:28:37.883Z"
   },
   {
    "duration": 312,
    "start_time": "2022-11-20T06:28:38.339Z"
   },
   {
    "duration": 330,
    "start_time": "2022-11-20T06:28:38.652Z"
   },
   {
    "duration": 3501,
    "start_time": "2022-11-20T06:28:38.983Z"
   },
   {
    "duration": 226,
    "start_time": "2022-11-20T06:28:42.485Z"
   },
   {
    "duration": 8,
    "start_time": "2022-11-20T06:28:42.713Z"
   },
   {
    "duration": 6,
    "start_time": "2022-11-20T06:28:42.723Z"
   },
   {
    "duration": 15,
    "start_time": "2022-11-20T06:28:42.730Z"
   },
   {
    "duration": 9,
    "start_time": "2022-11-20T06:28:42.746Z"
   },
   {
    "duration": 12,
    "start_time": "2022-11-20T06:28:42.756Z"
   },
   {
    "duration": 15,
    "start_time": "2022-11-20T06:28:42.770Z"
   },
   {
    "duration": 5,
    "start_time": "2022-11-20T06:28:42.786Z"
   },
   {
    "duration": 35,
    "start_time": "2022-11-20T06:28:42.792Z"
   },
   {
    "duration": 159,
    "start_time": "2022-11-20T06:28:42.828Z"
   },
   {
    "duration": 15,
    "start_time": "2022-11-20T06:29:11.215Z"
   },
   {
    "duration": 84,
    "start_time": "2022-11-20T06:29:14.500Z"
   }
  ],
  "kernelspec": {
   "display_name": "Python 3 (ipykernel)",
   "language": "python",
   "name": "python3"
  },
  "language_info": {
   "codemirror_mode": {
    "name": "ipython",
    "version": 3
   },
   "file_extension": ".py",
   "mimetype": "text/x-python",
   "name": "python",
   "nbconvert_exporter": "python",
   "pygments_lexer": "ipython3",
   "version": "3.9.13"
  },
  "toc": {
   "base_numbering": 1,
   "nav_menu": {},
   "number_sections": true,
   "sideBar": true,
   "skip_h1_title": true,
   "title_cell": "Table of Contents",
   "title_sidebar": "Contents",
   "toc_cell": false,
   "toc_position": {},
   "toc_section_display": true,
   "toc_window_display": false
  }
 },
 "nbformat": 4,
 "nbformat_minor": 4
}
